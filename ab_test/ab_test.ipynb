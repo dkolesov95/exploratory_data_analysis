{
 "cells": [
  {
   "cell_type": "code",
   "execution_count": null,
   "id": "08bae4b9-62c0-4e68-a09f-cd9b20abdf90",
   "metadata": {},
   "outputs": [],
   "source": []
  },
  {
   "cell_type": "code",
   "execution_count": 1,
   "id": "f648c34d-5fcf-4255-97dc-6387100da852",
   "metadata": {},
   "outputs": [],
   "source": [
    "import pandas as pd\n",
    "import numpy as np\n",
    "import matplotlib.pyplot as plt\n",
    "import seaborn as sns"
   ]
  },
  {
   "cell_type": "code",
   "execution_count": 2,
   "id": "fe0697fe-83f5-4069-a19a-b6eccbd02cdd",
   "metadata": {},
   "outputs": [
    {
     "name": "stdout",
     "output_type": "stream",
     "text": [
      "Untitled.ipynb\tdf.csv\n"
     ]
    }
   ],
   "source": [
    "!ls"
   ]
  },
  {
   "cell_type": "code",
   "execution_count": 5,
   "id": "5de4699a-628c-42c5-8485-54ccee732819",
   "metadata": {},
   "outputs": [],
   "source": [
    "df = pd.read_csv('df.csv', sep=';')"
   ]
  },
  {
   "cell_type": "code",
   "execution_count": null,
   "id": "11eb594c-ac61-4ead-9558-d603292c10bf",
   "metadata": {},
   "outputs": [],
   "source": []
  },
  {
   "cell_type": "markdown",
   "id": "f2c4f71c-8451-4eb6-ab91-05e812597517",
   "metadata": {},
   "source": [
    "# 1."
   ]
  },
  {
   "cell_type": "code",
   "execution_count": 6,
   "id": "a8bad6db-b6c8-445d-a28e-6a009e5a89d3",
   "metadata": {},
   "outputs": [
    {
     "data": {
      "text/html": [
       "<div>\n",
       "<style scoped>\n",
       "    .dataframe tbody tr th:only-of-type {\n",
       "        vertical-align: middle;\n",
       "    }\n",
       "\n",
       "    .dataframe tbody tr th {\n",
       "        vertical-align: top;\n",
       "    }\n",
       "\n",
       "    .dataframe thead th {\n",
       "        text-align: right;\n",
       "    }\n",
       "</style>\n",
       "<table border=\"1\" class=\"dataframe\">\n",
       "  <thead>\n",
       "    <tr style=\"text-align: right;\">\n",
       "      <th></th>\n",
       "      <th>sender_id</th>\n",
       "      <th>platform_id</th>\n",
       "      <th>time_stamp</th>\n",
       "      <th>gender</th>\n",
       "      <th>reg_date</th>\n",
       "    </tr>\n",
       "  </thead>\n",
       "  <tbody>\n",
       "    <tr>\n",
       "      <th>0</th>\n",
       "      <td>3207526951</td>\n",
       "      <td>6</td>\n",
       "      <td>16.03.2017 13:35</td>\n",
       "      <td>m</td>\n",
       "      <td>26.01.2017</td>\n",
       "    </tr>\n",
       "    <tr>\n",
       "      <th>1</th>\n",
       "      <td>3207526951</td>\n",
       "      <td>6</td>\n",
       "      <td>16.03.2017 9:09</td>\n",
       "      <td>m</td>\n",
       "      <td>26.01.2017</td>\n",
       "    </tr>\n",
       "    <tr>\n",
       "      <th>2</th>\n",
       "      <td>3207526951</td>\n",
       "      <td>6</td>\n",
       "      <td>16.03.2017 9:09</td>\n",
       "      <td>m</td>\n",
       "      <td>26.01.2017</td>\n",
       "    </tr>\n",
       "    <tr>\n",
       "      <th>3</th>\n",
       "      <td>3207526951</td>\n",
       "      <td>6</td>\n",
       "      <td>16.03.2017 12:13</td>\n",
       "      <td>m</td>\n",
       "      <td>26.01.2017</td>\n",
       "    </tr>\n",
       "    <tr>\n",
       "      <th>4</th>\n",
       "      <td>3207526951</td>\n",
       "      <td>6</td>\n",
       "      <td>15.03.2017 14:01</td>\n",
       "      <td>m</td>\n",
       "      <td>26.01.2017</td>\n",
       "    </tr>\n",
       "  </tbody>\n",
       "</table>\n",
       "</div>"
      ],
      "text/plain": [
       "    sender_id  platform_id        time_stamp gender    reg_date\n",
       "0  3207526951            6  16.03.2017 13:35      m  26.01.2017\n",
       "1  3207526951            6   16.03.2017 9:09      m  26.01.2017\n",
       "2  3207526951            6   16.03.2017 9:09      m  26.01.2017\n",
       "3  3207526951            6  16.03.2017 12:13      m  26.01.2017\n",
       "4  3207526951            6  15.03.2017 14:01      m  26.01.2017"
      ]
     },
     "execution_count": 6,
     "metadata": {},
     "output_type": "execute_result"
    }
   ],
   "source": [
    "df.head()"
   ]
  },
  {
   "cell_type": "code",
   "execution_count": 7,
   "id": "05d4ac72-9ec6-48b2-9ca1-6577e5ae90d0",
   "metadata": {},
   "outputs": [
    {
     "data": {
      "text/plain": [
       "(768439, 5)"
      ]
     },
     "execution_count": 7,
     "metadata": {},
     "output_type": "execute_result"
    }
   ],
   "source": [
    "df.shape"
   ]
  },
  {
   "cell_type": "code",
   "execution_count": 8,
   "id": "258b2003-7919-43d9-ab01-9b26c68357c2",
   "metadata": {},
   "outputs": [
    {
     "name": "stdout",
     "output_type": "stream",
     "text": [
      "<class 'pandas.core.frame.DataFrame'>\n",
      "RangeIndex: 768439 entries, 0 to 768438\n",
      "Data columns (total 5 columns):\n",
      " #   Column       Non-Null Count   Dtype \n",
      "---  ------       --------------   ----- \n",
      " 0   sender_id    768439 non-null  int64 \n",
      " 1   platform_id  768439 non-null  int64 \n",
      " 2   time_stamp   768439 non-null  object\n",
      " 3   gender       768439 non-null  object\n",
      " 4   reg_date     768439 non-null  object\n",
      "dtypes: int64(2), object(3)\n",
      "memory usage: 29.3+ MB\n"
     ]
    }
   ],
   "source": [
    "df.info()"
   ]
  },
  {
   "cell_type": "code",
   "execution_count": 10,
   "id": "92d8224e-5535-413d-888a-ea7d9026f7c5",
   "metadata": {},
   "outputs": [
    {
     "data": {
      "text/plain": [
       "518178"
      ]
     },
     "execution_count": 10,
     "metadata": {},
     "output_type": "execute_result"
    }
   ],
   "source": [
    "df.duplicated().sum()"
   ]
  },
  {
   "cell_type": "code",
   "execution_count": 11,
   "id": "ae246777-8bee-4130-acb9-031fbc6a0f40",
   "metadata": {},
   "outputs": [
    {
     "data": {
      "text/plain": [
       "sender_id      0\n",
       "platform_id    0\n",
       "time_stamp     0\n",
       "gender         0\n",
       "reg_date       0\n",
       "dtype: int64"
      ]
     },
     "execution_count": 11,
     "metadata": {},
     "output_type": "execute_result"
    }
   ],
   "source": [
    "df.isnull().sum()"
   ]
  },
  {
   "cell_type": "code",
   "execution_count": 12,
   "id": "920da95a-bc3d-4f52-8a6f-4ffc91df627a",
   "metadata": {},
   "outputs": [
    {
     "data": {
      "text/plain": [
       "sender_id      26321\n",
       "platform_id        2\n",
       "time_stamp     20100\n",
       "gender             3\n",
       "reg_date          85\n",
       "dtype: int64"
      ]
     },
     "execution_count": 12,
     "metadata": {},
     "output_type": "execute_result"
    }
   ],
   "source": [
    "df.nunique()"
   ]
  },
  {
   "cell_type": "code",
   "execution_count": 13,
   "id": "d374fa7c-8576-4f82-8d49-7fb291108764",
   "metadata": {},
   "outputs": [
    {
     "data": {
      "text/plain": [
       "array(['m', 'f', ' '], dtype=object)"
      ]
     },
     "execution_count": 13,
     "metadata": {},
     "output_type": "execute_result"
    }
   ],
   "source": [
    "df['gender'].unique()"
   ]
  },
  {
   "cell_type": "code",
   "execution_count": null,
   "id": "56143ee6-af50-41df-85e2-dd63cae5074a",
   "metadata": {},
   "outputs": [],
   "source": []
  },
  {
   "cell_type": "code",
   "execution_count": 14,
   "id": "7caf86eb-84ae-409c-b379-12c706e8c1c4",
   "metadata": {},
   "outputs": [
    {
     "data": {
      "text/html": [
       "<div>\n",
       "<style scoped>\n",
       "    .dataframe tbody tr th:only-of-type {\n",
       "        vertical-align: middle;\n",
       "    }\n",
       "\n",
       "    .dataframe tbody tr th {\n",
       "        vertical-align: top;\n",
       "    }\n",
       "\n",
       "    .dataframe thead th {\n",
       "        text-align: right;\n",
       "    }\n",
       "</style>\n",
       "<table border=\"1\" class=\"dataframe\">\n",
       "  <thead>\n",
       "    <tr style=\"text-align: right;\">\n",
       "      <th></th>\n",
       "      <th>sender_id</th>\n",
       "      <th>platform_id</th>\n",
       "    </tr>\n",
       "  </thead>\n",
       "  <tbody>\n",
       "    <tr>\n",
       "      <th>count</th>\n",
       "      <td>7.684390e+05</td>\n",
       "      <td>768439.000000</td>\n",
       "    </tr>\n",
       "    <tr>\n",
       "      <th>mean</th>\n",
       "      <td>3.212627e+09</td>\n",
       "      <td>6.419483</td>\n",
       "    </tr>\n",
       "    <tr>\n",
       "      <th>std</th>\n",
       "      <td>5.060134e+06</td>\n",
       "      <td>0.493475</td>\n",
       "    </tr>\n",
       "    <tr>\n",
       "      <th>min</th>\n",
       "      <td>3.201944e+09</td>\n",
       "      <td>6.000000</td>\n",
       "    </tr>\n",
       "    <tr>\n",
       "      <th>25%</th>\n",
       "      <td>3.208266e+09</td>\n",
       "      <td>6.000000</td>\n",
       "    </tr>\n",
       "    <tr>\n",
       "      <th>50%</th>\n",
       "      <td>3.214114e+09</td>\n",
       "      <td>6.000000</td>\n",
       "    </tr>\n",
       "    <tr>\n",
       "      <th>75%</th>\n",
       "      <td>3.216958e+09</td>\n",
       "      <td>7.000000</td>\n",
       "    </tr>\n",
       "    <tr>\n",
       "      <th>max</th>\n",
       "      <td>3.219311e+09</td>\n",
       "      <td>7.000000</td>\n",
       "    </tr>\n",
       "  </tbody>\n",
       "</table>\n",
       "</div>"
      ],
      "text/plain": [
       "          sender_id    platform_id\n",
       "count  7.684390e+05  768439.000000\n",
       "mean   3.212627e+09       6.419483\n",
       "std    5.060134e+06       0.493475\n",
       "min    3.201944e+09       6.000000\n",
       "25%    3.208266e+09       6.000000\n",
       "50%    3.214114e+09       6.000000\n",
       "75%    3.216958e+09       7.000000\n",
       "max    3.219311e+09       7.000000"
      ]
     },
     "execution_count": 14,
     "metadata": {},
     "output_type": "execute_result"
    }
   ],
   "source": [
    "df.describe()"
   ]
  },
  {
   "cell_type": "code",
   "execution_count": 15,
   "id": "201bc39a-e2a2-4a4b-b686-533a466fed1f",
   "metadata": {},
   "outputs": [
    {
     "data": {
      "text/html": [
       "<div>\n",
       "<style scoped>\n",
       "    .dataframe tbody tr th:only-of-type {\n",
       "        vertical-align: middle;\n",
       "    }\n",
       "\n",
       "    .dataframe tbody tr th {\n",
       "        vertical-align: top;\n",
       "    }\n",
       "\n",
       "    .dataframe thead th {\n",
       "        text-align: right;\n",
       "    }\n",
       "</style>\n",
       "<table border=\"1\" class=\"dataframe\">\n",
       "  <thead>\n",
       "    <tr style=\"text-align: right;\">\n",
       "      <th></th>\n",
       "      <th>time_stamp</th>\n",
       "      <th>gender</th>\n",
       "      <th>reg_date</th>\n",
       "    </tr>\n",
       "  </thead>\n",
       "  <tbody>\n",
       "    <tr>\n",
       "      <th>count</th>\n",
       "      <td>768439</td>\n",
       "      <td>768439</td>\n",
       "      <td>768439</td>\n",
       "    </tr>\n",
       "    <tr>\n",
       "      <th>unique</th>\n",
       "      <td>20100</td>\n",
       "      <td>3</td>\n",
       "      <td>85</td>\n",
       "    </tr>\n",
       "    <tr>\n",
       "      <th>top</th>\n",
       "      <td>14.03.2017 14:26</td>\n",
       "      <td>m</td>\n",
       "      <td>13.03.2017</td>\n",
       "    </tr>\n",
       "    <tr>\n",
       "      <th>freq</th>\n",
       "      <td>239</td>\n",
       "      <td>659569</td>\n",
       "      <td>31548</td>\n",
       "    </tr>\n",
       "  </tbody>\n",
       "</table>\n",
       "</div>"
      ],
      "text/plain": [
       "              time_stamp  gender    reg_date\n",
       "count             768439  768439      768439\n",
       "unique             20100       3          85\n",
       "top     14.03.2017 14:26       m  13.03.2017\n",
       "freq                 239  659569       31548"
      ]
     },
     "execution_count": 15,
     "metadata": {},
     "output_type": "execute_result"
    }
   ],
   "source": [
    "df.describe(include='object')"
   ]
  },
  {
   "cell_type": "code",
   "execution_count": null,
   "id": "4143ad39-0328-4770-964d-2863bfdf9666",
   "metadata": {},
   "outputs": [],
   "source": []
  },
  {
   "cell_type": "code",
   "execution_count": null,
   "id": "d5a3381e-86fe-46cf-afe7-a5b92d4694a4",
   "metadata": {},
   "outputs": [],
   "source": []
  },
  {
   "cell_type": "code",
   "execution_count": null,
   "id": "7d3ef0f8-7477-4677-aa44-e009905453fa",
   "metadata": {},
   "outputs": [],
   "source": []
  },
  {
   "cell_type": "code",
   "execution_count": null,
   "id": "ef5ec739-b608-429c-89d2-7a1d36152d6e",
   "metadata": {},
   "outputs": [],
   "source": []
  },
  {
   "cell_type": "code",
   "execution_count": null,
   "id": "8815f994-91fe-41fa-8af3-f1111dc34778",
   "metadata": {},
   "outputs": [],
   "source": []
  },
  {
   "cell_type": "code",
   "execution_count": null,
   "id": "844b2f89-be45-4a31-97b9-8460b4afebe7",
   "metadata": {},
   "outputs": [],
   "source": []
  },
  {
   "cell_type": "code",
   "execution_count": null,
   "id": "6b79ec8a-c36c-4ccb-a848-c854d07d929a",
   "metadata": {},
   "outputs": [],
   "source": []
  }
 ],
 "metadata": {
  "kernelspec": {
   "display_name": "Python 3 (ipykernel)",
   "language": "python",
   "name": "python3"
  },
  "language_info": {
   "codemirror_mode": {
    "name": "ipython",
    "version": 3
   },
   "file_extension": ".py",
   "mimetype": "text/x-python",
   "name": "python",
   "nbconvert_exporter": "python",
   "pygments_lexer": "ipython3",
   "version": "3.12.2"
  }
 },
 "nbformat": 4,
 "nbformat_minor": 5
}
