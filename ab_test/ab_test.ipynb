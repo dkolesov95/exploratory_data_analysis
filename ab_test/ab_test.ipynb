{
 "cells": [
  {
   "cell_type": "markdown",
   "id": "a04a83da-dc0b-45c5-85b8-16ebe653958a",
   "metadata": {},
   "source": [
    "На проекті, де користувач може відправити лайк іншому користувачу, для збільшення кількості відправлених лайків провели тест на заміну іконки на кнопці з серця на галочку.  При нажатті на хрестик користувача пропонується наступний користувач. Тестовий варіант запустили на користувачів з непарним sender_id 24 березня о 16:00, на парних користувачах залишили базовий варіант.\n",
    "\n",
    "План дій:\n",
    "1. Огляд даних\n",
    "2. Предобробка даних\n",
    "3. Аналіз даних\n",
    "4. Аналіз АБ тесту\n",
    "5. Висновки\n",
    "\n",
    "Доступні дані:\n",
    "* sender_id - id користувача\n",
    "* platform_id - id платформи\n",
    "* time_stamp - час виконання дії\n",
    "* gender - гендер користувача\n",
    "* reg_date - дата реєстрації"
   ]
  },
  {
   "cell_type": "code",
   "execution_count": 802,
   "id": "f648c34d-5fcf-4255-97dc-6387100da852",
   "metadata": {},
   "outputs": [],
   "source": [
    "import pandas as pd\n",
    "import numpy as np\n",
    "import matplotlib.pyplot as plt\n",
    "import seaborn as sns\n",
    "\n",
    "from scipy import stats\n",
    "\n",
    "from tqdm import tqdm"
   ]
  },
  {
   "cell_type": "code",
   "execution_count": 803,
   "id": "fe0697fe-83f5-4069-a19a-b6eccbd02cdd",
   "metadata": {},
   "outputs": [
    {
     "name": "stdout",
     "output_type": "stream",
     "text": [
      "README.md  ab_test.ipynb  df.csv\n"
     ]
    }
   ],
   "source": [
    "!ls"
   ]
  },
  {
   "cell_type": "code",
   "execution_count": 804,
   "id": "5de4699a-628c-42c5-8485-54ccee732819",
   "metadata": {},
   "outputs": [],
   "source": [
    "df = pd.read_csv('df.csv', sep=';')"
   ]
  },
  {
   "cell_type": "code",
   "execution_count": 805,
   "id": "11eb594c-ac61-4ead-9558-d603292c10bf",
   "metadata": {},
   "outputs": [],
   "source": [
    "start_date = '2017-03-24 16:00:00'"
   ]
  },
  {
   "cell_type": "markdown",
   "id": "f2c4f71c-8451-4eb6-ab91-05e812597517",
   "metadata": {},
   "source": [
    "# 1. Огляд даних"
   ]
  },
  {
   "cell_type": "code",
   "execution_count": 806,
   "id": "a8bad6db-b6c8-445d-a28e-6a009e5a89d3",
   "metadata": {},
   "outputs": [
    {
     "data": {
      "text/html": [
       "<div>\n",
       "<style scoped>\n",
       "    .dataframe tbody tr th:only-of-type {\n",
       "        vertical-align: middle;\n",
       "    }\n",
       "\n",
       "    .dataframe tbody tr th {\n",
       "        vertical-align: top;\n",
       "    }\n",
       "\n",
       "    .dataframe thead th {\n",
       "        text-align: right;\n",
       "    }\n",
       "</style>\n",
       "<table border=\"1\" class=\"dataframe\">\n",
       "  <thead>\n",
       "    <tr style=\"text-align: right;\">\n",
       "      <th></th>\n",
       "      <th>sender_id</th>\n",
       "      <th>platform_id</th>\n",
       "      <th>time_stamp</th>\n",
       "      <th>gender</th>\n",
       "      <th>reg_date</th>\n",
       "    </tr>\n",
       "  </thead>\n",
       "  <tbody>\n",
       "    <tr>\n",
       "      <th>0</th>\n",
       "      <td>3207526951</td>\n",
       "      <td>6</td>\n",
       "      <td>16.03.2017 13:35</td>\n",
       "      <td>m</td>\n",
       "      <td>26.01.2017</td>\n",
       "    </tr>\n",
       "    <tr>\n",
       "      <th>1</th>\n",
       "      <td>3207526951</td>\n",
       "      <td>6</td>\n",
       "      <td>16.03.2017 9:09</td>\n",
       "      <td>m</td>\n",
       "      <td>26.01.2017</td>\n",
       "    </tr>\n",
       "    <tr>\n",
       "      <th>2</th>\n",
       "      <td>3207526951</td>\n",
       "      <td>6</td>\n",
       "      <td>16.03.2017 9:09</td>\n",
       "      <td>m</td>\n",
       "      <td>26.01.2017</td>\n",
       "    </tr>\n",
       "    <tr>\n",
       "      <th>3</th>\n",
       "      <td>3207526951</td>\n",
       "      <td>6</td>\n",
       "      <td>16.03.2017 12:13</td>\n",
       "      <td>m</td>\n",
       "      <td>26.01.2017</td>\n",
       "    </tr>\n",
       "    <tr>\n",
       "      <th>4</th>\n",
       "      <td>3207526951</td>\n",
       "      <td>6</td>\n",
       "      <td>15.03.2017 14:01</td>\n",
       "      <td>m</td>\n",
       "      <td>26.01.2017</td>\n",
       "    </tr>\n",
       "  </tbody>\n",
       "</table>\n",
       "</div>"
      ],
      "text/plain": [
       "    sender_id  platform_id        time_stamp gender    reg_date\n",
       "0  3207526951            6  16.03.2017 13:35      m  26.01.2017\n",
       "1  3207526951            6   16.03.2017 9:09      m  26.01.2017\n",
       "2  3207526951            6   16.03.2017 9:09      m  26.01.2017\n",
       "3  3207526951            6  16.03.2017 12:13      m  26.01.2017\n",
       "4  3207526951            6  15.03.2017 14:01      m  26.01.2017"
      ]
     },
     "execution_count": 806,
     "metadata": {},
     "output_type": "execute_result"
    }
   ],
   "source": [
    "df.head()"
   ]
  },
  {
   "cell_type": "code",
   "execution_count": 807,
   "id": "05d4ac72-9ec6-48b2-9ca1-6577e5ae90d0",
   "metadata": {},
   "outputs": [
    {
     "data": {
      "text/plain": [
       "(768439, 5)"
      ]
     },
     "execution_count": 807,
     "metadata": {},
     "output_type": "execute_result"
    }
   ],
   "source": [
    "df.shape"
   ]
  },
  {
   "cell_type": "code",
   "execution_count": 808,
   "id": "258b2003-7919-43d9-ab01-9b26c68357c2",
   "metadata": {},
   "outputs": [
    {
     "name": "stdout",
     "output_type": "stream",
     "text": [
      "<class 'pandas.core.frame.DataFrame'>\n",
      "RangeIndex: 768439 entries, 0 to 768438\n",
      "Data columns (total 5 columns):\n",
      " #   Column       Non-Null Count   Dtype \n",
      "---  ------       --------------   ----- \n",
      " 0   sender_id    768439 non-null  int64 \n",
      " 1   platform_id  768439 non-null  int64 \n",
      " 2   time_stamp   768439 non-null  object\n",
      " 3   gender       768439 non-null  object\n",
      " 4   reg_date     768439 non-null  object\n",
      "dtypes: int64(2), object(3)\n",
      "memory usage: 29.3+ MB\n"
     ]
    }
   ],
   "source": [
    "df.info()"
   ]
  },
  {
   "cell_type": "code",
   "execution_count": 809,
   "id": "92d8224e-5535-413d-888a-ea7d9026f7c5",
   "metadata": {},
   "outputs": [
    {
     "data": {
      "text/plain": [
       "518178"
      ]
     },
     "execution_count": 809,
     "metadata": {},
     "output_type": "execute_result"
    }
   ],
   "source": [
    "df.duplicated().sum()"
   ]
  },
  {
   "cell_type": "code",
   "execution_count": 810,
   "id": "ae246777-8bee-4130-acb9-031fbc6a0f40",
   "metadata": {},
   "outputs": [
    {
     "data": {
      "text/plain": [
       "sender_id      0\n",
       "platform_id    0\n",
       "time_stamp     0\n",
       "gender         0\n",
       "reg_date       0\n",
       "dtype: int64"
      ]
     },
     "execution_count": 810,
     "metadata": {},
     "output_type": "execute_result"
    }
   ],
   "source": [
    "df.isnull().sum()"
   ]
  },
  {
   "cell_type": "code",
   "execution_count": 811,
   "id": "920da95a-bc3d-4f52-8a6f-4ffc91df627a",
   "metadata": {},
   "outputs": [
    {
     "data": {
      "text/plain": [
       "sender_id      26321\n",
       "platform_id        2\n",
       "time_stamp     20100\n",
       "gender             3\n",
       "reg_date          85\n",
       "dtype: int64"
      ]
     },
     "execution_count": 811,
     "metadata": {},
     "output_type": "execute_result"
    }
   ],
   "source": [
    "df.nunique()"
   ]
  },
  {
   "cell_type": "code",
   "execution_count": 812,
   "id": "d374fa7c-8576-4f82-8d49-7fb291108764",
   "metadata": {},
   "outputs": [
    {
     "data": {
      "text/plain": [
       "array(['m', 'f', ' '], dtype=object)"
      ]
     },
     "execution_count": 812,
     "metadata": {},
     "output_type": "execute_result"
    }
   ],
   "source": [
    "df['gender'].unique()"
   ]
  },
  {
   "cell_type": "code",
   "execution_count": null,
   "id": "56143ee6-af50-41df-85e2-dd63cae5074a",
   "metadata": {},
   "outputs": [],
   "source": []
  },
  {
   "cell_type": "code",
   "execution_count": 813,
   "id": "7caf86eb-84ae-409c-b379-12c706e8c1c4",
   "metadata": {},
   "outputs": [
    {
     "data": {
      "text/html": [
       "<div>\n",
       "<style scoped>\n",
       "    .dataframe tbody tr th:only-of-type {\n",
       "        vertical-align: middle;\n",
       "    }\n",
       "\n",
       "    .dataframe tbody tr th {\n",
       "        vertical-align: top;\n",
       "    }\n",
       "\n",
       "    .dataframe thead th {\n",
       "        text-align: right;\n",
       "    }\n",
       "</style>\n",
       "<table border=\"1\" class=\"dataframe\">\n",
       "  <thead>\n",
       "    <tr style=\"text-align: right;\">\n",
       "      <th></th>\n",
       "      <th>sender_id</th>\n",
       "      <th>platform_id</th>\n",
       "    </tr>\n",
       "  </thead>\n",
       "  <tbody>\n",
       "    <tr>\n",
       "      <th>count</th>\n",
       "      <td>7.684390e+05</td>\n",
       "      <td>768439.000000</td>\n",
       "    </tr>\n",
       "    <tr>\n",
       "      <th>mean</th>\n",
       "      <td>3.212627e+09</td>\n",
       "      <td>6.419483</td>\n",
       "    </tr>\n",
       "    <tr>\n",
       "      <th>std</th>\n",
       "      <td>5.060134e+06</td>\n",
       "      <td>0.493475</td>\n",
       "    </tr>\n",
       "    <tr>\n",
       "      <th>min</th>\n",
       "      <td>3.201944e+09</td>\n",
       "      <td>6.000000</td>\n",
       "    </tr>\n",
       "    <tr>\n",
       "      <th>25%</th>\n",
       "      <td>3.208266e+09</td>\n",
       "      <td>6.000000</td>\n",
       "    </tr>\n",
       "    <tr>\n",
       "      <th>50%</th>\n",
       "      <td>3.214114e+09</td>\n",
       "      <td>6.000000</td>\n",
       "    </tr>\n",
       "    <tr>\n",
       "      <th>75%</th>\n",
       "      <td>3.216958e+09</td>\n",
       "      <td>7.000000</td>\n",
       "    </tr>\n",
       "    <tr>\n",
       "      <th>max</th>\n",
       "      <td>3.219311e+09</td>\n",
       "      <td>7.000000</td>\n",
       "    </tr>\n",
       "  </tbody>\n",
       "</table>\n",
       "</div>"
      ],
      "text/plain": [
       "          sender_id    platform_id\n",
       "count  7.684390e+05  768439.000000\n",
       "mean   3.212627e+09       6.419483\n",
       "std    5.060134e+06       0.493475\n",
       "min    3.201944e+09       6.000000\n",
       "25%    3.208266e+09       6.000000\n",
       "50%    3.214114e+09       6.000000\n",
       "75%    3.216958e+09       7.000000\n",
       "max    3.219311e+09       7.000000"
      ]
     },
     "execution_count": 813,
     "metadata": {},
     "output_type": "execute_result"
    }
   ],
   "source": [
    "df.describe()"
   ]
  },
  {
   "cell_type": "code",
   "execution_count": 814,
   "id": "201bc39a-e2a2-4a4b-b686-533a466fed1f",
   "metadata": {},
   "outputs": [
    {
     "data": {
      "text/html": [
       "<div>\n",
       "<style scoped>\n",
       "    .dataframe tbody tr th:only-of-type {\n",
       "        vertical-align: middle;\n",
       "    }\n",
       "\n",
       "    .dataframe tbody tr th {\n",
       "        vertical-align: top;\n",
       "    }\n",
       "\n",
       "    .dataframe thead th {\n",
       "        text-align: right;\n",
       "    }\n",
       "</style>\n",
       "<table border=\"1\" class=\"dataframe\">\n",
       "  <thead>\n",
       "    <tr style=\"text-align: right;\">\n",
       "      <th></th>\n",
       "      <th>time_stamp</th>\n",
       "      <th>gender</th>\n",
       "      <th>reg_date</th>\n",
       "    </tr>\n",
       "  </thead>\n",
       "  <tbody>\n",
       "    <tr>\n",
       "      <th>count</th>\n",
       "      <td>768439</td>\n",
       "      <td>768439</td>\n",
       "      <td>768439</td>\n",
       "    </tr>\n",
       "    <tr>\n",
       "      <th>unique</th>\n",
       "      <td>20100</td>\n",
       "      <td>3</td>\n",
       "      <td>85</td>\n",
       "    </tr>\n",
       "    <tr>\n",
       "      <th>top</th>\n",
       "      <td>14.03.2017 14:26</td>\n",
       "      <td>m</td>\n",
       "      <td>13.03.2017</td>\n",
       "    </tr>\n",
       "    <tr>\n",
       "      <th>freq</th>\n",
       "      <td>239</td>\n",
       "      <td>659569</td>\n",
       "      <td>31548</td>\n",
       "    </tr>\n",
       "  </tbody>\n",
       "</table>\n",
       "</div>"
      ],
      "text/plain": [
       "              time_stamp  gender    reg_date\n",
       "count             768439  768439      768439\n",
       "unique             20100       3          85\n",
       "top     14.03.2017 14:26       m  13.03.2017\n",
       "freq                 239  659569       31548"
      ]
     },
     "execution_count": 814,
     "metadata": {},
     "output_type": "execute_result"
    }
   ],
   "source": [
    "df.describe(include='object')"
   ]
  },
  {
   "cell_type": "code",
   "execution_count": null,
   "id": "17bfff11-8f96-4f43-be17-8fd2d42114af",
   "metadata": {},
   "outputs": [],
   "source": []
  },
  {
   "cell_type": "markdown",
   "id": "1b017ebe-45ad-4a56-823a-9d610866568f",
   "metadata": {},
   "source": [
    "В даних виявлено наступні помилки:\n",
    "* неправильний формат у стовпцях 'time_stamp' та 'reg_date'\n",
    "* наявність дублікатів\n",
    "* в стовпці 'gender' присутні пропуски"
   ]
  },
  {
   "cell_type": "code",
   "execution_count": null,
   "id": "4143ad39-0328-4770-964d-2863bfdf9666",
   "metadata": {},
   "outputs": [],
   "source": []
  },
  {
   "cell_type": "markdown",
   "id": "7c500468-cab9-4099-a5c5-2f9a44598e35",
   "metadata": {},
   "source": [
    "# 2. Предобробка даних"
   ]
  },
  {
   "cell_type": "code",
   "execution_count": 815,
   "id": "7d3ef0f8-7477-4677-aa44-e009905453fa",
   "metadata": {},
   "outputs": [],
   "source": [
    "df['time_stamp'] = pd.to_datetime(df['time_stamp'], dayfirst=True)\n",
    "df['reg_date'] = pd.to_datetime(df['reg_date'], dayfirst=True)"
   ]
  },
  {
   "cell_type": "code",
   "execution_count": null,
   "id": "8815f994-91fe-41fa-8af3-f1111dc34778",
   "metadata": {},
   "outputs": [],
   "source": []
  },
  {
   "cell_type": "code",
   "execution_count": 816,
   "id": "844b2f89-be45-4a31-97b9-8460b4afebe7",
   "metadata": {},
   "outputs": [
    {
     "data": {
      "text/plain": [
       "gender\n",
       "m    659569\n",
       "f    108699\n",
       "        171\n",
       "Name: count, dtype: int64"
      ]
     },
     "execution_count": 816,
     "metadata": {},
     "output_type": "execute_result"
    }
   ],
   "source": [
    "df['gender'].value_counts()"
   ]
  },
  {
   "cell_type": "code",
   "execution_count": 817,
   "id": "1efbd710-bf2c-41c7-b70e-8df437a67881",
   "metadata": {},
   "outputs": [],
   "source": [
    "df['gender'] = df['gender'].replace({' ': np.nan})"
   ]
  },
  {
   "cell_type": "code",
   "execution_count": 818,
   "id": "6b79ec8a-c36c-4ccb-a848-c854d07d929a",
   "metadata": {},
   "outputs": [
    {
     "data": {
      "text/html": [
       "<div>\n",
       "<style scoped>\n",
       "    .dataframe tbody tr th:only-of-type {\n",
       "        vertical-align: middle;\n",
       "    }\n",
       "\n",
       "    .dataframe tbody tr th {\n",
       "        vertical-align: top;\n",
       "    }\n",
       "\n",
       "    .dataframe thead th {\n",
       "        text-align: right;\n",
       "    }\n",
       "</style>\n",
       "<table border=\"1\" class=\"dataframe\">\n",
       "  <thead>\n",
       "    <tr style=\"text-align: right;\">\n",
       "      <th></th>\n",
       "      <th>sender_id</th>\n",
       "      <th>platform_id</th>\n",
       "      <th>time_stamp</th>\n",
       "      <th>gender</th>\n",
       "      <th>reg_date</th>\n",
       "    </tr>\n",
       "  </thead>\n",
       "  <tbody>\n",
       "    <tr>\n",
       "      <th>109632</th>\n",
       "      <td>3215997599</td>\n",
       "      <td>7</td>\n",
       "      <td>2017-03-15 12:54:00</td>\n",
       "      <td>NaN</td>\n",
       "      <td>2017-03-09</td>\n",
       "    </tr>\n",
       "    <tr>\n",
       "      <th>109629</th>\n",
       "      <td>3215997599</td>\n",
       "      <td>7</td>\n",
       "      <td>2017-03-13 13:07:00</td>\n",
       "      <td>NaN</td>\n",
       "      <td>2017-03-09</td>\n",
       "    </tr>\n",
       "    <tr>\n",
       "      <th>340367</th>\n",
       "      <td>3216008283</td>\n",
       "      <td>6</td>\n",
       "      <td>2017-03-20 11:28:00</td>\n",
       "      <td>NaN</td>\n",
       "      <td>2017-03-09</td>\n",
       "    </tr>\n",
       "    <tr>\n",
       "      <th>340523</th>\n",
       "      <td>3215997599</td>\n",
       "      <td>7</td>\n",
       "      <td>2017-03-22 10:58:00</td>\n",
       "      <td>NaN</td>\n",
       "      <td>2017-03-09</td>\n",
       "    </tr>\n",
       "    <tr>\n",
       "      <th>661800</th>\n",
       "      <td>3215997599</td>\n",
       "      <td>7</td>\n",
       "      <td>2017-03-17 09:15:00</td>\n",
       "      <td>NaN</td>\n",
       "      <td>2017-03-09</td>\n",
       "    </tr>\n",
       "    <tr>\n",
       "      <th>661621</th>\n",
       "      <td>3216008283</td>\n",
       "      <td>6</td>\n",
       "      <td>2017-03-20 11:28:00</td>\n",
       "      <td>NaN</td>\n",
       "      <td>2017-03-09</td>\n",
       "    </tr>\n",
       "    <tr>\n",
       "      <th>307961</th>\n",
       "      <td>3216008283</td>\n",
       "      <td>6</td>\n",
       "      <td>2017-03-26 08:25:00</td>\n",
       "      <td>NaN</td>\n",
       "      <td>2017-03-09</td>\n",
       "    </tr>\n",
       "    <tr>\n",
       "      <th>661626</th>\n",
       "      <td>3216008283</td>\n",
       "      <td>6</td>\n",
       "      <td>2017-03-20 11:27:00</td>\n",
       "      <td>NaN</td>\n",
       "      <td>2017-03-09</td>\n",
       "    </tr>\n",
       "    <tr>\n",
       "      <th>661622</th>\n",
       "      <td>3216008283</td>\n",
       "      <td>6</td>\n",
       "      <td>2017-03-20 11:28:00</td>\n",
       "      <td>NaN</td>\n",
       "      <td>2017-03-09</td>\n",
       "    </tr>\n",
       "    <tr>\n",
       "      <th>495290</th>\n",
       "      <td>3215996422</td>\n",
       "      <td>7</td>\n",
       "      <td>2017-03-15 01:19:00</td>\n",
       "      <td>NaN</td>\n",
       "      <td>2017-03-09</td>\n",
       "    </tr>\n",
       "    <tr>\n",
       "      <th>340376</th>\n",
       "      <td>3216008283</td>\n",
       "      <td>6</td>\n",
       "      <td>2017-03-20 11:27:00</td>\n",
       "      <td>NaN</td>\n",
       "      <td>2017-03-09</td>\n",
       "    </tr>\n",
       "    <tr>\n",
       "      <th>109655</th>\n",
       "      <td>3215996422</td>\n",
       "      <td>7</td>\n",
       "      <td>2017-03-15 01:15:00</td>\n",
       "      <td>NaN</td>\n",
       "      <td>2017-03-09</td>\n",
       "    </tr>\n",
       "    <tr>\n",
       "      <th>495272</th>\n",
       "      <td>3215997599</td>\n",
       "      <td>7</td>\n",
       "      <td>2017-03-13 13:43:00</td>\n",
       "      <td>NaN</td>\n",
       "      <td>2017-03-09</td>\n",
       "    </tr>\n",
       "    <tr>\n",
       "      <th>661784</th>\n",
       "      <td>3215997599</td>\n",
       "      <td>7</td>\n",
       "      <td>2017-03-22 10:58:00</td>\n",
       "      <td>NaN</td>\n",
       "      <td>2017-03-09</td>\n",
       "    </tr>\n",
       "    <tr>\n",
       "      <th>109643</th>\n",
       "      <td>3215996422</td>\n",
       "      <td>7</td>\n",
       "      <td>2017-03-13 14:27:00</td>\n",
       "      <td>NaN</td>\n",
       "      <td>2017-03-09</td>\n",
       "    </tr>\n",
       "    <tr>\n",
       "      <th>661799</th>\n",
       "      <td>3215997599</td>\n",
       "      <td>7</td>\n",
       "      <td>2017-03-21 11:19:00</td>\n",
       "      <td>NaN</td>\n",
       "      <td>2017-03-09</td>\n",
       "    </tr>\n",
       "    <tr>\n",
       "      <th>109656</th>\n",
       "      <td>3215996422</td>\n",
       "      <td>7</td>\n",
       "      <td>2017-03-13 09:06:00</td>\n",
       "      <td>NaN</td>\n",
       "      <td>2017-03-09</td>\n",
       "    </tr>\n",
       "    <tr>\n",
       "      <th>109626</th>\n",
       "      <td>3215997599</td>\n",
       "      <td>7</td>\n",
       "      <td>2017-03-13 13:05:00</td>\n",
       "      <td>NaN</td>\n",
       "      <td>2017-03-09</td>\n",
       "    </tr>\n",
       "    <tr>\n",
       "      <th>307958</th>\n",
       "      <td>3216008283</td>\n",
       "      <td>6</td>\n",
       "      <td>2017-03-26 08:25:00</td>\n",
       "      <td>NaN</td>\n",
       "      <td>2017-03-09</td>\n",
       "    </tr>\n",
       "    <tr>\n",
       "      <th>661787</th>\n",
       "      <td>3215997599</td>\n",
       "      <td>7</td>\n",
       "      <td>2017-03-17 19:49:00</td>\n",
       "      <td>NaN</td>\n",
       "      <td>2017-03-09</td>\n",
       "    </tr>\n",
       "  </tbody>\n",
       "</table>\n",
       "</div>"
      ],
      "text/plain": [
       "         sender_id  platform_id          time_stamp gender   reg_date\n",
       "109632  3215997599            7 2017-03-15 12:54:00    NaN 2017-03-09\n",
       "109629  3215997599            7 2017-03-13 13:07:00    NaN 2017-03-09\n",
       "340367  3216008283            6 2017-03-20 11:28:00    NaN 2017-03-09\n",
       "340523  3215997599            7 2017-03-22 10:58:00    NaN 2017-03-09\n",
       "661800  3215997599            7 2017-03-17 09:15:00    NaN 2017-03-09\n",
       "661621  3216008283            6 2017-03-20 11:28:00    NaN 2017-03-09\n",
       "307961  3216008283            6 2017-03-26 08:25:00    NaN 2017-03-09\n",
       "661626  3216008283            6 2017-03-20 11:27:00    NaN 2017-03-09\n",
       "661622  3216008283            6 2017-03-20 11:28:00    NaN 2017-03-09\n",
       "495290  3215996422            7 2017-03-15 01:19:00    NaN 2017-03-09\n",
       "340376  3216008283            6 2017-03-20 11:27:00    NaN 2017-03-09\n",
       "109655  3215996422            7 2017-03-15 01:15:00    NaN 2017-03-09\n",
       "495272  3215997599            7 2017-03-13 13:43:00    NaN 2017-03-09\n",
       "661784  3215997599            7 2017-03-22 10:58:00    NaN 2017-03-09\n",
       "109643  3215996422            7 2017-03-13 14:27:00    NaN 2017-03-09\n",
       "661799  3215997599            7 2017-03-21 11:19:00    NaN 2017-03-09\n",
       "109656  3215996422            7 2017-03-13 09:06:00    NaN 2017-03-09\n",
       "109626  3215997599            7 2017-03-13 13:05:00    NaN 2017-03-09\n",
       "307958  3216008283            6 2017-03-26 08:25:00    NaN 2017-03-09\n",
       "661787  3215997599            7 2017-03-17 19:49:00    NaN 2017-03-09"
      ]
     },
     "execution_count": 818,
     "metadata": {},
     "output_type": "execute_result"
    }
   ],
   "source": [
    "df[df['gender'].isna()].sample(20)"
   ]
  },
  {
   "cell_type": "code",
   "execution_count": 819,
   "id": "3a11c132-b382-4b24-8aad-23f4403847c2",
   "metadata": {},
   "outputs": [
    {
     "name": "stdout",
     "output_type": "stream",
     "text": [
      "sender_id 3\n",
      "platform_id 2\n",
      "time_stamp 62\n",
      "reg_date 1\n"
     ]
    }
   ],
   "source": [
    "for i in [i for i in df.columns if i != 'gender']:\n",
    "    print(i, df[df['gender'].isna()][i].nunique())"
   ]
  },
  {
   "cell_type": "code",
   "execution_count": 820,
   "id": "61299781-0ba8-4a8d-ab2d-3ceccc70d8ae",
   "metadata": {},
   "outputs": [
    {
     "data": {
      "text/plain": [
       "array([3216008283, 3215997599, 3215996422])"
      ]
     },
     "execution_count": 820,
     "metadata": {},
     "output_type": "execute_result"
    }
   ],
   "source": [
    "id_gender_na = df[df['gender'].isna()]['sender_id'].unique()\n",
    "id_gender_na"
   ]
  },
  {
   "cell_type": "code",
   "execution_count": 821,
   "id": "89d1bb12-a236-4e25-bd5e-3aaf2e8f8368",
   "metadata": {},
   "outputs": [
    {
     "data": {
      "text/plain": [
       "(171, 5)"
      ]
     },
     "execution_count": 821,
     "metadata": {},
     "output_type": "execute_result"
    }
   ],
   "source": [
    "df[df['sender_id'].isin(id_gender_na)].shape"
   ]
  },
  {
   "cell_type": "code",
   "execution_count": 822,
   "id": "27e1c5bb-f84a-4555-813a-6b4bd33dcc7c",
   "metadata": {},
   "outputs": [
    {
     "data": {
      "text/plain": [
       "sender_id\n",
       "3215997599    86\n",
       "3216008283    49\n",
       "3215996422    36\n",
       "Name: count, dtype: int64"
      ]
     },
     "execution_count": 822,
     "metadata": {},
     "output_type": "execute_result"
    }
   ],
   "source": [
    "df[df['sender_id'].isin(id_gender_na)]['sender_id'].value_counts()"
   ]
  },
  {
   "cell_type": "code",
   "execution_count": null,
   "id": "c8102899-3a3a-424a-bf72-aedc71661b9c",
   "metadata": {},
   "outputs": [],
   "source": []
  },
  {
   "cell_type": "code",
   "execution_count": 823,
   "id": "4f86af2d-30ba-4724-9e98-be8a2505eca3",
   "metadata": {},
   "outputs": [
    {
     "data": {
      "text/plain": [
       "369"
      ]
     },
     "execution_count": 823,
     "metadata": {},
     "output_type": "execute_result"
    }
   ],
   "source": [
    "df[df['reg_date'] == '2017-03-09']['sender_id'].nunique()"
   ]
  },
  {
   "cell_type": "code",
   "execution_count": 824,
   "id": "6ca3b67b-a4f5-4f47-8dd2-627c687285ec",
   "metadata": {},
   "outputs": [
    {
     "data": {
      "text/plain": [
       "(148, 5)"
      ]
     },
     "execution_count": 824,
     "metadata": {},
     "output_type": "execute_result"
    }
   ],
   "source": [
    "df[(df['gender'].isna()) & (df['time_stamp'] < start_date)].shape"
   ]
  },
  {
   "cell_type": "markdown",
   "id": "a904a627-a45e-4bb6-ada5-ef80a5697c72",
   "metadata": {},
   "source": [
    "Загалом у стовпці gender 171 пропуск, з яких 148 до початку тесту та 23 після. Усі вони належать трьом користувачам, які зареєструвались в один день."
   ]
  },
  {
   "cell_type": "code",
   "execution_count": null,
   "id": "039ff62b-e5e9-4358-b568-f21d2c2daf93",
   "metadata": {},
   "outputs": [],
   "source": []
  },
  {
   "cell_type": "code",
   "execution_count": null,
   "id": "f8d7fa0f-ecad-4982-be46-07200c25bb53",
   "metadata": {},
   "outputs": [],
   "source": []
  },
  {
   "cell_type": "code",
   "execution_count": 825,
   "id": "2c45ddc8-830b-43f2-8a3e-0c5649be1dc7",
   "metadata": {},
   "outputs": [
    {
     "data": {
      "text/html": [
       "<div>\n",
       "<style scoped>\n",
       "    .dataframe tbody tr th:only-of-type {\n",
       "        vertical-align: middle;\n",
       "    }\n",
       "\n",
       "    .dataframe tbody tr th {\n",
       "        vertical-align: top;\n",
       "    }\n",
       "\n",
       "    .dataframe thead th {\n",
       "        text-align: right;\n",
       "    }\n",
       "</style>\n",
       "<table border=\"1\" class=\"dataframe\">\n",
       "  <thead>\n",
       "    <tr style=\"text-align: right;\">\n",
       "      <th></th>\n",
       "      <th>sender_id</th>\n",
       "      <th>platform_id</th>\n",
       "      <th>time_stamp</th>\n",
       "      <th>gender</th>\n",
       "      <th>reg_date</th>\n",
       "    </tr>\n",
       "  </thead>\n",
       "  <tbody>\n",
       "    <tr>\n",
       "      <th>753710</th>\n",
       "      <td>3217752133</td>\n",
       "      <td>6</td>\n",
       "      <td>2017-03-18 19:18:00</td>\n",
       "      <td>f</td>\n",
       "      <td>2017-03-18</td>\n",
       "    </tr>\n",
       "    <tr>\n",
       "      <th>441209</th>\n",
       "      <td>3214918464</td>\n",
       "      <td>6</td>\n",
       "      <td>2017-03-15 21:17:00</td>\n",
       "      <td>m</td>\n",
       "      <td>2017-03-04</td>\n",
       "    </tr>\n",
       "    <tr>\n",
       "      <th>240556</th>\n",
       "      <td>3212806432</td>\n",
       "      <td>6</td>\n",
       "      <td>2017-03-25 18:13:00</td>\n",
       "      <td>m</td>\n",
       "      <td>2017-02-21</td>\n",
       "    </tr>\n",
       "    <tr>\n",
       "      <th>645729</th>\n",
       "      <td>3203480390</td>\n",
       "      <td>7</td>\n",
       "      <td>2017-03-26 17:34:00</td>\n",
       "      <td>m</td>\n",
       "      <td>2017-01-08</td>\n",
       "    </tr>\n",
       "    <tr>\n",
       "      <th>200909</th>\n",
       "      <td>3207112036</td>\n",
       "      <td>7</td>\n",
       "      <td>2017-03-25 09:18:00</td>\n",
       "      <td>m</td>\n",
       "      <td>2017-01-24</td>\n",
       "    </tr>\n",
       "    <tr>\n",
       "      <th>361875</th>\n",
       "      <td>3216071967</td>\n",
       "      <td>7</td>\n",
       "      <td>2017-03-21 08:21:00</td>\n",
       "      <td>m</td>\n",
       "      <td>2017-03-10</td>\n",
       "    </tr>\n",
       "    <tr>\n",
       "      <th>606178</th>\n",
       "      <td>3218866775</td>\n",
       "      <td>6</td>\n",
       "      <td>2017-03-26 09:34:00</td>\n",
       "      <td>f</td>\n",
       "      <td>2017-03-24</td>\n",
       "    </tr>\n",
       "    <tr>\n",
       "      <th>120523</th>\n",
       "      <td>3205603383</td>\n",
       "      <td>6</td>\n",
       "      <td>2017-03-23 00:21:00</td>\n",
       "      <td>m</td>\n",
       "      <td>2017-01-17</td>\n",
       "    </tr>\n",
       "    <tr>\n",
       "      <th>555512</th>\n",
       "      <td>3216653484</td>\n",
       "      <td>6</td>\n",
       "      <td>2017-03-14 01:04:00</td>\n",
       "      <td>f</td>\n",
       "      <td>2017-03-13</td>\n",
       "    </tr>\n",
       "    <tr>\n",
       "      <th>399530</th>\n",
       "      <td>3214918464</td>\n",
       "      <td>6</td>\n",
       "      <td>2017-03-17 17:35:00</td>\n",
       "      <td>m</td>\n",
       "      <td>2017-03-04</td>\n",
       "    </tr>\n",
       "    <tr>\n",
       "      <th>646008</th>\n",
       "      <td>3216696259</td>\n",
       "      <td>6</td>\n",
       "      <td>2017-03-13 06:31:00</td>\n",
       "      <td>f</td>\n",
       "      <td>2017-03-13</td>\n",
       "    </tr>\n",
       "    <tr>\n",
       "      <th>383076</th>\n",
       "      <td>3208545098</td>\n",
       "      <td>7</td>\n",
       "      <td>2017-03-16 06:58:00</td>\n",
       "      <td>m</td>\n",
       "      <td>2017-01-31</td>\n",
       "    </tr>\n",
       "    <tr>\n",
       "      <th>645830</th>\n",
       "      <td>3216689577</td>\n",
       "      <td>6</td>\n",
       "      <td>2017-03-13 06:43:00</td>\n",
       "      <td>m</td>\n",
       "      <td>2017-03-13</td>\n",
       "    </tr>\n",
       "    <tr>\n",
       "      <th>486229</th>\n",
       "      <td>3213922747</td>\n",
       "      <td>6</td>\n",
       "      <td>2017-03-13 05:13:00</td>\n",
       "      <td>m</td>\n",
       "      <td>2017-02-27</td>\n",
       "    </tr>\n",
       "    <tr>\n",
       "      <th>186585</th>\n",
       "      <td>3202292844</td>\n",
       "      <td>6</td>\n",
       "      <td>2017-03-25 05:31:00</td>\n",
       "      <td>m</td>\n",
       "      <td>2017-01-02</td>\n",
       "    </tr>\n",
       "    <tr>\n",
       "      <th>200788</th>\n",
       "      <td>3208340900</td>\n",
       "      <td>7</td>\n",
       "      <td>2017-03-25 05:39:00</td>\n",
       "      <td>m</td>\n",
       "      <td>2017-01-30</td>\n",
       "    </tr>\n",
       "    <tr>\n",
       "      <th>26156</th>\n",
       "      <td>3207663540</td>\n",
       "      <td>7</td>\n",
       "      <td>2017-03-16 10:16:00</td>\n",
       "      <td>m</td>\n",
       "      <td>2017-01-27</td>\n",
       "    </tr>\n",
       "    <tr>\n",
       "      <th>534284</th>\n",
       "      <td>3216978746</td>\n",
       "      <td>6</td>\n",
       "      <td>2017-03-14 19:10:00</td>\n",
       "      <td>m</td>\n",
       "      <td>2017-03-14</td>\n",
       "    </tr>\n",
       "    <tr>\n",
       "      <th>321884</th>\n",
       "      <td>3218007014</td>\n",
       "      <td>7</td>\n",
       "      <td>2017-03-20 02:40:00</td>\n",
       "      <td>m</td>\n",
       "      <td>2017-03-20</td>\n",
       "    </tr>\n",
       "    <tr>\n",
       "      <th>398118</th>\n",
       "      <td>3216296869</td>\n",
       "      <td>7</td>\n",
       "      <td>2017-03-21 20:30:00</td>\n",
       "      <td>m</td>\n",
       "      <td>2017-03-11</td>\n",
       "    </tr>\n",
       "  </tbody>\n",
       "</table>\n",
       "</div>"
      ],
      "text/plain": [
       "         sender_id  platform_id          time_stamp gender   reg_date\n",
       "753710  3217752133            6 2017-03-18 19:18:00      f 2017-03-18\n",
       "441209  3214918464            6 2017-03-15 21:17:00      m 2017-03-04\n",
       "240556  3212806432            6 2017-03-25 18:13:00      m 2017-02-21\n",
       "645729  3203480390            7 2017-03-26 17:34:00      m 2017-01-08\n",
       "200909  3207112036            7 2017-03-25 09:18:00      m 2017-01-24\n",
       "361875  3216071967            7 2017-03-21 08:21:00      m 2017-03-10\n",
       "606178  3218866775            6 2017-03-26 09:34:00      f 2017-03-24\n",
       "120523  3205603383            6 2017-03-23 00:21:00      m 2017-01-17\n",
       "555512  3216653484            6 2017-03-14 01:04:00      f 2017-03-13\n",
       "399530  3214918464            6 2017-03-17 17:35:00      m 2017-03-04\n",
       "646008  3216696259            6 2017-03-13 06:31:00      f 2017-03-13\n",
       "383076  3208545098            7 2017-03-16 06:58:00      m 2017-01-31\n",
       "645830  3216689577            6 2017-03-13 06:43:00      m 2017-03-13\n",
       "486229  3213922747            6 2017-03-13 05:13:00      m 2017-02-27\n",
       "186585  3202292844            6 2017-03-25 05:31:00      m 2017-01-02\n",
       "200788  3208340900            7 2017-03-25 05:39:00      m 2017-01-30\n",
       "26156   3207663540            7 2017-03-16 10:16:00      m 2017-01-27\n",
       "534284  3216978746            6 2017-03-14 19:10:00      m 2017-03-14\n",
       "321884  3218007014            7 2017-03-20 02:40:00      m 2017-03-20\n",
       "398118  3216296869            7 2017-03-21 20:30:00      m 2017-03-11"
      ]
     },
     "execution_count": 825,
     "metadata": {},
     "output_type": "execute_result"
    }
   ],
   "source": [
    "df[df.duplicated()].sample(20)"
   ]
  },
  {
   "cell_type": "code",
   "execution_count": 826,
   "id": "6e92395b-2704-45c8-b88e-e5a751e99aed",
   "metadata": {},
   "outputs": [
    {
     "data": {
      "text/plain": [
       "((654, 5), 548)"
      ]
     },
     "execution_count": 826,
     "metadata": {},
     "output_type": "execute_result"
    }
   ],
   "source": [
    "idd = 3203188184\n",
    "df[df['sender_id'] == idd].shape, df[df['sender_id'] == idd].duplicated().sum()"
   ]
  },
  {
   "cell_type": "code",
   "execution_count": 827,
   "id": "2864098a-966c-4315-87d5-41fe0b61e6b6",
   "metadata": {},
   "outputs": [
    {
     "data": {
      "text/html": [
       "<div>\n",
       "<style scoped>\n",
       "    .dataframe tbody tr th:only-of-type {\n",
       "        vertical-align: middle;\n",
       "    }\n",
       "\n",
       "    .dataframe tbody tr th {\n",
       "        vertical-align: top;\n",
       "    }\n",
       "\n",
       "    .dataframe thead th {\n",
       "        text-align: right;\n",
       "    }\n",
       "</style>\n",
       "<table border=\"1\" class=\"dataframe\">\n",
       "  <thead>\n",
       "    <tr style=\"text-align: right;\">\n",
       "      <th></th>\n",
       "      <th>sender_id</th>\n",
       "      <th>platform_id</th>\n",
       "      <th>time_stamp</th>\n",
       "      <th>gender</th>\n",
       "      <th>reg_date</th>\n",
       "    </tr>\n",
       "  </thead>\n",
       "  <tbody>\n",
       "    <tr>\n",
       "      <th>550749</th>\n",
       "      <td>3203188184</td>\n",
       "      <td>7</td>\n",
       "      <td>2017-03-25 23:40:00</td>\n",
       "      <td>m</td>\n",
       "      <td>2017-01-06</td>\n",
       "    </tr>\n",
       "    <tr>\n",
       "      <th>187711</th>\n",
       "      <td>3203188184</td>\n",
       "      <td>6</td>\n",
       "      <td>2017-03-25 15:05:00</td>\n",
       "      <td>m</td>\n",
       "      <td>2017-01-06</td>\n",
       "    </tr>\n",
       "    <tr>\n",
       "      <th>550748</th>\n",
       "      <td>3203188184</td>\n",
       "      <td>7</td>\n",
       "      <td>2017-03-26 00:02:00</td>\n",
       "      <td>m</td>\n",
       "      <td>2017-01-06</td>\n",
       "    </tr>\n",
       "    <tr>\n",
       "      <th>549486</th>\n",
       "      <td>3203188184</td>\n",
       "      <td>7</td>\n",
       "      <td>2017-03-25 21:29:00</td>\n",
       "      <td>m</td>\n",
       "      <td>2017-01-06</td>\n",
       "    </tr>\n",
       "    <tr>\n",
       "      <th>188703</th>\n",
       "      <td>3203188184</td>\n",
       "      <td>7</td>\n",
       "      <td>2017-03-25 23:31:00</td>\n",
       "      <td>m</td>\n",
       "      <td>2017-01-06</td>\n",
       "    </tr>\n",
       "    <tr>\n",
       "      <th>188623</th>\n",
       "      <td>3203188184</td>\n",
       "      <td>7</td>\n",
       "      <td>2017-03-25 23:00:00</td>\n",
       "      <td>m</td>\n",
       "      <td>2017-01-06</td>\n",
       "    </tr>\n",
       "    <tr>\n",
       "      <th>257888</th>\n",
       "      <td>3203188184</td>\n",
       "      <td>6</td>\n",
       "      <td>2017-03-18 23:50:00</td>\n",
       "      <td>m</td>\n",
       "      <td>2017-01-06</td>\n",
       "    </tr>\n",
       "    <tr>\n",
       "      <th>550745</th>\n",
       "      <td>3203188184</td>\n",
       "      <td>7</td>\n",
       "      <td>2017-03-25 22:31:00</td>\n",
       "      <td>m</td>\n",
       "      <td>2017-01-06</td>\n",
       "    </tr>\n",
       "    <tr>\n",
       "      <th>188456</th>\n",
       "      <td>3203188184</td>\n",
       "      <td>7</td>\n",
       "      <td>2017-03-25 21:25:00</td>\n",
       "      <td>m</td>\n",
       "      <td>2017-01-06</td>\n",
       "    </tr>\n",
       "    <tr>\n",
       "      <th>607129</th>\n",
       "      <td>3203188184</td>\n",
       "      <td>6</td>\n",
       "      <td>2017-03-19 13:21:00</td>\n",
       "      <td>m</td>\n",
       "      <td>2017-01-06</td>\n",
       "    </tr>\n",
       "    <tr>\n",
       "      <th>607164</th>\n",
       "      <td>3203188184</td>\n",
       "      <td>6</td>\n",
       "      <td>2017-03-19 08:08:00</td>\n",
       "      <td>m</td>\n",
       "      <td>2017-01-06</td>\n",
       "    </tr>\n",
       "    <tr>\n",
       "      <th>188403</th>\n",
       "      <td>3203188184</td>\n",
       "      <td>7</td>\n",
       "      <td>2017-03-25 21:19:00</td>\n",
       "      <td>m</td>\n",
       "      <td>2017-01-06</td>\n",
       "    </tr>\n",
       "    <tr>\n",
       "      <th>607162</th>\n",
       "      <td>3203188184</td>\n",
       "      <td>6</td>\n",
       "      <td>2017-03-18 23:38:00</td>\n",
       "      <td>m</td>\n",
       "      <td>2017-01-06</td>\n",
       "    </tr>\n",
       "    <tr>\n",
       "      <th>188427</th>\n",
       "      <td>3203188184</td>\n",
       "      <td>7</td>\n",
       "      <td>2017-03-25 21:19:00</td>\n",
       "      <td>m</td>\n",
       "      <td>2017-01-06</td>\n",
       "    </tr>\n",
       "    <tr>\n",
       "      <th>550851</th>\n",
       "      <td>3203188184</td>\n",
       "      <td>7</td>\n",
       "      <td>2017-03-25 22:33:00</td>\n",
       "      <td>m</td>\n",
       "      <td>2017-01-06</td>\n",
       "    </tr>\n",
       "    <tr>\n",
       "      <th>549426</th>\n",
       "      <td>3203188184</td>\n",
       "      <td>7</td>\n",
       "      <td>2017-03-25 21:20:00</td>\n",
       "      <td>m</td>\n",
       "      <td>2017-01-06</td>\n",
       "    </tr>\n",
       "    <tr>\n",
       "      <th>550780</th>\n",
       "      <td>3203188184</td>\n",
       "      <td>7</td>\n",
       "      <td>2017-03-25 23:00:00</td>\n",
       "      <td>m</td>\n",
       "      <td>2017-01-06</td>\n",
       "    </tr>\n",
       "    <tr>\n",
       "      <th>257923</th>\n",
       "      <td>3203188184</td>\n",
       "      <td>6</td>\n",
       "      <td>2017-03-18 23:49:00</td>\n",
       "      <td>m</td>\n",
       "      <td>2017-01-06</td>\n",
       "    </tr>\n",
       "    <tr>\n",
       "      <th>549461</th>\n",
       "      <td>3203188184</td>\n",
       "      <td>7</td>\n",
       "      <td>2017-03-25 21:25:00</td>\n",
       "      <td>m</td>\n",
       "      <td>2017-01-06</td>\n",
       "    </tr>\n",
       "    <tr>\n",
       "      <th>550794</th>\n",
       "      <td>3203188184</td>\n",
       "      <td>7</td>\n",
       "      <td>2017-03-25 22:31:00</td>\n",
       "      <td>m</td>\n",
       "      <td>2017-01-06</td>\n",
       "    </tr>\n",
       "  </tbody>\n",
       "</table>\n",
       "</div>"
      ],
      "text/plain": [
       "         sender_id  platform_id          time_stamp gender   reg_date\n",
       "550749  3203188184            7 2017-03-25 23:40:00      m 2017-01-06\n",
       "187711  3203188184            6 2017-03-25 15:05:00      m 2017-01-06\n",
       "550748  3203188184            7 2017-03-26 00:02:00      m 2017-01-06\n",
       "549486  3203188184            7 2017-03-25 21:29:00      m 2017-01-06\n",
       "188703  3203188184            7 2017-03-25 23:31:00      m 2017-01-06\n",
       "188623  3203188184            7 2017-03-25 23:00:00      m 2017-01-06\n",
       "257888  3203188184            6 2017-03-18 23:50:00      m 2017-01-06\n",
       "550745  3203188184            7 2017-03-25 22:31:00      m 2017-01-06\n",
       "188456  3203188184            7 2017-03-25 21:25:00      m 2017-01-06\n",
       "607129  3203188184            6 2017-03-19 13:21:00      m 2017-01-06\n",
       "607164  3203188184            6 2017-03-19 08:08:00      m 2017-01-06\n",
       "188403  3203188184            7 2017-03-25 21:19:00      m 2017-01-06\n",
       "607162  3203188184            6 2017-03-18 23:38:00      m 2017-01-06\n",
       "188427  3203188184            7 2017-03-25 21:19:00      m 2017-01-06\n",
       "550851  3203188184            7 2017-03-25 22:33:00      m 2017-01-06\n",
       "549426  3203188184            7 2017-03-25 21:20:00      m 2017-01-06\n",
       "550780  3203188184            7 2017-03-25 23:00:00      m 2017-01-06\n",
       "257923  3203188184            6 2017-03-18 23:49:00      m 2017-01-06\n",
       "549461  3203188184            7 2017-03-25 21:25:00      m 2017-01-06\n",
       "550794  3203188184            7 2017-03-25 22:31:00      m 2017-01-06"
      ]
     },
     "execution_count": 827,
     "metadata": {},
     "output_type": "execute_result"
    }
   ],
   "source": [
    "df[df['sender_id'] == idd].sample(20)"
   ]
  },
  {
   "cell_type": "code",
   "execution_count": 828,
   "id": "c9965462-d2b7-41e3-b555-8a50567fb3c9",
   "metadata": {},
   "outputs": [
    {
     "data": {
      "text/html": [
       "<div>\n",
       "<style scoped>\n",
       "    .dataframe tbody tr th:only-of-type {\n",
       "        vertical-align: middle;\n",
       "    }\n",
       "\n",
       "    .dataframe tbody tr th {\n",
       "        vertical-align: top;\n",
       "    }\n",
       "\n",
       "    .dataframe thead th {\n",
       "        text-align: right;\n",
       "    }\n",
       "</style>\n",
       "<table border=\"1\" class=\"dataframe\">\n",
       "  <thead>\n",
       "    <tr style=\"text-align: right;\">\n",
       "      <th></th>\n",
       "      <th>sender_id</th>\n",
       "      <th>platform_id</th>\n",
       "      <th>time_stamp</th>\n",
       "      <th>gender</th>\n",
       "      <th>reg_date</th>\n",
       "    </tr>\n",
       "  </thead>\n",
       "  <tbody>\n",
       "    <tr>\n",
       "      <th>187707</th>\n",
       "      <td>3203188184</td>\n",
       "      <td>6</td>\n",
       "      <td>2017-03-25 15:03:00</td>\n",
       "      <td>m</td>\n",
       "      <td>2017-01-06</td>\n",
       "    </tr>\n",
       "    <tr>\n",
       "      <th>187708</th>\n",
       "      <td>3203188184</td>\n",
       "      <td>6</td>\n",
       "      <td>2017-03-25 15:03:00</td>\n",
       "      <td>m</td>\n",
       "      <td>2017-01-06</td>\n",
       "    </tr>\n",
       "    <tr>\n",
       "      <th>187710</th>\n",
       "      <td>3203188184</td>\n",
       "      <td>6</td>\n",
       "      <td>2017-03-25 15:03:00</td>\n",
       "      <td>m</td>\n",
       "      <td>2017-01-06</td>\n",
       "    </tr>\n",
       "    <tr>\n",
       "      <th>187728</th>\n",
       "      <td>3203188184</td>\n",
       "      <td>6</td>\n",
       "      <td>2017-03-25 15:03:00</td>\n",
       "      <td>m</td>\n",
       "      <td>2017-01-06</td>\n",
       "    </tr>\n",
       "    <tr>\n",
       "      <th>187733</th>\n",
       "      <td>3203188184</td>\n",
       "      <td>6</td>\n",
       "      <td>2017-03-25 15:03:00</td>\n",
       "      <td>m</td>\n",
       "      <td>2017-01-06</td>\n",
       "    </tr>\n",
       "    <tr>\n",
       "      <th>548797</th>\n",
       "      <td>3203188184</td>\n",
       "      <td>6</td>\n",
       "      <td>2017-03-25 15:03:00</td>\n",
       "      <td>m</td>\n",
       "      <td>2017-01-06</td>\n",
       "    </tr>\n",
       "    <tr>\n",
       "      <th>548809</th>\n",
       "      <td>3203188184</td>\n",
       "      <td>6</td>\n",
       "      <td>2017-03-25 15:03:00</td>\n",
       "      <td>m</td>\n",
       "      <td>2017-01-06</td>\n",
       "    </tr>\n",
       "    <tr>\n",
       "      <th>548810</th>\n",
       "      <td>3203188184</td>\n",
       "      <td>6</td>\n",
       "      <td>2017-03-25 15:03:00</td>\n",
       "      <td>m</td>\n",
       "      <td>2017-01-06</td>\n",
       "    </tr>\n",
       "    <tr>\n",
       "      <th>548815</th>\n",
       "      <td>3203188184</td>\n",
       "      <td>6</td>\n",
       "      <td>2017-03-25 15:03:00</td>\n",
       "      <td>m</td>\n",
       "      <td>2017-01-06</td>\n",
       "    </tr>\n",
       "  </tbody>\n",
       "</table>\n",
       "</div>"
      ],
      "text/plain": [
       "         sender_id  platform_id          time_stamp gender   reg_date\n",
       "187707  3203188184            6 2017-03-25 15:03:00      m 2017-01-06\n",
       "187708  3203188184            6 2017-03-25 15:03:00      m 2017-01-06\n",
       "187710  3203188184            6 2017-03-25 15:03:00      m 2017-01-06\n",
       "187728  3203188184            6 2017-03-25 15:03:00      m 2017-01-06\n",
       "187733  3203188184            6 2017-03-25 15:03:00      m 2017-01-06\n",
       "548797  3203188184            6 2017-03-25 15:03:00      m 2017-01-06\n",
       "548809  3203188184            6 2017-03-25 15:03:00      m 2017-01-06\n",
       "548810  3203188184            6 2017-03-25 15:03:00      m 2017-01-06\n",
       "548815  3203188184            6 2017-03-25 15:03:00      m 2017-01-06"
      ]
     },
     "execution_count": 828,
     "metadata": {},
     "output_type": "execute_result"
    }
   ],
   "source": [
    "df[df.eq(df.iloc[187728]).all(axis=1)]"
   ]
  },
  {
   "cell_type": "code",
   "execution_count": null,
   "id": "c0174ade-34a9-45b6-804c-3a5ce9474d61",
   "metadata": {},
   "outputs": [],
   "source": []
  },
  {
   "cell_type": "code",
   "execution_count": 829,
   "id": "97f88574-74aa-4ce1-99ab-41d31d3bdd58",
   "metadata": {},
   "outputs": [
    {
     "data": {
      "text/plain": [
       "((60, 5), 45)"
      ]
     },
     "execution_count": 829,
     "metadata": {},
     "output_type": "execute_result"
    }
   ],
   "source": [
    "idd = 3216436279\n",
    "df[df['sender_id'] == idd].shape, df[df['sender_id'] == idd].duplicated().sum()"
   ]
  },
  {
   "cell_type": "code",
   "execution_count": 830,
   "id": "219b0eeb-aaef-40a4-8018-e2ffa9043075",
   "metadata": {},
   "outputs": [
    {
     "data": {
      "text/html": [
       "<div>\n",
       "<style scoped>\n",
       "    .dataframe tbody tr th:only-of-type {\n",
       "        vertical-align: middle;\n",
       "    }\n",
       "\n",
       "    .dataframe tbody tr th {\n",
       "        vertical-align: top;\n",
       "    }\n",
       "\n",
       "    .dataframe thead th {\n",
       "        text-align: right;\n",
       "    }\n",
       "</style>\n",
       "<table border=\"1\" class=\"dataframe\">\n",
       "  <thead>\n",
       "    <tr style=\"text-align: right;\">\n",
       "      <th></th>\n",
       "      <th>sender_id</th>\n",
       "      <th>platform_id</th>\n",
       "      <th>time_stamp</th>\n",
       "      <th>gender</th>\n",
       "      <th>reg_date</th>\n",
       "    </tr>\n",
       "  </thead>\n",
       "  <tbody>\n",
       "    <tr>\n",
       "      <th>759696</th>\n",
       "      <td>3216436279</td>\n",
       "      <td>7</td>\n",
       "      <td>2017-03-18 19:17:00</td>\n",
       "      <td>m</td>\n",
       "      <td>2017-03-11</td>\n",
       "    </tr>\n",
       "    <tr>\n",
       "      <th>415796</th>\n",
       "      <td>3216436279</td>\n",
       "      <td>7</td>\n",
       "      <td>2017-03-20 10:06:00</td>\n",
       "      <td>m</td>\n",
       "      <td>2017-03-11</td>\n",
       "    </tr>\n",
       "    <tr>\n",
       "      <th>270923</th>\n",
       "      <td>3216436279</td>\n",
       "      <td>7</td>\n",
       "      <td>2017-03-25 01:47:00</td>\n",
       "      <td>m</td>\n",
       "      <td>2017-03-11</td>\n",
       "    </tr>\n",
       "    <tr>\n",
       "      <th>759712</th>\n",
       "      <td>3216436279</td>\n",
       "      <td>7</td>\n",
       "      <td>2017-03-20 10:05:00</td>\n",
       "      <td>m</td>\n",
       "      <td>2017-03-11</td>\n",
       "    </tr>\n",
       "    <tr>\n",
       "      <th>759707</th>\n",
       "      <td>3216436279</td>\n",
       "      <td>7</td>\n",
       "      <td>2017-03-22 11:30:00</td>\n",
       "      <td>m</td>\n",
       "      <td>2017-03-11</td>\n",
       "    </tr>\n",
       "    <tr>\n",
       "      <th>415779</th>\n",
       "      <td>3216436279</td>\n",
       "      <td>7</td>\n",
       "      <td>2017-03-20 10:05:00</td>\n",
       "      <td>m</td>\n",
       "      <td>2017-03-11</td>\n",
       "    </tr>\n",
       "    <tr>\n",
       "      <th>415788</th>\n",
       "      <td>3216436279</td>\n",
       "      <td>7</td>\n",
       "      <td>2017-03-18 19:16:00</td>\n",
       "      <td>m</td>\n",
       "      <td>2017-03-11</td>\n",
       "    </tr>\n",
       "    <tr>\n",
       "      <th>759704</th>\n",
       "      <td>3216436279</td>\n",
       "      <td>7</td>\n",
       "      <td>2017-03-22 11:30:00</td>\n",
       "      <td>m</td>\n",
       "      <td>2017-03-11</td>\n",
       "    </tr>\n",
       "    <tr>\n",
       "      <th>759703</th>\n",
       "      <td>3216436279</td>\n",
       "      <td>7</td>\n",
       "      <td>2017-03-23 09:41:00</td>\n",
       "      <td>m</td>\n",
       "      <td>2017-03-11</td>\n",
       "    </tr>\n",
       "    <tr>\n",
       "      <th>415789</th>\n",
       "      <td>3216436279</td>\n",
       "      <td>7</td>\n",
       "      <td>2017-03-20 10:05:00</td>\n",
       "      <td>m</td>\n",
       "      <td>2017-03-11</td>\n",
       "    </tr>\n",
       "    <tr>\n",
       "      <th>759700</th>\n",
       "      <td>3216436279</td>\n",
       "      <td>7</td>\n",
       "      <td>2017-03-18 19:17:00</td>\n",
       "      <td>m</td>\n",
       "      <td>2017-03-11</td>\n",
       "    </tr>\n",
       "    <tr>\n",
       "      <th>759697</th>\n",
       "      <td>3216436279</td>\n",
       "      <td>7</td>\n",
       "      <td>2017-03-23 09:42:00</td>\n",
       "      <td>m</td>\n",
       "      <td>2017-03-11</td>\n",
       "    </tr>\n",
       "    <tr>\n",
       "      <th>415792</th>\n",
       "      <td>3216436279</td>\n",
       "      <td>7</td>\n",
       "      <td>2017-03-18 19:16:00</td>\n",
       "      <td>m</td>\n",
       "      <td>2017-03-11</td>\n",
       "    </tr>\n",
       "    <tr>\n",
       "      <th>759708</th>\n",
       "      <td>3216436279</td>\n",
       "      <td>7</td>\n",
       "      <td>2017-03-20 10:33:00</td>\n",
       "      <td>m</td>\n",
       "      <td>2017-03-11</td>\n",
       "    </tr>\n",
       "    <tr>\n",
       "      <th>759695</th>\n",
       "      <td>3216436279</td>\n",
       "      <td>7</td>\n",
       "      <td>2017-03-20 10:32:00</td>\n",
       "      <td>m</td>\n",
       "      <td>2017-03-11</td>\n",
       "    </tr>\n",
       "    <tr>\n",
       "      <th>415787</th>\n",
       "      <td>3216436279</td>\n",
       "      <td>7</td>\n",
       "      <td>2017-03-20 10:06:00</td>\n",
       "      <td>m</td>\n",
       "      <td>2017-03-11</td>\n",
       "    </tr>\n",
       "    <tr>\n",
       "      <th>759699</th>\n",
       "      <td>3216436279</td>\n",
       "      <td>7</td>\n",
       "      <td>2017-03-20 10:05:00</td>\n",
       "      <td>m</td>\n",
       "      <td>2017-03-11</td>\n",
       "    </tr>\n",
       "    <tr>\n",
       "      <th>759705</th>\n",
       "      <td>3216436279</td>\n",
       "      <td>7</td>\n",
       "      <td>2017-03-18 19:17:00</td>\n",
       "      <td>m</td>\n",
       "      <td>2017-03-11</td>\n",
       "    </tr>\n",
       "    <tr>\n",
       "      <th>759711</th>\n",
       "      <td>3216436279</td>\n",
       "      <td>7</td>\n",
       "      <td>2017-03-20 10:06:00</td>\n",
       "      <td>m</td>\n",
       "      <td>2017-03-11</td>\n",
       "    </tr>\n",
       "    <tr>\n",
       "      <th>759713</th>\n",
       "      <td>3216436279</td>\n",
       "      <td>7</td>\n",
       "      <td>2017-03-20 10:06:00</td>\n",
       "      <td>m</td>\n",
       "      <td>2017-03-11</td>\n",
       "    </tr>\n",
       "  </tbody>\n",
       "</table>\n",
       "</div>"
      ],
      "text/plain": [
       "         sender_id  platform_id          time_stamp gender   reg_date\n",
       "759696  3216436279            7 2017-03-18 19:17:00      m 2017-03-11\n",
       "415796  3216436279            7 2017-03-20 10:06:00      m 2017-03-11\n",
       "270923  3216436279            7 2017-03-25 01:47:00      m 2017-03-11\n",
       "759712  3216436279            7 2017-03-20 10:05:00      m 2017-03-11\n",
       "759707  3216436279            7 2017-03-22 11:30:00      m 2017-03-11\n",
       "415779  3216436279            7 2017-03-20 10:05:00      m 2017-03-11\n",
       "415788  3216436279            7 2017-03-18 19:16:00      m 2017-03-11\n",
       "759704  3216436279            7 2017-03-22 11:30:00      m 2017-03-11\n",
       "759703  3216436279            7 2017-03-23 09:41:00      m 2017-03-11\n",
       "415789  3216436279            7 2017-03-20 10:05:00      m 2017-03-11\n",
       "759700  3216436279            7 2017-03-18 19:17:00      m 2017-03-11\n",
       "759697  3216436279            7 2017-03-23 09:42:00      m 2017-03-11\n",
       "415792  3216436279            7 2017-03-18 19:16:00      m 2017-03-11\n",
       "759708  3216436279            7 2017-03-20 10:33:00      m 2017-03-11\n",
       "759695  3216436279            7 2017-03-20 10:32:00      m 2017-03-11\n",
       "415787  3216436279            7 2017-03-20 10:06:00      m 2017-03-11\n",
       "759699  3216436279            7 2017-03-20 10:05:00      m 2017-03-11\n",
       "759705  3216436279            7 2017-03-18 19:17:00      m 2017-03-11\n",
       "759711  3216436279            7 2017-03-20 10:06:00      m 2017-03-11\n",
       "759713  3216436279            7 2017-03-20 10:06:00      m 2017-03-11"
      ]
     },
     "execution_count": 830,
     "metadata": {},
     "output_type": "execute_result"
    }
   ],
   "source": [
    "df[df['sender_id'] == idd].sample(20)"
   ]
  },
  {
   "cell_type": "code",
   "execution_count": 831,
   "id": "83cd7009-34ff-4241-bb6e-bdce34dd0c22",
   "metadata": {},
   "outputs": [
    {
     "data": {
      "text/html": [
       "<div>\n",
       "<style scoped>\n",
       "    .dataframe tbody tr th:only-of-type {\n",
       "        vertical-align: middle;\n",
       "    }\n",
       "\n",
       "    .dataframe tbody tr th {\n",
       "        vertical-align: top;\n",
       "    }\n",
       "\n",
       "    .dataframe thead th {\n",
       "        text-align: right;\n",
       "    }\n",
       "</style>\n",
       "<table border=\"1\" class=\"dataframe\">\n",
       "  <thead>\n",
       "    <tr style=\"text-align: right;\">\n",
       "      <th></th>\n",
       "      <th>sender_id</th>\n",
       "      <th>platform_id</th>\n",
       "      <th>time_stamp</th>\n",
       "      <th>gender</th>\n",
       "      <th>reg_date</th>\n",
       "    </tr>\n",
       "  </thead>\n",
       "  <tbody>\n",
       "    <tr>\n",
       "      <th>415784</th>\n",
       "      <td>3216436279</td>\n",
       "      <td>7</td>\n",
       "      <td>2017-03-18 19:17:00</td>\n",
       "      <td>m</td>\n",
       "      <td>2017-03-11</td>\n",
       "    </tr>\n",
       "    <tr>\n",
       "      <th>415785</th>\n",
       "      <td>3216436279</td>\n",
       "      <td>7</td>\n",
       "      <td>2017-03-18 19:17:00</td>\n",
       "      <td>m</td>\n",
       "      <td>2017-03-11</td>\n",
       "    </tr>\n",
       "    <tr>\n",
       "      <th>415800</th>\n",
       "      <td>3216436279</td>\n",
       "      <td>7</td>\n",
       "      <td>2017-03-18 19:17:00</td>\n",
       "      <td>m</td>\n",
       "      <td>2017-03-11</td>\n",
       "    </tr>\n",
       "    <tr>\n",
       "      <th>755797</th>\n",
       "      <td>3216436279</td>\n",
       "      <td>7</td>\n",
       "      <td>2017-03-18 19:17:00</td>\n",
       "      <td>m</td>\n",
       "      <td>2017-03-11</td>\n",
       "    </tr>\n",
       "    <tr>\n",
       "      <th>755798</th>\n",
       "      <td>3216436279</td>\n",
       "      <td>7</td>\n",
       "      <td>2017-03-18 19:17:00</td>\n",
       "      <td>m</td>\n",
       "      <td>2017-03-11</td>\n",
       "    </tr>\n",
       "    <tr>\n",
       "      <th>759696</th>\n",
       "      <td>3216436279</td>\n",
       "      <td>7</td>\n",
       "      <td>2017-03-18 19:17:00</td>\n",
       "      <td>m</td>\n",
       "      <td>2017-03-11</td>\n",
       "    </tr>\n",
       "    <tr>\n",
       "      <th>759700</th>\n",
       "      <td>3216436279</td>\n",
       "      <td>7</td>\n",
       "      <td>2017-03-18 19:17:00</td>\n",
       "      <td>m</td>\n",
       "      <td>2017-03-11</td>\n",
       "    </tr>\n",
       "    <tr>\n",
       "      <th>759705</th>\n",
       "      <td>3216436279</td>\n",
       "      <td>7</td>\n",
       "      <td>2017-03-18 19:17:00</td>\n",
       "      <td>m</td>\n",
       "      <td>2017-03-11</td>\n",
       "    </tr>\n",
       "  </tbody>\n",
       "</table>\n",
       "</div>"
      ],
      "text/plain": [
       "         sender_id  platform_id          time_stamp gender   reg_date\n",
       "415784  3216436279            7 2017-03-18 19:17:00      m 2017-03-11\n",
       "415785  3216436279            7 2017-03-18 19:17:00      m 2017-03-11\n",
       "415800  3216436279            7 2017-03-18 19:17:00      m 2017-03-11\n",
       "755797  3216436279            7 2017-03-18 19:17:00      m 2017-03-11\n",
       "755798  3216436279            7 2017-03-18 19:17:00      m 2017-03-11\n",
       "759696  3216436279            7 2017-03-18 19:17:00      m 2017-03-11\n",
       "759700  3216436279            7 2017-03-18 19:17:00      m 2017-03-11\n",
       "759705  3216436279            7 2017-03-18 19:17:00      m 2017-03-11"
      ]
     },
     "execution_count": 831,
     "metadata": {},
     "output_type": "execute_result"
    }
   ],
   "source": [
    "df[df.eq(df.iloc[755797]).all(axis=1)]"
   ]
  },
  {
   "cell_type": "code",
   "execution_count": null,
   "id": "a716f7fd-fccc-4498-95b5-f81247e9d033",
   "metadata": {},
   "outputs": [],
   "source": []
  },
  {
   "cell_type": "markdown",
   "id": "13a3ccaa-c23e-48c9-b33b-733821460a75",
   "metadata": {},
   "source": [
    "Дані відображають, як користувачі ставили лайки та дизлайки в додатку. Кількість дій на хвилину може досягати десятків, і всі вони будуть позначені як дублікат."
   ]
  },
  {
   "cell_type": "code",
   "execution_count": null,
   "id": "e7d8d151-78ca-4c6b-8c81-1c9dffe224ec",
   "metadata": {},
   "outputs": [],
   "source": []
  },
  {
   "cell_type": "code",
   "execution_count": null,
   "id": "dfa3c129-3e87-4073-ab15-2187c115a387",
   "metadata": {},
   "outputs": [],
   "source": []
  },
  {
   "cell_type": "markdown",
   "id": "bf533a66-9a9c-484f-a076-730997b8fc4b",
   "metadata": {},
   "source": [
    "# 3. Аналіз даних"
   ]
  },
  {
   "cell_type": "code",
   "execution_count": 832,
   "id": "57e2c835-2854-4ab4-904e-a4fc548a63b7",
   "metadata": {},
   "outputs": [
    {
     "data": {
      "text/html": [
       "<div>\n",
       "<style scoped>\n",
       "    .dataframe tbody tr th:only-of-type {\n",
       "        vertical-align: middle;\n",
       "    }\n",
       "\n",
       "    .dataframe tbody tr th {\n",
       "        vertical-align: top;\n",
       "    }\n",
       "\n",
       "    .dataframe thead th {\n",
       "        text-align: right;\n",
       "    }\n",
       "</style>\n",
       "<table border=\"1\" class=\"dataframe\">\n",
       "  <thead>\n",
       "    <tr style=\"text-align: right;\">\n",
       "      <th></th>\n",
       "      <th>sender_id</th>\n",
       "      <th>platform_id</th>\n",
       "      <th>time_stamp</th>\n",
       "      <th>gender</th>\n",
       "      <th>reg_date</th>\n",
       "    </tr>\n",
       "  </thead>\n",
       "  <tbody>\n",
       "    <tr>\n",
       "      <th>0</th>\n",
       "      <td>3207526951</td>\n",
       "      <td>6</td>\n",
       "      <td>2017-03-16 13:35:00</td>\n",
       "      <td>m</td>\n",
       "      <td>2017-01-26</td>\n",
       "    </tr>\n",
       "    <tr>\n",
       "      <th>1</th>\n",
       "      <td>3207526951</td>\n",
       "      <td>6</td>\n",
       "      <td>2017-03-16 09:09:00</td>\n",
       "      <td>m</td>\n",
       "      <td>2017-01-26</td>\n",
       "    </tr>\n",
       "    <tr>\n",
       "      <th>2</th>\n",
       "      <td>3207526951</td>\n",
       "      <td>6</td>\n",
       "      <td>2017-03-16 09:09:00</td>\n",
       "      <td>m</td>\n",
       "      <td>2017-01-26</td>\n",
       "    </tr>\n",
       "    <tr>\n",
       "      <th>3</th>\n",
       "      <td>3207526951</td>\n",
       "      <td>6</td>\n",
       "      <td>2017-03-16 12:13:00</td>\n",
       "      <td>m</td>\n",
       "      <td>2017-01-26</td>\n",
       "    </tr>\n",
       "    <tr>\n",
       "      <th>4</th>\n",
       "      <td>3207526951</td>\n",
       "      <td>6</td>\n",
       "      <td>2017-03-15 14:01:00</td>\n",
       "      <td>m</td>\n",
       "      <td>2017-01-26</td>\n",
       "    </tr>\n",
       "  </tbody>\n",
       "</table>\n",
       "</div>"
      ],
      "text/plain": [
       "    sender_id  platform_id          time_stamp gender   reg_date\n",
       "0  3207526951            6 2017-03-16 13:35:00      m 2017-01-26\n",
       "1  3207526951            6 2017-03-16 09:09:00      m 2017-01-26\n",
       "2  3207526951            6 2017-03-16 09:09:00      m 2017-01-26\n",
       "3  3207526951            6 2017-03-16 12:13:00      m 2017-01-26\n",
       "4  3207526951            6 2017-03-15 14:01:00      m 2017-01-26"
      ]
     },
     "execution_count": 832,
     "metadata": {},
     "output_type": "execute_result"
    }
   ],
   "source": [
    "df.head()"
   ]
  },
  {
   "cell_type": "code",
   "execution_count": 833,
   "id": "08e805f9-4cf1-4b38-8172-334b9b7315db",
   "metadata": {},
   "outputs": [],
   "source": [
    "df['hour'] = df['time_stamp'].dt.hour"
   ]
  },
  {
   "cell_type": "code",
   "execution_count": 834,
   "id": "70f675da-7e2d-442d-a407-52a0572a6503",
   "metadata": {},
   "outputs": [],
   "source": [
    "def act_distr(df_copy, column, title=''):\n",
    "    one, two = [df_copy[df_copy[column] == i] for i in df_copy[column].unique() if i is not np.nan]\n",
    "\n",
    "    m = one.groupby('hour')['platform_id'].count()\n",
    "    f = two.groupby('hour')['platform_id'].count()\n",
    "    \n",
    "    m_ratio = m / m.sum()\n",
    "    f_ratio = f / f.sum()\n",
    "    \n",
    "    w = 0.3\n",
    "    \n",
    "    plt.bar(x=m.index - w/2, height=m_ratio, width=w, label='m')\n",
    "    plt.bar(x=f.index + w/2, height=f_ratio, width=w, label='f')\n",
    "    \n",
    "    plt.legend()\n",
    "    plt.title(f'Розподіл активності по годинам {title}')\n",
    "    plt.xlabel('години')\n",
    "    \n",
    "    plt.show();"
   ]
  },
  {
   "cell_type": "code",
   "execution_count": 835,
   "id": "6d563740-81fa-40ec-a93b-ec125ff85b25",
   "metadata": {},
   "outputs": [
    {
     "data": {
      "image/png": "[encoded data removed]",
      "text/plain": [
       "<Figure size 640x480 with 1 Axes>"
      ]
     },
     "metadata": {},
     "output_type": "display_data"
    }
   ],
   "source": [
    "df_bef = df[df['time_stamp'] < start_date].copy()\n",
    "act_distr(df_bef, 'gender', 'до тесту')"
   ]
  },
  {
   "cell_type": "code",
   "execution_count": 836,
   "id": "a1d36652-100f-42a5-970f-9c0334e2c231",
   "metadata": {},
   "outputs": [
    {
     "data": {
      "image/png": "[encoded data removed]",
      "text/plain": [
       "<Figure size 640x480 with 1 Axes>"
      ]
     },
     "metadata": {},
     "output_type": "display_data"
    }
   ],
   "source": [
    "df_aft = df[df['time_stamp'] >= start_date].copy()\n",
    "act_distr(df_aft, 'gender', 'після тесту')"
   ]
  },
  {
   "cell_type": "code",
   "execution_count": null,
   "id": "a591493a-4c75-453b-b63e-20422fedc411",
   "metadata": {},
   "outputs": [],
   "source": []
  },
  {
   "cell_type": "markdown",
   "id": "5c66edd9-61c8-4ae7-8231-5d02042be56b",
   "metadata": {},
   "source": [
    "До початку тесту:\n",
    "З 21:00 до 4:00 чоловіки більш активні в додатку, пік активності припадає на 24:00. Жінки активні з 5:00 до 20:00, спостерігаються кілька піків: 6:00, 10:00, 11:00, 15:00, 16:00 та 20:00.\n",
    "\n",
    "Після початку тесту:\n",
    "Розподіл значно змінився, більшість дій перемістилася на другу половину дня, після 15:00. Чоловіки більш активні з 23:00 до 4:00, пік припадає на 23:00. Жінки активні з 7:00 до 11:00 та з 17:00 до 19:00, пік активності спостерігається з 17:00-19:00."
   ]
  },
  {
   "cell_type": "code",
   "execution_count": null,
   "id": "08724032-0fda-4d7c-bfda-6ca8c5c96695",
   "metadata": {},
   "outputs": [],
   "source": []
  },
  {
   "cell_type": "code",
   "execution_count": null,
   "id": "095c1678-7395-4c7d-890f-55e4f9226ffc",
   "metadata": {},
   "outputs": [],
   "source": []
  },
  {
   "cell_type": "code",
   "execution_count": 837,
   "id": "20ae54b6-ea7a-4187-b5eb-90f2150fafed",
   "metadata": {},
   "outputs": [
    {
     "data": {
      "text/plain": [
       "gender  platform_id\n",
       "f       6              0.725942\n",
       "        7              0.274058\n",
       "m       6              0.565039\n",
       "        7              0.434961\n",
       "Name: hour, dtype: float64"
      ]
     },
     "execution_count": 837,
     "metadata": {},
     "output_type": "execute_result"
    }
   ],
   "source": [
    "platform_distr = (df_bef.groupby(['gender', 'platform_id'])['hour'].count() \n",
    "                      / df_bef.groupby(['gender'])['hour'].count())\n",
    "\n",
    "platform_distr"
   ]
  },
  {
   "cell_type": "code",
   "execution_count": 838,
   "id": "a3b44b27-bde6-4809-a181-1b31185e6008",
   "metadata": {},
   "outputs": [
    {
     "data": {
      "text/plain": [
       "<Axes: xlabel='gender,platform_id'>"
      ]
     },
     "execution_count": 838,
     "metadata": {},
     "output_type": "execute_result"
    },
    {
     "data": {
      "image/png": "[encoded data removed]",
      "text/plain": [
       "<Figure size 640x480 with 1 Axes>"
      ]
     },
     "metadata": {},
     "output_type": "display_data"
    }
   ],
   "source": [
    "platform_distr.plot(kind='bar')"
   ]
  },
  {
   "cell_type": "code",
   "execution_count": null,
   "id": "4a6c7f0f-3384-49c3-b62f-9fa29e23dadf",
   "metadata": {},
   "outputs": [],
   "source": []
  },
  {
   "cell_type": "code",
   "execution_count": 839,
   "id": "4396997c-034b-44bd-8002-3899c022aa66",
   "metadata": {},
   "outputs": [
    {
     "data": {
      "text/plain": [
       "gender  platform_id\n",
       "f       6              0.583523\n",
       "        7              0.416477\n",
       "m       6              0.527100\n",
       "        7              0.472900\n",
       "Name: hour, dtype: float64"
      ]
     },
     "execution_count": 839,
     "metadata": {},
     "output_type": "execute_result"
    }
   ],
   "source": [
    "platform_distr = (df_aft.groupby(['gender', 'platform_id'])['hour'].count() \n",
    "                      / df_aft.groupby(['gender'])['hour'].count())\n",
    "\n",
    "platform_distr"
   ]
  },
  {
   "cell_type": "code",
   "execution_count": 840,
   "id": "9cccd9b1-23ed-4e10-a6a7-2c6c7d79e94d",
   "metadata": {},
   "outputs": [
    {
     "data": {
      "text/plain": [
       "<Axes: xlabel='gender,platform_id'>"
      ]
     },
     "execution_count": 840,
     "metadata": {},
     "output_type": "execute_result"
    },
    {
     "data": {
      "image/png": "[encoded data removed]",
      "text/plain": [
       "<Figure size 640x480 with 1 Axes>"
      ]
     },
     "metadata": {},
     "output_type": "display_data"
    }
   ],
   "source": [
    "platform_distr.plot(kind='bar')"
   ]
  },
  {
   "cell_type": "code",
   "execution_count": null,
   "id": "09607533-575c-436f-b0dc-ae8fbdba1d65",
   "metadata": {},
   "outputs": [],
   "source": []
  },
  {
   "cell_type": "markdown",
   "id": "7d3938e1-1c03-40ed-99f6-77276c954c36",
   "metadata": {},
   "source": [
    "У жінок значно знизилася частота використання платформи 6, з 72% до 58%. У чоловіків цей показник змінився менш суттєво, з 56% до 52%"
   ]
  },
  {
   "cell_type": "code",
   "execution_count": null,
   "id": "77d6fa31-eb7e-4fef-857d-10002fb259d1",
   "metadata": {},
   "outputs": [],
   "source": []
  },
  {
   "cell_type": "code",
   "execution_count": 841,
   "id": "26ee12cb-dd54-4f26-9150-4940abbebe00",
   "metadata": {},
   "outputs": [],
   "source": [
    "def number_of_actions(df, column):\n",
    "    num_act = pd.DataFrame(df.groupby('sender_id')['platform_id'].count().reset_index())\n",
    "    num_act.rename(columns={'platform_id': 'number_of_actions'}, inplace=True)\n",
    "\n",
    "    user_index = df.groupby('sender_id')[column].nunique()\n",
    "    user_index = user_index[user_index > 1]\n",
    "\n",
    "    users = df[~df['sender_id'].isin(user_index.index.values)] \\\n",
    "                .groupby('sender_id')[column].agg('first')\n",
    "\n",
    "    num_act = pd.merge(\n",
    "        left=num_act[~num_act['sender_id'].isin(user_index.index.values)],\n",
    "        right=users,\n",
    "        how='inner',\n",
    "        on='sender_id'\n",
    "    )\n",
    "    \n",
    "    return num_act"
   ]
  },
  {
   "cell_type": "code",
   "execution_count": null,
   "id": "656f1dac-2ff9-4fab-ab07-62f1108f04fe",
   "metadata": {},
   "outputs": [],
   "source": []
  },
  {
   "cell_type": "code",
   "execution_count": 842,
   "id": "4788c3f0-bf03-4d02-90f7-cdf94b70a298",
   "metadata": {},
   "outputs": [
    {
     "name": "stderr",
     "output_type": "stream",
     "text": [
      "/home/dkolesov95/anaconda3/lib/python3.12/site-packages/numpy/lib/histograms.py:885: RuntimeWarning: invalid value encountered in divide\n",
      "  return n/db/n.sum(), bin_edges\n"
     ]
    },
    {
     "data": {
      "image/png": "[encoded data removed]",
      "text/plain": [
       "<Figure size 640x480 with 1 Axes>"
      ]
     },
     "metadata": {},
     "output_type": "display_data"
    }
   ],
   "source": [
    "column = 'gender'\n",
    "num_act_bef = number_of_actions(df_bef, column)\n",
    "\n",
    "for i in df_bef[column].unique():\n",
    "    plt.hist(num_act_bef[num_act_bef[column] == i]['number_of_actions'], bins=30, alpha=0.3, label=i, density=True)\n",
    "\n",
    "plt.title('Розподіл кількості дій до тесту')\n",
    "plt.legend()\n",
    "plt.yscale('log')\n",
    "plt.show();"
   ]
  },
  {
   "cell_type": "code",
   "execution_count": 843,
   "id": "58a2f8ba-3b6b-47dc-8633-068669fa0e55",
   "metadata": {},
   "outputs": [
    {
     "data": {
      "text/html": [
       "<div>\n",
       "<style scoped>\n",
       "    .dataframe tbody tr th:only-of-type {\n",
       "        vertical-align: middle;\n",
       "    }\n",
       "\n",
       "    .dataframe tbody tr th {\n",
       "        vertical-align: top;\n",
       "    }\n",
       "\n",
       "    .dataframe thead th {\n",
       "        text-align: right;\n",
       "    }\n",
       "</style>\n",
       "<table border=\"1\" class=\"dataframe\">\n",
       "  <thead>\n",
       "    <tr style=\"text-align: right;\">\n",
       "      <th></th>\n",
       "      <th>count</th>\n",
       "      <th>mean</th>\n",
       "      <th>std</th>\n",
       "      <th>min</th>\n",
       "      <th>25%</th>\n",
       "      <th>50%</th>\n",
       "      <th>75%</th>\n",
       "      <th>max</th>\n",
       "    </tr>\n",
       "    <tr>\n",
       "      <th>gender</th>\n",
       "      <th></th>\n",
       "      <th></th>\n",
       "      <th></th>\n",
       "      <th></th>\n",
       "      <th></th>\n",
       "      <th></th>\n",
       "      <th></th>\n",
       "      <th></th>\n",
       "    </tr>\n",
       "  </thead>\n",
       "  <tbody>\n",
       "    <tr>\n",
       "      <th>f</th>\n",
       "      <td>5558.0</td>\n",
       "      <td>17.027168</td>\n",
       "      <td>82.296316</td>\n",
       "      <td>1.0</td>\n",
       "      <td>2.0</td>\n",
       "      <td>5.0</td>\n",
       "      <td>13.0</td>\n",
       "      <td>2950.0</td>\n",
       "    </tr>\n",
       "    <tr>\n",
       "      <th>m</th>\n",
       "      <td>17464.0</td>\n",
       "      <td>32.408841</td>\n",
       "      <td>124.089962</td>\n",
       "      <td>1.0</td>\n",
       "      <td>2.0</td>\n",
       "      <td>6.0</td>\n",
       "      <td>26.0</td>\n",
       "      <td>4896.0</td>\n",
       "    </tr>\n",
       "  </tbody>\n",
       "</table>\n",
       "</div>"
      ],
      "text/plain": [
       "          count       mean         std  min  25%  50%   75%     max\n",
       "gender                                                             \n",
       "f        5558.0  17.027168   82.296316  1.0  2.0  5.0  13.0  2950.0\n",
       "m       17464.0  32.408841  124.089962  1.0  2.0  6.0  26.0  4896.0"
      ]
     },
     "execution_count": 843,
     "metadata": {},
     "output_type": "execute_result"
    }
   ],
   "source": [
    "num_act_bef.groupby(column)['number_of_actions'].describe()"
   ]
  },
  {
   "cell_type": "code",
   "execution_count": 844,
   "id": "b4fd8cd8-4d17-4cc3-b8ed-bb4df8938da6",
   "metadata": {},
   "outputs": [
    {
     "data": {
      "text/plain": [
       "gender\n",
       "f     53.0\n",
       "m    124.0\n",
       "Name: number_of_actions, dtype: float64"
      ]
     },
     "execution_count": 844,
     "metadata": {},
     "output_type": "execute_result"
    }
   ],
   "source": [
    "num_act_bef.groupby(column)['number_of_actions'].agg(lambda x: np.quantile(x, 0.95))"
   ]
  },
  {
   "cell_type": "code",
   "execution_count": null,
   "id": "12ca4b13-d942-42d8-88f0-936feabc3d0d",
   "metadata": {},
   "outputs": [],
   "source": []
  },
  {
   "cell_type": "code",
   "execution_count": 845,
   "id": "c54e8688-6aee-4bd5-9595-066ae5ce6828",
   "metadata": {},
   "outputs": [
    {
     "name": "stderr",
     "output_type": "stream",
     "text": [
      "/home/dkolesov95/anaconda3/lib/python3.12/site-packages/numpy/lib/histograms.py:885: RuntimeWarning: invalid value encountered in divide\n",
      "  return n/db/n.sum(), bin_edges\n"
     ]
    },
    {
     "data": {
      "image/png": "[encoded data removed]",
      "text/plain": [
       "<Figure size 640x480 with 1 Axes>"
      ]
     },
     "metadata": {},
     "output_type": "display_data"
    }
   ],
   "source": [
    "column = 'gender'\n",
    "num_act_aft = number_of_actions(df_aft, column)\n",
    "\n",
    "for i in df_aft[column].unique():\n",
    "    plt.hist(num_act_aft[num_act_aft[column] == i]['number_of_actions'], bins=30, alpha=0.3, label=i, density=True)\n",
    "\n",
    "plt.title('Розподіл кількості дій після тесту')\n",
    "plt.legend()\n",
    "plt.yscale('log')\n",
    "plt.show();"
   ]
  },
  {
   "cell_type": "code",
   "execution_count": 846,
   "id": "60a24365-9000-4fc2-b10a-c6711c02fe1f",
   "metadata": {},
   "outputs": [
    {
     "data": {
      "text/html": [
       "<div>\n",
       "<style scoped>\n",
       "    .dataframe tbody tr th:only-of-type {\n",
       "        vertical-align: middle;\n",
       "    }\n",
       "\n",
       "    .dataframe tbody tr th {\n",
       "        vertical-align: top;\n",
       "    }\n",
       "\n",
       "    .dataframe thead th {\n",
       "        text-align: right;\n",
       "    }\n",
       "</style>\n",
       "<table border=\"1\" class=\"dataframe\">\n",
       "  <thead>\n",
       "    <tr style=\"text-align: right;\">\n",
       "      <th></th>\n",
       "      <th>count</th>\n",
       "      <th>mean</th>\n",
       "      <th>std</th>\n",
       "      <th>min</th>\n",
       "      <th>25%</th>\n",
       "      <th>50%</th>\n",
       "      <th>75%</th>\n",
       "      <th>max</th>\n",
       "    </tr>\n",
       "    <tr>\n",
       "      <th>gender</th>\n",
       "      <th></th>\n",
       "      <th></th>\n",
       "      <th></th>\n",
       "      <th></th>\n",
       "      <th></th>\n",
       "      <th></th>\n",
       "      <th></th>\n",
       "      <th></th>\n",
       "    </tr>\n",
       "  </thead>\n",
       "  <tbody>\n",
       "    <tr>\n",
       "      <th>f</th>\n",
       "      <td>1650.0</td>\n",
       "      <td>8.511515</td>\n",
       "      <td>16.304454</td>\n",
       "      <td>1.0</td>\n",
       "      <td>1.0</td>\n",
       "      <td>4.0</td>\n",
       "      <td>8.0</td>\n",
       "      <td>281.0</td>\n",
       "    </tr>\n",
       "    <tr>\n",
       "      <th>m</th>\n",
       "      <td>5681.0</td>\n",
       "      <td>16.462771</td>\n",
       "      <td>40.781288</td>\n",
       "      <td>1.0</td>\n",
       "      <td>2.0</td>\n",
       "      <td>5.0</td>\n",
       "      <td>18.0</td>\n",
       "      <td>1154.0</td>\n",
       "    </tr>\n",
       "  </tbody>\n",
       "</table>\n",
       "</div>"
      ],
      "text/plain": [
       "         count       mean        std  min  25%  50%   75%     max\n",
       "gender                                                           \n",
       "f       1650.0   8.511515  16.304454  1.0  1.0  4.0   8.0   281.0\n",
       "m       5681.0  16.462771  40.781288  1.0  2.0  5.0  18.0  1154.0"
      ]
     },
     "execution_count": 846,
     "metadata": {},
     "output_type": "execute_result"
    }
   ],
   "source": [
    "num_act_aft.groupby(column)['number_of_actions'].describe()"
   ]
  },
  {
   "cell_type": "code",
   "execution_count": 847,
   "id": "9d5d4f2e-6e97-483b-a3fa-8e6a22941ba4",
   "metadata": {},
   "outputs": [
    {
     "data": {
      "text/plain": [
       "gender\n",
       "f    35.0\n",
       "m    59.0\n",
       "Name: number_of_actions, dtype: float64"
      ]
     },
     "execution_count": 847,
     "metadata": {},
     "output_type": "execute_result"
    }
   ],
   "source": [
    "num_act_aft.groupby(column)['number_of_actions'].agg(lambda x: np.quantile(x, 0.95))"
   ]
  },
  {
   "cell_type": "code",
   "execution_count": null,
   "id": "596b01ac-f563-4122-94ec-c0faeb587f2e",
   "metadata": {},
   "outputs": [],
   "source": []
  },
  {
   "cell_type": "markdown",
   "id": "708840af-497b-4c09-875c-c667ff0a4fe0",
   "metadata": {},
   "source": [
    "До тесту:\n",
    "В середньому чоловіки здійснюють в два рази більше дій, ніж жінки: 32 проти 17. Це співвідношення зберігається і збільшується на квантилях: 75% - 26 проти 13, 95% - 124 проти 53.\n",
    "\n",
    "Після тесту:\n",
    "Після тесту статистика погіршилася в два рази. Середні показники для чоловіків і жінок становлять 16 проти 8. За квантилями: 75% - 18 проти 8, 95% - 59 проти 35."
   ]
  },
  {
   "cell_type": "code",
   "execution_count": null,
   "id": "291ee754-7107-4ee5-a256-6603f4d38423",
   "metadata": {},
   "outputs": [],
   "source": []
  },
  {
   "cell_type": "code",
   "execution_count": 848,
   "id": "c2513106-f21c-4332-a569-f22e84a5dbd8",
   "metadata": {},
   "outputs": [
    {
     "data": {
      "image/png": "[encoded data removed]",
      "text/plain": [
       "<Figure size 640x480 with 1 Axes>"
      ]
     },
     "metadata": {},
     "output_type": "display_data"
    }
   ],
   "source": [
    "df_aft['group'] = df_aft['sender_id'].apply(lambda x: 'control' if x % 2 == 0 else 'treatment')\n",
    "\n",
    "column = 'group'\n",
    "num_act_aft = number_of_actions(df_aft, column)\n",
    "\n",
    "for i in df_aft[column].unique():\n",
    "    plt.hist(num_act_aft[num_act_aft[column] == i]['number_of_actions'], bins=30, alpha=0.3, label=i, density=True)\n",
    "\n",
    "plt.title('Розподіл кількості дій після тесту')\n",
    "plt.legend()\n",
    "plt.yscale('log')\n",
    "plt.show();"
   ]
  },
  {
   "cell_type": "code",
   "execution_count": 849,
   "id": "7a1aebb2-9d96-4435-9878-2b876014000f",
   "metadata": {},
   "outputs": [
    {
     "data": {
      "text/html": [
       "<div>\n",
       "<style scoped>\n",
       "    .dataframe tbody tr th:only-of-type {\n",
       "        vertical-align: middle;\n",
       "    }\n",
       "\n",
       "    .dataframe tbody tr th {\n",
       "        vertical-align: top;\n",
       "    }\n",
       "\n",
       "    .dataframe thead th {\n",
       "        text-align: right;\n",
       "    }\n",
       "</style>\n",
       "<table border=\"1\" class=\"dataframe\">\n",
       "  <thead>\n",
       "    <tr style=\"text-align: right;\">\n",
       "      <th></th>\n",
       "      <th>count</th>\n",
       "      <th>mean</th>\n",
       "      <th>std</th>\n",
       "      <th>min</th>\n",
       "      <th>25%</th>\n",
       "      <th>50%</th>\n",
       "      <th>75%</th>\n",
       "      <th>max</th>\n",
       "    </tr>\n",
       "    <tr>\n",
       "      <th>group</th>\n",
       "      <th></th>\n",
       "      <th></th>\n",
       "      <th></th>\n",
       "      <th></th>\n",
       "      <th></th>\n",
       "      <th></th>\n",
       "      <th></th>\n",
       "      <th></th>\n",
       "    </tr>\n",
       "  </thead>\n",
       "  <tbody>\n",
       "    <tr>\n",
       "      <th>control</th>\n",
       "      <td>3726.0</td>\n",
       "      <td>15.466452</td>\n",
       "      <td>44.782857</td>\n",
       "      <td>1.0</td>\n",
       "      <td>2.0</td>\n",
       "      <td>5.0</td>\n",
       "      <td>15.0</td>\n",
       "      <td>1154.0</td>\n",
       "    </tr>\n",
       "    <tr>\n",
       "      <th>treatment</th>\n",
       "      <td>3607.0</td>\n",
       "      <td>13.851955</td>\n",
       "      <td>26.280121</td>\n",
       "      <td>1.0</td>\n",
       "      <td>1.0</td>\n",
       "      <td>5.0</td>\n",
       "      <td>16.0</td>\n",
       "      <td>402.0</td>\n",
       "    </tr>\n",
       "  </tbody>\n",
       "</table>\n",
       "</div>"
      ],
      "text/plain": [
       "            count       mean        std  min  25%  50%   75%     max\n",
       "group                                                               \n",
       "control    3726.0  15.466452  44.782857  1.0  2.0  5.0  15.0  1154.0\n",
       "treatment  3607.0  13.851955  26.280121  1.0  1.0  5.0  16.0   402.0"
      ]
     },
     "execution_count": 849,
     "metadata": {},
     "output_type": "execute_result"
    }
   ],
   "source": [
    "num_act_aft.groupby(column)['number_of_actions'].describe()"
   ]
  },
  {
   "cell_type": "code",
   "execution_count": 850,
   "id": "9e26c0a1-f23e-4913-b57b-dc3c54f5a277",
   "metadata": {},
   "outputs": [
    {
     "data": {
      "text/plain": [
       "group\n",
       "control      55.0\n",
       "treatment    54.7\n",
       "Name: number_of_actions, dtype: float64"
      ]
     },
     "execution_count": 850,
     "metadata": {},
     "output_type": "execute_result"
    }
   ],
   "source": [
    "num_act_aft.groupby(column)['number_of_actions'].agg(lambda x: np.quantile(x, 0.95))"
   ]
  },
  {
   "cell_type": "code",
   "execution_count": 851,
   "id": "d6b11885-38c4-460c-93eb-b20132daf450",
   "metadata": {},
   "outputs": [
    {
     "data": {
      "text/plain": [
       "group\n",
       "control      141.75\n",
       "treatment    112.94\n",
       "Name: number_of_actions, dtype: float64"
      ]
     },
     "execution_count": 851,
     "metadata": {},
     "output_type": "execute_result"
    }
   ],
   "source": [
    "num_act_aft.groupby(column)['number_of_actions'].agg(lambda x: np.quantile(x, 0.99))"
   ]
  },
  {
   "cell_type": "code",
   "execution_count": 852,
   "id": "a3dec422-db80-4da3-8247-0930a930c246",
   "metadata": {},
   "outputs": [
    {
     "data": {
      "text/html": [
       "<div>\n",
       "<style scoped>\n",
       "    .dataframe tbody tr th:only-of-type {\n",
       "        vertical-align: middle;\n",
       "    }\n",
       "\n",
       "    .dataframe tbody tr th {\n",
       "        vertical-align: top;\n",
       "    }\n",
       "\n",
       "    .dataframe thead th {\n",
       "        text-align: right;\n",
       "    }\n",
       "</style>\n",
       "<table border=\"1\" class=\"dataframe\">\n",
       "  <thead>\n",
       "    <tr style=\"text-align: right;\">\n",
       "      <th></th>\n",
       "      <th>sender_id</th>\n",
       "      <th>number_of_actions</th>\n",
       "      <th>group</th>\n",
       "    </tr>\n",
       "  </thead>\n",
       "  <tbody>\n",
       "    <tr>\n",
       "      <th>16</th>\n",
       "      <td>3202057642</td>\n",
       "      <td>1131</td>\n",
       "      <td>control</td>\n",
       "    </tr>\n",
       "    <tr>\n",
       "      <th>300</th>\n",
       "      <td>3203188184</td>\n",
       "      <td>564</td>\n",
       "      <td>control</td>\n",
       "    </tr>\n",
       "    <tr>\n",
       "      <th>538</th>\n",
       "      <td>3204297224</td>\n",
       "      <td>1007</td>\n",
       "      <td>control</td>\n",
       "    </tr>\n",
       "    <tr>\n",
       "      <th>543</th>\n",
       "      <td>3204314070</td>\n",
       "      <td>1154</td>\n",
       "      <td>control</td>\n",
       "    </tr>\n",
       "  </tbody>\n",
       "</table>\n",
       "</div>"
      ],
      "text/plain": [
       "      sender_id  number_of_actions    group\n",
       "16   3202057642               1131  control\n",
       "300  3203188184                564  control\n",
       "538  3204297224               1007  control\n",
       "543  3204314070               1154  control"
      ]
     },
     "execution_count": 852,
     "metadata": {},
     "output_type": "execute_result"
    }
   ],
   "source": [
    "df_copy = num_act_aft[num_act_aft['group'] == 'control'].copy()\n",
    "q = np.quantile(df_copy['number_of_actions'], 0.999)\n",
    "\n",
    "q999_outlier_control_group = np.quantile(df_copy['number_of_actions'], 0.999)\n",
    "\n",
    "df_copy[df_copy['number_of_actions'] >= q]"
   ]
  },
  {
   "cell_type": "code",
   "execution_count": 853,
   "id": "da6f84e9-2e2d-43ca-afeb-9fb0d90d0448",
   "metadata": {},
   "outputs": [
    {
     "data": {
      "text/html": [
       "<div>\n",
       "<style scoped>\n",
       "    .dataframe tbody tr th:only-of-type {\n",
       "        vertical-align: middle;\n",
       "    }\n",
       "\n",
       "    .dataframe tbody tr th {\n",
       "        vertical-align: top;\n",
       "    }\n",
       "\n",
       "    .dataframe thead th {\n",
       "        text-align: right;\n",
       "    }\n",
       "</style>\n",
       "<table border=\"1\" class=\"dataframe\">\n",
       "  <thead>\n",
       "    <tr style=\"text-align: right;\">\n",
       "      <th></th>\n",
       "      <th>sender_id</th>\n",
       "      <th>number_of_actions</th>\n",
       "      <th>group</th>\n",
       "    </tr>\n",
       "  </thead>\n",
       "  <tbody>\n",
       "    <tr>\n",
       "      <th>1698</th>\n",
       "      <td>3209547095</td>\n",
       "      <td>308</td>\n",
       "      <td>treatment</td>\n",
       "    </tr>\n",
       "    <tr>\n",
       "      <th>1799</th>\n",
       "      <td>3209914479</td>\n",
       "      <td>402</td>\n",
       "      <td>treatment</td>\n",
       "    </tr>\n",
       "    <tr>\n",
       "      <th>2961</th>\n",
       "      <td>3214070377</td>\n",
       "      <td>326</td>\n",
       "      <td>treatment</td>\n",
       "    </tr>\n",
       "    <tr>\n",
       "      <th>4281</th>\n",
       "      <td>3217001283</td>\n",
       "      <td>324</td>\n",
       "      <td>treatment</td>\n",
       "    </tr>\n",
       "  </tbody>\n",
       "</table>\n",
       "</div>"
      ],
      "text/plain": [
       "       sender_id  number_of_actions      group\n",
       "1698  3209547095                308  treatment\n",
       "1799  3209914479                402  treatment\n",
       "2961  3214070377                326  treatment\n",
       "4281  3217001283                324  treatment"
      ]
     },
     "execution_count": 853,
     "metadata": {},
     "output_type": "execute_result"
    }
   ],
   "source": [
    "df_copy = num_act_aft[num_act_aft['group'] == 'treatment'].copy()\n",
    "q = np.quantile(df_copy['number_of_actions'], 0.999)\n",
    "\n",
    "q999_outlier_treat_group = np.quantile(df_copy['number_of_actions'], 0.999)\n",
    "\n",
    "df_copy[df_copy['number_of_actions'] >= q]"
   ]
  },
  {
   "cell_type": "code",
   "execution_count": null,
   "id": "4882c507-8060-4cb3-83fe-23da65887606",
   "metadata": {},
   "outputs": [],
   "source": []
  },
  {
   "cell_type": "markdown",
   "id": "2fad0ae5-1cdc-4eb6-bedb-f4341d2b58e2",
   "metadata": {},
   "source": [
    "Середні значення по контрольній та тестовій групах приблизно рівні: 15.5 проти 13.9. За квантилями: 75% - 15 проти 16, 95% - 55 проти 54.7, 99% — 141 проти 113. Починаючи з 99% квантиля, контрольна група починає показувати викиди, які можуть вплинути на результати тесту. Максимальні значення по групах: 1154 проти 402."
   ]
  },
  {
   "cell_type": "code",
   "execution_count": null,
   "id": "b573e59d-e2b6-476e-b44d-51c6ca15166c",
   "metadata": {},
   "outputs": [],
   "source": []
  },
  {
   "cell_type": "code",
   "execution_count": 854,
   "id": "2236e666-249e-4870-b67d-9a0a7d5b8cd7",
   "metadata": {},
   "outputs": [
    {
     "data": {
      "image/png": "[encoded data removed]",
      "text/plain": [
       "<Figure size 640x480 with 1 Axes>"
      ]
     },
     "metadata": {},
     "output_type": "display_data"
    },
    {
     "data": {
      "image/png": "[encoded data removed]",
      "text/plain": [
       "<Figure size 640x480 with 1 Axes>"
      ]
     },
     "metadata": {},
     "output_type": "display_data"
    }
   ],
   "source": [
    "num_act_aft_gen = number_of_actions(df_aft, 'gender')\n",
    "num_act_aft_gro = number_of_actions(df_aft, 'group')\n",
    "\n",
    "num_act_aft = pd.merge(\n",
    "    left=num_act_aft_gen,\n",
    "    right=num_act_aft_gro,\n",
    "    how='inner',\n",
    "    on='sender_id'\n",
    ")\n",
    "\n",
    "for i in ['m', 'f']:\n",
    "    for g in ['control', 'treatment']:\n",
    "        plt.hist(num_act_aft[(num_act_aft['gender'] == i) & (num_act_aft['group'] == g)]['number_of_actions_x'], \\\n",
    "                 bins=30, alpha=0.3, label=f'{i}_{g}', density=True)\n",
    "\n",
    "    plt.title('Розподіл кількості дій після тесту')\n",
    "    plt.legend()\n",
    "    plt.yscale('log')\n",
    "    plt.show();"
   ]
  },
  {
   "cell_type": "code",
   "execution_count": 855,
   "id": "4af62e9d-994f-4ea2-acf1-3d216d1580cd",
   "metadata": {},
   "outputs": [
    {
     "data": {
      "text/html": [
       "<div>\n",
       "<style scoped>\n",
       "    .dataframe tbody tr th:only-of-type {\n",
       "        vertical-align: middle;\n",
       "    }\n",
       "\n",
       "    .dataframe tbody tr th {\n",
       "        vertical-align: top;\n",
       "    }\n",
       "\n",
       "    .dataframe thead th {\n",
       "        text-align: right;\n",
       "    }\n",
       "</style>\n",
       "<table border=\"1\" class=\"dataframe\">\n",
       "  <thead>\n",
       "    <tr style=\"text-align: right;\">\n",
       "      <th></th>\n",
       "      <th></th>\n",
       "      <th>count</th>\n",
       "      <th>mean</th>\n",
       "      <th>std</th>\n",
       "      <th>min</th>\n",
       "      <th>25%</th>\n",
       "      <th>50%</th>\n",
       "      <th>75%</th>\n",
       "      <th>max</th>\n",
       "    </tr>\n",
       "    <tr>\n",
       "      <th>gender</th>\n",
       "      <th>group</th>\n",
       "      <th></th>\n",
       "      <th></th>\n",
       "      <th></th>\n",
       "      <th></th>\n",
       "      <th></th>\n",
       "      <th></th>\n",
       "      <th></th>\n",
       "      <th></th>\n",
       "    </tr>\n",
       "  </thead>\n",
       "  <tbody>\n",
       "    <tr>\n",
       "      <th rowspan=\"2\" valign=\"top\">f</th>\n",
       "      <th>control</th>\n",
       "      <td>856.0</td>\n",
       "      <td>8.268692</td>\n",
       "      <td>15.807031</td>\n",
       "      <td>1.0</td>\n",
       "      <td>1.0</td>\n",
       "      <td>3.0</td>\n",
       "      <td>8.0</td>\n",
       "      <td>193.0</td>\n",
       "    </tr>\n",
       "    <tr>\n",
       "      <th>treatment</th>\n",
       "      <td>794.0</td>\n",
       "      <td>8.773300</td>\n",
       "      <td>16.830330</td>\n",
       "      <td>1.0</td>\n",
       "      <td>1.0</td>\n",
       "      <td>4.0</td>\n",
       "      <td>9.0</td>\n",
       "      <td>281.0</td>\n",
       "    </tr>\n",
       "    <tr>\n",
       "      <th rowspan=\"2\" valign=\"top\">m</th>\n",
       "      <th>control</th>\n",
       "      <td>2870.0</td>\n",
       "      <td>17.613240</td>\n",
       "      <td>50.093314</td>\n",
       "      <td>1.0</td>\n",
       "      <td>2.0</td>\n",
       "      <td>6.0</td>\n",
       "      <td>18.0</td>\n",
       "      <td>1154.0</td>\n",
       "    </tr>\n",
       "    <tr>\n",
       "      <th>treatment</th>\n",
       "      <td>2811.0</td>\n",
       "      <td>15.288154</td>\n",
       "      <td>28.230814</td>\n",
       "      <td>1.0</td>\n",
       "      <td>1.5</td>\n",
       "      <td>5.0</td>\n",
       "      <td>18.0</td>\n",
       "      <td>402.0</td>\n",
       "    </tr>\n",
       "  </tbody>\n",
       "</table>\n",
       "</div>"
      ],
      "text/plain": [
       "                   count       mean        std  min  25%  50%   75%     max\n",
       "gender group                                                               \n",
       "f      control     856.0   8.268692  15.807031  1.0  1.0  3.0   8.0   193.0\n",
       "       treatment   794.0   8.773300  16.830330  1.0  1.0  4.0   9.0   281.0\n",
       "m      control    2870.0  17.613240  50.093314  1.0  2.0  6.0  18.0  1154.0\n",
       "       treatment  2811.0  15.288154  28.230814  1.0  1.5  5.0  18.0   402.0"
      ]
     },
     "execution_count": 855,
     "metadata": {},
     "output_type": "execute_result"
    }
   ],
   "source": [
    "num_act_aft.groupby(['gender', 'group'])['number_of_actions_x'].describe()"
   ]
  },
  {
   "cell_type": "code",
   "execution_count": null,
   "id": "799edb7b-46f2-4be3-9fda-d327a420b3ae",
   "metadata": {},
   "outputs": [],
   "source": []
  },
  {
   "cell_type": "code",
   "execution_count": null,
   "id": "273243f1-9a5a-4b4a-be8a-3bbc9f23e27d",
   "metadata": {},
   "outputs": [],
   "source": []
  },
  {
   "cell_type": "markdown",
   "id": "fad36110-0042-41d5-900f-571d2c6b8c2f",
   "metadata": {},
   "source": [
    "# 4. Аналіз АБ тесту"
   ]
  },
  {
   "cell_type": "code",
   "execution_count": null,
   "id": "ac03b0d9-7d9f-4c8c-a7d7-931aab5731ba",
   "metadata": {},
   "outputs": [],
   "source": []
  },
  {
   "cell_type": "code",
   "execution_count": 856,
   "id": "40007c15-73dc-49dd-bd07-efe8907a698e",
   "metadata": {},
   "outputs": [
    {
     "data": {
      "text/plain": [
       "((7333, 3),\n",
       "     sender_id  number_of_actions      group\n",
       " 0  3201946084                  3    control\n",
       " 1  3201948046                 21    control\n",
       " 2  3201948762                  7    control\n",
       " 3  3201960265                  2  treatment\n",
       " 4  3201991474                 16    control)"
      ]
     },
     "execution_count": 856,
     "metadata": {},
     "output_type": "execute_result"
    }
   ],
   "source": [
    "num_act_aft = number_of_actions(df_aft, 'group')\n",
    "num_act_aft.shape, num_act_aft.head()"
   ]
  },
  {
   "cell_type": "code",
   "execution_count": null,
   "id": "68685396-dc1e-4096-bce9-bbaceab2c6b1",
   "metadata": {},
   "outputs": [],
   "source": []
  },
  {
   "cell_type": "code",
   "execution_count": 857,
   "id": "21e07331-0b16-41ac-a57e-4430747e2d05",
   "metadata": {},
   "outputs": [
    {
     "data": {
      "text/plain": [
       "(532.100000000004, 297.6979999999962)"
      ]
     },
     "execution_count": 857,
     "metadata": {},
     "output_type": "execute_result"
    }
   ],
   "source": [
    "q999_outlier_control_group, q999_outlier_treat_group"
   ]
  },
  {
   "cell_type": "code",
   "execution_count": 858,
   "id": "0d6de319-0ddc-4790-ba88-6488050698c1",
   "metadata": {},
   "outputs": [
    {
     "data": {
      "text/plain": [
       "(4, 4)"
      ]
     },
     "execution_count": 858,
     "metadata": {},
     "output_type": "execute_result"
    }
   ],
   "source": [
    "outliers_control_index = num_act_aft[(num_act_aft['group'] == 'control') & (num_act_aft['number_of_actions'] > q999_outlier_control_group)].index\n",
    "outliers_treat_index = num_act_aft[(num_act_aft['group'] == 'treatment') & (num_act_aft['number_of_actions'] > q999_outlier_treat_group)].index\n",
    "\n",
    "outliers = np.concatenate((outliers_control_index.values, outliers_treat_index.values))\n",
    "\n",
    "len(outliers_control_index), len(outliers_treat_index)"
   ]
  },
  {
   "cell_type": "code",
   "execution_count": null,
   "id": "6a2e9f4f-8306-4150-bf53-4db3fc3e0f23",
   "metadata": {},
   "outputs": [],
   "source": []
  },
  {
   "cell_type": "code",
   "execution_count": 859,
   "id": "db074d78-b977-410d-b3fc-0a458718c548",
   "metadata": {},
   "outputs": [],
   "source": [
    "num_act_aft = num_act_aft.drop(num_act_aft.index[outliers])"
   ]
  },
  {
   "cell_type": "code",
   "execution_count": 860,
   "id": "148623e5-5e01-46f7-8d78-88097d493374",
   "metadata": {},
   "outputs": [
    {
     "data": {
      "text/html": [
       "<div>\n",
       "<style scoped>\n",
       "    .dataframe tbody tr th:only-of-type {\n",
       "        vertical-align: middle;\n",
       "    }\n",
       "\n",
       "    .dataframe tbody tr th {\n",
       "        vertical-align: top;\n",
       "    }\n",
       "\n",
       "    .dataframe thead th {\n",
       "        text-align: right;\n",
       "    }\n",
       "</style>\n",
       "<table border=\"1\" class=\"dataframe\">\n",
       "  <thead>\n",
       "    <tr style=\"text-align: right;\">\n",
       "      <th>group</th>\n",
       "      <th>control</th>\n",
       "      <th>treatment</th>\n",
       "    </tr>\n",
       "  </thead>\n",
       "  <tbody>\n",
       "    <tr>\n",
       "      <th>count</th>\n",
       "      <td>3722.000000</td>\n",
       "      <td>3603.000000</td>\n",
       "    </tr>\n",
       "    <tr>\n",
       "      <th>mean</th>\n",
       "      <td>14.447071</td>\n",
       "      <td>13.489870</td>\n",
       "    </tr>\n",
       "    <tr>\n",
       "      <th>std</th>\n",
       "      <td>31.285003</td>\n",
       "      <td>23.909778</td>\n",
       "    </tr>\n",
       "    <tr>\n",
       "      <th>min</th>\n",
       "      <td>1.000000</td>\n",
       "      <td>1.000000</td>\n",
       "    </tr>\n",
       "    <tr>\n",
       "      <th>25%</th>\n",
       "      <td>2.000000</td>\n",
       "      <td>1.000000</td>\n",
       "    </tr>\n",
       "    <tr>\n",
       "      <th>50%</th>\n",
       "      <td>5.000000</td>\n",
       "      <td>5.000000</td>\n",
       "    </tr>\n",
       "    <tr>\n",
       "      <th>75%</th>\n",
       "      <td>15.000000</td>\n",
       "      <td>16.000000</td>\n",
       "    </tr>\n",
       "    <tr>\n",
       "      <th>max</th>\n",
       "      <td>520.000000</td>\n",
       "      <td>291.000000</td>\n",
       "    </tr>\n",
       "  </tbody>\n",
       "</table>\n",
       "</div>"
      ],
      "text/plain": [
       "group      control    treatment\n",
       "count  3722.000000  3603.000000\n",
       "mean     14.447071    13.489870\n",
       "std      31.285003    23.909778\n",
       "min       1.000000     1.000000\n",
       "25%       2.000000     1.000000\n",
       "50%       5.000000     5.000000\n",
       "75%      15.000000    16.000000\n",
       "max     520.000000   291.000000"
      ]
     },
     "execution_count": 860,
     "metadata": {},
     "output_type": "execute_result"
    }
   ],
   "source": [
    "num_act_aft.groupby('group')['number_of_actions'].describe().T"
   ]
  },
  {
   "cell_type": "code",
   "execution_count": null,
   "id": "fe4164cc-2be1-41ee-9726-ec0a9e617b87",
   "metadata": {},
   "outputs": [],
   "source": []
  },
  {
   "cell_type": "markdown",
   "id": "3ab20c68-071d-4da8-b9a2-78f5c30c7674",
   "metadata": {},
   "source": [
    "На проекті, де користувач може відправити лайк іншому користувачу, для збільшення кількості відправлених лайків провели тест на заміну іконки на кнопці з серця на галочку.  При нажатті на хрестик користувача пропонується наступний користувач. Тестовий варіант запустили на користувачів з непарним sender_id 24 березня о 16:00, на парних користувачах залишили базовий варіант.\n",
    "\n",
    "    H0: Заміна іконки з серця на галочку на кнопці для відправлення лайків не впливає на кількість відправлених лайків користувачами.\n",
    "    H1: Заміна іконки з серця на галочку на кнопці для відправлення лайків збільшить кількість відправлених лайків користувачами."
   ]
  },
  {
   "cell_type": "code",
   "execution_count": 861,
   "id": "668f7428-f4f8-47b6-b555-9b579f43b768",
   "metadata": {},
   "outputs": [
    {
     "name": "stdout",
     "output_type": "stream",
     "text": [
      "Кількість користувачів контрольної группи 3722, сгенерували 53772 дій.\n",
      "Кількість користувачів тестової группи 3603, сгенерували 48604 дій. \n",
      "\n",
      "pvalue 0.14 > 0.05. Не відхиляємо нульову гіпотезу.\n"
     ]
    }
   ],
   "source": [
    "control = num_act_aft[num_act_aft['group'] == 'control']['number_of_actions']\n",
    "treatment = num_act_aft[num_act_aft['group'] == 'treatment']['number_of_actions']\n",
    "\n",
    "print(f'Кількість користувачів контрольної группи {control.shape[0]}, сгенерували {control.sum()} дій.')\n",
    "print(f'Кількість користувачів тестової группи {treatment.shape[0]}, сгенерували {treatment.sum()} дій. \\n')\n",
    "\n",
    "alpha = 0.05\n",
    "tstat, pval = stats.ttest_ind(control, treatment)\n",
    "\n",
    "if pval < alpha:\n",
    "    print(f'pvalue {pval:.2f} < {alpha}. Відхиляємо нульову гіпотезу.')\n",
    "else:\n",
    "    print(f'pvalue {pval:.2f} > {alpha}. Не відхиляємо нульову гіпотезу.')"
   ]
  },
  {
   "cell_type": "code",
   "execution_count": null,
   "id": "ecea5538-f665-404f-a2d6-acb4f0e24d5e",
   "metadata": {},
   "outputs": [],
   "source": []
  },
  {
   "cell_type": "code",
   "execution_count": null,
   "id": "6d6e5a88-61ac-4cdc-9506-5d86815fe374",
   "metadata": {},
   "outputs": [],
   "source": []
  },
  {
   "cell_type": "markdown",
   "id": "b83f4ea4-3289-4798-83cf-44b160529a82",
   "metadata": {},
   "source": [
    "# Висновки\n",
    "\n",
    "1. У датасеті виявлено помилки, такі як неправильний формат стовпців `time_stamp` та `reg_date`, наявність дублікатів і пропущені значення в стовпці `gender`.\n",
    "\n",
    "2. Усього у стовпці `gender` зафіксовано 171 пропуск, з яких 148 з’явилися до початку тесту, а 23 — після. Всі вони належать трьом користувачам, які зареєструвалися в один день. Це може свідчити про технічну помилку або особливості реєстрації цих користувачів.\n",
    "\n",
    "3. Оскільки користувачі можуть ставити десятки лайків і дизлайків на хвилину, всі такі рядки позначаються як дублікати.\n",
    "\n",
    "4. Активність користувачів до і після тесту:\n",
    "    - до тесту чоловіки були активні переважно з 21:00 до 4:00 (пік о 24:00), а жінки — з 5:00 до 20:00 (з кількома піками о 6:00, 10:00, 11:00, 15:00, 16:00 та 20:00)\n",
    "    - **після запуску тесту розподіл активності змінився**: більшість дій почали виконуватися у другій половині дня, після 15:00. Чоловіки стали найактивнішими з 23:00 до 4:00 (пік о 23:00), а жінки — з 7:00 до 11:00 та 17:00 до 19:00 (пік 17:00-19:00)\n",
    "\n",
    "5. **Частота використання платформи:**\n",
    "    - після тесту у жінок частота використання платформи (`platform_id`) 6 суттєво знизилася — з 72% до 58%. У чоловіків падіння менш значне — з 56% до 52%.\n",
    "\n",
    "6. Кількість дій до і після тесту:\n",
    "    - до тесту чоловіки в середньому здійснювали вдвічі більше дій, ніж жінки (32 проти 17). Це співвідношення зберігалося і збільшувалося на більш високих квантилях\n",
    "    - **після тесту загальна активність значно впала**: середні значення зменшилися вдвічі (16 проти 8), а також скоротилися значення за квантилями\n",
    "\n",
    "7. Порівняння контрольної та тестової груп. Середні значення по контрольній та тестовій групах залишилися приблизно рівними (15,5 проти 13,9). Проте, починаючи з 99%-го квантиля, контрольна група демонструє значні викиди, які можуть вплинути на результати тесту. Максимальні значення у контрольній групі значно перевищують тестову (1154 проти 402).\n",
    "\n",
    "8. Перевірка гіпотез:\n",
    "    - нульова гіпотеза (H0) стверджує, що заміна іконки лайка не впливає на кількість відправлених лайків\n",
    "    - альтернативна гіпотеза (H1) передбачає, що така зміна збільшить кількість лайків\n",
    "\n",
    "За результатами тесту:\n",
    "- контрольна група (3722 користувачі) здійснила 53772 дії (14.4 на користувача)\n",
    "- тестова група (3603 користувачі) здійснила 48604 дії (13.5 на користувача)\n",
    "- **p-value = 0.14 > 0.05, що означає, що немає статистично значущих відмінностей між групами**\n",
    "\n",
    "Таким чином заміна іконки не призвела до збільшення кількості лайків."
   ]
  },
  {
   "cell_type": "code",
   "execution_count": null,
   "id": "d035aaf1-c657-4594-b39e-9a6a4e12f0e1",
   "metadata": {},
   "outputs": [],
   "source": []
  },
  {
   "cell_type": "code",
   "execution_count": null,
   "id": "7b7f9617-9f43-46b2-9958-ab1a503a4f21",
   "metadata": {},
   "outputs": [],
   "source": []
  },
  {
   "cell_type": "code",
   "execution_count": null,
   "id": "265bc9ea-516d-4a32-8589-d5dc179780e0",
   "metadata": {},
   "outputs": [],
   "source": []
  },
  {
   "cell_type": "code",
   "execution_count": null,
   "id": "ef57dff6-96db-4772-bbb3-c8d06c6e7c91",
   "metadata": {},
   "outputs": [],
   "source": []
  }
 ],
 "metadata": {
  "kernelspec": {
   "display_name": "Python 3 (ipykernel)",
   "language": "python",
   "name": "python3"
  },
  "language_info": {
   "codemirror_mode": {
    "name": "ipython",
    "version": 3
   },
   "file_extension": ".py",
   "mimetype": "text/x-python",
   "name": "python",
   "nbconvert_exporter": "python",
   "pygments_lexer": "ipython3",
   "version": "3.12.2"
  }
 },
 "nbformat": 4,
 "nbformat_minor": 5
}
