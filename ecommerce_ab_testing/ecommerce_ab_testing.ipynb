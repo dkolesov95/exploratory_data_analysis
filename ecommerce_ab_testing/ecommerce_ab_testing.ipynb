{
 "cells": [
  {
   "cell_type": "markdown",
   "id": "692a4ce5-47d1-4c40-be06-a7747e1b625d",
   "metadata": {},
   "source": [
    "A/B тест проводиться інтернет-магазином для перевірки ефективності нової веб-сторінки, метою якої є збільшення кількості користувачів, які здійснюють покупку. Завдання полягає в аналізі результатів тесту, щоб зрозуміти, чи варто впроваджувати нову сторінку або залишити стару, \n",
    "\n",
    "План дій:\n",
    "- Огляд даних\n",
    "- Предобробка даних\n",
    "- Аналіз даних\n",
    "- Аналіз A/B тесту\n",
    "- Висновки\n",
    "\n",
    "Доступні дані:\n",
    "- user_id: унікальний ідентифікатор користувача\n",
    "- timestamp час перебування на сайті\n",
    "- group група, до якої належить користувач (контрольна або тестова група)\n",
    "- landing_page тип сторінки, яку побачив користувач (нова або стара сторінка)\n",
    "- converted індикатор, що показує, чи здійснив користувач покупку (1 — здійснив покупку, 0 — не здійснив)"
   ]
  },
  {
   "cell_type": "code",
   "execution_count": 357,
   "id": "73374543-19f2-4490-b218-29611ecc9cf8",
   "metadata": {},
   "outputs": [],
   "source": [
    "import warnings\n",
    "warnings.filterwarnings('ignore')\n",
    "\n",
    "import pandas as pd\n",
    "import numpy as np\n",
    "import matplotlib.pyplot as plt\n",
    "import seaborn as sns\n",
    "\n",
    "from statsmodels.stats.proportion import proportions_ztest"
   ]
  },
  {
   "cell_type": "code",
   "execution_count": 234,
   "id": "f95c822f-e2ad-4599-afa7-bf712a25ac3a",
   "metadata": {},
   "outputs": [
    {
     "name": "stdout",
     "output_type": "stream",
     "text": [
      "Untitled.ipynb\tab_data.csv  countries.csv\n"
     ]
    }
   ],
   "source": [
    "!ls"
   ]
  },
  {
   "cell_type": "code",
   "execution_count": 235,
   "id": "796f0140-2c28-4561-bcda-bdb0c0335ed9",
   "metadata": {},
   "outputs": [],
   "source": [
    "ab = pd.read_csv('ab_data.csv')\n",
    "country = pd.read_csv('countries.csv')"
   ]
  },
  {
   "cell_type": "code",
   "execution_count": null,
   "id": "5417a447-d7f2-4648-ba35-5a3fb11822a0",
   "metadata": {},
   "outputs": [],
   "source": []
  },
  {
   "cell_type": "markdown",
   "id": "4033821f-9df0-438e-a3f2-63dd0590c7be",
   "metadata": {},
   "source": [
    "# Огляд даних"
   ]
  },
  {
   "cell_type": "code",
   "execution_count": 236,
   "id": "9fb0aee7-0dab-4119-b0ff-74acdb7a557a",
   "metadata": {},
   "outputs": [
    {
     "data": {
      "text/plain": [
       "((294480, 5), (290586, 2))"
      ]
     },
     "execution_count": 236,
     "metadata": {},
     "output_type": "execute_result"
    }
   ],
   "source": [
    "ab.shape, country.shape"
   ]
  },
  {
   "cell_type": "code",
   "execution_count": 237,
   "id": "8e4f5eff-8f37-4a60-9fde-b0dfc7678906",
   "metadata": {},
   "outputs": [
    {
     "data": {
      "text/html": [
       "<div>\n",
       "<style scoped>\n",
       "    .dataframe tbody tr th:only-of-type {\n",
       "        vertical-align: middle;\n",
       "    }\n",
       "\n",
       "    .dataframe tbody tr th {\n",
       "        vertical-align: top;\n",
       "    }\n",
       "\n",
       "    .dataframe thead th {\n",
       "        text-align: right;\n",
       "    }\n",
       "</style>\n",
       "<table border=\"1\" class=\"dataframe\">\n",
       "  <thead>\n",
       "    <tr style=\"text-align: right;\">\n",
       "      <th></th>\n",
       "      <th>user_id</th>\n",
       "      <th>timestamp</th>\n",
       "      <th>group</th>\n",
       "      <th>landing_page</th>\n",
       "      <th>converted</th>\n",
       "    </tr>\n",
       "  </thead>\n",
       "  <tbody>\n",
       "    <tr>\n",
       "      <th>0</th>\n",
       "      <td>851104</td>\n",
       "      <td>11:48.6</td>\n",
       "      <td>control</td>\n",
       "      <td>old_page</td>\n",
       "      <td>0</td>\n",
       "    </tr>\n",
       "    <tr>\n",
       "      <th>1</th>\n",
       "      <td>804228</td>\n",
       "      <td>01:45.2</td>\n",
       "      <td>control</td>\n",
       "      <td>old_page</td>\n",
       "      <td>0</td>\n",
       "    </tr>\n",
       "    <tr>\n",
       "      <th>2</th>\n",
       "      <td>661590</td>\n",
       "      <td>55:06.2</td>\n",
       "      <td>treatment</td>\n",
       "      <td>new_page</td>\n",
       "      <td>0</td>\n",
       "    </tr>\n",
       "    <tr>\n",
       "      <th>3</th>\n",
       "      <td>853541</td>\n",
       "      <td>28:03.1</td>\n",
       "      <td>treatment</td>\n",
       "      <td>new_page</td>\n",
       "      <td>0</td>\n",
       "    </tr>\n",
       "    <tr>\n",
       "      <th>4</th>\n",
       "      <td>864975</td>\n",
       "      <td>52:26.2</td>\n",
       "      <td>control</td>\n",
       "      <td>old_page</td>\n",
       "      <td>1</td>\n",
       "    </tr>\n",
       "  </tbody>\n",
       "</table>\n",
       "</div>"
      ],
      "text/plain": [
       "   user_id timestamp      group landing_page  converted\n",
       "0   851104   11:48.6    control     old_page          0\n",
       "1   804228   01:45.2    control     old_page          0\n",
       "2   661590   55:06.2  treatment     new_page          0\n",
       "3   853541   28:03.1  treatment     new_page          0\n",
       "4   864975   52:26.2    control     old_page          1"
      ]
     },
     "execution_count": 237,
     "metadata": {},
     "output_type": "execute_result"
    }
   ],
   "source": [
    "ab.head()"
   ]
  },
  {
   "cell_type": "code",
   "execution_count": 238,
   "id": "0abf5d83-f8d3-4b1a-9049-6184784af871",
   "metadata": {},
   "outputs": [
    {
     "data": {
      "text/html": [
       "<div>\n",
       "<style scoped>\n",
       "    .dataframe tbody tr th:only-of-type {\n",
       "        vertical-align: middle;\n",
       "    }\n",
       "\n",
       "    .dataframe tbody tr th {\n",
       "        vertical-align: top;\n",
       "    }\n",
       "\n",
       "    .dataframe thead th {\n",
       "        text-align: right;\n",
       "    }\n",
       "</style>\n",
       "<table border=\"1\" class=\"dataframe\">\n",
       "  <thead>\n",
       "    <tr style=\"text-align: right;\">\n",
       "      <th></th>\n",
       "      <th>user_id</th>\n",
       "      <th>country</th>\n",
       "    </tr>\n",
       "  </thead>\n",
       "  <tbody>\n",
       "    <tr>\n",
       "      <th>0</th>\n",
       "      <td>834778</td>\n",
       "      <td>UK</td>\n",
       "    </tr>\n",
       "    <tr>\n",
       "      <th>1</th>\n",
       "      <td>928468</td>\n",
       "      <td>US</td>\n",
       "    </tr>\n",
       "    <tr>\n",
       "      <th>2</th>\n",
       "      <td>822059</td>\n",
       "      <td>UK</td>\n",
       "    </tr>\n",
       "    <tr>\n",
       "      <th>3</th>\n",
       "      <td>711597</td>\n",
       "      <td>UK</td>\n",
       "    </tr>\n",
       "    <tr>\n",
       "      <th>4</th>\n",
       "      <td>710616</td>\n",
       "      <td>UK</td>\n",
       "    </tr>\n",
       "  </tbody>\n",
       "</table>\n",
       "</div>"
      ],
      "text/plain": [
       "   user_id country\n",
       "0   834778      UK\n",
       "1   928468      US\n",
       "2   822059      UK\n",
       "3   711597      UK\n",
       "4   710616      UK"
      ]
     },
     "execution_count": 238,
     "metadata": {},
     "output_type": "execute_result"
    }
   ],
   "source": [
    "country.head()"
   ]
  },
  {
   "cell_type": "code",
   "execution_count": 239,
   "id": "8a19fbc3-650c-41fb-911f-c79e3cec2492",
   "metadata": {},
   "outputs": [],
   "source": [
    "df = ab.merge(country, on='user_id', how='left', suffixes=('', '_r'))"
   ]
  },
  {
   "cell_type": "code",
   "execution_count": 240,
   "id": "29dcae76-0426-4690-ae5a-7f43a7dd4331",
   "metadata": {},
   "outputs": [
    {
     "data": {
      "text/html": [
       "<div>\n",
       "<style scoped>\n",
       "    .dataframe tbody tr th:only-of-type {\n",
       "        vertical-align: middle;\n",
       "    }\n",
       "\n",
       "    .dataframe tbody tr th {\n",
       "        vertical-align: top;\n",
       "    }\n",
       "\n",
       "    .dataframe thead th {\n",
       "        text-align: right;\n",
       "    }\n",
       "</style>\n",
       "<table border=\"1\" class=\"dataframe\">\n",
       "  <thead>\n",
       "    <tr style=\"text-align: right;\">\n",
       "      <th></th>\n",
       "      <th>user_id</th>\n",
       "      <th>timestamp</th>\n",
       "      <th>group</th>\n",
       "      <th>landing_page</th>\n",
       "      <th>converted</th>\n",
       "      <th>country</th>\n",
       "    </tr>\n",
       "  </thead>\n",
       "  <tbody>\n",
       "    <tr>\n",
       "      <th>0</th>\n",
       "      <td>851104</td>\n",
       "      <td>11:48.6</td>\n",
       "      <td>control</td>\n",
       "      <td>old_page</td>\n",
       "      <td>0</td>\n",
       "      <td>US</td>\n",
       "    </tr>\n",
       "    <tr>\n",
       "      <th>1</th>\n",
       "      <td>804228</td>\n",
       "      <td>01:45.2</td>\n",
       "      <td>control</td>\n",
       "      <td>old_page</td>\n",
       "      <td>0</td>\n",
       "      <td>US</td>\n",
       "    </tr>\n",
       "    <tr>\n",
       "      <th>2</th>\n",
       "      <td>661590</td>\n",
       "      <td>55:06.2</td>\n",
       "      <td>treatment</td>\n",
       "      <td>new_page</td>\n",
       "      <td>0</td>\n",
       "      <td>US</td>\n",
       "    </tr>\n",
       "    <tr>\n",
       "      <th>3</th>\n",
       "      <td>853541</td>\n",
       "      <td>28:03.1</td>\n",
       "      <td>treatment</td>\n",
       "      <td>new_page</td>\n",
       "      <td>0</td>\n",
       "      <td>US</td>\n",
       "    </tr>\n",
       "    <tr>\n",
       "      <th>4</th>\n",
       "      <td>864975</td>\n",
       "      <td>52:26.2</td>\n",
       "      <td>control</td>\n",
       "      <td>old_page</td>\n",
       "      <td>1</td>\n",
       "      <td>US</td>\n",
       "    </tr>\n",
       "  </tbody>\n",
       "</table>\n",
       "</div>"
      ],
      "text/plain": [
       "   user_id timestamp      group landing_page  converted country\n",
       "0   851104   11:48.6    control     old_page          0      US\n",
       "1   804228   01:45.2    control     old_page          0      US\n",
       "2   661590   55:06.2  treatment     new_page          0      US\n",
       "3   853541   28:03.1  treatment     new_page          0      US\n",
       "4   864975   52:26.2    control     old_page          1      US"
      ]
     },
     "execution_count": 240,
     "metadata": {},
     "output_type": "execute_result"
    }
   ],
   "source": [
    "df.head()"
   ]
  },
  {
   "cell_type": "code",
   "execution_count": 241,
   "id": "eecb6583-dbc3-48c2-b007-86d6f4c1726c",
   "metadata": {},
   "outputs": [
    {
     "name": "stdout",
     "output_type": "stream",
     "text": [
      "<class 'pandas.core.frame.DataFrame'>\n",
      "RangeIndex: 294482 entries, 0 to 294481\n",
      "Data columns (total 6 columns):\n",
      " #   Column        Non-Null Count   Dtype \n",
      "---  ------        --------------   ----- \n",
      " 0   user_id       294482 non-null  int64 \n",
      " 1   timestamp     294482 non-null  object\n",
      " 2   group         294482 non-null  object\n",
      " 3   landing_page  294482 non-null  object\n",
      " 4   converted     294482 non-null  int64 \n",
      " 5   country       294482 non-null  object\n",
      "dtypes: int64(2), object(4)\n",
      "memory usage: 13.5+ MB\n"
     ]
    }
   ],
   "source": [
    "df.info()"
   ]
  },
  {
   "cell_type": "code",
   "execution_count": 242,
   "id": "14caaa02-7bb7-4bbe-a97b-4eb5e598b3c6",
   "metadata": {},
   "outputs": [
    {
     "data": {
      "text/plain": [
       "(3895, 1)"
      ]
     },
     "execution_count": 242,
     "metadata": {},
     "output_type": "execute_result"
    }
   ],
   "source": [
    "ab['user_id'].duplicated().sum(), country['user_id'].duplicated().sum()"
   ]
  },
  {
   "cell_type": "code",
   "execution_count": 243,
   "id": "48fc145f-25d1-4883-b2fa-72e8159d2d7e",
   "metadata": {},
   "outputs": [
    {
     "data": {
      "text/plain": [
       "294481"
      ]
     },
     "execution_count": 243,
     "metadata": {},
     "output_type": "execute_result"
    }
   ],
   "source": [
    "country.shape[0] + ab['user_id'].duplicated().sum()"
   ]
  },
  {
   "cell_type": "code",
   "execution_count": 244,
   "id": "42cdc35f-1bfa-4fd9-a28f-3e5170c487fb",
   "metadata": {},
   "outputs": [
    {
     "data": {
      "text/plain": [
       "(294482, 6)"
      ]
     },
     "execution_count": 244,
     "metadata": {},
     "output_type": "execute_result"
    }
   ],
   "source": [
    "df.shape"
   ]
  },
  {
   "cell_type": "code",
   "execution_count": null,
   "id": "596d1c1e-5684-4b64-a35a-0a52d26aa944",
   "metadata": {},
   "outputs": [],
   "source": []
  },
  {
   "cell_type": "code",
   "execution_count": null,
   "id": "c07e0461-71ed-4084-997f-f57ac9baaa3c",
   "metadata": {},
   "outputs": [],
   "source": []
  },
  {
   "cell_type": "markdown",
   "id": "bd359365-bcca-457b-a247-792085f5b7f6",
   "metadata": {},
   "source": [
    "# Предобробка даних"
   ]
  },
  {
   "cell_type": "code",
   "execution_count": 245,
   "id": "77caa7bc-9642-4e1b-b528-1da577720052",
   "metadata": {},
   "outputs": [],
   "source": [
    "def timestamp(x):\n",
    "    minn, sec = x.split('.')[0].split(':')\n",
    "    minn, sec = x.split(':')\n",
    "    return int(minn) * 60 + round(float(sec))"
   ]
  },
  {
   "cell_type": "code",
   "execution_count": 246,
   "id": "d4154ad1-e283-4730-b8a4-15e461f2ab41",
   "metadata": {},
   "outputs": [],
   "source": [
    "df['timestamp_s'] = df['timestamp'].apply(lambda x: timestamp(x))"
   ]
  },
  {
   "cell_type": "code",
   "execution_count": 247,
   "id": "cf5e4097-8099-4b68-8bb2-2e74022a3f19",
   "metadata": {},
   "outputs": [
    {
     "data": {
      "text/html": [
       "<div>\n",
       "<style scoped>\n",
       "    .dataframe tbody tr th:only-of-type {\n",
       "        vertical-align: middle;\n",
       "    }\n",
       "\n",
       "    .dataframe tbody tr th {\n",
       "        vertical-align: top;\n",
       "    }\n",
       "\n",
       "    .dataframe thead th {\n",
       "        text-align: right;\n",
       "    }\n",
       "</style>\n",
       "<table border=\"1\" class=\"dataframe\">\n",
       "  <thead>\n",
       "    <tr style=\"text-align: right;\">\n",
       "      <th></th>\n",
       "      <th>user_id</th>\n",
       "      <th>timestamp</th>\n",
       "      <th>group</th>\n",
       "      <th>landing_page</th>\n",
       "      <th>converted</th>\n",
       "      <th>country</th>\n",
       "      <th>timestamp_s</th>\n",
       "    </tr>\n",
       "  </thead>\n",
       "  <tbody>\n",
       "    <tr>\n",
       "      <th>0</th>\n",
       "      <td>851104</td>\n",
       "      <td>11:48.6</td>\n",
       "      <td>control</td>\n",
       "      <td>old_page</td>\n",
       "      <td>0</td>\n",
       "      <td>US</td>\n",
       "      <td>709</td>\n",
       "    </tr>\n",
       "    <tr>\n",
       "      <th>1</th>\n",
       "      <td>804228</td>\n",
       "      <td>01:45.2</td>\n",
       "      <td>control</td>\n",
       "      <td>old_page</td>\n",
       "      <td>0</td>\n",
       "      <td>US</td>\n",
       "      <td>105</td>\n",
       "    </tr>\n",
       "    <tr>\n",
       "      <th>2</th>\n",
       "      <td>661590</td>\n",
       "      <td>55:06.2</td>\n",
       "      <td>treatment</td>\n",
       "      <td>new_page</td>\n",
       "      <td>0</td>\n",
       "      <td>US</td>\n",
       "      <td>3306</td>\n",
       "    </tr>\n",
       "    <tr>\n",
       "      <th>3</th>\n",
       "      <td>853541</td>\n",
       "      <td>28:03.1</td>\n",
       "      <td>treatment</td>\n",
       "      <td>new_page</td>\n",
       "      <td>0</td>\n",
       "      <td>US</td>\n",
       "      <td>1683</td>\n",
       "    </tr>\n",
       "    <tr>\n",
       "      <th>4</th>\n",
       "      <td>864975</td>\n",
       "      <td>52:26.2</td>\n",
       "      <td>control</td>\n",
       "      <td>old_page</td>\n",
       "      <td>1</td>\n",
       "      <td>US</td>\n",
       "      <td>3146</td>\n",
       "    </tr>\n",
       "  </tbody>\n",
       "</table>\n",
       "</div>"
      ],
      "text/plain": [
       "   user_id timestamp      group landing_page  converted country  timestamp_s\n",
       "0   851104   11:48.6    control     old_page          0      US          709\n",
       "1   804228   01:45.2    control     old_page          0      US          105\n",
       "2   661590   55:06.2  treatment     new_page          0      US         3306\n",
       "3   853541   28:03.1  treatment     new_page          0      US         1683\n",
       "4   864975   52:26.2    control     old_page          1      US         3146"
      ]
     },
     "execution_count": 247,
     "metadata": {},
     "output_type": "execute_result"
    }
   ],
   "source": [
    "df.head()"
   ]
  },
  {
   "cell_type": "code",
   "execution_count": null,
   "id": "85d03362-1958-4b40-bbe4-460b9c4ac2e2",
   "metadata": {},
   "outputs": [],
   "source": []
  },
  {
   "cell_type": "code",
   "execution_count": 248,
   "id": "b3b61b9e-cf72-47a4-9bf3-c353b279ebdd",
   "metadata": {},
   "outputs": [],
   "source": [
    "nunique = df.groupby('user_id')['group'].nunique()\n",
    "duplicated = nunique[nunique > 1].sort_values(ascending=False)"
   ]
  },
  {
   "cell_type": "code",
   "execution_count": 249,
   "id": "a6e46f46-11f0-4cd6-ba89-0d26dfca410f",
   "metadata": {},
   "outputs": [
    {
     "data": {
      "text/html": [
       "<div>\n",
       "<style scoped>\n",
       "    .dataframe tbody tr th:only-of-type {\n",
       "        vertical-align: middle;\n",
       "    }\n",
       "\n",
       "    .dataframe tbody tr th {\n",
       "        vertical-align: top;\n",
       "    }\n",
       "\n",
       "    .dataframe thead th {\n",
       "        text-align: right;\n",
       "    }\n",
       "</style>\n",
       "<table border=\"1\" class=\"dataframe\">\n",
       "  <thead>\n",
       "    <tr style=\"text-align: right;\">\n",
       "      <th></th>\n",
       "      <th>user_id</th>\n",
       "      <th>timestamp</th>\n",
       "      <th>group</th>\n",
       "      <th>landing_page</th>\n",
       "      <th>converted</th>\n",
       "      <th>country</th>\n",
       "      <th>timestamp_s</th>\n",
       "    </tr>\n",
       "  </thead>\n",
       "  <tbody>\n",
       "    <tr>\n",
       "      <th>207211</th>\n",
       "      <td>630320</td>\n",
       "      <td>02:43.6</td>\n",
       "      <td>control</td>\n",
       "      <td>old_page</td>\n",
       "      <td>0</td>\n",
       "      <td>US</td>\n",
       "      <td>164</td>\n",
       "    </tr>\n",
       "    <tr>\n",
       "      <th>255754</th>\n",
       "      <td>630320</td>\n",
       "      <td>27:37.2</td>\n",
       "      <td>treatment</td>\n",
       "      <td>old_page</td>\n",
       "      <td>0</td>\n",
       "      <td>US</td>\n",
       "      <td>1657</td>\n",
       "    </tr>\n",
       "    <tr>\n",
       "      <th>39852</th>\n",
       "      <td>630805</td>\n",
       "      <td>01:15.1</td>\n",
       "      <td>control</td>\n",
       "      <td>old_page</td>\n",
       "      <td>0</td>\n",
       "      <td>UK</td>\n",
       "      <td>75</td>\n",
       "    </tr>\n",
       "    <tr>\n",
       "      <th>73599</th>\n",
       "      <td>630805</td>\n",
       "      <td>45:39.0</td>\n",
       "      <td>treatment</td>\n",
       "      <td>old_page</td>\n",
       "      <td>0</td>\n",
       "      <td>UK</td>\n",
       "      <td>2739</td>\n",
       "    </tr>\n",
       "    <tr>\n",
       "      <th>213377</th>\n",
       "      <td>630871</td>\n",
       "      <td>00:05.2</td>\n",
       "      <td>control</td>\n",
       "      <td>old_page</td>\n",
       "      <td>0</td>\n",
       "      <td>US</td>\n",
       "      <td>5</td>\n",
       "    </tr>\n",
       "    <tr>\n",
       "      <th>18596</th>\n",
       "      <td>630871</td>\n",
       "      <td>23:01.3</td>\n",
       "      <td>treatment</td>\n",
       "      <td>old_page</td>\n",
       "      <td>0</td>\n",
       "      <td>US</td>\n",
       "      <td>1381</td>\n",
       "    </tr>\n",
       "    <tr>\n",
       "      <th>28177</th>\n",
       "      <td>630887</td>\n",
       "      <td>34:14.4</td>\n",
       "      <td>control</td>\n",
       "      <td>new_page</td>\n",
       "      <td>0</td>\n",
       "      <td>US</td>\n",
       "      <td>2054</td>\n",
       "    </tr>\n",
       "    <tr>\n",
       "      <th>114320</th>\n",
       "      <td>630887</td>\n",
       "      <td>23:47.4</td>\n",
       "      <td>treatment</td>\n",
       "      <td>new_page</td>\n",
       "      <td>0</td>\n",
       "      <td>US</td>\n",
       "      <td>1427</td>\n",
       "    </tr>\n",
       "    <tr>\n",
       "      <th>113635</th>\n",
       "      <td>631008</td>\n",
       "      <td>07:48.1</td>\n",
       "      <td>treatment</td>\n",
       "      <td>old_page</td>\n",
       "      <td>0</td>\n",
       "      <td>US</td>\n",
       "      <td>468</td>\n",
       "    </tr>\n",
       "    <tr>\n",
       "      <th>137766</th>\n",
       "      <td>631008</td>\n",
       "      <td>52:17.1</td>\n",
       "      <td>control</td>\n",
       "      <td>old_page</td>\n",
       "      <td>0</td>\n",
       "      <td>US</td>\n",
       "      <td>3137</td>\n",
       "    </tr>\n",
       "    <tr>\n",
       "      <th>172909</th>\n",
       "      <td>631337</td>\n",
       "      <td>23:55.6</td>\n",
       "      <td>control</td>\n",
       "      <td>old_page</td>\n",
       "      <td>0</td>\n",
       "      <td>US</td>\n",
       "      <td>1436</td>\n",
       "    </tr>\n",
       "    <tr>\n",
       "      <th>249184</th>\n",
       "      <td>631337</td>\n",
       "      <td>23:44.4</td>\n",
       "      <td>treatment</td>\n",
       "      <td>old_page</td>\n",
       "      <td>0</td>\n",
       "      <td>US</td>\n",
       "      <td>1424</td>\n",
       "    </tr>\n",
       "    <tr>\n",
       "      <th>208722</th>\n",
       "      <td>631459</td>\n",
       "      <td>08:10.7</td>\n",
       "      <td>treatment</td>\n",
       "      <td>old_page</td>\n",
       "      <td>0</td>\n",
       "      <td>CA</td>\n",
       "      <td>491</td>\n",
       "    </tr>\n",
       "    <tr>\n",
       "      <th>222600</th>\n",
       "      <td>631459</td>\n",
       "      <td>03:57.4</td>\n",
       "      <td>control</td>\n",
       "      <td>old_page</td>\n",
       "      <td>0</td>\n",
       "      <td>CA</td>\n",
       "      <td>237</td>\n",
       "    </tr>\n",
       "    <tr>\n",
       "      <th>39018</th>\n",
       "      <td>631838</td>\n",
       "      <td>50:53.0</td>\n",
       "      <td>control</td>\n",
       "      <td>new_page</td>\n",
       "      <td>0</td>\n",
       "      <td>US</td>\n",
       "      <td>3053</td>\n",
       "    </tr>\n",
       "    <tr>\n",
       "      <th>145226</th>\n",
       "      <td>631838</td>\n",
       "      <td>39:04.1</td>\n",
       "      <td>treatment</td>\n",
       "      <td>new_page</td>\n",
       "      <td>0</td>\n",
       "      <td>US</td>\n",
       "      <td>2344</td>\n",
       "    </tr>\n",
       "    <tr>\n",
       "      <th>124063</th>\n",
       "      <td>632069</td>\n",
       "      <td>07:04.3</td>\n",
       "      <td>control</td>\n",
       "      <td>old_page</td>\n",
       "      <td>0</td>\n",
       "      <td>UK</td>\n",
       "      <td>424</td>\n",
       "    </tr>\n",
       "    <tr>\n",
       "      <th>86225</th>\n",
       "      <td>632069</td>\n",
       "      <td>51:12.9</td>\n",
       "      <td>treatment</td>\n",
       "      <td>old_page</td>\n",
       "      <td>0</td>\n",
       "      <td>UK</td>\n",
       "      <td>3073</td>\n",
       "    </tr>\n",
       "    <tr>\n",
       "      <th>158345</th>\n",
       "      <td>632464</td>\n",
       "      <td>07:56.4</td>\n",
       "      <td>control</td>\n",
       "      <td>new_page</td>\n",
       "      <td>0</td>\n",
       "      <td>UK</td>\n",
       "      <td>476</td>\n",
       "    </tr>\n",
       "    <tr>\n",
       "      <th>121799</th>\n",
       "      <td>632464</td>\n",
       "      <td>41:54.2</td>\n",
       "      <td>treatment</td>\n",
       "      <td>new_page</td>\n",
       "      <td>0</td>\n",
       "      <td>UK</td>\n",
       "      <td>2514</td>\n",
       "    </tr>\n",
       "  </tbody>\n",
       "</table>\n",
       "</div>"
      ],
      "text/plain": [
       "        user_id timestamp      group landing_page  converted country  \\\n",
       "207211   630320   02:43.6    control     old_page          0      US   \n",
       "255754   630320   27:37.2  treatment     old_page          0      US   \n",
       "39852    630805   01:15.1    control     old_page          0      UK   \n",
       "73599    630805   45:39.0  treatment     old_page          0      UK   \n",
       "213377   630871   00:05.2    control     old_page          0      US   \n",
       "18596    630871   23:01.3  treatment     old_page          0      US   \n",
       "28177    630887   34:14.4    control     new_page          0      US   \n",
       "114320   630887   23:47.4  treatment     new_page          0      US   \n",
       "113635   631008   07:48.1  treatment     old_page          0      US   \n",
       "137766   631008   52:17.1    control     old_page          0      US   \n",
       "172909   631337   23:55.6    control     old_page          0      US   \n",
       "249184   631337   23:44.4  treatment     old_page          0      US   \n",
       "208722   631459   08:10.7  treatment     old_page          0      CA   \n",
       "222600   631459   03:57.4    control     old_page          0      CA   \n",
       "39018    631838   50:53.0    control     new_page          0      US   \n",
       "145226   631838   39:04.1  treatment     new_page          0      US   \n",
       "124063   632069   07:04.3    control     old_page          0      UK   \n",
       "86225    632069   51:12.9  treatment     old_page          0      UK   \n",
       "158345   632464   07:56.4    control     new_page          0      UK   \n",
       "121799   632464   41:54.2  treatment     new_page          0      UK   \n",
       "\n",
       "        timestamp_s  \n",
       "207211          164  \n",
       "255754         1657  \n",
       "39852            75  \n",
       "73599          2739  \n",
       "213377            5  \n",
       "18596          1381  \n",
       "28177          2054  \n",
       "114320         1427  \n",
       "113635          468  \n",
       "137766         3137  \n",
       "172909         1436  \n",
       "249184         1424  \n",
       "208722          491  \n",
       "222600          237  \n",
       "39018          3053  \n",
       "145226         2344  \n",
       "124063          424  \n",
       "86225          3073  \n",
       "158345          476  \n",
       "121799         2514  "
      ]
     },
     "execution_count": 249,
     "metadata": {},
     "output_type": "execute_result"
    }
   ],
   "source": [
    "df[df['user_id'].isin(duplicated.index)].sort_values(by='user_id').head(20)"
   ]
  },
  {
   "cell_type": "code",
   "execution_count": 250,
   "id": "fe0e491b-c48a-4092-b0dd-d72479e4dff4",
   "metadata": {},
   "outputs": [
    {
     "data": {
      "text/plain": [
       "group      landing_page\n",
       "control    new_page          1928\n",
       "           old_page        145274\n",
       "treatment  new_page        145315\n",
       "           old_page          1965\n",
       "Name: converted, dtype: int64"
      ]
     },
     "execution_count": 250,
     "metadata": {},
     "output_type": "execute_result"
    }
   ],
   "source": [
    "df.groupby(['group', 'landing_page'])['converted'].count()"
   ]
  },
  {
   "cell_type": "code",
   "execution_count": null,
   "id": "a4be1f29-4f9f-46d7-98e6-2637473c44c6",
   "metadata": {},
   "outputs": [],
   "source": []
  },
  {
   "cell_type": "markdown",
   "id": "bf6a1538-522e-45b8-ac9b-7a0a359e27d6",
   "metadata": {},
   "source": [
    "**Сталася помилка: контрольна група 1007 разів бачила нову сторінку, а тестова група – 991 раз стару сторінку. Ці дані потрібно видалити.**"
   ]
  },
  {
   "cell_type": "code",
   "execution_count": 251,
   "id": "fc259615-0430-4842-926f-9355d400fb54",
   "metadata": {},
   "outputs": [
    {
     "data": {
      "text/plain": [
       "((1928, 7), (1965, 7))"
      ]
     },
     "execution_count": 251,
     "metadata": {},
     "output_type": "execute_result"
    }
   ],
   "source": [
    "control_new_page = df[(df['group'] == 'control') & (df['landing_page'] == 'new_page')]\n",
    "treatment_old_page = df[(df['group'] == 'treatment') & (df['landing_page'] == 'old_page')]\n",
    "\n",
    "control_new_page.shape, treatment_old_page.shape"
   ]
  },
  {
   "cell_type": "code",
   "execution_count": 252,
   "id": "617d077d-15f7-44d9-bef0-118e75ae5786",
   "metadata": {},
   "outputs": [],
   "source": [
    "drop_index = np.concatenate([control_new_page.index.values, treatment_old_page.index.values])\n",
    "df = df.drop(index=drop_index)"
   ]
  },
  {
   "cell_type": "code",
   "execution_count": 253,
   "id": "de2dd814-8f69-4547-85f2-6e26e2778038",
   "metadata": {},
   "outputs": [
    {
     "data": {
      "text/plain": [
       "group      landing_page\n",
       "control    old_page        145274\n",
       "treatment  new_page        145315\n",
       "Name: converted, dtype: int64"
      ]
     },
     "execution_count": 253,
     "metadata": {},
     "output_type": "execute_result"
    }
   ],
   "source": [
    "df.groupby(['group', 'landing_page'])['converted'].count()"
   ]
  },
  {
   "cell_type": "code",
   "execution_count": null,
   "id": "3cefe4d0-5698-478d-923a-9028c6476ce1",
   "metadata": {},
   "outputs": [],
   "source": []
  },
  {
   "cell_type": "code",
   "execution_count": null,
   "id": "a5369f4b-7aa2-4439-982a-ba22026f13c5",
   "metadata": {},
   "outputs": [],
   "source": []
  },
  {
   "cell_type": "code",
   "execution_count": 254,
   "id": "661846ee-9c3f-4176-b9e2-b687817f95ca",
   "metadata": {},
   "outputs": [],
   "source": [
    "nunique = df.groupby('user_id')['group'].nunique()\n",
    "duplicated = nunique[nunique > 1].sort_values(ascending=False)"
   ]
  },
  {
   "cell_type": "code",
   "execution_count": 255,
   "id": "5998fb04-e549-41e7-b76c-b0eb58cd40e4",
   "metadata": {},
   "outputs": [
    {
     "data": {
      "text/html": [
       "<div>\n",
       "<style scoped>\n",
       "    .dataframe tbody tr th:only-of-type {\n",
       "        vertical-align: middle;\n",
       "    }\n",
       "\n",
       "    .dataframe tbody tr th {\n",
       "        vertical-align: top;\n",
       "    }\n",
       "\n",
       "    .dataframe thead th {\n",
       "        text-align: right;\n",
       "    }\n",
       "</style>\n",
       "<table border=\"1\" class=\"dataframe\">\n",
       "  <thead>\n",
       "    <tr style=\"text-align: right;\">\n",
       "      <th></th>\n",
       "      <th>user_id</th>\n",
       "      <th>timestamp</th>\n",
       "      <th>group</th>\n",
       "      <th>landing_page</th>\n",
       "      <th>converted</th>\n",
       "      <th>country</th>\n",
       "      <th>timestamp_s</th>\n",
       "    </tr>\n",
       "  </thead>\n",
       "  <tbody>\n",
       "  </tbody>\n",
       "</table>\n",
       "</div>"
      ],
      "text/plain": [
       "Empty DataFrame\n",
       "Columns: [user_id, timestamp, group, landing_page, converted, country, timestamp_s]\n",
       "Index: []"
      ]
     },
     "execution_count": 255,
     "metadata": {},
     "output_type": "execute_result"
    }
   ],
   "source": [
    "df[df['user_id'].isin(duplicated.index)].sort_values(by='user_id').head(20)"
   ]
  },
  {
   "cell_type": "code",
   "execution_count": null,
   "id": "1d2a9803-e50d-4242-8645-f2eb77f253a6",
   "metadata": {},
   "outputs": [],
   "source": []
  },
  {
   "cell_type": "code",
   "execution_count": 267,
   "id": "31c35f25-7e26-448f-b006-896ab1784236",
   "metadata": {},
   "outputs": [
    {
     "data": {
      "text/plain": [
       "6"
      ]
     },
     "execution_count": 267,
     "metadata": {},
     "output_type": "execute_result"
    }
   ],
   "source": [
    "df['user_id'].duplicated(keep=False).sum()"
   ]
  },
  {
   "cell_type": "code",
   "execution_count": 273,
   "id": "61e3a087-99fb-4186-8e8d-9823a1de7906",
   "metadata": {},
   "outputs": [
    {
     "data": {
      "text/html": [
       "<div>\n",
       "<style scoped>\n",
       "    .dataframe tbody tr th:only-of-type {\n",
       "        vertical-align: middle;\n",
       "    }\n",
       "\n",
       "    .dataframe tbody tr th {\n",
       "        vertical-align: top;\n",
       "    }\n",
       "\n",
       "    .dataframe thead th {\n",
       "        text-align: right;\n",
       "    }\n",
       "</style>\n",
       "<table border=\"1\" class=\"dataframe\">\n",
       "  <thead>\n",
       "    <tr style=\"text-align: right;\">\n",
       "      <th></th>\n",
       "      <th>user_id</th>\n",
       "      <th>timestamp</th>\n",
       "      <th>group</th>\n",
       "      <th>landing_page</th>\n",
       "      <th>converted</th>\n",
       "      <th>country</th>\n",
       "      <th>timestamp_s</th>\n",
       "    </tr>\n",
       "  </thead>\n",
       "  <tbody>\n",
       "    <tr>\n",
       "      <th>1899</th>\n",
       "      <td>773192</td>\n",
       "      <td>37:58.8</td>\n",
       "      <td>treatment</td>\n",
       "      <td>new_page</td>\n",
       "      <td>0</td>\n",
       "      <td>US</td>\n",
       "      <td>2279</td>\n",
       "    </tr>\n",
       "    <tr>\n",
       "      <th>2893</th>\n",
       "      <td>773192</td>\n",
       "      <td>55:59.6</td>\n",
       "      <td>treatment</td>\n",
       "      <td>new_page</td>\n",
       "      <td>0</td>\n",
       "      <td>US</td>\n",
       "      <td>3360</td>\n",
       "    </tr>\n",
       "    <tr>\n",
       "      <th>250001</th>\n",
       "      <td>759899</td>\n",
       "      <td>07:36.1</td>\n",
       "      <td>treatment</td>\n",
       "      <td>new_page</td>\n",
       "      <td>0</td>\n",
       "      <td>US</td>\n",
       "      <td>456</td>\n",
       "    </tr>\n",
       "    <tr>\n",
       "      <th>250002</th>\n",
       "      <td>759899</td>\n",
       "      <td>07:36.1</td>\n",
       "      <td>treatment</td>\n",
       "      <td>new_page</td>\n",
       "      <td>0</td>\n",
       "      <td>US</td>\n",
       "      <td>456</td>\n",
       "    </tr>\n",
       "    <tr>\n",
       "      <th>294479</th>\n",
       "      <td>759899</td>\n",
       "      <td>20:29.0</td>\n",
       "      <td>treatment</td>\n",
       "      <td>new_page</td>\n",
       "      <td>0</td>\n",
       "      <td>US</td>\n",
       "      <td>1229</td>\n",
       "    </tr>\n",
       "    <tr>\n",
       "      <th>294480</th>\n",
       "      <td>759899</td>\n",
       "      <td>20:29.0</td>\n",
       "      <td>treatment</td>\n",
       "      <td>new_page</td>\n",
       "      <td>0</td>\n",
       "      <td>US</td>\n",
       "      <td>1229</td>\n",
       "    </tr>\n",
       "  </tbody>\n",
       "</table>\n",
       "</div>"
      ],
      "text/plain": [
       "        user_id timestamp      group landing_page  converted country  \\\n",
       "1899     773192   37:58.8  treatment     new_page          0      US   \n",
       "2893     773192   55:59.6  treatment     new_page          0      US   \n",
       "250001   759899   07:36.1  treatment     new_page          0      US   \n",
       "250002   759899   07:36.1  treatment     new_page          0      US   \n",
       "294479   759899   20:29.0  treatment     new_page          0      US   \n",
       "294480   759899   20:29.0  treatment     new_page          0      US   \n",
       "\n",
       "        timestamp_s  \n",
       "1899           2279  \n",
       "2893           3360  \n",
       "250001          456  \n",
       "250002          456  \n",
       "294479         1229  \n",
       "294480         1229  "
      ]
     },
     "execution_count": 273,
     "metadata": {},
     "output_type": "execute_result"
    }
   ],
   "source": [
    "df[df.duplicated(keep=False, subset=['user_id'])]"
   ]
  },
  {
   "cell_type": "code",
   "execution_count": null,
   "id": "3e8ead1f-bc1b-4365-82cd-475dfe06006b",
   "metadata": {},
   "outputs": [],
   "source": []
  },
  {
   "cell_type": "markdown",
   "id": "eaa9cc44-1310-498c-baf5-9e585e873e76",
   "metadata": {},
   "source": [
    "**В одного користувача є два дублікати в датасеті. Потрібно їх видалити.**"
   ]
  },
  {
   "cell_type": "code",
   "execution_count": 274,
   "id": "97baf5c0-270f-4d43-8862-13e205764af0",
   "metadata": {},
   "outputs": [],
   "source": [
    "df = df.drop(index=[250002, 294480])"
   ]
  },
  {
   "cell_type": "code",
   "execution_count": 275,
   "id": "fe987d2b-b11c-47d3-be5b-16abbd0c21d9",
   "metadata": {},
   "outputs": [
    {
     "data": {
      "text/plain": [
       "4"
      ]
     },
     "execution_count": 275,
     "metadata": {},
     "output_type": "execute_result"
    }
   ],
   "source": [
    "df['user_id'].duplicated(keep=False).sum()"
   ]
  },
  {
   "cell_type": "code",
   "execution_count": 276,
   "id": "5a7c5fbf-f8a7-462b-90c3-880190505ca4",
   "metadata": {},
   "outputs": [
    {
     "data": {
      "text/html": [
       "<div>\n",
       "<style scoped>\n",
       "    .dataframe tbody tr th:only-of-type {\n",
       "        vertical-align: middle;\n",
       "    }\n",
       "\n",
       "    .dataframe tbody tr th {\n",
       "        vertical-align: top;\n",
       "    }\n",
       "\n",
       "    .dataframe thead th {\n",
       "        text-align: right;\n",
       "    }\n",
       "</style>\n",
       "<table border=\"1\" class=\"dataframe\">\n",
       "  <thead>\n",
       "    <tr style=\"text-align: right;\">\n",
       "      <th></th>\n",
       "      <th>user_id</th>\n",
       "      <th>timestamp</th>\n",
       "      <th>group</th>\n",
       "      <th>landing_page</th>\n",
       "      <th>converted</th>\n",
       "      <th>country</th>\n",
       "      <th>timestamp_s</th>\n",
       "    </tr>\n",
       "  </thead>\n",
       "  <tbody>\n",
       "    <tr>\n",
       "      <th>1899</th>\n",
       "      <td>773192</td>\n",
       "      <td>37:58.8</td>\n",
       "      <td>treatment</td>\n",
       "      <td>new_page</td>\n",
       "      <td>0</td>\n",
       "      <td>US</td>\n",
       "      <td>2279</td>\n",
       "    </tr>\n",
       "    <tr>\n",
       "      <th>2893</th>\n",
       "      <td>773192</td>\n",
       "      <td>55:59.6</td>\n",
       "      <td>treatment</td>\n",
       "      <td>new_page</td>\n",
       "      <td>0</td>\n",
       "      <td>US</td>\n",
       "      <td>3360</td>\n",
       "    </tr>\n",
       "    <tr>\n",
       "      <th>250001</th>\n",
       "      <td>759899</td>\n",
       "      <td>07:36.1</td>\n",
       "      <td>treatment</td>\n",
       "      <td>new_page</td>\n",
       "      <td>0</td>\n",
       "      <td>US</td>\n",
       "      <td>456</td>\n",
       "    </tr>\n",
       "    <tr>\n",
       "      <th>294479</th>\n",
       "      <td>759899</td>\n",
       "      <td>20:29.0</td>\n",
       "      <td>treatment</td>\n",
       "      <td>new_page</td>\n",
       "      <td>0</td>\n",
       "      <td>US</td>\n",
       "      <td>1229</td>\n",
       "    </tr>\n",
       "  </tbody>\n",
       "</table>\n",
       "</div>"
      ],
      "text/plain": [
       "        user_id timestamp      group landing_page  converted country  \\\n",
       "1899     773192   37:58.8  treatment     new_page          0      US   \n",
       "2893     773192   55:59.6  treatment     new_page          0      US   \n",
       "250001   759899   07:36.1  treatment     new_page          0      US   \n",
       "294479   759899   20:29.0  treatment     new_page          0      US   \n",
       "\n",
       "        timestamp_s  \n",
       "1899           2279  \n",
       "2893           3360  \n",
       "250001          456  \n",
       "294479         1229  "
      ]
     },
     "execution_count": 276,
     "metadata": {},
     "output_type": "execute_result"
    }
   ],
   "source": [
    "df[df.duplicated(keep=False, subset=['user_id'])]"
   ]
  },
  {
   "cell_type": "code",
   "execution_count": null,
   "id": "322c93f6-27a0-480b-9833-7080ea7a9639",
   "metadata": {},
   "outputs": [],
   "source": []
  },
  {
   "cell_type": "code",
   "execution_count": null,
   "id": "e190e49c-4e43-46a8-942b-212f37dcccf2",
   "metadata": {},
   "outputs": [],
   "source": []
  },
  {
   "cell_type": "markdown",
   "id": "6b9ee25e-202a-4634-9cef-89bf222a3033",
   "metadata": {},
   "source": [
    "# Аналіз даних"
   ]
  },
  {
   "cell_type": "code",
   "execution_count": 277,
   "id": "e1e1c05c-68a0-459f-9134-b72136162a59",
   "metadata": {},
   "outputs": [
    {
     "data": {
      "text/html": [
       "<div>\n",
       "<style scoped>\n",
       "    .dataframe tbody tr th:only-of-type {\n",
       "        vertical-align: middle;\n",
       "    }\n",
       "\n",
       "    .dataframe tbody tr th {\n",
       "        vertical-align: top;\n",
       "    }\n",
       "\n",
       "    .dataframe thead th {\n",
       "        text-align: right;\n",
       "    }\n",
       "</style>\n",
       "<table border=\"1\" class=\"dataframe\">\n",
       "  <thead>\n",
       "    <tr style=\"text-align: right;\">\n",
       "      <th></th>\n",
       "      <th>user_id</th>\n",
       "      <th>timestamp</th>\n",
       "      <th>group</th>\n",
       "      <th>landing_page</th>\n",
       "      <th>converted</th>\n",
       "      <th>country</th>\n",
       "      <th>timestamp_s</th>\n",
       "    </tr>\n",
       "  </thead>\n",
       "  <tbody>\n",
       "    <tr>\n",
       "      <th>0</th>\n",
       "      <td>851104</td>\n",
       "      <td>11:48.6</td>\n",
       "      <td>control</td>\n",
       "      <td>old_page</td>\n",
       "      <td>0</td>\n",
       "      <td>US</td>\n",
       "      <td>709</td>\n",
       "    </tr>\n",
       "    <tr>\n",
       "      <th>1</th>\n",
       "      <td>804228</td>\n",
       "      <td>01:45.2</td>\n",
       "      <td>control</td>\n",
       "      <td>old_page</td>\n",
       "      <td>0</td>\n",
       "      <td>US</td>\n",
       "      <td>105</td>\n",
       "    </tr>\n",
       "    <tr>\n",
       "      <th>2</th>\n",
       "      <td>661590</td>\n",
       "      <td>55:06.2</td>\n",
       "      <td>treatment</td>\n",
       "      <td>new_page</td>\n",
       "      <td>0</td>\n",
       "      <td>US</td>\n",
       "      <td>3306</td>\n",
       "    </tr>\n",
       "    <tr>\n",
       "      <th>3</th>\n",
       "      <td>853541</td>\n",
       "      <td>28:03.1</td>\n",
       "      <td>treatment</td>\n",
       "      <td>new_page</td>\n",
       "      <td>0</td>\n",
       "      <td>US</td>\n",
       "      <td>1683</td>\n",
       "    </tr>\n",
       "    <tr>\n",
       "      <th>4</th>\n",
       "      <td>864975</td>\n",
       "      <td>52:26.2</td>\n",
       "      <td>control</td>\n",
       "      <td>old_page</td>\n",
       "      <td>1</td>\n",
       "      <td>US</td>\n",
       "      <td>3146</td>\n",
       "    </tr>\n",
       "  </tbody>\n",
       "</table>\n",
       "</div>"
      ],
      "text/plain": [
       "   user_id timestamp      group landing_page  converted country  timestamp_s\n",
       "0   851104   11:48.6    control     old_page          0      US          709\n",
       "1   804228   01:45.2    control     old_page          0      US          105\n",
       "2   661590   55:06.2  treatment     new_page          0      US         3306\n",
       "3   853541   28:03.1  treatment     new_page          0      US         1683\n",
       "4   864975   52:26.2    control     old_page          1      US         3146"
      ]
     },
     "execution_count": 277,
     "metadata": {},
     "output_type": "execute_result"
    }
   ],
   "source": [
    "df.head()"
   ]
  },
  {
   "cell_type": "code",
   "execution_count": 278,
   "id": "7cc1202f-11e5-416d-8553-b66af43b388e",
   "metadata": {},
   "outputs": [
    {
     "data": {
      "text/plain": [
       "user_id         290585\n",
       "timestamp        35991\n",
       "group                2\n",
       "landing_page         2\n",
       "converted            2\n",
       "country              3\n",
       "timestamp_s       3601\n",
       "dtype: int64"
      ]
     },
     "execution_count": 278,
     "metadata": {},
     "output_type": "execute_result"
    }
   ],
   "source": [
    "df.apply(lambda x: x.nunique())"
   ]
  },
  {
   "cell_type": "code",
   "execution_count": 280,
   "id": "b13196cf-09d5-4626-b264-c871c2070227",
   "metadata": {},
   "outputs": [
    {
     "data": {
      "text/plain": [
       "array(['US', 'CA', 'UK'], dtype=object)"
      ]
     },
     "execution_count": 280,
     "metadata": {},
     "output_type": "execute_result"
    }
   ],
   "source": [
    "df['country'].unique()"
   ]
  },
  {
   "cell_type": "code",
   "execution_count": null,
   "id": "13a0780e-abb0-424e-95c2-6691f2e96234",
   "metadata": {},
   "outputs": [],
   "source": [
    "group, counry\n",
    "\n",
    "timestamp, converted"
   ]
  },
  {
   "cell_type": "code",
   "execution_count": 283,
   "id": "29b44587-c7ef-42a0-8d5e-72fe8082c157",
   "metadata": {},
   "outputs": [
    {
     "data": {
      "image/png": "[encoded data removed]",
      "text/plain": [
       "<Figure size 640x480 with 1 Axes>"
      ]
     },
     "metadata": {},
     "output_type": "display_data"
    },
    {
     "data": {
      "image/png": "[encoded data removed]",
      "text/plain": [
       "<Figure size 640x480 with 1 Axes>"
      ]
     },
     "metadata": {},
     "output_type": "display_data"
    }
   ],
   "source": [
    "for i in ['group', 'country']:\n",
    "    for c in df[i].unique():\n",
    "        plt.hist(df[df[i] == c]['timestamp_s'], bins=30, alpha=0.2, label=c, density=True)\n",
    "    plt.title(i)\n",
    "    plt.legend()\n",
    "    plt.show();"
   ]
  },
  {
   "cell_type": "code",
   "execution_count": 291,
   "id": "f8c588e9-4013-48a7-b17d-bff4197fac04",
   "metadata": {},
   "outputs": [
    {
     "name": "stdout",
     "output_type": "stream",
     "text": [
      "control country\n",
      "CA    1808.720895\n",
      "UK    1807.494719\n",
      "US    1803.739117\n",
      "Name: timestamp_s, dtype: float64\n"
     ]
    },
    {
     "data": {
      "image/png": "[encoded data removed]",
      "text/plain": [
       "<Figure size 640x480 with 1 Axes>"
      ]
     },
     "metadata": {},
     "output_type": "display_data"
    },
    {
     "name": "stdout",
     "output_type": "stream",
     "text": [
      "treatment country\n",
      "CA    1813.189563\n",
      "UK    1800.402759\n",
      "US    1801.083724\n",
      "Name: timestamp_s, dtype: float64\n"
     ]
    },
    {
     "data": {
      "image/png": "[encoded data removed]",
      "text/plain": [
       "<Figure size 640x480 with 1 Axes>"
      ]
     },
     "metadata": {},
     "output_type": "display_data"
    }
   ],
   "source": [
    "for i in ['control', 'treatment']:\n",
    "    for c in df['country'].unique():\n",
    "        plt.hist(df[(df['group'] == i) & (df['country'] == c)]['timestamp_s'], bins=30, alpha=0.2, label=f'{i}_{c}', density=True)\n",
    "\n",
    "    print(i, df[df['group'] == i].groupby('country')['timestamp_s'].mean())\n",
    "    \n",
    "    plt.title(i)\n",
    "    plt.legend()\n",
    "    plt.show();"
   ]
  },
  {
   "cell_type": "code",
   "execution_count": 290,
   "id": "1bb92b81-8417-4e6e-ace9-5b9e2869d7c8",
   "metadata": {},
   "outputs": [
    {
     "name": "stdout",
     "output_type": "stream",
     "text": [
      "US group\n",
      "control      1803.739117\n",
      "treatment    1801.083724\n",
      "Name: timestamp_s, dtype: float64\n"
     ]
    },
    {
     "data": {
      "image/png": "[encoded data removed]",
      "text/plain": [
       "<Figure size 640x480 with 1 Axes>"
      ]
     },
     "metadata": {},
     "output_type": "display_data"
    },
    {
     "name": "stdout",
     "output_type": "stream",
     "text": [
      "CA group\n",
      "control      1808.720895\n",
      "treatment    1813.189563\n",
      "Name: timestamp_s, dtype: float64\n"
     ]
    },
    {
     "data": {
      "image/png": "[encoded data removed]",
      "text/plain": [
       "<Figure size 640x480 with 1 Axes>"
      ]
     },
     "metadata": {},
     "output_type": "display_data"
    },
    {
     "name": "stdout",
     "output_type": "stream",
     "text": [
      "UK group\n",
      "control      1807.494719\n",
      "treatment    1800.402759\n",
      "Name: timestamp_s, dtype: float64\n"
     ]
    },
    {
     "data": {
      "image/png": "[encoded data removed]",
      "text/plain": [
       "<Figure size 640x480 with 1 Axes>"
      ]
     },
     "metadata": {},
     "output_type": "display_data"
    }
   ],
   "source": [
    "for i in ['US', 'CA', 'UK']:\n",
    "    for c in df['group'].unique():\n",
    "        plt.hist(df[(df['country'] == i) & (df['group'] == c)]['timestamp_s'], bins=30, alpha=0.2, label=f'{i}_{c}', density=True)\n",
    "\n",
    "    print(i, df[df['country'] == i].groupby('group')['timestamp_s'].mean())\n",
    "    \n",
    "    plt.title(i)\n",
    "    plt.legend()\n",
    "    plt.show();"
   ]
  },
  {
   "cell_type": "code",
   "execution_count": 292,
   "id": "62bf2bef-5fab-4525-a13a-1d703c859aec",
   "metadata": {},
   "outputs": [
    {
     "data": {
      "text/plain": [
       "country\n",
       "US    0.700726\n",
       "UK    0.249378\n",
       "CA    0.049896\n",
       "Name: proportion, dtype: float64"
      ]
     },
     "execution_count": 292,
     "metadata": {},
     "output_type": "execute_result"
    }
   ],
   "source": [
    "df['country'].value_counts(normalize=True)"
   ]
  },
  {
   "cell_type": "code",
   "execution_count": null,
   "id": "cc4a60f8-bc9f-43b5-bef8-9ecb0d91c6ba",
   "metadata": {},
   "outputs": [],
   "source": []
  },
  {
   "cell_type": "code",
   "execution_count": null,
   "id": "0b3821ee-be29-4b12-8eac-6b2615f82d6e",
   "metadata": {},
   "outputs": [],
   "source": []
  },
  {
   "cell_type": "code",
   "execution_count": 299,
   "id": "20f121af-c18e-40d9-b806-a718ff0f81f5",
   "metadata": {},
   "outputs": [
    {
     "name": "stdout",
     "output_type": "stream",
     "text": [
      "group group\n",
      "control      0.120386\n",
      "treatment    0.118806\n",
      "Name: converted, dtype: float64 \n",
      "\n",
      "country country\n",
      "CA    0.115318\n",
      "UK    0.120594\n",
      "US    0.119545\n",
      "Name: converted, dtype: float64 \n",
      "\n"
     ]
    }
   ],
   "source": [
    "for i in ['group', 'country']:\n",
    "    print(i, df.groupby(i)['converted'].mean(), '\\n')"
   ]
  },
  {
   "cell_type": "code",
   "execution_count": null,
   "id": "aa48e23d-847a-4bd8-8162-4286f186e48f",
   "metadata": {},
   "outputs": [],
   "source": []
  },
  {
   "cell_type": "code",
   "execution_count": 301,
   "id": "e57fd8b4-2416-4b6f-accd-31d4db9c1df4",
   "metadata": {},
   "outputs": [
    {
     "data": {
      "text/html": [
       "<div>\n",
       "<style scoped>\n",
       "    .dataframe tbody tr th:only-of-type {\n",
       "        vertical-align: middle;\n",
       "    }\n",
       "\n",
       "    .dataframe tbody tr th {\n",
       "        vertical-align: top;\n",
       "    }\n",
       "\n",
       "    .dataframe thead th {\n",
       "        text-align: right;\n",
       "    }\n",
       "</style>\n",
       "<table border=\"1\" class=\"dataframe\">\n",
       "  <thead>\n",
       "    <tr style=\"text-align: right;\">\n",
       "      <th>country</th>\n",
       "      <th>CA</th>\n",
       "      <th>UK</th>\n",
       "      <th>US</th>\n",
       "    </tr>\n",
       "    <tr>\n",
       "      <th>group</th>\n",
       "      <th></th>\n",
       "      <th></th>\n",
       "      <th></th>\n",
       "    </tr>\n",
       "  </thead>\n",
       "  <tbody>\n",
       "    <tr>\n",
       "      <th>control</th>\n",
       "      <td>0.118783</td>\n",
       "      <td>0.120022</td>\n",
       "      <td>0.120630</td>\n",
       "    </tr>\n",
       "    <tr>\n",
       "      <th>treatment</th>\n",
       "      <td>0.111902</td>\n",
       "      <td>0.121171</td>\n",
       "      <td>0.118462</td>\n",
       "    </tr>\n",
       "  </tbody>\n",
       "</table>\n",
       "</div>"
      ],
      "text/plain": [
       "country          CA        UK        US\n",
       "group                                  \n",
       "control    0.118783  0.120022  0.120630\n",
       "treatment  0.111902  0.121171  0.118462"
      ]
     },
     "execution_count": 301,
     "metadata": {},
     "output_type": "execute_result"
    }
   ],
   "source": [
    "pt = pd.pivot_table(data=df, values='converted', index='group', columns='country', aggfunc='mean')\n",
    "pt"
   ]
  },
  {
   "cell_type": "code",
   "execution_count": 306,
   "id": "0fbabc62-c173-44b3-8728-9ea7d69f2cdf",
   "metadata": {},
   "outputs": [
    {
     "data": {
      "text/plain": [
       "<Axes: xlabel='country', ylabel='group'>"
      ]
     },
     "execution_count": 306,
     "metadata": {},
     "output_type": "execute_result"
    },
    {
     "data": {
      "image/png": "[encoded data removed]",
      "text/plain": [
       "<Figure size 640x480 with 2 Axes>"
      ]
     },
     "metadata": {},
     "output_type": "display_data"
    }
   ],
   "source": [
    "sns.heatmap(pt, annot=True, fmt='.4f')"
   ]
  },
  {
   "cell_type": "code",
   "execution_count": null,
   "id": "92fb47e7-1484-4bd6-a5eb-c553f1ff78b6",
   "metadata": {},
   "outputs": [],
   "source": []
  },
  {
   "cell_type": "code",
   "execution_count": 358,
   "id": "3f831fab-eac6-4788-a52c-e7ed6af5963f",
   "metadata": {},
   "outputs": [
    {
     "data": {
      "image/png": "[encoded data removed]",
      "text/plain": [
       "<Figure size 640x480 with 1 Axes>"
      ]
     },
     "metadata": {},
     "output_type": "display_data"
    }
   ],
   "source": [
    "df['timestamp_bins'] = pd.qcut(df['timestamp_s'], 30)\n",
    "\n",
    "df.groupby('timestamp_bins')['converted'].mean().reset_index().plot()\n",
    "plt.title('Залежність конверсії від проведеного часу на сайті')\n",
    "plt.show();"
   ]
  },
  {
   "cell_type": "code",
   "execution_count": null,
   "id": "d669f852-b305-425e-8a6a-61353b75b449",
   "metadata": {},
   "outputs": [],
   "source": []
  },
  {
   "cell_type": "code",
   "execution_count": null,
   "id": "0e338dc8-ff98-4c14-b615-cde452f4493f",
   "metadata": {},
   "outputs": [],
   "source": []
  },
  {
   "cell_type": "code",
   "execution_count": 329,
   "id": "9dcc9fa2-9a5d-47df-ae7e-6143bbe03fdc",
   "metadata": {},
   "outputs": [
    {
     "name": "stdout",
     "output_type": "stream",
     "text": [
      "95 квантиль 3419.0 секунд\n"
     ]
    }
   ],
   "source": [
    "q95 = np.quantile(df['timestamp_s'], 0.95)\n",
    "print(f'95 квантиль {q95} секунд')"
   ]
  },
  {
   "cell_type": "code",
   "execution_count": 331,
   "id": "7f6dcfe2-7c9a-475f-9ea2-64944b42eb82",
   "metadata": {},
   "outputs": [
    {
     "data": {
      "text/plain": [
       "(14525, 7)"
      ]
     },
     "execution_count": 331,
     "metadata": {},
     "output_type": "execute_result"
    }
   ],
   "source": [
    "new_df = df[df['timestamp_s'] > q95]\n",
    "new_df.shape"
   ]
  },
  {
   "cell_type": "code",
   "execution_count": 332,
   "id": "4f962d46-027f-463e-a45a-ab3c1e2c7119",
   "metadata": {},
   "outputs": [
    {
     "data": {
      "text/html": [
       "<div>\n",
       "<style scoped>\n",
       "    .dataframe tbody tr th:only-of-type {\n",
       "        vertical-align: middle;\n",
       "    }\n",
       "\n",
       "    .dataframe tbody tr th {\n",
       "        vertical-align: top;\n",
       "    }\n",
       "\n",
       "    .dataframe thead th {\n",
       "        text-align: right;\n",
       "    }\n",
       "</style>\n",
       "<table border=\"1\" class=\"dataframe\">\n",
       "  <thead>\n",
       "    <tr style=\"text-align: right;\">\n",
       "      <th>country</th>\n",
       "      <th>CA</th>\n",
       "      <th>UK</th>\n",
       "      <th>US</th>\n",
       "    </tr>\n",
       "    <tr>\n",
       "      <th>group</th>\n",
       "      <th></th>\n",
       "      <th></th>\n",
       "      <th></th>\n",
       "    </tr>\n",
       "  </thead>\n",
       "  <tbody>\n",
       "    <tr>\n",
       "      <th>control</th>\n",
       "      <td>0.127479</td>\n",
       "      <td>0.131068</td>\n",
       "      <td>0.118597</td>\n",
       "    </tr>\n",
       "    <tr>\n",
       "      <th>treatment</th>\n",
       "      <td>0.114504</td>\n",
       "      <td>0.118982</td>\n",
       "      <td>0.117414</td>\n",
       "    </tr>\n",
       "  </tbody>\n",
       "</table>\n",
       "</div>"
      ],
      "text/plain": [
       "country          CA        UK        US\n",
       "group                                  \n",
       "control    0.127479  0.131068  0.118597\n",
       "treatment  0.114504  0.118982  0.117414"
      ]
     },
     "execution_count": 332,
     "metadata": {},
     "output_type": "execute_result"
    }
   ],
   "source": [
    "pt = pd.pivot_table(data=new_df, values='converted', index='group', columns='country', aggfunc='mean')\n",
    "pt"
   ]
  },
  {
   "cell_type": "code",
   "execution_count": 333,
   "id": "e7abe961-f82c-4530-b49b-30afbd794dea",
   "metadata": {},
   "outputs": [
    {
     "data": {
      "text/plain": [
       "<Axes: xlabel='country', ylabel='group'>"
      ]
     },
     "execution_count": 333,
     "metadata": {},
     "output_type": "execute_result"
    },
    {
     "data": {
      "image/png": "[encoded data removed]",
      "text/plain": [
       "<Figure size 640x480 with 2 Axes>"
      ]
     },
     "metadata": {},
     "output_type": "display_data"
    }
   ],
   "source": [
    "sns.heatmap(pt, annot=True, fmt='.4f')"
   ]
  },
  {
   "cell_type": "code",
   "execution_count": null,
   "id": "fc6cf5b6-70db-4093-a3e4-27cf88a67564",
   "metadata": {},
   "outputs": [],
   "source": []
  },
  {
   "cell_type": "markdown",
   "id": "e72aa6c0-63a6-4f86-94df-e444592c9cbe",
   "metadata": {},
   "source": [
    "**У розрізі груп та країн відмінностей у проведеному на сайті часі та конверсії не виявлено.**\n",
    "\n",
    "**Залежності конверсії від часу, проведеного на сайті, не знайдено.**\n",
    "\n",
    "**Топ 5% користувачів перебувають на сайті 3419 секунд (56 хвилин) і більше. Їхній рівень конверсії такий самий, як у інших користувачів.**"
   ]
  },
  {
   "cell_type": "code",
   "execution_count": null,
   "id": "da1f5a23-2012-4b3e-8536-53b3d8bbc777",
   "metadata": {},
   "outputs": [],
   "source": []
  },
  {
   "cell_type": "markdown",
   "id": "774fcc07-b4ce-4a81-b242-46bf04b36f9d",
   "metadata": {},
   "source": [
    "# Аналіз A/Б тесту"
   ]
  },
  {
   "cell_type": "markdown",
   "id": "bdee2051-4414-4ba3-a6f6-e1ded9290cd0",
   "metadata": {},
   "source": [
    "На сайті проводиться A/B тест для перевірки, чи збільшить нова веб-сторінка рівень конверсії. Сформулюємо гіпотези:\n",
    "\n",
    "- H0: Нова сторінка в тестовій групі генерує такий самий рівень конверсії, як стара сторінка в контрольній групі.\n",
    "- H1: Нова сторінка в тестовій групі генерує вищий рівень конверсії, ніж стара сторінка в контрольній групі."
   ]
  },
  {
   "cell_type": "code",
   "execution_count": 361,
   "id": "d9ca2104-4b2f-4733-b69a-9bcb41f6e063",
   "metadata": {},
   "outputs": [
    {
     "name": "stdout",
     "output_type": "stream",
     "text": [
      "pval = 0.189. Не відхиляємо H0. Рівень конверсії в контрольній і тестовій групах однаковий.\n"
     ]
    }
   ],
   "source": [
    "alpha = 0.05\n",
    "\n",
    "conversions = df.groupby('group')['converted'].sum().values\n",
    "n = df.groupby('group')['converted'].count().values\n",
    "\n",
    "_, pval = proportions_ztest(conversions, n)\n",
    "pval = round(pval, 3)\n",
    "\n",
    "if pval > alpha:\n",
    "    print(f'pval = {pval}. Не відхиляємо H0. Рівень конверсії в контрольній і тестовій групах однаковий.')\n",
    "else:\n",
    "    print(f'pval = {pval}. Відхиляємо H0. Рівень конверсії в тестовій групі вищий, ніж у контрольній.')"
   ]
  },
  {
   "cell_type": "code",
   "execution_count": null,
   "id": "08027d09-921d-48fc-adbb-e0e5170791a6",
   "metadata": {},
   "outputs": [],
   "source": []
  },
  {
   "cell_type": "code",
   "execution_count": null,
   "id": "6634dec9-7d09-48dd-a0a4-c4d480e7bfae",
   "metadata": {},
   "outputs": [],
   "source": []
  },
  {
   "cell_type": "markdown",
   "id": "db2ec8cb-8cbe-4b29-b994-4dfceb0ff3f6",
   "metadata": {},
   "source": [
    "# Висновки\n",
    "\n",
    "Після аналізу даних, були виявлені деякі технічні помилки, зокрема некоректний розподіл користувачів між групами та дублікати записів, які потребують видалення для коректного аналізу.\n",
    "\n",
    "У ході тесту не було виявлено суттєвих відмінностей між контрольними і тестовими групами ні за часом, проведеним на сайті, ні за рівнем конверсії. Більше того, не спостерігалася залежність між часом на сайті і ймовірністю конверсії, і навіть топ 5% користувачів, що перебували на сайті найдовше, не показали кращих результатів за конверсією порівняно з іншими.\n",
    "\n",
    "В результаті статистичного тестування, p-value склало 0.189. Це означає, що ми не можемо відхилити нульову гіпотезу, і, відповідно, немає достатніх доказів на користь того, що нова сторінка генерує вищий рівень конверсії, ніж стара."
   ]
  },
  {
   "cell_type": "code",
   "execution_count": null,
   "id": "441f01f4-26e9-4137-b264-b4a291e4a736",
   "metadata": {},
   "outputs": [],
   "source": []
  },
  {
   "cell_type": "code",
   "execution_count": null,
   "id": "b2b75bba-94ee-4591-abb7-38409d11520b",
   "metadata": {},
   "outputs": [],
   "source": []
  },
  {
   "cell_type": "code",
   "execution_count": null,
   "id": "7a4ac772-c6ba-45d0-8522-b534f4edc171",
   "metadata": {},
   "outputs": [],
   "source": []
  },
  {
   "cell_type": "code",
   "execution_count": null,
   "id": "ce19fd38-2e99-42cd-9d5c-d8ad9f4b5743",
   "metadata": {},
   "outputs": [],
   "source": []
  },
  {
   "cell_type": "code",
   "execution_count": null,
   "id": "95269c2b-37d4-4fd2-a151-8cc50152502d",
   "metadata": {},
   "outputs": [],
   "source": []
  },
  {
   "cell_type": "code",
   "execution_count": null,
   "id": "606e77a9-5f02-4f36-874b-f5af50d85323",
   "metadata": {},
   "outputs": [],
   "source": []
  },
  {
   "cell_type": "code",
   "execution_count": null,
   "id": "64ad12ee-b2cd-48bd-a751-8ee8d5b46900",
   "metadata": {},
   "outputs": [],
   "source": []
  },
  {
   "cell_type": "code",
   "execution_count": null,
   "id": "0b32983b-a982-4ff0-b8c2-e6f75a1823d0",
   "metadata": {},
   "outputs": [],
   "source": []
  },
  {
   "cell_type": "code",
   "execution_count": null,
   "id": "9fcc8871-4cc0-4138-b5e4-3a74f690548b",
   "metadata": {},
   "outputs": [],
   "source": []
  },
  {
   "cell_type": "code",
   "execution_count": null,
   "id": "771e10e5-d99e-4897-a984-322691d7edc2",
   "metadata": {},
   "outputs": [],
   "source": []
  },
  {
   "cell_type": "code",
   "execution_count": null,
   "id": "d1081f70-b9d5-40c2-89dd-32c99a267c8b",
   "metadata": {},
   "outputs": [],
   "source": []
  },
  {
   "cell_type": "code",
   "execution_count": null,
   "id": "bee074d6-f82e-48e7-92c1-673818418665",
   "metadata": {},
   "outputs": [],
   "source": []
  },
  {
   "cell_type": "code",
   "execution_count": null,
   "id": "51d5d7c5-2c1c-4260-86c3-7466575ca433",
   "metadata": {},
   "outputs": [],
   "source": []
  },
  {
   "cell_type": "code",
   "execution_count": null,
   "id": "ba561635-d24a-461a-a91d-cd3122d6fc18",
   "metadata": {},
   "outputs": [],
   "source": []
  },
  {
   "cell_type": "code",
   "execution_count": null,
   "id": "7ebbfda3-fe14-458c-8f35-09176132600c",
   "metadata": {},
   "outputs": [],
   "source": []
  }
 ],
 "metadata": {
  "kernelspec": {
   "display_name": "Python 3 (ipykernel)",
   "language": "python",
   "name": "python3"
  },
  "language_info": {
   "codemirror_mode": {
    "name": "ipython",
    "version": 3
   },
   "file_extension": ".py",
   "mimetype": "text/x-python",
   "name": "python",
   "nbconvert_exporter": "python",
   "pygments_lexer": "ipython3",
   "version": "3.12.7"
  }
 },
 "nbformat": 4,
 "nbformat_minor": 5
}
