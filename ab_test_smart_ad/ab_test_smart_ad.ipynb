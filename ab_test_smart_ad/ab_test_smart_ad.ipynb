{
 "cells": [
  {
   "cell_type": "markdown",
   "id": "bd45ec2e-328d-472e-8230-6f0f9bc61cc0",
   "metadata": {},
   "source": [
    "Цей датасет являє собою дані A/B-тесту для оцінки впливу рекламного креативу SmartAd на залученість користувачів.\n",
    "\n",
    "План дій:\n",
    "1. Огляд даних\n",
    "2. Предобробка даних\n",
    "3. Аналіз даних\n",
    "4. Аналіз A/B тесту\n",
    "5. Висновки\n",
    "\n",
    "Доступні дані:\n",
    "- `auction_id` - унікальний ідентифікатор показу BIO\n",
    "- `experiment` - група тесту (контрольна або експериментальна)\n",
    "- `date` - часові мітки\n",
    "- `hour` - часові мітки\n",
    "- `device_make` - модель гаджету\n",
    "- `platform_os` - ідентифікатор операційної системи\n",
    "- `browser` - тип браузеру\n",
    "- `yes` - бінарні відгуки на BIO-анкету\n",
    "- `no` - бінарні відгуки на BIO-анкету"
   ]
  },
  {
   "cell_type": "code",
   "execution_count": 177,
   "id": "f96b832b-86ea-4cf3-b333-aff8aca12f54",
   "metadata": {},
   "outputs": [],
   "source": [
    "import pandas as pd\n",
    "import numpy as np\n",
    "import matplotlib.pyplot as plt\n",
    "import seaborn as sns\n",
    "\n",
    "from statsmodels.stats.proportion import proportions_ztest"
   ]
  },
  {
   "cell_type": "code",
   "execution_count": 122,
   "id": "34e45652-46a8-4eb2-b9b5-b19118239789",
   "metadata": {},
   "outputs": [
    {
     "name": "stdout",
     "output_type": "stream",
     "text": [
      "'AdSmartABdata - AdSmartABdata.csv'   Untitled.ipynb\n"
     ]
    }
   ],
   "source": [
    "!ls"
   ]
  },
  {
   "cell_type": "code",
   "execution_count": 123,
   "id": "44d81d50-8dd0-4fb9-b70a-8a0c74d11d8f",
   "metadata": {},
   "outputs": [],
   "source": [
    "df = pd.read_csv('AdSmartABdata - AdSmartABdata.csv')"
   ]
  },
  {
   "cell_type": "code",
   "execution_count": null,
   "id": "1ba45ee7-04d8-4252-bebb-311965189090",
   "metadata": {},
   "outputs": [],
   "source": []
  },
  {
   "cell_type": "markdown",
   "id": "6a3c4a7a-dd03-4773-b9e2-19deffda9eda",
   "metadata": {},
   "source": [
    "# 1. Огляд даних"
   ]
  },
  {
   "cell_type": "code",
   "execution_count": 124,
   "id": "e66061d6-76cb-4062-b086-96eed4c2c321",
   "metadata": {},
   "outputs": [
    {
     "data": {
      "text/html": [
       "<div>\n",
       "<style scoped>\n",
       "    .dataframe tbody tr th:only-of-type {\n",
       "        vertical-align: middle;\n",
       "    }\n",
       "\n",
       "    .dataframe tbody tr th {\n",
       "        vertical-align: top;\n",
       "    }\n",
       "\n",
       "    .dataframe thead th {\n",
       "        text-align: right;\n",
       "    }\n",
       "</style>\n",
       "<table border=\"1\" class=\"dataframe\">\n",
       "  <thead>\n",
       "    <tr style=\"text-align: right;\">\n",
       "      <th></th>\n",
       "      <th>auction_id</th>\n",
       "      <th>experiment</th>\n",
       "      <th>date</th>\n",
       "      <th>hour</th>\n",
       "      <th>device_make</th>\n",
       "      <th>platform_os</th>\n",
       "      <th>browser</th>\n",
       "      <th>yes</th>\n",
       "      <th>no</th>\n",
       "    </tr>\n",
       "  </thead>\n",
       "  <tbody>\n",
       "    <tr>\n",
       "      <th>0</th>\n",
       "      <td>0008ef63-77a7-448b-bd1e-075f42c55e39</td>\n",
       "      <td>exposed</td>\n",
       "      <td>2020-07-10</td>\n",
       "      <td>8</td>\n",
       "      <td>Generic Smartphone</td>\n",
       "      <td>6</td>\n",
       "      <td>Chrome Mobile</td>\n",
       "      <td>0</td>\n",
       "      <td>0</td>\n",
       "    </tr>\n",
       "    <tr>\n",
       "      <th>1</th>\n",
       "      <td>000eabc5-17ce-4137-8efe-44734d914446</td>\n",
       "      <td>exposed</td>\n",
       "      <td>2020-07-07</td>\n",
       "      <td>10</td>\n",
       "      <td>Generic Smartphone</td>\n",
       "      <td>6</td>\n",
       "      <td>Chrome Mobile</td>\n",
       "      <td>0</td>\n",
       "      <td>0</td>\n",
       "    </tr>\n",
       "    <tr>\n",
       "      <th>2</th>\n",
       "      <td>0016d14a-ae18-4a02-a204-6ba53b52f2ed</td>\n",
       "      <td>exposed</td>\n",
       "      <td>2020-07-05</td>\n",
       "      <td>2</td>\n",
       "      <td>E5823</td>\n",
       "      <td>6</td>\n",
       "      <td>Chrome Mobile WebView</td>\n",
       "      <td>0</td>\n",
       "      <td>1</td>\n",
       "    </tr>\n",
       "    <tr>\n",
       "      <th>3</th>\n",
       "      <td>00187412-2932-4542-a8ef-3633901c98d9</td>\n",
       "      <td>control</td>\n",
       "      <td>2020-07-03</td>\n",
       "      <td>15</td>\n",
       "      <td>Samsung SM-A705FN</td>\n",
       "      <td>6</td>\n",
       "      <td>Facebook</td>\n",
       "      <td>0</td>\n",
       "      <td>0</td>\n",
       "    </tr>\n",
       "    <tr>\n",
       "      <th>4</th>\n",
       "      <td>001a7785-d3fe-4e11-a344-c8735acacc2c</td>\n",
       "      <td>control</td>\n",
       "      <td>2020-07-03</td>\n",
       "      <td>15</td>\n",
       "      <td>Generic Smartphone</td>\n",
       "      <td>6</td>\n",
       "      <td>Chrome Mobile</td>\n",
       "      <td>0</td>\n",
       "      <td>0</td>\n",
       "    </tr>\n",
       "  </tbody>\n",
       "</table>\n",
       "</div>"
      ],
      "text/plain": [
       "                             auction_id experiment        date  hour  \\\n",
       "0  0008ef63-77a7-448b-bd1e-075f42c55e39    exposed  2020-07-10     8   \n",
       "1  000eabc5-17ce-4137-8efe-44734d914446    exposed  2020-07-07    10   \n",
       "2  0016d14a-ae18-4a02-a204-6ba53b52f2ed    exposed  2020-07-05     2   \n",
       "3  00187412-2932-4542-a8ef-3633901c98d9    control  2020-07-03    15   \n",
       "4  001a7785-d3fe-4e11-a344-c8735acacc2c    control  2020-07-03    15   \n",
       "\n",
       "          device_make  platform_os                browser  yes  no  \n",
       "0  Generic Smartphone            6          Chrome Mobile    0   0  \n",
       "1  Generic Smartphone            6          Chrome Mobile    0   0  \n",
       "2               E5823            6  Chrome Mobile WebView    0   1  \n",
       "3   Samsung SM-A705FN            6               Facebook    0   0  \n",
       "4  Generic Smartphone            6          Chrome Mobile    0   0  "
      ]
     },
     "execution_count": 124,
     "metadata": {},
     "output_type": "execute_result"
    }
   ],
   "source": [
    "df.head()"
   ]
  },
  {
   "cell_type": "code",
   "execution_count": 125,
   "id": "a7b5420c-7c97-4888-b1ec-428fa4392b59",
   "metadata": {},
   "outputs": [
    {
     "data": {
      "text/plain": [
       "(8077, 9)"
      ]
     },
     "execution_count": 125,
     "metadata": {},
     "output_type": "execute_result"
    }
   ],
   "source": [
    "df.shape"
   ]
  },
  {
   "cell_type": "code",
   "execution_count": 126,
   "id": "df4e9e4b-0be9-46e9-bf73-ff0ccb0cd0b7",
   "metadata": {},
   "outputs": [
    {
     "name": "stdout",
     "output_type": "stream",
     "text": [
      "<class 'pandas.core.frame.DataFrame'>\n",
      "RangeIndex: 8077 entries, 0 to 8076\n",
      "Data columns (total 9 columns):\n",
      " #   Column       Non-Null Count  Dtype \n",
      "---  ------       --------------  ----- \n",
      " 0   auction_id   8077 non-null   object\n",
      " 1   experiment   8077 non-null   object\n",
      " 2   date         8077 non-null   object\n",
      " 3   hour         8077 non-null   int64 \n",
      " 4   device_make  8077 non-null   object\n",
      " 5   platform_os  8077 non-null   int64 \n",
      " 6   browser      8077 non-null   object\n",
      " 7   yes          8077 non-null   int64 \n",
      " 8   no           8077 non-null   int64 \n",
      "dtypes: int64(4), object(5)\n",
      "memory usage: 568.0+ KB\n"
     ]
    }
   ],
   "source": [
    "df.info()"
   ]
  },
  {
   "cell_type": "code",
   "execution_count": 127,
   "id": "825738a9-ad55-40ee-82c3-98e5fc410109",
   "metadata": {},
   "outputs": [
    {
     "data": {
      "text/plain": [
       "auction_id     8077\n",
       "experiment        2\n",
       "date              8\n",
       "hour             24\n",
       "device_make     269\n",
       "platform_os       3\n",
       "browser          15\n",
       "yes               2\n",
       "no                2\n",
       "dtype: int64"
      ]
     },
     "execution_count": 127,
     "metadata": {},
     "output_type": "execute_result"
    }
   ],
   "source": [
    "df.nunique()"
   ]
  },
  {
   "cell_type": "code",
   "execution_count": 128,
   "id": "7bb6ab33-fb8d-4fdd-abee-b91b36784be9",
   "metadata": {},
   "outputs": [
    {
     "data": {
      "text/plain": [
       "0"
      ]
     },
     "execution_count": 128,
     "metadata": {},
     "output_type": "execute_result"
    }
   ],
   "source": [
    "df.duplicated().sum()"
   ]
  },
  {
   "cell_type": "code",
   "execution_count": 129,
   "id": "721541a6-95da-4ce8-9ff4-0057b7a5b13b",
   "metadata": {},
   "outputs": [
    {
     "data": {
      "text/html": [
       "<div>\n",
       "<style scoped>\n",
       "    .dataframe tbody tr th:only-of-type {\n",
       "        vertical-align: middle;\n",
       "    }\n",
       "\n",
       "    .dataframe tbody tr th {\n",
       "        vertical-align: top;\n",
       "    }\n",
       "\n",
       "    .dataframe thead th {\n",
       "        text-align: right;\n",
       "    }\n",
       "</style>\n",
       "<table border=\"1\" class=\"dataframe\">\n",
       "  <thead>\n",
       "    <tr style=\"text-align: right;\">\n",
       "      <th></th>\n",
       "      <th>hour</th>\n",
       "      <th>platform_os</th>\n",
       "      <th>yes</th>\n",
       "      <th>no</th>\n",
       "    </tr>\n",
       "  </thead>\n",
       "  <tbody>\n",
       "    <tr>\n",
       "      <th>count</th>\n",
       "      <td>8077.000000</td>\n",
       "      <td>8077.000000</td>\n",
       "      <td>8077.000000</td>\n",
       "      <td>8077.000000</td>\n",
       "    </tr>\n",
       "    <tr>\n",
       "      <th>mean</th>\n",
       "      <td>11.615080</td>\n",
       "      <td>5.947134</td>\n",
       "      <td>0.070818</td>\n",
       "      <td>0.083075</td>\n",
       "    </tr>\n",
       "    <tr>\n",
       "      <th>std</th>\n",
       "      <td>5.734879</td>\n",
       "      <td>0.224333</td>\n",
       "      <td>0.256537</td>\n",
       "      <td>0.276013</td>\n",
       "    </tr>\n",
       "    <tr>\n",
       "      <th>min</th>\n",
       "      <td>0.000000</td>\n",
       "      <td>5.000000</td>\n",
       "      <td>0.000000</td>\n",
       "      <td>0.000000</td>\n",
       "    </tr>\n",
       "    <tr>\n",
       "      <th>25%</th>\n",
       "      <td>7.000000</td>\n",
       "      <td>6.000000</td>\n",
       "      <td>0.000000</td>\n",
       "      <td>0.000000</td>\n",
       "    </tr>\n",
       "    <tr>\n",
       "      <th>50%</th>\n",
       "      <td>13.000000</td>\n",
       "      <td>6.000000</td>\n",
       "      <td>0.000000</td>\n",
       "      <td>0.000000</td>\n",
       "    </tr>\n",
       "    <tr>\n",
       "      <th>75%</th>\n",
       "      <td>15.000000</td>\n",
       "      <td>6.000000</td>\n",
       "      <td>0.000000</td>\n",
       "      <td>0.000000</td>\n",
       "    </tr>\n",
       "    <tr>\n",
       "      <th>max</th>\n",
       "      <td>23.000000</td>\n",
       "      <td>7.000000</td>\n",
       "      <td>1.000000</td>\n",
       "      <td>1.000000</td>\n",
       "    </tr>\n",
       "  </tbody>\n",
       "</table>\n",
       "</div>"
      ],
      "text/plain": [
       "              hour  platform_os          yes           no\n",
       "count  8077.000000  8077.000000  8077.000000  8077.000000\n",
       "mean     11.615080     5.947134     0.070818     0.083075\n",
       "std       5.734879     0.224333     0.256537     0.276013\n",
       "min       0.000000     5.000000     0.000000     0.000000\n",
       "25%       7.000000     6.000000     0.000000     0.000000\n",
       "50%      13.000000     6.000000     0.000000     0.000000\n",
       "75%      15.000000     6.000000     0.000000     0.000000\n",
       "max      23.000000     7.000000     1.000000     1.000000"
      ]
     },
     "execution_count": 129,
     "metadata": {},
     "output_type": "execute_result"
    }
   ],
   "source": [
    "df.describe()"
   ]
  },
  {
   "cell_type": "code",
   "execution_count": 130,
   "id": "64ba9f93-396b-4c7c-8c7e-68b0c076a3ac",
   "metadata": {},
   "outputs": [
    {
     "data": {
      "text/html": [
       "<div>\n",
       "<style scoped>\n",
       "    .dataframe tbody tr th:only-of-type {\n",
       "        vertical-align: middle;\n",
       "    }\n",
       "\n",
       "    .dataframe tbody tr th {\n",
       "        vertical-align: top;\n",
       "    }\n",
       "\n",
       "    .dataframe thead th {\n",
       "        text-align: right;\n",
       "    }\n",
       "</style>\n",
       "<table border=\"1\" class=\"dataframe\">\n",
       "  <thead>\n",
       "    <tr style=\"text-align: right;\">\n",
       "      <th></th>\n",
       "      <th>auction_id</th>\n",
       "      <th>experiment</th>\n",
       "      <th>date</th>\n",
       "      <th>device_make</th>\n",
       "      <th>browser</th>\n",
       "    </tr>\n",
       "  </thead>\n",
       "  <tbody>\n",
       "    <tr>\n",
       "      <th>count</th>\n",
       "      <td>8077</td>\n",
       "      <td>8077</td>\n",
       "      <td>8077</td>\n",
       "      <td>8077</td>\n",
       "      <td>8077</td>\n",
       "    </tr>\n",
       "    <tr>\n",
       "      <th>unique</th>\n",
       "      <td>8077</td>\n",
       "      <td>2</td>\n",
       "      <td>8</td>\n",
       "      <td>269</td>\n",
       "      <td>15</td>\n",
       "    </tr>\n",
       "    <tr>\n",
       "      <th>top</th>\n",
       "      <td>fffbb9ff-568a-41a5-a0c3-6866592f80d8</td>\n",
       "      <td>control</td>\n",
       "      <td>2020-07-03</td>\n",
       "      <td>Generic Smartphone</td>\n",
       "      <td>Chrome Mobile</td>\n",
       "    </tr>\n",
       "    <tr>\n",
       "      <th>freq</th>\n",
       "      <td>1</td>\n",
       "      <td>4071</td>\n",
       "      <td>2015</td>\n",
       "      <td>4743</td>\n",
       "      <td>4554</td>\n",
       "    </tr>\n",
       "  </tbody>\n",
       "</table>\n",
       "</div>"
      ],
      "text/plain": [
       "                                  auction_id experiment        date  \\\n",
       "count                                   8077       8077        8077   \n",
       "unique                                  8077          2           8   \n",
       "top     fffbb9ff-568a-41a5-a0c3-6866592f80d8    control  2020-07-03   \n",
       "freq                                       1       4071        2015   \n",
       "\n",
       "               device_make        browser  \n",
       "count                 8077           8077  \n",
       "unique                 269             15  \n",
       "top     Generic Smartphone  Chrome Mobile  \n",
       "freq                  4743           4554  "
      ]
     },
     "execution_count": 130,
     "metadata": {},
     "output_type": "execute_result"
    }
   ],
   "source": [
    "df.describe(include='object')"
   ]
  },
  {
   "cell_type": "code",
   "execution_count": null,
   "id": "d2599203-0448-4321-963d-e305e29b2242",
   "metadata": {},
   "outputs": [],
   "source": []
  },
  {
   "cell_type": "code",
   "execution_count": 131,
   "id": "bbd3ffff-1d41-43a7-b041-a0a907bcf482",
   "metadata": {},
   "outputs": [
    {
     "data": {
      "text/plain": [
       "((4071, 9), (4006, 9))"
      ]
     },
     "execution_count": 131,
     "metadata": {},
     "output_type": "execute_result"
    }
   ],
   "source": [
    "control = df[df['experiment'] == 'control']\n",
    "exposed = df[df['experiment'] == 'exposed'] \n",
    "\n",
    "control.shape, exposed.shape"
   ]
  },
  {
   "cell_type": "code",
   "execution_count": 132,
   "id": "7afdb047-74d0-4545-aa6e-2bb9cf73a573",
   "metadata": {},
   "outputs": [
    {
     "data": {
      "text/plain": [
       "4071"
      ]
     },
     "execution_count": 132,
     "metadata": {},
     "output_type": "execute_result"
    }
   ],
   "source": [
    "len(set(control['auction_id']) - set(exposed['auction_id']))"
   ]
  },
  {
   "cell_type": "code",
   "execution_count": null,
   "id": "8e5cc998-9fba-4ec2-a143-f0239d8d5709",
   "metadata": {},
   "outputs": [],
   "source": []
  },
  {
   "cell_type": "code",
   "execution_count": null,
   "id": "a96774f6-e058-4297-b337-942c4883f95b",
   "metadata": {},
   "outputs": [],
   "source": []
  },
  {
   "cell_type": "markdown",
   "id": "65420618-09df-43c5-976d-7cca28b0fe3e",
   "metadata": {},
   "source": [
    "# 2. Предобробка даних"
   ]
  },
  {
   "cell_type": "code",
   "execution_count": 133,
   "id": "c99353ab-57ca-476a-a935-eb4eb27a6fa7",
   "metadata": {},
   "outputs": [],
   "source": [
    "df['date'] = pd.to_datetime(df['date'])"
   ]
  },
  {
   "cell_type": "code",
   "execution_count": null,
   "id": "4828ad1c-21f0-412a-b77f-34d35f689c2f",
   "metadata": {},
   "outputs": [],
   "source": []
  },
  {
   "cell_type": "code",
   "execution_count": 134,
   "id": "403183df-0573-4177-83be-a080ef47c811",
   "metadata": {},
   "outputs": [],
   "source": [
    "df['device_make'] = df['device_make'].apply(lambda x: x.lower().replace('$', ' ').replace('-', ' ').split()[0])"
   ]
  },
  {
   "cell_type": "code",
   "execution_count": 135,
   "id": "61847632-8460-40f1-a721-6ad565cec105",
   "metadata": {},
   "outputs": [
    {
     "data": {
      "text/plain": [
       "92"
      ]
     },
     "execution_count": 135,
     "metadata": {},
     "output_type": "execute_result"
    }
   ],
   "source": [
    "df['device_make'].nunique()"
   ]
  },
  {
   "cell_type": "code",
   "execution_count": null,
   "id": "25352b0e-d935-49e2-b42b-7b98962fca39",
   "metadata": {},
   "outputs": [],
   "source": []
  },
  {
   "cell_type": "code",
   "execution_count": 136,
   "id": "e4cb9493-1e5f-4212-9ff7-239c0ff043fc",
   "metadata": {},
   "outputs": [
    {
     "name": "stdout",
     "output_type": "stream",
     "text": [
      "platform_os\n",
      "6    7648\n",
      "5     428\n",
      "7       1\n",
      "Name: count, dtype: int64 \n",
      "\n",
      "browser\n",
      "Chrome Mobile                 4554\n",
      "Chrome Mobile WebView         1489\n",
      "Samsung Internet               824\n",
      "Facebook                       764\n",
      "Mobile Safari                  337\n",
      "Chrome Mobile iOS               51\n",
      "Mobile Safari UI/WKWebView      44\n",
      "Chrome                           3\n",
      "Pinterest                        3\n",
      "Opera Mobile                     3\n",
      "Opera Mini                       1\n",
      "Android                          1\n",
      "Edge Mobile                      1\n",
      "Firefox Mobile                   1\n",
      "Puffin                           1\n",
      "Name: count, dtype: int64 \n",
      "\n",
      "device_make\n",
      "generic               4743\n",
      "samsung               2109\n",
      "iphone                 433\n",
      "nokia                  124\n",
      "pixel                   77\n",
      "                      ... \n",
      "dli                      1\n",
      "x4_soul_infinity_z       1\n",
      "wileyfox                 1\n",
      "plk                      1\n",
      "vce                      1\n",
      "Name: count, Length: 92, dtype: int64 \n",
      "\n"
     ]
    }
   ],
   "source": [
    "for i in ['platform_os', 'browser', 'device_make']:\n",
    "    print(df[i].value_counts(), '\\n')"
   ]
  },
  {
   "cell_type": "code",
   "execution_count": 137,
   "id": "243c51e5-845b-44a4-86a6-95c7888f6cc2",
   "metadata": {},
   "outputs": [
    {
     "data": {
      "text/html": [
       "<div>\n",
       "<style scoped>\n",
       "    .dataframe tbody tr th:only-of-type {\n",
       "        vertical-align: middle;\n",
       "    }\n",
       "\n",
       "    .dataframe tbody tr th {\n",
       "        vertical-align: top;\n",
       "    }\n",
       "\n",
       "    .dataframe thead th {\n",
       "        text-align: right;\n",
       "    }\n",
       "</style>\n",
       "<table border=\"1\" class=\"dataframe\">\n",
       "  <thead>\n",
       "    <tr style=\"text-align: right;\">\n",
       "      <th></th>\n",
       "      <th>auction_id</th>\n",
       "      <th>experiment</th>\n",
       "      <th>date</th>\n",
       "      <th>hour</th>\n",
       "      <th>device_make</th>\n",
       "      <th>platform_os</th>\n",
       "      <th>browser</th>\n",
       "      <th>yes</th>\n",
       "      <th>no</th>\n",
       "    </tr>\n",
       "  </thead>\n",
       "  <tbody>\n",
       "    <tr>\n",
       "      <th>2332</th>\n",
       "      <td>4c4332e4-25ce-483b-a565-76a76a802ca6</td>\n",
       "      <td>exposed</td>\n",
       "      <td>2020-07-03</td>\n",
       "      <td>13</td>\n",
       "      <td>lumia</td>\n",
       "      <td>7</td>\n",
       "      <td>Edge Mobile</td>\n",
       "      <td>0</td>\n",
       "      <td>0</td>\n",
       "    </tr>\n",
       "  </tbody>\n",
       "</table>\n",
       "</div>"
      ],
      "text/plain": [
       "                                auction_id experiment       date  hour  \\\n",
       "2332  4c4332e4-25ce-483b-a565-76a76a802ca6    exposed 2020-07-03    13   \n",
       "\n",
       "     device_make  platform_os      browser  yes  no  \n",
       "2332       lumia            7  Edge Mobile    0   0  "
      ]
     },
     "execution_count": 137,
     "metadata": {},
     "output_type": "execute_result"
    }
   ],
   "source": [
    "df[df['platform_os'] == 7]"
   ]
  },
  {
   "cell_type": "code",
   "execution_count": 138,
   "id": "72c9b642-3e15-4c61-9b0c-42b5562d68e6",
   "metadata": {},
   "outputs": [],
   "source": [
    "df.drop(index=2332, inplace=True)"
   ]
  },
  {
   "cell_type": "markdown",
   "id": "6766bbc1-1c8a-4a18-abfe-6ee24e40553a",
   "metadata": {},
   "source": [
    "Смартфони Lumia це вже застаріла модель, яка давно не оновлюється. Вони можуть неправильно показувати рекламу або зовсім не показувати її. Цей запис потрібно видалити, оскільки він не несе жодної інформації."
   ]
  },
  {
   "cell_type": "code",
   "execution_count": null,
   "id": "a7e7d7de-7a1c-4047-ae3c-9ff12a60b6f6",
   "metadata": {},
   "outputs": [],
   "source": []
  },
  {
   "cell_type": "code",
   "execution_count": 139,
   "id": "c4f7824e-77b9-4568-b3c2-169f29c33742",
   "metadata": {},
   "outputs": [
    {
     "data": {
      "text/plain": [
       "browser\n",
       "Chrome Mobile                 4554\n",
       "Chrome Mobile WebView         1489\n",
       "Samsung Internet               824\n",
       "Facebook                       764\n",
       "Mobile Safari                  337\n",
       "Chrome Mobile iOS               51\n",
       "Mobile Safari UI/WKWebView      44\n",
       "Chrome                           3\n",
       "Opera Mobile                     3\n",
       "Pinterest                        3\n",
       "Android                          1\n",
       "Opera Mini                       1\n",
       "Firefox Mobile                   1\n",
       "Puffin                           1\n",
       "Name: count, dtype: int64"
      ]
     },
     "execution_count": 139,
     "metadata": {},
     "output_type": "execute_result"
    }
   ],
   "source": [
    "df['browser'].value_counts()"
   ]
  },
  {
   "cell_type": "code",
   "execution_count": 140,
   "id": "270e3a56-f5ab-46b1-964e-44f3b29bef06",
   "metadata": {},
   "outputs": [],
   "source": [
    "new_browser = {\n",
    "    'Chrome Mobile WebView': 'WebView',\n",
    "    'Mobile Safari UI/WKWebView': 'WebView',\n",
    "    \n",
    "    'Chrome Mobile iOS': 'Chrome Mobile',\n",
    "    'Android': 'Chrome Mobile',\n",
    "    'Chrome': 'Chrome Mobile',\n",
    "    'Opera Mobile': 'Chrome Mobile',\n",
    "    'Opera Mini': 'Chrome Mobile',\n",
    "    'Firefox Mobile': 'Chrome Mobile',\n",
    "    'Puffin': 'Chrome Mobile',\n",
    "    \n",
    "    'Facebook': 'App',\n",
    "    'Pinterest': 'App'\n",
    "}\n",
    "\n",
    "df['browser'] = df['browser'].replace(new_browser)"
   ]
  },
  {
   "cell_type": "code",
   "execution_count": null,
   "id": "428d079a-1390-4622-a25f-7e7ac6c0c138",
   "metadata": {},
   "outputs": [],
   "source": []
  },
  {
   "cell_type": "code",
   "execution_count": 150,
   "id": "5e50e6b7-33ec-4841-a8c3-67d987c11fc5",
   "metadata": {},
   "outputs": [],
   "source": [
    "x = df['device_make'].value_counts()\n",
    "df['device_make'] = df['device_make'].replace({i: 'other' for i in  x.loc[x < 150].index})"
   ]
  },
  {
   "cell_type": "code",
   "execution_count": 151,
   "id": "8fa97203-65fb-4e88-ada5-d14fb7092ce4",
   "metadata": {},
   "outputs": [
    {
     "data": {
      "text/plain": [
       "device_make\n",
       "generic    4743\n",
       "samsung    2109\n",
       "other       791\n",
       "iphone      433\n",
       "Name: count, dtype: int64"
      ]
     },
     "execution_count": 151,
     "metadata": {},
     "output_type": "execute_result"
    }
   ],
   "source": [
    "df['device_make'].value_counts()"
   ]
  },
  {
   "cell_type": "code",
   "execution_count": null,
   "id": "5c30c97e-2554-4501-ae94-d4c2db8469b9",
   "metadata": {},
   "outputs": [],
   "source": []
  },
  {
   "cell_type": "markdown",
   "id": "75f466ff-c25f-4605-a540-5fd471ab5524",
   "metadata": {},
   "source": [
    "# 3. Аналіз даних"
   ]
  },
  {
   "cell_type": "code",
   "execution_count": 153,
   "id": "7937f1d3-6ec5-4100-9945-3970790e0d5e",
   "metadata": {},
   "outputs": [
    {
     "data": {
      "text/plain": [
       "(0.0, 0.0)"
      ]
     },
     "execution_count": 153,
     "metadata": {},
     "output_type": "execute_result"
    }
   ],
   "source": [
    "df[df['yes'] == 1]['no'].mean(), df[df['no'] == 1]['yes'].mean()"
   ]
  },
  {
   "cell_type": "code",
   "execution_count": 154,
   "id": "dbab9a98-1047-4621-ab70-95393efc1042",
   "metadata": {},
   "outputs": [
    {
     "data": {
      "text/plain": [
       "(6833, 9)"
      ]
     },
     "execution_count": 154,
     "metadata": {},
     "output_type": "execute_result"
    }
   ],
   "source": [
    "df[(df['yes'] == 0) & (df['no'] == 0)].shape"
   ]
  },
  {
   "cell_type": "code",
   "execution_count": 155,
   "id": "2d3157f6-a3a9-4f0a-80a5-59e93dfcbf1a",
   "metadata": {},
   "outputs": [
    {
     "data": {
      "text/plain": [
       "yes     572\n",
       "no      671\n",
       "sum    1243\n",
       "dtype: int64"
      ]
     },
     "execution_count": 155,
     "metadata": {},
     "output_type": "execute_result"
    }
   ],
   "source": [
    "x = df.groupby('experiment')[['yes', 'no']].sum()\n",
    "x['sum'] = x.sum(axis=1)\n",
    "x.sum()"
   ]
  },
  {
   "cell_type": "code",
   "execution_count": 156,
   "id": "debf926a-f27a-450d-ad4e-6102643a54a8",
   "metadata": {},
   "outputs": [
    {
     "data": {
      "text/plain": [
       "1243"
      ]
     },
     "execution_count": 156,
     "metadata": {},
     "output_type": "execute_result"
    }
   ],
   "source": [
    "df['converted'] = df['yes'] + df['no']\n",
    "df['converted'].sum()"
   ]
  },
  {
   "cell_type": "code",
   "execution_count": null,
   "id": "18d984bf-2bcf-4c08-b67b-c0be60b9baf8",
   "metadata": {},
   "outputs": [],
   "source": []
  },
  {
   "cell_type": "code",
   "execution_count": null,
   "id": "b7a00d8c-b793-4e75-9c9c-0b8dabe7982c",
   "metadata": {},
   "outputs": [],
   "source": []
  },
  {
   "cell_type": "code",
   "execution_count": 164,
   "id": "68af09e6-8b0a-44e1-a2da-8e4410fca620",
   "metadata": {},
   "outputs": [
    {
     "data": {
      "image/png": "[encoded data removed]",
      "text/plain": [
       "<Figure size 640x480 with 1 Axes>"
      ]
     },
     "metadata": {},
     "output_type": "display_data"
    },
    {
     "data": {
      "image/png": "[encoded data removed]",
      "text/plain": [
       "<Figure size 640x480 with 1 Axes>"
      ]
     },
     "metadata": {},
     "output_type": "display_data"
    },
    {
     "data": {
      "image/png": "[encoded data removed]",
      "text/plain": [
       "<Figure size 640x480 with 1 Axes>"
      ]
     },
     "metadata": {},
     "output_type": "display_data"
    },
    {
     "data": {
      "image/png": "[encoded data removed]",
      "text/plain": [
       "<Figure size 640x480 with 1 Axes>"
      ]
     },
     "metadata": {},
     "output_type": "display_data"
    },
    {
     "data": {
      "image/png": "[encoded data removed]",
      "text/plain": [
       "<Figure size 640x480 with 1 Axes>"
      ]
     },
     "metadata": {},
     "output_type": "display_data"
    }
   ],
   "source": [
    "clmns = ['date', 'hour', 'device_make', 'platform_os', 'browser']\n",
    "for i in clmns:\n",
    "    df.groupby(i)['converted'].mean().plot(kind='bar')\n",
    "    plt.show();"
   ]
  },
  {
   "cell_type": "code",
   "execution_count": null,
   "id": "88444b15-9960-4a32-b0d9-6fcc3a3bd0ac",
   "metadata": {},
   "outputs": [],
   "source": []
  },
  {
   "cell_type": "code",
   "execution_count": 171,
   "id": "2e3f8ddb-be9c-47e0-bfdb-ca68f2ba7708",
   "metadata": {},
   "outputs": [],
   "source": [
    "def bar_plot(df, grb_column, column='converted', title='', w=0.3):\n",
    "    control = df[df['experiment'] == 'control'].groupby(grb_column)[column].mean()\n",
    "    treatment = df[df['experiment'] == 'exposed'].groupby(grb_column)[column].mean()\n",
    "    \n",
    "    control_index = control.index\n",
    "    tratment_index = treatment.index\n",
    "\n",
    "    if control_index.dtype != 'int64':\n",
    "        control_index = np.array([i for i, _ in enumerate(control_index)])\n",
    "        tratment_index = np.array([i for i, _ in enumerate(tratment_index)])\n",
    "\n",
    "    w = w\n",
    "    \n",
    "    plt.bar(control_index - w/2, height=control, width=w, label='control')\n",
    "    plt.bar(tratment_index + w/2, height=treatment, width=w, label='treatment')\n",
    "    \n",
    "    plt.title(title)\n",
    "    plt.legend()\n",
    "    plt.show();"
   ]
  },
  {
   "cell_type": "code",
   "execution_count": 176,
   "id": "8132e4f8-c953-4ac7-93c2-1a561405c4ad",
   "metadata": {
    "scrolled": true
   },
   "outputs": [
    {
     "data": {
      "image/png": "[encoded data removed]",
      "text/plain": [
       "<Figure size 640x480 with 1 Axes>"
      ]
     },
     "metadata": {},
     "output_type": "display_data"
    },
    {
     "data": {
      "image/png": "[encoded data removed]",
      "text/plain": [
       "<Figure size 640x480 with 1 Axes>"
      ]
     },
     "metadata": {},
     "output_type": "display_data"
    },
    {
     "data": {
      "image/png": "[encoded data removed]",
      "text/plain": [
       "<Figure size 640x480 with 1 Axes>"
      ]
     },
     "metadata": {},
     "output_type": "display_data"
    },
    {
     "data": {
      "image/png": "[encoded data removed]",
      "text/plain": [
       "<Figure size 640x480 with 1 Axes>"
      ]
     },
     "metadata": {},
     "output_type": "display_data"
    },
    {
     "data": {
      "image/png": "[encoded data removed]",
      "text/plain": [
       "<Figure size 640x480 with 1 Axes>"
      ]
     },
     "metadata": {},
     "output_type": "display_data"
    }
   ],
   "source": [
    "for i in clmns:\n",
    "    bar_plot(df, i, title=i)"
   ]
  },
  {
   "cell_type": "code",
   "execution_count": null,
   "id": "411fc6c1-c051-4f2f-8474-7773594d2f5b",
   "metadata": {},
   "outputs": [],
   "source": []
  },
  {
   "cell_type": "code",
   "execution_count": null,
   "id": "4ca52a75-6d0f-48eb-9bb1-cac0531da36f",
   "metadata": {},
   "outputs": [],
   "source": []
  },
  {
   "cell_type": "markdown",
   "id": "99cf027b-25f3-4a06-82b5-78c11ea0c505",
   "metadata": {},
   "source": [
    "* На iPhone, у браузері Safari та на платформі #5 загалом конверсія дуже низька.\n",
    "* **Найвища конверсія спостерігається в додатках Facebook і Pinterest.**\n",
    "* Протягом усього періоду конверсія в тестовій групі була вищою.\n",
    "* З 09:00 до 15:00 конверсія приблизно однакова, в інший час доби вона вища в тестовій групі.\n",
    "* Через масове поширення \"Generic Smartphone\" вони формують основну конверсію, навіть попри те, що на пристроях iPhone, Samsung та інших вона вища в контрольній групі.\n",
    "* У різних браузерах конверсія або однакова, або вища в тестовій групі."
   ]
  },
  {
   "cell_type": "code",
   "execution_count": null,
   "id": "67adfa04-62e5-4c72-9479-60a749ca1342",
   "metadata": {},
   "outputs": [],
   "source": []
  },
  {
   "cell_type": "markdown",
   "id": "dbde351c-05a3-48ec-9975-d3e4cbf9ed81",
   "metadata": {},
   "source": [
    "# 4. Аналіз A/B тесту"
   ]
  },
  {
   "cell_type": "markdown",
   "id": "25cb1b2e-b37c-419f-b34d-6f89c04d1884",
   "metadata": {},
   "source": [
    "Сформулюємо гіпотези:\n",
    "\n",
    "* H0: Реклама SmartAd не впливає на залученість користувачів у BIO-анкету, тобто конверсія в відповідь є однаковою у контрольній та тестовій групах.\n",
    "* H1: Реклама SmartAd впливає на залученість користувачів у BIO-анкету, тобто конверсія в відповідь у контрольній та тестовій групах не є рівною."
   ]
  },
  {
   "cell_type": "code",
   "execution_count": 187,
   "id": "23661756-59f6-4995-b1d5-c7c314c916a5",
   "metadata": {},
   "outputs": [
    {
     "name": "stdout",
     "output_type": "stream",
     "text": [
      "Конверсия в контрольній группі 0.144, в тестовій 0.164.\n",
      "p value = 0.01\n",
      "Нульову гіпотезу відкидаємо, конверсія в контрольній і експериментальній групах відрізняються статистично.\n"
     ]
    }
   ],
   "source": [
    "alpha = 0.05\n",
    "\n",
    "a = df[df['experiment'] == 'control']['converted']\n",
    "b = df[df['experiment'] == 'exposed']['converted']\n",
    "\n",
    "z_stat, p_val = proportions_ztest([a.sum(), b.sum()], [a.count(), b.count()])\n",
    "\n",
    "print(f'Конверсия в контрольній группі {a.mean():.3f}, в тестовій {b.mean():.3f}.')\n",
    "\n",
    "if p_val > alpha:\n",
    "    print(f'p value = {p_val:.2f}\\nНульову гіпотезу не відкидаємо, конверсія в контрольній і експериментальній групах не відрізняються статистично.')\n",
    "else:\n",
    "    print(f'p value = {p_val:.2f}\\nНульову гіпотезу відкидаємо, конверсія в контрольній і експериментальній групах відрізняються статистично.')"
   ]
  },
  {
   "cell_type": "code",
   "execution_count": null,
   "id": "064372f0-b322-4f50-9c73-b0800409819d",
   "metadata": {},
   "outputs": [],
   "source": []
  },
  {
   "cell_type": "markdown",
   "id": "58799a55-0185-45be-8618-caa0200ce58d",
   "metadata": {},
   "source": [
    "# 5. Висновки\n",
    "\n",
    "Результати A/B тесту показали, що реклама SmartAd має позитивний вплив на залученість користувачів до BIO-анкети. Найвища конверсія спостерігається в додатках Facebook і Pinterest.\n",
    "\n",
    "Особливо важливою є масова присутність Generic Smartphone, що забезпечує основну частину конверсії. На різних браузерах конверсія була або однакова, або вища в тестовій групі.\n",
    "\n",
    "Результати статистичного тесту показали, що конверсія в контрольній та тестовій групах відрізняється (p-value = 0.01), отже, реклама SmartAd справді має позитивний вплив на залученість користувачів.\n",
    "\n",
    "Рекомендації:\n",
    "- оптимізувати рекламу для iPhone та Safari, де конверсія була дуже низькою\n",
    "- збільшити рекламний бюджет на Facebook та Pinterest, де конверсія вища\n",
    "- таргетувати рекламу на певні години доби для досягнення кращих результатів"
   ]
  },
  {
   "cell_type": "code",
   "execution_count": null,
   "id": "763bddf3-5a0c-4d0f-8a2d-ddcee02ce0d0",
   "metadata": {},
   "outputs": [],
   "source": []
  },
  {
   "cell_type": "code",
   "execution_count": null,
   "id": "4d178c7c-0267-4094-b11f-bb94a17bdf7e",
   "metadata": {},
   "outputs": [],
   "source": []
  },
  {
   "cell_type": "code",
   "execution_count": null,
   "id": "68282c88-4979-42ec-a147-92e001093ccc",
   "metadata": {},
   "outputs": [],
   "source": []
  },
  {
   "cell_type": "code",
   "execution_count": null,
   "id": "2a49965a-5cb5-48e8-b704-c7f3db23016e",
   "metadata": {},
   "outputs": [],
   "source": []
  },
  {
   "cell_type": "code",
   "execution_count": null,
   "id": "08fea4b9-8578-4bb3-bb38-612389532754",
   "metadata": {},
   "outputs": [],
   "source": []
  },
  {
   "cell_type": "code",
   "execution_count": null,
   "id": "a6ae4f7d-70ff-4d3b-8340-aa25c38bd57a",
   "metadata": {},
   "outputs": [],
   "source": []
  },
  {
   "cell_type": "code",
   "execution_count": null,
   "id": "3964890b-5db3-4f86-884d-d3e770a7691c",
   "metadata": {},
   "outputs": [],
   "source": []
  }
 ],
 "metadata": {
  "kernelspec": {
   "display_name": "Python 3 (ipykernel)",
   "language": "python",
   "name": "python3"
  },
  "language_info": {
   "codemirror_mode": {
    "name": "ipython",
    "version": 3
   },
   "file_extension": ".py",
   "mimetype": "text/x-python",
   "name": "python",
   "nbconvert_exporter": "python",
   "pygments_lexer": "ipython3",
   "version": "3.12.2"
  }
 },
 "nbformat": 4,
 "nbformat_minor": 5
}
