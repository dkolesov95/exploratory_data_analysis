{
 "cells": [
  {
   "cell_type": "markdown",
   "id": "5d2fcfca-78db-4f67-ab22-a4d70f091731",
   "metadata": {},
   "source": [
    "Дані містять інформацію про поведінку користувачів на сайті e-commerce, зокрема кількість переглянутих сторінок різних типів, час, проведений на них, та ключові аналітичні метрики (Bounce Rate, Exit Rate, Page Value). Також включено характеристики відвідувачів, такі як операційна система, браузер, регіон, джерело трафіку, тип користувача (новий чи той, що повернувся) та інформацію про дату відвідування (місяць, вихідний день, наближеність до спеціальних дат).\n",
    "\n",
    "План дій:\n",
    "1. Огляд даних\n",
    "2. Предобробка даних\n",
    "3. Аналіз даних\n",
    "4. Висновки\n",
    "\n",
    "Доступні дані:\n",
    "* Administrative – кількість переглянутих адміністративних сторінок (наприклад, сторінки з інформацією про правила користування, політику конфіденційності тощо).\n",
    "* Administrative Duration – загальний час, проведений користувачем на адміністративних сторінках.\n",
    "* Informational – кількість переглянутих інформаційних сторінок (наприклад, статті, довідкова інформація).\n",
    "* Informational Duration – загальний час, проведений користувачем на інформаційних сторінках.\n",
    "* Product Related – кількість переглянутих сторінок, пов’язаних із товарами.\n",
    "* Product Related Duration – загальний час, проведений користувачем на сторінках товарів.\n",
    "* Bounce Rate – відсоток користувачів, які залишили сайт після перегляду лише однієї сторінки, не виконавши жодних дій.\n",
    "* Exit Rate – відсоток виходів зі сторінки серед усіх її переглядів (тобто частка випадків, коли ця сторінка була останньою у сесії).\n",
    "* Page Value – середня цінність сторінки для користувачів, які переглядали її перед здійсненням покупки.\n",
    "* Special Day – показник близькості дати відвідування сайту до спеціального дня (наприклад, День матері, День святого Валентина), коли ймовірність здійснення покупки зростає.\n",
    "* Operating System – операційна система користувача.\n",
    "* Browser – браузер, з якого користувач зайшов на сайт.\n",
    "* Region – регіон, з якого користувач зайшов на сайт.\n",
    "* Traffic Type – тип джерела трафіку (наприклад, пряма навігація, пошуковий трафік, рекламні кампанії тощо).\n",
    "* Visitor Type – тип користувача: новий або той, що повернувся.\n",
    "* Weekend – булеве значення (так/ні), яке вказує, чи припадає візит на вихідний день.\n",
    "* Month – місяць, у якому було здійснено відвідування."
   ]
  },
  {
   "cell_type": "code",
   "execution_count": 425,
   "id": "3645f203-ed59-483c-870f-8b6ae52dd153",
   "metadata": {},
   "outputs": [],
   "source": [
    "import warnings\n",
    "warnings.filterwarnings('ignore')\n",
    "\n",
    "import pandas as pd\n",
    "import numpy as np\n",
    "import matplotlib.pyplot as plt\n",
    "import seaborn as sns\n",
    "import plotly.express as px"
   ]
  },
  {
   "cell_type": "code",
   "execution_count": 375,
   "id": "0e0c142e-780e-4c01-9ec9-0fa6520faaaa",
   "metadata": {},
   "outputs": [
    {
     "name": "stdout",
     "output_type": "stream",
     "text": [
      "README.md  online_shoppers.ipynb  online_shoppers_intention.csv\n"
     ]
    }
   ],
   "source": [
    "!ls"
   ]
  },
  {
   "cell_type": "code",
   "execution_count": 376,
   "id": "bcfa52be-f386-43c6-8c5b-915b04cd50e1",
   "metadata": {},
   "outputs": [],
   "source": [
    "df = pd.read_csv('online_shoppers_intention.csv')"
   ]
  },
  {
   "cell_type": "code",
   "execution_count": null,
   "id": "535aed2a-29e8-4026-b7a4-4c8c17564314",
   "metadata": {},
   "outputs": [],
   "source": []
  },
  {
   "cell_type": "markdown",
   "id": "f6beec40-59cd-48e1-9bb5-c0257445d4b0",
   "metadata": {},
   "source": [
    "# 1. Огляд даних"
   ]
  },
  {
   "cell_type": "code",
   "execution_count": 377,
   "id": "ecbba15a-c5f5-4457-b09c-08ebb8d9cfe6",
   "metadata": {},
   "outputs": [
    {
     "data": {
      "text/plain": [
       "(12330, 18)"
      ]
     },
     "execution_count": 377,
     "metadata": {},
     "output_type": "execute_result"
    }
   ],
   "source": [
    "df.shape"
   ]
  },
  {
   "cell_type": "code",
   "execution_count": 378,
   "id": "91472e32-a607-4360-884a-af594a240ada",
   "metadata": {},
   "outputs": [
    {
     "data": {
      "text/html": [
       "<div>\n",
       "<style scoped>\n",
       "    .dataframe tbody tr th:only-of-type {\n",
       "        vertical-align: middle;\n",
       "    }\n",
       "\n",
       "    .dataframe tbody tr th {\n",
       "        vertical-align: top;\n",
       "    }\n",
       "\n",
       "    .dataframe thead th {\n",
       "        text-align: right;\n",
       "    }\n",
       "</style>\n",
       "<table border=\"1\" class=\"dataframe\">\n",
       "  <thead>\n",
       "    <tr style=\"text-align: right;\">\n",
       "      <th></th>\n",
       "      <th>0</th>\n",
       "      <th>1</th>\n",
       "      <th>2</th>\n",
       "      <th>3</th>\n",
       "      <th>4</th>\n",
       "    </tr>\n",
       "  </thead>\n",
       "  <tbody>\n",
       "    <tr>\n",
       "      <th>Administrative</th>\n",
       "      <td>0</td>\n",
       "      <td>0</td>\n",
       "      <td>0</td>\n",
       "      <td>0</td>\n",
       "      <td>0</td>\n",
       "    </tr>\n",
       "    <tr>\n",
       "      <th>Administrative_Duration</th>\n",
       "      <td>0.0</td>\n",
       "      <td>0.0</td>\n",
       "      <td>0.0</td>\n",
       "      <td>0.0</td>\n",
       "      <td>0.0</td>\n",
       "    </tr>\n",
       "    <tr>\n",
       "      <th>Informational</th>\n",
       "      <td>0</td>\n",
       "      <td>0</td>\n",
       "      <td>0</td>\n",
       "      <td>0</td>\n",
       "      <td>0</td>\n",
       "    </tr>\n",
       "    <tr>\n",
       "      <th>Informational_Duration</th>\n",
       "      <td>0.0</td>\n",
       "      <td>0.0</td>\n",
       "      <td>0.0</td>\n",
       "      <td>0.0</td>\n",
       "      <td>0.0</td>\n",
       "    </tr>\n",
       "    <tr>\n",
       "      <th>ProductRelated</th>\n",
       "      <td>1</td>\n",
       "      <td>2</td>\n",
       "      <td>1</td>\n",
       "      <td>2</td>\n",
       "      <td>10</td>\n",
       "    </tr>\n",
       "    <tr>\n",
       "      <th>ProductRelated_Duration</th>\n",
       "      <td>0.0</td>\n",
       "      <td>64.0</td>\n",
       "      <td>0.0</td>\n",
       "      <td>2.666667</td>\n",
       "      <td>627.5</td>\n",
       "    </tr>\n",
       "    <tr>\n",
       "      <th>BounceRates</th>\n",
       "      <td>0.2</td>\n",
       "      <td>0.0</td>\n",
       "      <td>0.2</td>\n",
       "      <td>0.05</td>\n",
       "      <td>0.02</td>\n",
       "    </tr>\n",
       "    <tr>\n",
       "      <th>ExitRates</th>\n",
       "      <td>0.2</td>\n",
       "      <td>0.1</td>\n",
       "      <td>0.2</td>\n",
       "      <td>0.14</td>\n",
       "      <td>0.05</td>\n",
       "    </tr>\n",
       "    <tr>\n",
       "      <th>PageValues</th>\n",
       "      <td>0.0</td>\n",
       "      <td>0.0</td>\n",
       "      <td>0.0</td>\n",
       "      <td>0.0</td>\n",
       "      <td>0.0</td>\n",
       "    </tr>\n",
       "    <tr>\n",
       "      <th>SpecialDay</th>\n",
       "      <td>0.0</td>\n",
       "      <td>0.0</td>\n",
       "      <td>0.0</td>\n",
       "      <td>0.0</td>\n",
       "      <td>0.0</td>\n",
       "    </tr>\n",
       "    <tr>\n",
       "      <th>Month</th>\n",
       "      <td>Feb</td>\n",
       "      <td>Feb</td>\n",
       "      <td>Feb</td>\n",
       "      <td>Feb</td>\n",
       "      <td>Feb</td>\n",
       "    </tr>\n",
       "    <tr>\n",
       "      <th>OperatingSystems</th>\n",
       "      <td>1</td>\n",
       "      <td>2</td>\n",
       "      <td>4</td>\n",
       "      <td>3</td>\n",
       "      <td>3</td>\n",
       "    </tr>\n",
       "    <tr>\n",
       "      <th>Browser</th>\n",
       "      <td>1</td>\n",
       "      <td>2</td>\n",
       "      <td>1</td>\n",
       "      <td>2</td>\n",
       "      <td>3</td>\n",
       "    </tr>\n",
       "    <tr>\n",
       "      <th>Region</th>\n",
       "      <td>1</td>\n",
       "      <td>1</td>\n",
       "      <td>9</td>\n",
       "      <td>2</td>\n",
       "      <td>1</td>\n",
       "    </tr>\n",
       "    <tr>\n",
       "      <th>TrafficType</th>\n",
       "      <td>1</td>\n",
       "      <td>2</td>\n",
       "      <td>3</td>\n",
       "      <td>4</td>\n",
       "      <td>4</td>\n",
       "    </tr>\n",
       "    <tr>\n",
       "      <th>VisitorType</th>\n",
       "      <td>Returning_Visitor</td>\n",
       "      <td>Returning_Visitor</td>\n",
       "      <td>Returning_Visitor</td>\n",
       "      <td>Returning_Visitor</td>\n",
       "      <td>Returning_Visitor</td>\n",
       "    </tr>\n",
       "    <tr>\n",
       "      <th>Weekend</th>\n",
       "      <td>False</td>\n",
       "      <td>False</td>\n",
       "      <td>False</td>\n",
       "      <td>False</td>\n",
       "      <td>True</td>\n",
       "    </tr>\n",
       "    <tr>\n",
       "      <th>Revenue</th>\n",
       "      <td>False</td>\n",
       "      <td>False</td>\n",
       "      <td>False</td>\n",
       "      <td>False</td>\n",
       "      <td>False</td>\n",
       "    </tr>\n",
       "  </tbody>\n",
       "</table>\n",
       "</div>"
      ],
      "text/plain": [
       "                                         0                  1  \\\n",
       "Administrative                           0                  0   \n",
       "Administrative_Duration                0.0                0.0   \n",
       "Informational                            0                  0   \n",
       "Informational_Duration                 0.0                0.0   \n",
       "ProductRelated                           1                  2   \n",
       "ProductRelated_Duration                0.0               64.0   \n",
       "BounceRates                            0.2                0.0   \n",
       "ExitRates                              0.2                0.1   \n",
       "PageValues                             0.0                0.0   \n",
       "SpecialDay                             0.0                0.0   \n",
       "Month                                  Feb                Feb   \n",
       "OperatingSystems                         1                  2   \n",
       "Browser                                  1                  2   \n",
       "Region                                   1                  1   \n",
       "TrafficType                              1                  2   \n",
       "VisitorType              Returning_Visitor  Returning_Visitor   \n",
       "Weekend                              False              False   \n",
       "Revenue                              False              False   \n",
       "\n",
       "                                         2                  3  \\\n",
       "Administrative                           0                  0   \n",
       "Administrative_Duration                0.0                0.0   \n",
       "Informational                            0                  0   \n",
       "Informational_Duration                 0.0                0.0   \n",
       "ProductRelated                           1                  2   \n",
       "ProductRelated_Duration                0.0           2.666667   \n",
       "BounceRates                            0.2               0.05   \n",
       "ExitRates                              0.2               0.14   \n",
       "PageValues                             0.0                0.0   \n",
       "SpecialDay                             0.0                0.0   \n",
       "Month                                  Feb                Feb   \n",
       "OperatingSystems                         4                  3   \n",
       "Browser                                  1                  2   \n",
       "Region                                   9                  2   \n",
       "TrafficType                              3                  4   \n",
       "VisitorType              Returning_Visitor  Returning_Visitor   \n",
       "Weekend                              False              False   \n",
       "Revenue                              False              False   \n",
       "\n",
       "                                         4  \n",
       "Administrative                           0  \n",
       "Administrative_Duration                0.0  \n",
       "Informational                            0  \n",
       "Informational_Duration                 0.0  \n",
       "ProductRelated                          10  \n",
       "ProductRelated_Duration              627.5  \n",
       "BounceRates                           0.02  \n",
       "ExitRates                             0.05  \n",
       "PageValues                             0.0  \n",
       "SpecialDay                             0.0  \n",
       "Month                                  Feb  \n",
       "OperatingSystems                         3  \n",
       "Browser                                  3  \n",
       "Region                                   1  \n",
       "TrafficType                              4  \n",
       "VisitorType              Returning_Visitor  \n",
       "Weekend                               True  \n",
       "Revenue                              False  "
      ]
     },
     "execution_count": 378,
     "metadata": {},
     "output_type": "execute_result"
    }
   ],
   "source": [
    "df.head().T"
   ]
  },
  {
   "cell_type": "code",
   "execution_count": 379,
   "id": "ed0d5e3f-0115-4f89-84db-dcf65fae39c1",
   "metadata": {},
   "outputs": [
    {
     "name": "stdout",
     "output_type": "stream",
     "text": [
      "<class 'pandas.core.frame.DataFrame'>\n",
      "RangeIndex: 12330 entries, 0 to 12329\n",
      "Data columns (total 18 columns):\n",
      " #   Column                   Non-Null Count  Dtype  \n",
      "---  ------                   --------------  -----  \n",
      " 0   Administrative           12330 non-null  int64  \n",
      " 1   Administrative_Duration  12330 non-null  float64\n",
      " 2   Informational            12330 non-null  int64  \n",
      " 3   Informational_Duration   12330 non-null  float64\n",
      " 4   ProductRelated           12330 non-null  int64  \n",
      " 5   ProductRelated_Duration  12330 non-null  float64\n",
      " 6   BounceRates              12330 non-null  float64\n",
      " 7   ExitRates                12330 non-null  float64\n",
      " 8   PageValues               12330 non-null  float64\n",
      " 9   SpecialDay               12330 non-null  float64\n",
      " 10  Month                    12330 non-null  object \n",
      " 11  OperatingSystems         12330 non-null  int64  \n",
      " 12  Browser                  12330 non-null  int64  \n",
      " 13  Region                   12330 non-null  int64  \n",
      " 14  TrafficType              12330 non-null  int64  \n",
      " 15  VisitorType              12330 non-null  object \n",
      " 16  Weekend                  12330 non-null  bool   \n",
      " 17  Revenue                  12330 non-null  bool   \n",
      "dtypes: bool(2), float64(7), int64(7), object(2)\n",
      "memory usage: 1.5+ MB\n"
     ]
    }
   ],
   "source": [
    "df.info()"
   ]
  },
  {
   "cell_type": "code",
   "execution_count": 380,
   "id": "994563b2-1c08-470f-8e2f-d0f0ccadc624",
   "metadata": {},
   "outputs": [],
   "source": [
    "df['Weekend'] = df['Weekend'] * 1\n",
    "df['Revenue'] = df['Revenue'] * 1"
   ]
  },
  {
   "cell_type": "code",
   "execution_count": 381,
   "id": "2ec85e03-9102-497a-9db5-0800b7902844",
   "metadata": {},
   "outputs": [
    {
     "data": {
      "text/plain": [
       "125"
      ]
     },
     "execution_count": 381,
     "metadata": {},
     "output_type": "execute_result"
    }
   ],
   "source": [
    "df.duplicated().sum()"
   ]
  },
  {
   "cell_type": "code",
   "execution_count": 382,
   "id": "9abfc8a0-8189-4720-a00a-f0ef1db14539",
   "metadata": {},
   "outputs": [
    {
     "data": {
      "text/plain": [
       "Administrative             0\n",
       "Administrative_Duration    0\n",
       "Informational              0\n",
       "Informational_Duration     0\n",
       "ProductRelated             0\n",
       "ProductRelated_Duration    0\n",
       "BounceRates                0\n",
       "ExitRates                  0\n",
       "PageValues                 0\n",
       "SpecialDay                 0\n",
       "Month                      0\n",
       "OperatingSystems           0\n",
       "Browser                    0\n",
       "Region                     0\n",
       "TrafficType                0\n",
       "VisitorType                0\n",
       "Weekend                    0\n",
       "Revenue                    0\n",
       "dtype: int64"
      ]
     },
     "execution_count": 382,
     "metadata": {},
     "output_type": "execute_result"
    }
   ],
   "source": [
    "df.isna().sum()"
   ]
  },
  {
   "cell_type": "code",
   "execution_count": 383,
   "id": "0156b971-7dc0-4cb1-8be9-b46d83ea7719",
   "metadata": {},
   "outputs": [
    {
     "data": {
      "text/html": [
       "<div>\n",
       "<style scoped>\n",
       "    .dataframe tbody tr th:only-of-type {\n",
       "        vertical-align: middle;\n",
       "    }\n",
       "\n",
       "    .dataframe tbody tr th {\n",
       "        vertical-align: top;\n",
       "    }\n",
       "\n",
       "    .dataframe thead th {\n",
       "        text-align: right;\n",
       "    }\n",
       "</style>\n",
       "<table border=\"1\" class=\"dataframe\">\n",
       "  <thead>\n",
       "    <tr style=\"text-align: right;\">\n",
       "      <th></th>\n",
       "      <th>count</th>\n",
       "      <th>mean</th>\n",
       "      <th>std</th>\n",
       "      <th>min</th>\n",
       "      <th>25%</th>\n",
       "      <th>50%</th>\n",
       "      <th>75%</th>\n",
       "      <th>max</th>\n",
       "    </tr>\n",
       "  </thead>\n",
       "  <tbody>\n",
       "    <tr>\n",
       "      <th>Administrative</th>\n",
       "      <td>12330.0</td>\n",
       "      <td>2.315166</td>\n",
       "      <td>3.321784</td>\n",
       "      <td>0.0</td>\n",
       "      <td>0.000000</td>\n",
       "      <td>1.000000</td>\n",
       "      <td>4.000000</td>\n",
       "      <td>27.000000</td>\n",
       "    </tr>\n",
       "    <tr>\n",
       "      <th>Administrative_Duration</th>\n",
       "      <td>12330.0</td>\n",
       "      <td>80.818611</td>\n",
       "      <td>176.779107</td>\n",
       "      <td>0.0</td>\n",
       "      <td>0.000000</td>\n",
       "      <td>7.500000</td>\n",
       "      <td>93.256250</td>\n",
       "      <td>3398.750000</td>\n",
       "    </tr>\n",
       "    <tr>\n",
       "      <th>Informational</th>\n",
       "      <td>12330.0</td>\n",
       "      <td>0.503569</td>\n",
       "      <td>1.270156</td>\n",
       "      <td>0.0</td>\n",
       "      <td>0.000000</td>\n",
       "      <td>0.000000</td>\n",
       "      <td>0.000000</td>\n",
       "      <td>24.000000</td>\n",
       "    </tr>\n",
       "    <tr>\n",
       "      <th>Informational_Duration</th>\n",
       "      <td>12330.0</td>\n",
       "      <td>34.472398</td>\n",
       "      <td>140.749294</td>\n",
       "      <td>0.0</td>\n",
       "      <td>0.000000</td>\n",
       "      <td>0.000000</td>\n",
       "      <td>0.000000</td>\n",
       "      <td>2549.375000</td>\n",
       "    </tr>\n",
       "    <tr>\n",
       "      <th>ProductRelated</th>\n",
       "      <td>12330.0</td>\n",
       "      <td>31.731468</td>\n",
       "      <td>44.475503</td>\n",
       "      <td>0.0</td>\n",
       "      <td>7.000000</td>\n",
       "      <td>18.000000</td>\n",
       "      <td>38.000000</td>\n",
       "      <td>705.000000</td>\n",
       "    </tr>\n",
       "    <tr>\n",
       "      <th>ProductRelated_Duration</th>\n",
       "      <td>12330.0</td>\n",
       "      <td>1194.746220</td>\n",
       "      <td>1913.669288</td>\n",
       "      <td>0.0</td>\n",
       "      <td>184.137500</td>\n",
       "      <td>598.936905</td>\n",
       "      <td>1464.157214</td>\n",
       "      <td>63973.522230</td>\n",
       "    </tr>\n",
       "    <tr>\n",
       "      <th>BounceRates</th>\n",
       "      <td>12330.0</td>\n",
       "      <td>0.022191</td>\n",
       "      <td>0.048488</td>\n",
       "      <td>0.0</td>\n",
       "      <td>0.000000</td>\n",
       "      <td>0.003112</td>\n",
       "      <td>0.016813</td>\n",
       "      <td>0.200000</td>\n",
       "    </tr>\n",
       "    <tr>\n",
       "      <th>ExitRates</th>\n",
       "      <td>12330.0</td>\n",
       "      <td>0.043073</td>\n",
       "      <td>0.048597</td>\n",
       "      <td>0.0</td>\n",
       "      <td>0.014286</td>\n",
       "      <td>0.025156</td>\n",
       "      <td>0.050000</td>\n",
       "      <td>0.200000</td>\n",
       "    </tr>\n",
       "    <tr>\n",
       "      <th>PageValues</th>\n",
       "      <td>12330.0</td>\n",
       "      <td>5.889258</td>\n",
       "      <td>18.568437</td>\n",
       "      <td>0.0</td>\n",
       "      <td>0.000000</td>\n",
       "      <td>0.000000</td>\n",
       "      <td>0.000000</td>\n",
       "      <td>361.763742</td>\n",
       "    </tr>\n",
       "    <tr>\n",
       "      <th>SpecialDay</th>\n",
       "      <td>12330.0</td>\n",
       "      <td>0.061427</td>\n",
       "      <td>0.198917</td>\n",
       "      <td>0.0</td>\n",
       "      <td>0.000000</td>\n",
       "      <td>0.000000</td>\n",
       "      <td>0.000000</td>\n",
       "      <td>1.000000</td>\n",
       "    </tr>\n",
       "    <tr>\n",
       "      <th>OperatingSystems</th>\n",
       "      <td>12330.0</td>\n",
       "      <td>2.124006</td>\n",
       "      <td>0.911325</td>\n",
       "      <td>1.0</td>\n",
       "      <td>2.000000</td>\n",
       "      <td>2.000000</td>\n",
       "      <td>3.000000</td>\n",
       "      <td>8.000000</td>\n",
       "    </tr>\n",
       "    <tr>\n",
       "      <th>Browser</th>\n",
       "      <td>12330.0</td>\n",
       "      <td>2.357097</td>\n",
       "      <td>1.717277</td>\n",
       "      <td>1.0</td>\n",
       "      <td>2.000000</td>\n",
       "      <td>2.000000</td>\n",
       "      <td>2.000000</td>\n",
       "      <td>13.000000</td>\n",
       "    </tr>\n",
       "    <tr>\n",
       "      <th>Region</th>\n",
       "      <td>12330.0</td>\n",
       "      <td>3.147364</td>\n",
       "      <td>2.401591</td>\n",
       "      <td>1.0</td>\n",
       "      <td>1.000000</td>\n",
       "      <td>3.000000</td>\n",
       "      <td>4.000000</td>\n",
       "      <td>9.000000</td>\n",
       "    </tr>\n",
       "    <tr>\n",
       "      <th>TrafficType</th>\n",
       "      <td>12330.0</td>\n",
       "      <td>4.069586</td>\n",
       "      <td>4.025169</td>\n",
       "      <td>1.0</td>\n",
       "      <td>2.000000</td>\n",
       "      <td>2.000000</td>\n",
       "      <td>4.000000</td>\n",
       "      <td>20.000000</td>\n",
       "    </tr>\n",
       "    <tr>\n",
       "      <th>Weekend</th>\n",
       "      <td>12330.0</td>\n",
       "      <td>0.232603</td>\n",
       "      <td>0.422509</td>\n",
       "      <td>0.0</td>\n",
       "      <td>0.000000</td>\n",
       "      <td>0.000000</td>\n",
       "      <td>0.000000</td>\n",
       "      <td>1.000000</td>\n",
       "    </tr>\n",
       "    <tr>\n",
       "      <th>Revenue</th>\n",
       "      <td>12330.0</td>\n",
       "      <td>0.154745</td>\n",
       "      <td>0.361676</td>\n",
       "      <td>0.0</td>\n",
       "      <td>0.000000</td>\n",
       "      <td>0.000000</td>\n",
       "      <td>0.000000</td>\n",
       "      <td>1.000000</td>\n",
       "    </tr>\n",
       "  </tbody>\n",
       "</table>\n",
       "</div>"
      ],
      "text/plain": [
       "                           count         mean          std  min         25%  \\\n",
       "Administrative           12330.0     2.315166     3.321784  0.0    0.000000   \n",
       "Administrative_Duration  12330.0    80.818611   176.779107  0.0    0.000000   \n",
       "Informational            12330.0     0.503569     1.270156  0.0    0.000000   \n",
       "Informational_Duration   12330.0    34.472398   140.749294  0.0    0.000000   \n",
       "ProductRelated           12330.0    31.731468    44.475503  0.0    7.000000   \n",
       "ProductRelated_Duration  12330.0  1194.746220  1913.669288  0.0  184.137500   \n",
       "BounceRates              12330.0     0.022191     0.048488  0.0    0.000000   \n",
       "ExitRates                12330.0     0.043073     0.048597  0.0    0.014286   \n",
       "PageValues               12330.0     5.889258    18.568437  0.0    0.000000   \n",
       "SpecialDay               12330.0     0.061427     0.198917  0.0    0.000000   \n",
       "OperatingSystems         12330.0     2.124006     0.911325  1.0    2.000000   \n",
       "Browser                  12330.0     2.357097     1.717277  1.0    2.000000   \n",
       "Region                   12330.0     3.147364     2.401591  1.0    1.000000   \n",
       "TrafficType              12330.0     4.069586     4.025169  1.0    2.000000   \n",
       "Weekend                  12330.0     0.232603     0.422509  0.0    0.000000   \n",
       "Revenue                  12330.0     0.154745     0.361676  0.0    0.000000   \n",
       "\n",
       "                                50%          75%           max  \n",
       "Administrative             1.000000     4.000000     27.000000  \n",
       "Administrative_Duration    7.500000    93.256250   3398.750000  \n",
       "Informational              0.000000     0.000000     24.000000  \n",
       "Informational_Duration     0.000000     0.000000   2549.375000  \n",
       "ProductRelated            18.000000    38.000000    705.000000  \n",
       "ProductRelated_Duration  598.936905  1464.157214  63973.522230  \n",
       "BounceRates                0.003112     0.016813      0.200000  \n",
       "ExitRates                  0.025156     0.050000      0.200000  \n",
       "PageValues                 0.000000     0.000000    361.763742  \n",
       "SpecialDay                 0.000000     0.000000      1.000000  \n",
       "OperatingSystems           2.000000     3.000000      8.000000  \n",
       "Browser                    2.000000     2.000000     13.000000  \n",
       "Region                     3.000000     4.000000      9.000000  \n",
       "TrafficType                2.000000     4.000000     20.000000  \n",
       "Weekend                    0.000000     0.000000      1.000000  \n",
       "Revenue                    0.000000     0.000000      1.000000  "
      ]
     },
     "execution_count": 383,
     "metadata": {},
     "output_type": "execute_result"
    }
   ],
   "source": [
    "df.describe().T"
   ]
  },
  {
   "cell_type": "code",
   "execution_count": 384,
   "id": "f0d76e39-9d13-4ae4-af3c-09536eca09a7",
   "metadata": {},
   "outputs": [
    {
     "data": {
      "text/html": [
       "<div>\n",
       "<style scoped>\n",
       "    .dataframe tbody tr th:only-of-type {\n",
       "        vertical-align: middle;\n",
       "    }\n",
       "\n",
       "    .dataframe tbody tr th {\n",
       "        vertical-align: top;\n",
       "    }\n",
       "\n",
       "    .dataframe thead th {\n",
       "        text-align: right;\n",
       "    }\n",
       "</style>\n",
       "<table border=\"1\" class=\"dataframe\">\n",
       "  <thead>\n",
       "    <tr style=\"text-align: right;\">\n",
       "      <th></th>\n",
       "      <th>Month</th>\n",
       "      <th>VisitorType</th>\n",
       "    </tr>\n",
       "  </thead>\n",
       "  <tbody>\n",
       "    <tr>\n",
       "      <th>count</th>\n",
       "      <td>12330</td>\n",
       "      <td>12330</td>\n",
       "    </tr>\n",
       "    <tr>\n",
       "      <th>unique</th>\n",
       "      <td>10</td>\n",
       "      <td>3</td>\n",
       "    </tr>\n",
       "    <tr>\n",
       "      <th>top</th>\n",
       "      <td>May</td>\n",
       "      <td>Returning_Visitor</td>\n",
       "    </tr>\n",
       "    <tr>\n",
       "      <th>freq</th>\n",
       "      <td>3364</td>\n",
       "      <td>10551</td>\n",
       "    </tr>\n",
       "  </tbody>\n",
       "</table>\n",
       "</div>"
      ],
      "text/plain": [
       "        Month        VisitorType\n",
       "count   12330              12330\n",
       "unique     10                  3\n",
       "top       May  Returning_Visitor\n",
       "freq     3364              10551"
      ]
     },
     "execution_count": 384,
     "metadata": {},
     "output_type": "execute_result"
    }
   ],
   "source": [
    "df.describe(include='object')"
   ]
  },
  {
   "cell_type": "code",
   "execution_count": null,
   "id": "721ed75d-c53c-4a99-b79b-d9829f996dd0",
   "metadata": {},
   "outputs": [],
   "source": []
  },
  {
   "cell_type": "markdown",
   "id": "37dc8334-eaf9-4341-a467-08904ba62c32",
   "metadata": {},
   "source": [
    "# 2. Предобробка даних"
   ]
  },
  {
   "cell_type": "code",
   "execution_count": 385,
   "id": "ecfefa14-ff5b-489d-9d5b-e8f276cab292",
   "metadata": {},
   "outputs": [],
   "source": [
    "df.columns = [i.lower() for i in df.columns]"
   ]
  },
  {
   "cell_type": "code",
   "execution_count": 386,
   "id": "be10e77f-6ab2-4020-bb9b-00ca3116e4d4",
   "metadata": {},
   "outputs": [
    {
     "data": {
      "text/html": [
       "<div>\n",
       "<style scoped>\n",
       "    .dataframe tbody tr th:only-of-type {\n",
       "        vertical-align: middle;\n",
       "    }\n",
       "\n",
       "    .dataframe tbody tr th {\n",
       "        vertical-align: top;\n",
       "    }\n",
       "\n",
       "    .dataframe thead th {\n",
       "        text-align: right;\n",
       "    }\n",
       "</style>\n",
       "<table border=\"1\" class=\"dataframe\">\n",
       "  <thead>\n",
       "    <tr style=\"text-align: right;\">\n",
       "      <th></th>\n",
       "      <th>0</th>\n",
       "      <th>1</th>\n",
       "      <th>2</th>\n",
       "      <th>3</th>\n",
       "      <th>4</th>\n",
       "    </tr>\n",
       "  </thead>\n",
       "  <tbody>\n",
       "    <tr>\n",
       "      <th>administrative</th>\n",
       "      <td>0</td>\n",
       "      <td>0</td>\n",
       "      <td>0</td>\n",
       "      <td>0</td>\n",
       "      <td>0</td>\n",
       "    </tr>\n",
       "    <tr>\n",
       "      <th>administrative_duration</th>\n",
       "      <td>0.0</td>\n",
       "      <td>0.0</td>\n",
       "      <td>0.0</td>\n",
       "      <td>0.0</td>\n",
       "      <td>0.0</td>\n",
       "    </tr>\n",
       "    <tr>\n",
       "      <th>informational</th>\n",
       "      <td>0</td>\n",
       "      <td>0</td>\n",
       "      <td>0</td>\n",
       "      <td>0</td>\n",
       "      <td>0</td>\n",
       "    </tr>\n",
       "    <tr>\n",
       "      <th>informational_duration</th>\n",
       "      <td>0.0</td>\n",
       "      <td>0.0</td>\n",
       "      <td>0.0</td>\n",
       "      <td>0.0</td>\n",
       "      <td>0.0</td>\n",
       "    </tr>\n",
       "    <tr>\n",
       "      <th>productrelated</th>\n",
       "      <td>1</td>\n",
       "      <td>2</td>\n",
       "      <td>1</td>\n",
       "      <td>2</td>\n",
       "      <td>10</td>\n",
       "    </tr>\n",
       "    <tr>\n",
       "      <th>productrelated_duration</th>\n",
       "      <td>0.0</td>\n",
       "      <td>64.0</td>\n",
       "      <td>0.0</td>\n",
       "      <td>2.666667</td>\n",
       "      <td>627.5</td>\n",
       "    </tr>\n",
       "    <tr>\n",
       "      <th>bouncerates</th>\n",
       "      <td>0.2</td>\n",
       "      <td>0.0</td>\n",
       "      <td>0.2</td>\n",
       "      <td>0.05</td>\n",
       "      <td>0.02</td>\n",
       "    </tr>\n",
       "    <tr>\n",
       "      <th>exitrates</th>\n",
       "      <td>0.2</td>\n",
       "      <td>0.1</td>\n",
       "      <td>0.2</td>\n",
       "      <td>0.14</td>\n",
       "      <td>0.05</td>\n",
       "    </tr>\n",
       "    <tr>\n",
       "      <th>pagevalues</th>\n",
       "      <td>0.0</td>\n",
       "      <td>0.0</td>\n",
       "      <td>0.0</td>\n",
       "      <td>0.0</td>\n",
       "      <td>0.0</td>\n",
       "    </tr>\n",
       "    <tr>\n",
       "      <th>specialday</th>\n",
       "      <td>0.0</td>\n",
       "      <td>0.0</td>\n",
       "      <td>0.0</td>\n",
       "      <td>0.0</td>\n",
       "      <td>0.0</td>\n",
       "    </tr>\n",
       "    <tr>\n",
       "      <th>month</th>\n",
       "      <td>Feb</td>\n",
       "      <td>Feb</td>\n",
       "      <td>Feb</td>\n",
       "      <td>Feb</td>\n",
       "      <td>Feb</td>\n",
       "    </tr>\n",
       "    <tr>\n",
       "      <th>operatingsystems</th>\n",
       "      <td>1</td>\n",
       "      <td>2</td>\n",
       "      <td>4</td>\n",
       "      <td>3</td>\n",
       "      <td>3</td>\n",
       "    </tr>\n",
       "    <tr>\n",
       "      <th>browser</th>\n",
       "      <td>1</td>\n",
       "      <td>2</td>\n",
       "      <td>1</td>\n",
       "      <td>2</td>\n",
       "      <td>3</td>\n",
       "    </tr>\n",
       "    <tr>\n",
       "      <th>region</th>\n",
       "      <td>1</td>\n",
       "      <td>1</td>\n",
       "      <td>9</td>\n",
       "      <td>2</td>\n",
       "      <td>1</td>\n",
       "    </tr>\n",
       "    <tr>\n",
       "      <th>traffictype</th>\n",
       "      <td>1</td>\n",
       "      <td>2</td>\n",
       "      <td>3</td>\n",
       "      <td>4</td>\n",
       "      <td>4</td>\n",
       "    </tr>\n",
       "    <tr>\n",
       "      <th>visitortype</th>\n",
       "      <td>Returning_Visitor</td>\n",
       "      <td>Returning_Visitor</td>\n",
       "      <td>Returning_Visitor</td>\n",
       "      <td>Returning_Visitor</td>\n",
       "      <td>Returning_Visitor</td>\n",
       "    </tr>\n",
       "    <tr>\n",
       "      <th>weekend</th>\n",
       "      <td>0</td>\n",
       "      <td>0</td>\n",
       "      <td>0</td>\n",
       "      <td>0</td>\n",
       "      <td>1</td>\n",
       "    </tr>\n",
       "    <tr>\n",
       "      <th>revenue</th>\n",
       "      <td>0</td>\n",
       "      <td>0</td>\n",
       "      <td>0</td>\n",
       "      <td>0</td>\n",
       "      <td>0</td>\n",
       "    </tr>\n",
       "  </tbody>\n",
       "</table>\n",
       "</div>"
      ],
      "text/plain": [
       "                                         0                  1  \\\n",
       "administrative                           0                  0   \n",
       "administrative_duration                0.0                0.0   \n",
       "informational                            0                  0   \n",
       "informational_duration                 0.0                0.0   \n",
       "productrelated                           1                  2   \n",
       "productrelated_duration                0.0               64.0   \n",
       "bouncerates                            0.2                0.0   \n",
       "exitrates                              0.2                0.1   \n",
       "pagevalues                             0.0                0.0   \n",
       "specialday                             0.0                0.0   \n",
       "month                                  Feb                Feb   \n",
       "operatingsystems                         1                  2   \n",
       "browser                                  1                  2   \n",
       "region                                   1                  1   \n",
       "traffictype                              1                  2   \n",
       "visitortype              Returning_Visitor  Returning_Visitor   \n",
       "weekend                                  0                  0   \n",
       "revenue                                  0                  0   \n",
       "\n",
       "                                         2                  3  \\\n",
       "administrative                           0                  0   \n",
       "administrative_duration                0.0                0.0   \n",
       "informational                            0                  0   \n",
       "informational_duration                 0.0                0.0   \n",
       "productrelated                           1                  2   \n",
       "productrelated_duration                0.0           2.666667   \n",
       "bouncerates                            0.2               0.05   \n",
       "exitrates                              0.2               0.14   \n",
       "pagevalues                             0.0                0.0   \n",
       "specialday                             0.0                0.0   \n",
       "month                                  Feb                Feb   \n",
       "operatingsystems                         4                  3   \n",
       "browser                                  1                  2   \n",
       "region                                   9                  2   \n",
       "traffictype                              3                  4   \n",
       "visitortype              Returning_Visitor  Returning_Visitor   \n",
       "weekend                                  0                  0   \n",
       "revenue                                  0                  0   \n",
       "\n",
       "                                         4  \n",
       "administrative                           0  \n",
       "administrative_duration                0.0  \n",
       "informational                            0  \n",
       "informational_duration                 0.0  \n",
       "productrelated                          10  \n",
       "productrelated_duration              627.5  \n",
       "bouncerates                           0.02  \n",
       "exitrates                             0.05  \n",
       "pagevalues                             0.0  \n",
       "specialday                             0.0  \n",
       "month                                  Feb  \n",
       "operatingsystems                         3  \n",
       "browser                                  3  \n",
       "region                                   1  \n",
       "traffictype                              4  \n",
       "visitortype              Returning_Visitor  \n",
       "weekend                                  1  \n",
       "revenue                                  0  "
      ]
     },
     "execution_count": 386,
     "metadata": {},
     "output_type": "execute_result"
    }
   ],
   "source": [
    "df.head().T"
   ]
  },
  {
   "cell_type": "code",
   "execution_count": null,
   "id": "7002173e-6e75-48b2-9e62-b10df2c9b9f9",
   "metadata": {},
   "outputs": [],
   "source": []
  },
  {
   "cell_type": "code",
   "execution_count": 387,
   "id": "2f52bc5b-b97d-4e7a-9f6a-4215c1cfd30d",
   "metadata": {},
   "outputs": [
    {
     "data": {
      "text/html": [
       "<div>\n",
       "<style scoped>\n",
       "    .dataframe tbody tr th:only-of-type {\n",
       "        vertical-align: middle;\n",
       "    }\n",
       "\n",
       "    .dataframe tbody tr th {\n",
       "        vertical-align: top;\n",
       "    }\n",
       "\n",
       "    .dataframe thead th {\n",
       "        text-align: right;\n",
       "    }\n",
       "</style>\n",
       "<table border=\"1\" class=\"dataframe\">\n",
       "  <thead>\n",
       "    <tr style=\"text-align: right;\">\n",
       "      <th></th>\n",
       "      <th>158</th>\n",
       "      <th>159</th>\n",
       "      <th>178</th>\n",
       "      <th>418</th>\n",
       "      <th>456</th>\n",
       "      <th>483</th>\n",
       "      <th>512</th>\n",
       "      <th>540</th>\n",
       "      <th>554</th>\n",
       "      <th>589</th>\n",
       "      <th>...</th>\n",
       "      <th>11733</th>\n",
       "      <th>11747</th>\n",
       "      <th>11801</th>\n",
       "      <th>11813</th>\n",
       "      <th>11827</th>\n",
       "      <th>11934</th>\n",
       "      <th>11938</th>\n",
       "      <th>12159</th>\n",
       "      <th>12180</th>\n",
       "      <th>12185</th>\n",
       "    </tr>\n",
       "  </thead>\n",
       "  <tbody>\n",
       "    <tr>\n",
       "      <th>administrative</th>\n",
       "      <td>0</td>\n",
       "      <td>0</td>\n",
       "      <td>0</td>\n",
       "      <td>0</td>\n",
       "      <td>0</td>\n",
       "      <td>0</td>\n",
       "      <td>0</td>\n",
       "      <td>0</td>\n",
       "      <td>0</td>\n",
       "      <td>0</td>\n",
       "      <td>...</td>\n",
       "      <td>0</td>\n",
       "      <td>0</td>\n",
       "      <td>0</td>\n",
       "      <td>0</td>\n",
       "      <td>0</td>\n",
       "      <td>0</td>\n",
       "      <td>0</td>\n",
       "      <td>0</td>\n",
       "      <td>0</td>\n",
       "      <td>0</td>\n",
       "    </tr>\n",
       "    <tr>\n",
       "      <th>administrative_duration</th>\n",
       "      <td>0.0</td>\n",
       "      <td>0.0</td>\n",
       "      <td>0.0</td>\n",
       "      <td>0.0</td>\n",
       "      <td>0.0</td>\n",
       "      <td>0.0</td>\n",
       "      <td>0.0</td>\n",
       "      <td>0.0</td>\n",
       "      <td>0.0</td>\n",
       "      <td>0.0</td>\n",
       "      <td>...</td>\n",
       "      <td>0.0</td>\n",
       "      <td>0.0</td>\n",
       "      <td>0.0</td>\n",
       "      <td>0.0</td>\n",
       "      <td>0.0</td>\n",
       "      <td>0.0</td>\n",
       "      <td>0.0</td>\n",
       "      <td>0.0</td>\n",
       "      <td>0.0</td>\n",
       "      <td>0.0</td>\n",
       "    </tr>\n",
       "    <tr>\n",
       "      <th>informational</th>\n",
       "      <td>0</td>\n",
       "      <td>0</td>\n",
       "      <td>0</td>\n",
       "      <td>0</td>\n",
       "      <td>0</td>\n",
       "      <td>0</td>\n",
       "      <td>0</td>\n",
       "      <td>0</td>\n",
       "      <td>0</td>\n",
       "      <td>0</td>\n",
       "      <td>...</td>\n",
       "      <td>0</td>\n",
       "      <td>0</td>\n",
       "      <td>0</td>\n",
       "      <td>0</td>\n",
       "      <td>0</td>\n",
       "      <td>0</td>\n",
       "      <td>0</td>\n",
       "      <td>0</td>\n",
       "      <td>0</td>\n",
       "      <td>0</td>\n",
       "    </tr>\n",
       "    <tr>\n",
       "      <th>informational_duration</th>\n",
       "      <td>0.0</td>\n",
       "      <td>0.0</td>\n",
       "      <td>0.0</td>\n",
       "      <td>0.0</td>\n",
       "      <td>0.0</td>\n",
       "      <td>0.0</td>\n",
       "      <td>0.0</td>\n",
       "      <td>0.0</td>\n",
       "      <td>0.0</td>\n",
       "      <td>0.0</td>\n",
       "      <td>...</td>\n",
       "      <td>0.0</td>\n",
       "      <td>0.0</td>\n",
       "      <td>0.0</td>\n",
       "      <td>0.0</td>\n",
       "      <td>0.0</td>\n",
       "      <td>0.0</td>\n",
       "      <td>0.0</td>\n",
       "      <td>0.0</td>\n",
       "      <td>0.0</td>\n",
       "      <td>0.0</td>\n",
       "    </tr>\n",
       "    <tr>\n",
       "      <th>productrelated</th>\n",
       "      <td>1</td>\n",
       "      <td>1</td>\n",
       "      <td>1</td>\n",
       "      <td>1</td>\n",
       "      <td>1</td>\n",
       "      <td>1</td>\n",
       "      <td>1</td>\n",
       "      <td>1</td>\n",
       "      <td>1</td>\n",
       "      <td>1</td>\n",
       "      <td>...</td>\n",
       "      <td>1</td>\n",
       "      <td>1</td>\n",
       "      <td>1</td>\n",
       "      <td>1</td>\n",
       "      <td>1</td>\n",
       "      <td>1</td>\n",
       "      <td>1</td>\n",
       "      <td>1</td>\n",
       "      <td>1</td>\n",
       "      <td>1</td>\n",
       "    </tr>\n",
       "    <tr>\n",
       "      <th>productrelated_duration</th>\n",
       "      <td>0.0</td>\n",
       "      <td>0.0</td>\n",
       "      <td>0.0</td>\n",
       "      <td>0.0</td>\n",
       "      <td>0.0</td>\n",
       "      <td>0.0</td>\n",
       "      <td>0.0</td>\n",
       "      <td>0.0</td>\n",
       "      <td>0.0</td>\n",
       "      <td>0.0</td>\n",
       "      <td>...</td>\n",
       "      <td>0.0</td>\n",
       "      <td>0.0</td>\n",
       "      <td>0.0</td>\n",
       "      <td>0.0</td>\n",
       "      <td>0.0</td>\n",
       "      <td>0.0</td>\n",
       "      <td>0.0</td>\n",
       "      <td>0.0</td>\n",
       "      <td>0.0</td>\n",
       "      <td>0.0</td>\n",
       "    </tr>\n",
       "    <tr>\n",
       "      <th>bouncerates</th>\n",
       "      <td>0.2</td>\n",
       "      <td>0.2</td>\n",
       "      <td>0.2</td>\n",
       "      <td>0.2</td>\n",
       "      <td>0.2</td>\n",
       "      <td>0.2</td>\n",
       "      <td>0.2</td>\n",
       "      <td>0.2</td>\n",
       "      <td>0.2</td>\n",
       "      <td>0.2</td>\n",
       "      <td>...</td>\n",
       "      <td>0.2</td>\n",
       "      <td>0.2</td>\n",
       "      <td>0.2</td>\n",
       "      <td>0.2</td>\n",
       "      <td>0.2</td>\n",
       "      <td>0.2</td>\n",
       "      <td>0.2</td>\n",
       "      <td>0.2</td>\n",
       "      <td>0.2</td>\n",
       "      <td>0.2</td>\n",
       "    </tr>\n",
       "    <tr>\n",
       "      <th>exitrates</th>\n",
       "      <td>0.2</td>\n",
       "      <td>0.2</td>\n",
       "      <td>0.2</td>\n",
       "      <td>0.2</td>\n",
       "      <td>0.2</td>\n",
       "      <td>0.2</td>\n",
       "      <td>0.2</td>\n",
       "      <td>0.2</td>\n",
       "      <td>0.2</td>\n",
       "      <td>0.2</td>\n",
       "      <td>...</td>\n",
       "      <td>0.2</td>\n",
       "      <td>0.2</td>\n",
       "      <td>0.2</td>\n",
       "      <td>0.2</td>\n",
       "      <td>0.2</td>\n",
       "      <td>0.2</td>\n",
       "      <td>0.2</td>\n",
       "      <td>0.2</td>\n",
       "      <td>0.2</td>\n",
       "      <td>0.2</td>\n",
       "    </tr>\n",
       "    <tr>\n",
       "      <th>pagevalues</th>\n",
       "      <td>0.0</td>\n",
       "      <td>0.0</td>\n",
       "      <td>0.0</td>\n",
       "      <td>0.0</td>\n",
       "      <td>0.0</td>\n",
       "      <td>0.0</td>\n",
       "      <td>0.0</td>\n",
       "      <td>0.0</td>\n",
       "      <td>0.0</td>\n",
       "      <td>0.0</td>\n",
       "      <td>...</td>\n",
       "      <td>0.0</td>\n",
       "      <td>0.0</td>\n",
       "      <td>0.0</td>\n",
       "      <td>0.0</td>\n",
       "      <td>0.0</td>\n",
       "      <td>0.0</td>\n",
       "      <td>0.0</td>\n",
       "      <td>0.0</td>\n",
       "      <td>0.0</td>\n",
       "      <td>0.0</td>\n",
       "    </tr>\n",
       "    <tr>\n",
       "      <th>specialday</th>\n",
       "      <td>0.0</td>\n",
       "      <td>0.0</td>\n",
       "      <td>0.0</td>\n",
       "      <td>0.0</td>\n",
       "      <td>0.0</td>\n",
       "      <td>0.0</td>\n",
       "      <td>0.0</td>\n",
       "      <td>0.0</td>\n",
       "      <td>0.0</td>\n",
       "      <td>0.0</td>\n",
       "      <td>...</td>\n",
       "      <td>0.0</td>\n",
       "      <td>0.0</td>\n",
       "      <td>0.0</td>\n",
       "      <td>0.0</td>\n",
       "      <td>0.0</td>\n",
       "      <td>0.0</td>\n",
       "      <td>0.0</td>\n",
       "      <td>0.0</td>\n",
       "      <td>0.0</td>\n",
       "      <td>0.0</td>\n",
       "    </tr>\n",
       "    <tr>\n",
       "      <th>month</th>\n",
       "      <td>Feb</td>\n",
       "      <td>Feb</td>\n",
       "      <td>Feb</td>\n",
       "      <td>Mar</td>\n",
       "      <td>Mar</td>\n",
       "      <td>Mar</td>\n",
       "      <td>Mar</td>\n",
       "      <td>Mar</td>\n",
       "      <td>Mar</td>\n",
       "      <td>Mar</td>\n",
       "      <td>...</td>\n",
       "      <td>Nov</td>\n",
       "      <td>Nov</td>\n",
       "      <td>Dec</td>\n",
       "      <td>Dec</td>\n",
       "      <td>Dec</td>\n",
       "      <td>Dec</td>\n",
       "      <td>Dec</td>\n",
       "      <td>Dec</td>\n",
       "      <td>Dec</td>\n",
       "      <td>Dec</td>\n",
       "    </tr>\n",
       "    <tr>\n",
       "      <th>operatingsystems</th>\n",
       "      <td>1</td>\n",
       "      <td>3</td>\n",
       "      <td>3</td>\n",
       "      <td>1</td>\n",
       "      <td>2</td>\n",
       "      <td>3</td>\n",
       "      <td>2</td>\n",
       "      <td>3</td>\n",
       "      <td>2</td>\n",
       "      <td>2</td>\n",
       "      <td>...</td>\n",
       "      <td>2</td>\n",
       "      <td>1</td>\n",
       "      <td>1</td>\n",
       "      <td>2</td>\n",
       "      <td>2</td>\n",
       "      <td>1</td>\n",
       "      <td>1</td>\n",
       "      <td>1</td>\n",
       "      <td>1</td>\n",
       "      <td>8</td>\n",
       "    </tr>\n",
       "    <tr>\n",
       "      <th>browser</th>\n",
       "      <td>1</td>\n",
       "      <td>2</td>\n",
       "      <td>2</td>\n",
       "      <td>1</td>\n",
       "      <td>2</td>\n",
       "      <td>2</td>\n",
       "      <td>2</td>\n",
       "      <td>2</td>\n",
       "      <td>2</td>\n",
       "      <td>2</td>\n",
       "      <td>...</td>\n",
       "      <td>2</td>\n",
       "      <td>1</td>\n",
       "      <td>1</td>\n",
       "      <td>2</td>\n",
       "      <td>2</td>\n",
       "      <td>1</td>\n",
       "      <td>1</td>\n",
       "      <td>1</td>\n",
       "      <td>13</td>\n",
       "      <td>13</td>\n",
       "    </tr>\n",
       "    <tr>\n",
       "      <th>region</th>\n",
       "      <td>1</td>\n",
       "      <td>3</td>\n",
       "      <td>3</td>\n",
       "      <td>1</td>\n",
       "      <td>4</td>\n",
       "      <td>3</td>\n",
       "      <td>1</td>\n",
       "      <td>3</td>\n",
       "      <td>1</td>\n",
       "      <td>1</td>\n",
       "      <td>...</td>\n",
       "      <td>1</td>\n",
       "      <td>3</td>\n",
       "      <td>4</td>\n",
       "      <td>1</td>\n",
       "      <td>1</td>\n",
       "      <td>1</td>\n",
       "      <td>4</td>\n",
       "      <td>1</td>\n",
       "      <td>9</td>\n",
       "      <td>9</td>\n",
       "    </tr>\n",
       "    <tr>\n",
       "      <th>traffictype</th>\n",
       "      <td>3</td>\n",
       "      <td>3</td>\n",
       "      <td>3</td>\n",
       "      <td>1</td>\n",
       "      <td>1</td>\n",
       "      <td>1</td>\n",
       "      <td>1</td>\n",
       "      <td>1</td>\n",
       "      <td>1</td>\n",
       "      <td>1</td>\n",
       "      <td>...</td>\n",
       "      <td>1</td>\n",
       "      <td>3</td>\n",
       "      <td>1</td>\n",
       "      <td>1</td>\n",
       "      <td>1</td>\n",
       "      <td>2</td>\n",
       "      <td>1</td>\n",
       "      <td>3</td>\n",
       "      <td>20</td>\n",
       "      <td>20</td>\n",
       "    </tr>\n",
       "    <tr>\n",
       "      <th>visitortype</th>\n",
       "      <td>Returning_Visitor</td>\n",
       "      <td>Returning_Visitor</td>\n",
       "      <td>Returning_Visitor</td>\n",
       "      <td>Returning_Visitor</td>\n",
       "      <td>Returning_Visitor</td>\n",
       "      <td>Returning_Visitor</td>\n",
       "      <td>Returning_Visitor</td>\n",
       "      <td>Returning_Visitor</td>\n",
       "      <td>Returning_Visitor</td>\n",
       "      <td>Returning_Visitor</td>\n",
       "      <td>...</td>\n",
       "      <td>Returning_Visitor</td>\n",
       "      <td>Returning_Visitor</td>\n",
       "      <td>Returning_Visitor</td>\n",
       "      <td>Returning_Visitor</td>\n",
       "      <td>Returning_Visitor</td>\n",
       "      <td>New_Visitor</td>\n",
       "      <td>Returning_Visitor</td>\n",
       "      <td>Returning_Visitor</td>\n",
       "      <td>Returning_Visitor</td>\n",
       "      <td>Other</td>\n",
       "    </tr>\n",
       "    <tr>\n",
       "      <th>weekend</th>\n",
       "      <td>0</td>\n",
       "      <td>0</td>\n",
       "      <td>0</td>\n",
       "      <td>1</td>\n",
       "      <td>0</td>\n",
       "      <td>0</td>\n",
       "      <td>0</td>\n",
       "      <td>0</td>\n",
       "      <td>0</td>\n",
       "      <td>0</td>\n",
       "      <td>...</td>\n",
       "      <td>0</td>\n",
       "      <td>0</td>\n",
       "      <td>1</td>\n",
       "      <td>0</td>\n",
       "      <td>0</td>\n",
       "      <td>0</td>\n",
       "      <td>1</td>\n",
       "      <td>0</td>\n",
       "      <td>0</td>\n",
       "      <td>0</td>\n",
       "    </tr>\n",
       "    <tr>\n",
       "      <th>revenue</th>\n",
       "      <td>0</td>\n",
       "      <td>0</td>\n",
       "      <td>0</td>\n",
       "      <td>0</td>\n",
       "      <td>0</td>\n",
       "      <td>0</td>\n",
       "      <td>0</td>\n",
       "      <td>0</td>\n",
       "      <td>0</td>\n",
       "      <td>0</td>\n",
       "      <td>...</td>\n",
       "      <td>0</td>\n",
       "      <td>0</td>\n",
       "      <td>0</td>\n",
       "      <td>0</td>\n",
       "      <td>0</td>\n",
       "      <td>0</td>\n",
       "      <td>0</td>\n",
       "      <td>0</td>\n",
       "      <td>0</td>\n",
       "      <td>0</td>\n",
       "    </tr>\n",
       "  </tbody>\n",
       "</table>\n",
       "<p>18 rows × 125 columns</p>\n",
       "</div>"
      ],
      "text/plain": [
       "                                     158                159    \\\n",
       "administrative                           0                  0   \n",
       "administrative_duration                0.0                0.0   \n",
       "informational                            0                  0   \n",
       "informational_duration                 0.0                0.0   \n",
       "productrelated                           1                  1   \n",
       "productrelated_duration                0.0                0.0   \n",
       "bouncerates                            0.2                0.2   \n",
       "exitrates                              0.2                0.2   \n",
       "pagevalues                             0.0                0.0   \n",
       "specialday                             0.0                0.0   \n",
       "month                                  Feb                Feb   \n",
       "operatingsystems                         1                  3   \n",
       "browser                                  1                  2   \n",
       "region                                   1                  3   \n",
       "traffictype                              3                  3   \n",
       "visitortype              Returning_Visitor  Returning_Visitor   \n",
       "weekend                                  0                  0   \n",
       "revenue                                  0                  0   \n",
       "\n",
       "                                     178                418    \\\n",
       "administrative                           0                  0   \n",
       "administrative_duration                0.0                0.0   \n",
       "informational                            0                  0   \n",
       "informational_duration                 0.0                0.0   \n",
       "productrelated                           1                  1   \n",
       "productrelated_duration                0.0                0.0   \n",
       "bouncerates                            0.2                0.2   \n",
       "exitrates                              0.2                0.2   \n",
       "pagevalues                             0.0                0.0   \n",
       "specialday                             0.0                0.0   \n",
       "month                                  Feb                Mar   \n",
       "operatingsystems                         3                  1   \n",
       "browser                                  2                  1   \n",
       "region                                   3                  1   \n",
       "traffictype                              3                  1   \n",
       "visitortype              Returning_Visitor  Returning_Visitor   \n",
       "weekend                                  0                  1   \n",
       "revenue                                  0                  0   \n",
       "\n",
       "                                     456                483    \\\n",
       "administrative                           0                  0   \n",
       "administrative_duration                0.0                0.0   \n",
       "informational                            0                  0   \n",
       "informational_duration                 0.0                0.0   \n",
       "productrelated                           1                  1   \n",
       "productrelated_duration                0.0                0.0   \n",
       "bouncerates                            0.2                0.2   \n",
       "exitrates                              0.2                0.2   \n",
       "pagevalues                             0.0                0.0   \n",
       "specialday                             0.0                0.0   \n",
       "month                                  Mar                Mar   \n",
       "operatingsystems                         2                  3   \n",
       "browser                                  2                  2   \n",
       "region                                   4                  3   \n",
       "traffictype                              1                  1   \n",
       "visitortype              Returning_Visitor  Returning_Visitor   \n",
       "weekend                                  0                  0   \n",
       "revenue                                  0                  0   \n",
       "\n",
       "                                     512                540    \\\n",
       "administrative                           0                  0   \n",
       "administrative_duration                0.0                0.0   \n",
       "informational                            0                  0   \n",
       "informational_duration                 0.0                0.0   \n",
       "productrelated                           1                  1   \n",
       "productrelated_duration                0.0                0.0   \n",
       "bouncerates                            0.2                0.2   \n",
       "exitrates                              0.2                0.2   \n",
       "pagevalues                             0.0                0.0   \n",
       "specialday                             0.0                0.0   \n",
       "month                                  Mar                Mar   \n",
       "operatingsystems                         2                  3   \n",
       "browser                                  2                  2   \n",
       "region                                   1                  3   \n",
       "traffictype                              1                  1   \n",
       "visitortype              Returning_Visitor  Returning_Visitor   \n",
       "weekend                                  0                  0   \n",
       "revenue                                  0                  0   \n",
       "\n",
       "                                     554                589    ...  \\\n",
       "administrative                           0                  0  ...   \n",
       "administrative_duration                0.0                0.0  ...   \n",
       "informational                            0                  0  ...   \n",
       "informational_duration                 0.0                0.0  ...   \n",
       "productrelated                           1                  1  ...   \n",
       "productrelated_duration                0.0                0.0  ...   \n",
       "bouncerates                            0.2                0.2  ...   \n",
       "exitrates                              0.2                0.2  ...   \n",
       "pagevalues                             0.0                0.0  ...   \n",
       "specialday                             0.0                0.0  ...   \n",
       "month                                  Mar                Mar  ...   \n",
       "operatingsystems                         2                  2  ...   \n",
       "browser                                  2                  2  ...   \n",
       "region                                   1                  1  ...   \n",
       "traffictype                              1                  1  ...   \n",
       "visitortype              Returning_Visitor  Returning_Visitor  ...   \n",
       "weekend                                  0                  0  ...   \n",
       "revenue                                  0                  0  ...   \n",
       "\n",
       "                                     11733              11747  \\\n",
       "administrative                           0                  0   \n",
       "administrative_duration                0.0                0.0   \n",
       "informational                            0                  0   \n",
       "informational_duration                 0.0                0.0   \n",
       "productrelated                           1                  1   \n",
       "productrelated_duration                0.0                0.0   \n",
       "bouncerates                            0.2                0.2   \n",
       "exitrates                              0.2                0.2   \n",
       "pagevalues                             0.0                0.0   \n",
       "specialday                             0.0                0.0   \n",
       "month                                  Nov                Nov   \n",
       "operatingsystems                         2                  1   \n",
       "browser                                  2                  1   \n",
       "region                                   1                  3   \n",
       "traffictype                              1                  3   \n",
       "visitortype              Returning_Visitor  Returning_Visitor   \n",
       "weekend                                  0                  0   \n",
       "revenue                                  0                  0   \n",
       "\n",
       "                                     11801              11813  \\\n",
       "administrative                           0                  0   \n",
       "administrative_duration                0.0                0.0   \n",
       "informational                            0                  0   \n",
       "informational_duration                 0.0                0.0   \n",
       "productrelated                           1                  1   \n",
       "productrelated_duration                0.0                0.0   \n",
       "bouncerates                            0.2                0.2   \n",
       "exitrates                              0.2                0.2   \n",
       "pagevalues                             0.0                0.0   \n",
       "specialday                             0.0                0.0   \n",
       "month                                  Dec                Dec   \n",
       "operatingsystems                         1                  2   \n",
       "browser                                  1                  2   \n",
       "region                                   4                  1   \n",
       "traffictype                              1                  1   \n",
       "visitortype              Returning_Visitor  Returning_Visitor   \n",
       "weekend                                  1                  0   \n",
       "revenue                                  0                  0   \n",
       "\n",
       "                                     11827        11934              11938  \\\n",
       "administrative                           0            0                  0   \n",
       "administrative_duration                0.0          0.0                0.0   \n",
       "informational                            0            0                  0   \n",
       "informational_duration                 0.0          0.0                0.0   \n",
       "productrelated                           1            1                  1   \n",
       "productrelated_duration                0.0          0.0                0.0   \n",
       "bouncerates                            0.2          0.2                0.2   \n",
       "exitrates                              0.2          0.2                0.2   \n",
       "pagevalues                             0.0          0.0                0.0   \n",
       "specialday                             0.0          0.0                0.0   \n",
       "month                                  Dec          Dec                Dec   \n",
       "operatingsystems                         2            1                  1   \n",
       "browser                                  2            1                  1   \n",
       "region                                   1            1                  4   \n",
       "traffictype                              1            2                  1   \n",
       "visitortype              Returning_Visitor  New_Visitor  Returning_Visitor   \n",
       "weekend                                  0            0                  1   \n",
       "revenue                                  0            0                  0   \n",
       "\n",
       "                                     12159              12180  12185  \n",
       "administrative                           0                  0      0  \n",
       "administrative_duration                0.0                0.0    0.0  \n",
       "informational                            0                  0      0  \n",
       "informational_duration                 0.0                0.0    0.0  \n",
       "productrelated                           1                  1      1  \n",
       "productrelated_duration                0.0                0.0    0.0  \n",
       "bouncerates                            0.2                0.2    0.2  \n",
       "exitrates                              0.2                0.2    0.2  \n",
       "pagevalues                             0.0                0.0    0.0  \n",
       "specialday                             0.0                0.0    0.0  \n",
       "month                                  Dec                Dec    Dec  \n",
       "operatingsystems                         1                  1      8  \n",
       "browser                                  1                 13     13  \n",
       "region                                   1                  9      9  \n",
       "traffictype                              3                 20     20  \n",
       "visitortype              Returning_Visitor  Returning_Visitor  Other  \n",
       "weekend                                  0                  0      0  \n",
       "revenue                                  0                  0      0  \n",
       "\n",
       "[18 rows x 125 columns]"
      ]
     },
     "execution_count": 387,
     "metadata": {},
     "output_type": "execute_result"
    }
   ],
   "source": [
    "df[df.duplicated()].T"
   ]
  },
  {
   "cell_type": "code",
   "execution_count": 388,
   "id": "0bedcbdb-2157-40fb-9f02-5a80bc98b356",
   "metadata": {},
   "outputs": [
    {
     "data": {
      "text/html": [
       "<div>\n",
       "<style scoped>\n",
       "    .dataframe tbody tr th:only-of-type {\n",
       "        vertical-align: middle;\n",
       "    }\n",
       "\n",
       "    .dataframe tbody tr th {\n",
       "        vertical-align: top;\n",
       "    }\n",
       "\n",
       "    .dataframe thead th {\n",
       "        text-align: right;\n",
       "    }\n",
       "</style>\n",
       "<table border=\"1\" class=\"dataframe\">\n",
       "  <thead>\n",
       "    <tr style=\"text-align: right;\">\n",
       "      <th></th>\n",
       "      <th>administrative</th>\n",
       "      <th>administrative_duration</th>\n",
       "      <th>informational</th>\n",
       "      <th>informational_duration</th>\n",
       "      <th>productrelated</th>\n",
       "      <th>productrelated_duration</th>\n",
       "      <th>bouncerates</th>\n",
       "      <th>exitrates</th>\n",
       "      <th>pagevalues</th>\n",
       "      <th>specialday</th>\n",
       "      <th>month</th>\n",
       "      <th>operatingsystems</th>\n",
       "      <th>browser</th>\n",
       "      <th>region</th>\n",
       "      <th>traffictype</th>\n",
       "      <th>visitortype</th>\n",
       "      <th>weekend</th>\n",
       "      <th>revenue</th>\n",
       "    </tr>\n",
       "  </thead>\n",
       "  <tbody>\n",
       "    <tr>\n",
       "      <th>85</th>\n",
       "      <td>0</td>\n",
       "      <td>0.0</td>\n",
       "      <td>0</td>\n",
       "      <td>0.0</td>\n",
       "      <td>1</td>\n",
       "      <td>0.0</td>\n",
       "      <td>0.2</td>\n",
       "      <td>0.2</td>\n",
       "      <td>0.0</td>\n",
       "      <td>0.0</td>\n",
       "      <td>Feb</td>\n",
       "      <td>1</td>\n",
       "      <td>1</td>\n",
       "      <td>1</td>\n",
       "      <td>3</td>\n",
       "      <td>Returning_Visitor</td>\n",
       "      <td>0</td>\n",
       "      <td>0</td>\n",
       "    </tr>\n",
       "    <tr>\n",
       "      <th>158</th>\n",
       "      <td>0</td>\n",
       "      <td>0.0</td>\n",
       "      <td>0</td>\n",
       "      <td>0.0</td>\n",
       "      <td>1</td>\n",
       "      <td>0.0</td>\n",
       "      <td>0.2</td>\n",
       "      <td>0.2</td>\n",
       "      <td>0.0</td>\n",
       "      <td>0.0</td>\n",
       "      <td>Feb</td>\n",
       "      <td>1</td>\n",
       "      <td>1</td>\n",
       "      <td>1</td>\n",
       "      <td>3</td>\n",
       "      <td>Returning_Visitor</td>\n",
       "      <td>0</td>\n",
       "      <td>0</td>\n",
       "    </tr>\n",
       "  </tbody>\n",
       "</table>\n",
       "</div>"
      ],
      "text/plain": [
       "     administrative  administrative_duration  informational  \\\n",
       "85                0                      0.0              0   \n",
       "158               0                      0.0              0   \n",
       "\n",
       "     informational_duration  productrelated  productrelated_duration  \\\n",
       "85                      0.0               1                      0.0   \n",
       "158                     0.0               1                      0.0   \n",
       "\n",
       "     bouncerates  exitrates  pagevalues  specialday month  operatingsystems  \\\n",
       "85           0.2        0.2         0.0         0.0   Feb                 1   \n",
       "158          0.2        0.2         0.0         0.0   Feb                 1   \n",
       "\n",
       "     browser  region  traffictype        visitortype  weekend  revenue  \n",
       "85         1       1            3  Returning_Visitor        0        0  \n",
       "158        1       1            3  Returning_Visitor        0        0  "
      ]
     },
     "execution_count": 388,
     "metadata": {},
     "output_type": "execute_result"
    }
   ],
   "source": [
    "df[df.eq(df.iloc[158]).all(axis=1)]"
   ]
  },
  {
   "cell_type": "code",
   "execution_count": 389,
   "id": "64cda4bd-f36d-48e6-a73a-803dd93b20e8",
   "metadata": {},
   "outputs": [
    {
     "data": {
      "text/html": [
       "<div>\n",
       "<style scoped>\n",
       "    .dataframe tbody tr th:only-of-type {\n",
       "        vertical-align: middle;\n",
       "    }\n",
       "\n",
       "    .dataframe tbody tr th {\n",
       "        vertical-align: top;\n",
       "    }\n",
       "\n",
       "    .dataframe thead th {\n",
       "        text-align: right;\n",
       "    }\n",
       "</style>\n",
       "<table border=\"1\" class=\"dataframe\">\n",
       "  <thead>\n",
       "    <tr style=\"text-align: right;\">\n",
       "      <th></th>\n",
       "      <th>administrative</th>\n",
       "      <th>administrative_duration</th>\n",
       "      <th>informational</th>\n",
       "      <th>informational_duration</th>\n",
       "      <th>productrelated</th>\n",
       "      <th>productrelated_duration</th>\n",
       "      <th>bouncerates</th>\n",
       "      <th>exitrates</th>\n",
       "      <th>pagevalues</th>\n",
       "      <th>specialday</th>\n",
       "      <th>month</th>\n",
       "      <th>operatingsystems</th>\n",
       "      <th>browser</th>\n",
       "      <th>region</th>\n",
       "      <th>traffictype</th>\n",
       "      <th>visitortype</th>\n",
       "      <th>weekend</th>\n",
       "      <th>revenue</th>\n",
       "    </tr>\n",
       "  </thead>\n",
       "  <tbody>\n",
       "    <tr>\n",
       "      <th>132</th>\n",
       "      <td>0</td>\n",
       "      <td>0.0</td>\n",
       "      <td>0</td>\n",
       "      <td>0.0</td>\n",
       "      <td>1</td>\n",
       "      <td>0.0</td>\n",
       "      <td>0.2</td>\n",
       "      <td>0.2</td>\n",
       "      <td>0.0</td>\n",
       "      <td>0.0</td>\n",
       "      <td>Feb</td>\n",
       "      <td>3</td>\n",
       "      <td>2</td>\n",
       "      <td>3</td>\n",
       "      <td>3</td>\n",
       "      <td>Returning_Visitor</td>\n",
       "      <td>0</td>\n",
       "      <td>0</td>\n",
       "    </tr>\n",
       "    <tr>\n",
       "      <th>159</th>\n",
       "      <td>0</td>\n",
       "      <td>0.0</td>\n",
       "      <td>0</td>\n",
       "      <td>0.0</td>\n",
       "      <td>1</td>\n",
       "      <td>0.0</td>\n",
       "      <td>0.2</td>\n",
       "      <td>0.2</td>\n",
       "      <td>0.0</td>\n",
       "      <td>0.0</td>\n",
       "      <td>Feb</td>\n",
       "      <td>3</td>\n",
       "      <td>2</td>\n",
       "      <td>3</td>\n",
       "      <td>3</td>\n",
       "      <td>Returning_Visitor</td>\n",
       "      <td>0</td>\n",
       "      <td>0</td>\n",
       "    </tr>\n",
       "    <tr>\n",
       "      <th>178</th>\n",
       "      <td>0</td>\n",
       "      <td>0.0</td>\n",
       "      <td>0</td>\n",
       "      <td>0.0</td>\n",
       "      <td>1</td>\n",
       "      <td>0.0</td>\n",
       "      <td>0.2</td>\n",
       "      <td>0.2</td>\n",
       "      <td>0.0</td>\n",
       "      <td>0.0</td>\n",
       "      <td>Feb</td>\n",
       "      <td>3</td>\n",
       "      <td>2</td>\n",
       "      <td>3</td>\n",
       "      <td>3</td>\n",
       "      <td>Returning_Visitor</td>\n",
       "      <td>0</td>\n",
       "      <td>0</td>\n",
       "    </tr>\n",
       "  </tbody>\n",
       "</table>\n",
       "</div>"
      ],
      "text/plain": [
       "     administrative  administrative_duration  informational  \\\n",
       "132               0                      0.0              0   \n",
       "159               0                      0.0              0   \n",
       "178               0                      0.0              0   \n",
       "\n",
       "     informational_duration  productrelated  productrelated_duration  \\\n",
       "132                     0.0               1                      0.0   \n",
       "159                     0.0               1                      0.0   \n",
       "178                     0.0               1                      0.0   \n",
       "\n",
       "     bouncerates  exitrates  pagevalues  specialday month  operatingsystems  \\\n",
       "132          0.2        0.2         0.0         0.0   Feb                 3   \n",
       "159          0.2        0.2         0.0         0.0   Feb                 3   \n",
       "178          0.2        0.2         0.0         0.0   Feb                 3   \n",
       "\n",
       "     browser  region  traffictype        visitortype  weekend  revenue  \n",
       "132        2       3            3  Returning_Visitor        0        0  \n",
       "159        2       3            3  Returning_Visitor        0        0  \n",
       "178        2       3            3  Returning_Visitor        0        0  "
      ]
     },
     "execution_count": 389,
     "metadata": {},
     "output_type": "execute_result"
    }
   ],
   "source": [
    "df[df.eq(df.iloc[159]).all(axis=1)]"
   ]
  },
  {
   "cell_type": "code",
   "execution_count": 390,
   "id": "e9fc1a38-3358-4d89-adbe-a14919d8e49b",
   "metadata": {},
   "outputs": [
    {
     "data": {
      "text/html": [
       "<div>\n",
       "<style scoped>\n",
       "    .dataframe tbody tr th:only-of-type {\n",
       "        vertical-align: middle;\n",
       "    }\n",
       "\n",
       "    .dataframe tbody tr th {\n",
       "        vertical-align: top;\n",
       "    }\n",
       "\n",
       "    .dataframe thead th {\n",
       "        text-align: right;\n",
       "    }\n",
       "</style>\n",
       "<table border=\"1\" class=\"dataframe\">\n",
       "  <thead>\n",
       "    <tr style=\"text-align: right;\">\n",
       "      <th></th>\n",
       "      <th>i</th>\n",
       "      <th>shape</th>\n",
       "      <th>adm</th>\n",
       "      <th>inf</th>\n",
       "      <th>pro</th>\n",
       "    </tr>\n",
       "  </thead>\n",
       "  <tbody>\n",
       "    <tr>\n",
       "      <th>22</th>\n",
       "      <td>589</td>\n",
       "      <td>14</td>\n",
       "      <td>0.0</td>\n",
       "      <td>0.0</td>\n",
       "      <td>1.0</td>\n",
       "    </tr>\n",
       "    <tr>\n",
       "      <th>21</th>\n",
       "      <td>554</td>\n",
       "      <td>14</td>\n",
       "      <td>0.0</td>\n",
       "      <td>0.0</td>\n",
       "      <td>1.0</td>\n",
       "    </tr>\n",
       "    <tr>\n",
       "      <th>57</th>\n",
       "      <td>1453</td>\n",
       "      <td>14</td>\n",
       "      <td>0.0</td>\n",
       "      <td>0.0</td>\n",
       "      <td>1.0</td>\n",
       "    </tr>\n",
       "    <tr>\n",
       "      <th>55</th>\n",
       "      <td>1394</td>\n",
       "      <td>14</td>\n",
       "      <td>0.0</td>\n",
       "      <td>0.0</td>\n",
       "      <td>1.0</td>\n",
       "    </tr>\n",
       "    <tr>\n",
       "      <th>19</th>\n",
       "      <td>512</td>\n",
       "      <td>14</td>\n",
       "      <td>0.0</td>\n",
       "      <td>0.0</td>\n",
       "      <td>1.0</td>\n",
       "    </tr>\n",
       "    <tr>\n",
       "      <th>...</th>\n",
       "      <td>...</td>\n",
       "      <td>...</td>\n",
       "      <td>...</td>\n",
       "      <td>...</td>\n",
       "      <td>...</td>\n",
       "    </tr>\n",
       "    <tr>\n",
       "      <th>93</th>\n",
       "      <td>3231</td>\n",
       "      <td>2</td>\n",
       "      <td>0.0</td>\n",
       "      <td>0.0</td>\n",
       "      <td>1.0</td>\n",
       "    </tr>\n",
       "    <tr>\n",
       "      <th>94</th>\n",
       "      <td>3269</td>\n",
       "      <td>2</td>\n",
       "      <td>0.0</td>\n",
       "      <td>0.0</td>\n",
       "      <td>1.0</td>\n",
       "    </tr>\n",
       "    <tr>\n",
       "      <th>97</th>\n",
       "      <td>3367</td>\n",
       "      <td>2</td>\n",
       "      <td>0.0</td>\n",
       "      <td>0.0</td>\n",
       "      <td>1.0</td>\n",
       "    </tr>\n",
       "    <tr>\n",
       "      <th>98</th>\n",
       "      <td>3577</td>\n",
       "      <td>2</td>\n",
       "      <td>0.0</td>\n",
       "      <td>0.0</td>\n",
       "      <td>1.0</td>\n",
       "    </tr>\n",
       "    <tr>\n",
       "      <th>99</th>\n",
       "      <td>3650</td>\n",
       "      <td>2</td>\n",
       "      <td>0.0</td>\n",
       "      <td>0.0</td>\n",
       "      <td>1.0</td>\n",
       "    </tr>\n",
       "  </tbody>\n",
       "</table>\n",
       "<p>201 rows × 5 columns</p>\n",
       "</div>"
      ],
      "text/plain": [
       "       i  shape  adm  inf  pro\n",
       "22   589     14  0.0  0.0  1.0\n",
       "21   554     14  0.0  0.0  1.0\n",
       "57  1453     14  0.0  0.0  1.0\n",
       "55  1394     14  0.0  0.0  1.0\n",
       "19   512     14  0.0  0.0  1.0\n",
       "..   ...    ...  ...  ...  ...\n",
       "93  3231      2  0.0  0.0  1.0\n",
       "94  3269      2  0.0  0.0  1.0\n",
       "97  3367      2  0.0  0.0  1.0\n",
       "98  3577      2  0.0  0.0  1.0\n",
       "99  3650      2  0.0  0.0  1.0\n",
       "\n",
       "[201 rows x 5 columns]"
      ]
     },
     "execution_count": 390,
     "metadata": {},
     "output_type": "execute_result"
    }
   ],
   "source": [
    "data = []\n",
    "for i in df[df.duplicated(keep=False)].index:\n",
    "    d = df[df.eq(df.iloc[i]).all(axis=1)]\n",
    "    shape = d.shape[0]\n",
    "    adm = d['administrative'].mean()\n",
    "    inf = d['informational'].mean()\n",
    "    pro = d['productrelated'].mean()\n",
    "    data.append({'i': i, 'shape': shape, 'adm': adm, 'inf': inf, 'pro': pro})\n",
    "\n",
    "dup = pd.DataFrame(data).sort_values(by='shape', ascending=False)\n",
    "dup"
   ]
  },
  {
   "cell_type": "code",
   "execution_count": 391,
   "id": "c30a0c98-84ce-480e-86d1-4d052467baf1",
   "metadata": {},
   "outputs": [
    {
     "data": {
      "text/plain": [
       "adm    0.000000\n",
       "inf    0.000000\n",
       "pro    1.059701\n",
       "dtype: float64"
      ]
     },
     "execution_count": 391,
     "metadata": {},
     "output_type": "execute_result"
    }
   ],
   "source": [
    "dup[['adm', 'inf', 'pro']].mean()"
   ]
  },
  {
   "cell_type": "code",
   "execution_count": 392,
   "id": "81339a83-443b-4268-bcf0-405d51984e81",
   "metadata": {},
   "outputs": [
    {
     "data": {
      "text/html": [
       "<div>\n",
       "<style scoped>\n",
       "    .dataframe tbody tr th:only-of-type {\n",
       "        vertical-align: middle;\n",
       "    }\n",
       "\n",
       "    .dataframe tbody tr th {\n",
       "        vertical-align: top;\n",
       "    }\n",
       "\n",
       "    .dataframe thead th {\n",
       "        text-align: right;\n",
       "    }\n",
       "</style>\n",
       "<table border=\"1\" class=\"dataframe\">\n",
       "  <thead>\n",
       "    <tr style=\"text-align: right;\">\n",
       "      <th></th>\n",
       "      <th>i</th>\n",
       "      <th>shape</th>\n",
       "      <th>adm</th>\n",
       "      <th>inf</th>\n",
       "      <th>pro</th>\n",
       "    </tr>\n",
       "  </thead>\n",
       "  <tbody>\n",
       "    <tr>\n",
       "      <th>51</th>\n",
       "      <td>1356</td>\n",
       "      <td>3</td>\n",
       "      <td>0.0</td>\n",
       "      <td>0.0</td>\n",
       "      <td>2.0</td>\n",
       "    </tr>\n",
       "    <tr>\n",
       "      <th>5</th>\n",
       "      <td>252</td>\n",
       "      <td>3</td>\n",
       "      <td>0.0</td>\n",
       "      <td>0.0</td>\n",
       "      <td>2.0</td>\n",
       "    </tr>\n",
       "    <tr>\n",
       "      <th>116</th>\n",
       "      <td>4552</td>\n",
       "      <td>3</td>\n",
       "      <td>0.0</td>\n",
       "      <td>0.0</td>\n",
       "      <td>2.0</td>\n",
       "    </tr>\n",
       "    <tr>\n",
       "      <th>126</th>\n",
       "      <td>5199</td>\n",
       "      <td>3</td>\n",
       "      <td>0.0</td>\n",
       "      <td>0.0</td>\n",
       "      <td>2.0</td>\n",
       "    </tr>\n",
       "    <tr>\n",
       "      <th>36</th>\n",
       "      <td>1023</td>\n",
       "      <td>3</td>\n",
       "      <td>0.0</td>\n",
       "      <td>0.0</td>\n",
       "      <td>2.0</td>\n",
       "    </tr>\n",
       "    <tr>\n",
       "      <th>81</th>\n",
       "      <td>2423</td>\n",
       "      <td>3</td>\n",
       "      <td>0.0</td>\n",
       "      <td>0.0</td>\n",
       "      <td>2.0</td>\n",
       "    </tr>\n",
       "    <tr>\n",
       "      <th>17</th>\n",
       "      <td>468</td>\n",
       "      <td>2</td>\n",
       "      <td>0.0</td>\n",
       "      <td>0.0</td>\n",
       "      <td>2.0</td>\n",
       "    </tr>\n",
       "    <tr>\n",
       "      <th>48</th>\n",
       "      <td>1291</td>\n",
       "      <td>2</td>\n",
       "      <td>0.0</td>\n",
       "      <td>0.0</td>\n",
       "      <td>2.0</td>\n",
       "    </tr>\n",
       "    <tr>\n",
       "      <th>162</th>\n",
       "      <td>9715</td>\n",
       "      <td>2</td>\n",
       "      <td>0.0</td>\n",
       "      <td>0.0</td>\n",
       "      <td>2.0</td>\n",
       "    </tr>\n",
       "    <tr>\n",
       "      <th>40</th>\n",
       "      <td>1123</td>\n",
       "      <td>2</td>\n",
       "      <td>0.0</td>\n",
       "      <td>0.0</td>\n",
       "      <td>2.0</td>\n",
       "    </tr>\n",
       "    <tr>\n",
       "      <th>171</th>\n",
       "      <td>10222</td>\n",
       "      <td>2</td>\n",
       "      <td>0.0</td>\n",
       "      <td>0.0</td>\n",
       "      <td>2.0</td>\n",
       "    </tr>\n",
       "    <tr>\n",
       "      <th>25</th>\n",
       "      <td>659</td>\n",
       "      <td>2</td>\n",
       "      <td>0.0</td>\n",
       "      <td>0.0</td>\n",
       "      <td>2.0</td>\n",
       "    </tr>\n",
       "  </tbody>\n",
       "</table>\n",
       "</div>"
      ],
      "text/plain": [
       "         i  shape  adm  inf  pro\n",
       "51    1356      3  0.0  0.0  2.0\n",
       "5      252      3  0.0  0.0  2.0\n",
       "116   4552      3  0.0  0.0  2.0\n",
       "126   5199      3  0.0  0.0  2.0\n",
       "36    1023      3  0.0  0.0  2.0\n",
       "81    2423      3  0.0  0.0  2.0\n",
       "17     468      2  0.0  0.0  2.0\n",
       "48    1291      2  0.0  0.0  2.0\n",
       "162   9715      2  0.0  0.0  2.0\n",
       "40    1123      2  0.0  0.0  2.0\n",
       "171  10222      2  0.0  0.0  2.0\n",
       "25     659      2  0.0  0.0  2.0"
      ]
     },
     "execution_count": 392,
     "metadata": {},
     "output_type": "execute_result"
    }
   ],
   "source": [
    "dup[dup['pro'] > 1]"
   ]
  },
  {
   "cell_type": "code",
   "execution_count": 393,
   "id": "dd134148-17ad-41d0-af09-7d7611a4ca5b",
   "metadata": {},
   "outputs": [
    {
     "data": {
      "text/html": [
       "<div>\n",
       "<style scoped>\n",
       "    .dataframe tbody tr th:only-of-type {\n",
       "        vertical-align: middle;\n",
       "    }\n",
       "\n",
       "    .dataframe tbody tr th {\n",
       "        vertical-align: top;\n",
       "    }\n",
       "\n",
       "    .dataframe thead th {\n",
       "        text-align: right;\n",
       "    }\n",
       "</style>\n",
       "<table border=\"1\" class=\"dataframe\">\n",
       "  <thead>\n",
       "    <tr style=\"text-align: right;\">\n",
       "      <th></th>\n",
       "      <th>286</th>\n",
       "      <th>512</th>\n",
       "      <th>554</th>\n",
       "      <th>589</th>\n",
       "      <th>947</th>\n",
       "      <th>974</th>\n",
       "      <th>1034</th>\n",
       "      <th>1119</th>\n",
       "      <th>1390</th>\n",
       "      <th>1394</th>\n",
       "      <th>1453</th>\n",
       "      <th>1573</th>\n",
       "      <th>1933</th>\n",
       "      <th>1949</th>\n",
       "    </tr>\n",
       "  </thead>\n",
       "  <tbody>\n",
       "    <tr>\n",
       "      <th>administrative</th>\n",
       "      <td>0</td>\n",
       "      <td>0</td>\n",
       "      <td>0</td>\n",
       "      <td>0</td>\n",
       "      <td>0</td>\n",
       "      <td>0</td>\n",
       "      <td>0</td>\n",
       "      <td>0</td>\n",
       "      <td>0</td>\n",
       "      <td>0</td>\n",
       "      <td>0</td>\n",
       "      <td>0</td>\n",
       "      <td>0</td>\n",
       "      <td>0</td>\n",
       "    </tr>\n",
       "    <tr>\n",
       "      <th>administrative_duration</th>\n",
       "      <td>0.0</td>\n",
       "      <td>0.0</td>\n",
       "      <td>0.0</td>\n",
       "      <td>0.0</td>\n",
       "      <td>0.0</td>\n",
       "      <td>0.0</td>\n",
       "      <td>0.0</td>\n",
       "      <td>0.0</td>\n",
       "      <td>0.0</td>\n",
       "      <td>0.0</td>\n",
       "      <td>0.0</td>\n",
       "      <td>0.0</td>\n",
       "      <td>0.0</td>\n",
       "      <td>0.0</td>\n",
       "    </tr>\n",
       "    <tr>\n",
       "      <th>informational</th>\n",
       "      <td>0</td>\n",
       "      <td>0</td>\n",
       "      <td>0</td>\n",
       "      <td>0</td>\n",
       "      <td>0</td>\n",
       "      <td>0</td>\n",
       "      <td>0</td>\n",
       "      <td>0</td>\n",
       "      <td>0</td>\n",
       "      <td>0</td>\n",
       "      <td>0</td>\n",
       "      <td>0</td>\n",
       "      <td>0</td>\n",
       "      <td>0</td>\n",
       "    </tr>\n",
       "    <tr>\n",
       "      <th>informational_duration</th>\n",
       "      <td>0.0</td>\n",
       "      <td>0.0</td>\n",
       "      <td>0.0</td>\n",
       "      <td>0.0</td>\n",
       "      <td>0.0</td>\n",
       "      <td>0.0</td>\n",
       "      <td>0.0</td>\n",
       "      <td>0.0</td>\n",
       "      <td>0.0</td>\n",
       "      <td>0.0</td>\n",
       "      <td>0.0</td>\n",
       "      <td>0.0</td>\n",
       "      <td>0.0</td>\n",
       "      <td>0.0</td>\n",
       "    </tr>\n",
       "    <tr>\n",
       "      <th>productrelated</th>\n",
       "      <td>1</td>\n",
       "      <td>1</td>\n",
       "      <td>1</td>\n",
       "      <td>1</td>\n",
       "      <td>1</td>\n",
       "      <td>1</td>\n",
       "      <td>1</td>\n",
       "      <td>1</td>\n",
       "      <td>1</td>\n",
       "      <td>1</td>\n",
       "      <td>1</td>\n",
       "      <td>1</td>\n",
       "      <td>1</td>\n",
       "      <td>1</td>\n",
       "    </tr>\n",
       "    <tr>\n",
       "      <th>productrelated_duration</th>\n",
       "      <td>0.0</td>\n",
       "      <td>0.0</td>\n",
       "      <td>0.0</td>\n",
       "      <td>0.0</td>\n",
       "      <td>0.0</td>\n",
       "      <td>0.0</td>\n",
       "      <td>0.0</td>\n",
       "      <td>0.0</td>\n",
       "      <td>0.0</td>\n",
       "      <td>0.0</td>\n",
       "      <td>0.0</td>\n",
       "      <td>0.0</td>\n",
       "      <td>0.0</td>\n",
       "      <td>0.0</td>\n",
       "    </tr>\n",
       "    <tr>\n",
       "      <th>bouncerates</th>\n",
       "      <td>0.2</td>\n",
       "      <td>0.2</td>\n",
       "      <td>0.2</td>\n",
       "      <td>0.2</td>\n",
       "      <td>0.2</td>\n",
       "      <td>0.2</td>\n",
       "      <td>0.2</td>\n",
       "      <td>0.2</td>\n",
       "      <td>0.2</td>\n",
       "      <td>0.2</td>\n",
       "      <td>0.2</td>\n",
       "      <td>0.2</td>\n",
       "      <td>0.2</td>\n",
       "      <td>0.2</td>\n",
       "    </tr>\n",
       "    <tr>\n",
       "      <th>exitrates</th>\n",
       "      <td>0.2</td>\n",
       "      <td>0.2</td>\n",
       "      <td>0.2</td>\n",
       "      <td>0.2</td>\n",
       "      <td>0.2</td>\n",
       "      <td>0.2</td>\n",
       "      <td>0.2</td>\n",
       "      <td>0.2</td>\n",
       "      <td>0.2</td>\n",
       "      <td>0.2</td>\n",
       "      <td>0.2</td>\n",
       "      <td>0.2</td>\n",
       "      <td>0.2</td>\n",
       "      <td>0.2</td>\n",
       "    </tr>\n",
       "    <tr>\n",
       "      <th>pagevalues</th>\n",
       "      <td>0.0</td>\n",
       "      <td>0.0</td>\n",
       "      <td>0.0</td>\n",
       "      <td>0.0</td>\n",
       "      <td>0.0</td>\n",
       "      <td>0.0</td>\n",
       "      <td>0.0</td>\n",
       "      <td>0.0</td>\n",
       "      <td>0.0</td>\n",
       "      <td>0.0</td>\n",
       "      <td>0.0</td>\n",
       "      <td>0.0</td>\n",
       "      <td>0.0</td>\n",
       "      <td>0.0</td>\n",
       "    </tr>\n",
       "    <tr>\n",
       "      <th>specialday</th>\n",
       "      <td>0.0</td>\n",
       "      <td>0.0</td>\n",
       "      <td>0.0</td>\n",
       "      <td>0.0</td>\n",
       "      <td>0.0</td>\n",
       "      <td>0.0</td>\n",
       "      <td>0.0</td>\n",
       "      <td>0.0</td>\n",
       "      <td>0.0</td>\n",
       "      <td>0.0</td>\n",
       "      <td>0.0</td>\n",
       "      <td>0.0</td>\n",
       "      <td>0.0</td>\n",
       "      <td>0.0</td>\n",
       "    </tr>\n",
       "    <tr>\n",
       "      <th>month</th>\n",
       "      <td>Mar</td>\n",
       "      <td>Mar</td>\n",
       "      <td>Mar</td>\n",
       "      <td>Mar</td>\n",
       "      <td>Mar</td>\n",
       "      <td>Mar</td>\n",
       "      <td>Mar</td>\n",
       "      <td>Mar</td>\n",
       "      <td>Mar</td>\n",
       "      <td>Mar</td>\n",
       "      <td>Mar</td>\n",
       "      <td>Mar</td>\n",
       "      <td>Mar</td>\n",
       "      <td>Mar</td>\n",
       "    </tr>\n",
       "    <tr>\n",
       "      <th>operatingsystems</th>\n",
       "      <td>2</td>\n",
       "      <td>2</td>\n",
       "      <td>2</td>\n",
       "      <td>2</td>\n",
       "      <td>2</td>\n",
       "      <td>2</td>\n",
       "      <td>2</td>\n",
       "      <td>2</td>\n",
       "      <td>2</td>\n",
       "      <td>2</td>\n",
       "      <td>2</td>\n",
       "      <td>2</td>\n",
       "      <td>2</td>\n",
       "      <td>2</td>\n",
       "    </tr>\n",
       "    <tr>\n",
       "      <th>browser</th>\n",
       "      <td>2</td>\n",
       "      <td>2</td>\n",
       "      <td>2</td>\n",
       "      <td>2</td>\n",
       "      <td>2</td>\n",
       "      <td>2</td>\n",
       "      <td>2</td>\n",
       "      <td>2</td>\n",
       "      <td>2</td>\n",
       "      <td>2</td>\n",
       "      <td>2</td>\n",
       "      <td>2</td>\n",
       "      <td>2</td>\n",
       "      <td>2</td>\n",
       "    </tr>\n",
       "    <tr>\n",
       "      <th>region</th>\n",
       "      <td>1</td>\n",
       "      <td>1</td>\n",
       "      <td>1</td>\n",
       "      <td>1</td>\n",
       "      <td>1</td>\n",
       "      <td>1</td>\n",
       "      <td>1</td>\n",
       "      <td>1</td>\n",
       "      <td>1</td>\n",
       "      <td>1</td>\n",
       "      <td>1</td>\n",
       "      <td>1</td>\n",
       "      <td>1</td>\n",
       "      <td>1</td>\n",
       "    </tr>\n",
       "    <tr>\n",
       "      <th>traffictype</th>\n",
       "      <td>1</td>\n",
       "      <td>1</td>\n",
       "      <td>1</td>\n",
       "      <td>1</td>\n",
       "      <td>1</td>\n",
       "      <td>1</td>\n",
       "      <td>1</td>\n",
       "      <td>1</td>\n",
       "      <td>1</td>\n",
       "      <td>1</td>\n",
       "      <td>1</td>\n",
       "      <td>1</td>\n",
       "      <td>1</td>\n",
       "      <td>1</td>\n",
       "    </tr>\n",
       "    <tr>\n",
       "      <th>visitortype</th>\n",
       "      <td>Returning_Visitor</td>\n",
       "      <td>Returning_Visitor</td>\n",
       "      <td>Returning_Visitor</td>\n",
       "      <td>Returning_Visitor</td>\n",
       "      <td>Returning_Visitor</td>\n",
       "      <td>Returning_Visitor</td>\n",
       "      <td>Returning_Visitor</td>\n",
       "      <td>Returning_Visitor</td>\n",
       "      <td>Returning_Visitor</td>\n",
       "      <td>Returning_Visitor</td>\n",
       "      <td>Returning_Visitor</td>\n",
       "      <td>Returning_Visitor</td>\n",
       "      <td>Returning_Visitor</td>\n",
       "      <td>Returning_Visitor</td>\n",
       "    </tr>\n",
       "    <tr>\n",
       "      <th>weekend</th>\n",
       "      <td>0</td>\n",
       "      <td>0</td>\n",
       "      <td>0</td>\n",
       "      <td>0</td>\n",
       "      <td>0</td>\n",
       "      <td>0</td>\n",
       "      <td>0</td>\n",
       "      <td>0</td>\n",
       "      <td>0</td>\n",
       "      <td>0</td>\n",
       "      <td>0</td>\n",
       "      <td>0</td>\n",
       "      <td>0</td>\n",
       "      <td>0</td>\n",
       "    </tr>\n",
       "    <tr>\n",
       "      <th>revenue</th>\n",
       "      <td>0</td>\n",
       "      <td>0</td>\n",
       "      <td>0</td>\n",
       "      <td>0</td>\n",
       "      <td>0</td>\n",
       "      <td>0</td>\n",
       "      <td>0</td>\n",
       "      <td>0</td>\n",
       "      <td>0</td>\n",
       "      <td>0</td>\n",
       "      <td>0</td>\n",
       "      <td>0</td>\n",
       "      <td>0</td>\n",
       "      <td>0</td>\n",
       "    </tr>\n",
       "  </tbody>\n",
       "</table>\n",
       "</div>"
      ],
      "text/plain": [
       "                                      286                512   \\\n",
       "administrative                           0                  0   \n",
       "administrative_duration                0.0                0.0   \n",
       "informational                            0                  0   \n",
       "informational_duration                 0.0                0.0   \n",
       "productrelated                           1                  1   \n",
       "productrelated_duration                0.0                0.0   \n",
       "bouncerates                            0.2                0.2   \n",
       "exitrates                              0.2                0.2   \n",
       "pagevalues                             0.0                0.0   \n",
       "specialday                             0.0                0.0   \n",
       "month                                  Mar                Mar   \n",
       "operatingsystems                         2                  2   \n",
       "browser                                  2                  2   \n",
       "region                                   1                  1   \n",
       "traffictype                              1                  1   \n",
       "visitortype              Returning_Visitor  Returning_Visitor   \n",
       "weekend                                  0                  0   \n",
       "revenue                                  0                  0   \n",
       "\n",
       "                                      554                589   \\\n",
       "administrative                           0                  0   \n",
       "administrative_duration                0.0                0.0   \n",
       "informational                            0                  0   \n",
       "informational_duration                 0.0                0.0   \n",
       "productrelated                           1                  1   \n",
       "productrelated_duration                0.0                0.0   \n",
       "bouncerates                            0.2                0.2   \n",
       "exitrates                              0.2                0.2   \n",
       "pagevalues                             0.0                0.0   \n",
       "specialday                             0.0                0.0   \n",
       "month                                  Mar                Mar   \n",
       "operatingsystems                         2                  2   \n",
       "browser                                  2                  2   \n",
       "region                                   1                  1   \n",
       "traffictype                              1                  1   \n",
       "visitortype              Returning_Visitor  Returning_Visitor   \n",
       "weekend                                  0                  0   \n",
       "revenue                                  0                  0   \n",
       "\n",
       "                                      947                974   \\\n",
       "administrative                           0                  0   \n",
       "administrative_duration                0.0                0.0   \n",
       "informational                            0                  0   \n",
       "informational_duration                 0.0                0.0   \n",
       "productrelated                           1                  1   \n",
       "productrelated_duration                0.0                0.0   \n",
       "bouncerates                            0.2                0.2   \n",
       "exitrates                              0.2                0.2   \n",
       "pagevalues                             0.0                0.0   \n",
       "specialday                             0.0                0.0   \n",
       "month                                  Mar                Mar   \n",
       "operatingsystems                         2                  2   \n",
       "browser                                  2                  2   \n",
       "region                                   1                  1   \n",
       "traffictype                              1                  1   \n",
       "visitortype              Returning_Visitor  Returning_Visitor   \n",
       "weekend                                  0                  0   \n",
       "revenue                                  0                  0   \n",
       "\n",
       "                                      1034               1119  \\\n",
       "administrative                           0                  0   \n",
       "administrative_duration                0.0                0.0   \n",
       "informational                            0                  0   \n",
       "informational_duration                 0.0                0.0   \n",
       "productrelated                           1                  1   \n",
       "productrelated_duration                0.0                0.0   \n",
       "bouncerates                            0.2                0.2   \n",
       "exitrates                              0.2                0.2   \n",
       "pagevalues                             0.0                0.0   \n",
       "specialday                             0.0                0.0   \n",
       "month                                  Mar                Mar   \n",
       "operatingsystems                         2                  2   \n",
       "browser                                  2                  2   \n",
       "region                                   1                  1   \n",
       "traffictype                              1                  1   \n",
       "visitortype              Returning_Visitor  Returning_Visitor   \n",
       "weekend                                  0                  0   \n",
       "revenue                                  0                  0   \n",
       "\n",
       "                                      1390               1394  \\\n",
       "administrative                           0                  0   \n",
       "administrative_duration                0.0                0.0   \n",
       "informational                            0                  0   \n",
       "informational_duration                 0.0                0.0   \n",
       "productrelated                           1                  1   \n",
       "productrelated_duration                0.0                0.0   \n",
       "bouncerates                            0.2                0.2   \n",
       "exitrates                              0.2                0.2   \n",
       "pagevalues                             0.0                0.0   \n",
       "specialday                             0.0                0.0   \n",
       "month                                  Mar                Mar   \n",
       "operatingsystems                         2                  2   \n",
       "browser                                  2                  2   \n",
       "region                                   1                  1   \n",
       "traffictype                              1                  1   \n",
       "visitortype              Returning_Visitor  Returning_Visitor   \n",
       "weekend                                  0                  0   \n",
       "revenue                                  0                  0   \n",
       "\n",
       "                                      1453               1573  \\\n",
       "administrative                           0                  0   \n",
       "administrative_duration                0.0                0.0   \n",
       "informational                            0                  0   \n",
       "informational_duration                 0.0                0.0   \n",
       "productrelated                           1                  1   \n",
       "productrelated_duration                0.0                0.0   \n",
       "bouncerates                            0.2                0.2   \n",
       "exitrates                              0.2                0.2   \n",
       "pagevalues                             0.0                0.0   \n",
       "specialday                             0.0                0.0   \n",
       "month                                  Mar                Mar   \n",
       "operatingsystems                         2                  2   \n",
       "browser                                  2                  2   \n",
       "region                                   1                  1   \n",
       "traffictype                              1                  1   \n",
       "visitortype              Returning_Visitor  Returning_Visitor   \n",
       "weekend                                  0                  0   \n",
       "revenue                                  0                  0   \n",
       "\n",
       "                                      1933               1949  \n",
       "administrative                           0                  0  \n",
       "administrative_duration                0.0                0.0  \n",
       "informational                            0                  0  \n",
       "informational_duration                 0.0                0.0  \n",
       "productrelated                           1                  1  \n",
       "productrelated_duration                0.0                0.0  \n",
       "bouncerates                            0.2                0.2  \n",
       "exitrates                              0.2                0.2  \n",
       "pagevalues                             0.0                0.0  \n",
       "specialday                             0.0                0.0  \n",
       "month                                  Mar                Mar  \n",
       "operatingsystems                         2                  2  \n",
       "browser                                  2                  2  \n",
       "region                                   1                  1  \n",
       "traffictype                              1                  1  \n",
       "visitortype              Returning_Visitor  Returning_Visitor  \n",
       "weekend                                  0                  0  \n",
       "revenue                                  0                  0  "
      ]
     },
     "execution_count": 393,
     "metadata": {},
     "output_type": "execute_result"
    }
   ],
   "source": [
    "df[df.eq(df.iloc[589]).all(axis=1)].head(20).T"
   ]
  },
  {
   "cell_type": "code",
   "execution_count": 394,
   "id": "c778d21d-c2e7-4e8a-bb6f-bfdd3c469788",
   "metadata": {},
   "outputs": [
    {
     "data": {
      "text/html": [
       "<div>\n",
       "<style scoped>\n",
       "    .dataframe tbody tr th:only-of-type {\n",
       "        vertical-align: middle;\n",
       "    }\n",
       "\n",
       "    .dataframe tbody tr th {\n",
       "        vertical-align: top;\n",
       "    }\n",
       "\n",
       "    .dataframe thead th {\n",
       "        text-align: right;\n",
       "    }\n",
       "</style>\n",
       "<table border=\"1\" class=\"dataframe\">\n",
       "  <thead>\n",
       "    <tr style=\"text-align: right;\">\n",
       "      <th></th>\n",
       "      <th>252</th>\n",
       "      <th>1023</th>\n",
       "      <th>1356</th>\n",
       "    </tr>\n",
       "  </thead>\n",
       "  <tbody>\n",
       "    <tr>\n",
       "      <th>administrative</th>\n",
       "      <td>0</td>\n",
       "      <td>0</td>\n",
       "      <td>0</td>\n",
       "    </tr>\n",
       "    <tr>\n",
       "      <th>administrative_duration</th>\n",
       "      <td>0.0</td>\n",
       "      <td>0.0</td>\n",
       "      <td>0.0</td>\n",
       "    </tr>\n",
       "    <tr>\n",
       "      <th>informational</th>\n",
       "      <td>0</td>\n",
       "      <td>0</td>\n",
       "      <td>0</td>\n",
       "    </tr>\n",
       "    <tr>\n",
       "      <th>informational_duration</th>\n",
       "      <td>0.0</td>\n",
       "      <td>0.0</td>\n",
       "      <td>0.0</td>\n",
       "    </tr>\n",
       "    <tr>\n",
       "      <th>productrelated</th>\n",
       "      <td>2</td>\n",
       "      <td>2</td>\n",
       "      <td>2</td>\n",
       "    </tr>\n",
       "    <tr>\n",
       "      <th>productrelated_duration</th>\n",
       "      <td>0.0</td>\n",
       "      <td>0.0</td>\n",
       "      <td>0.0</td>\n",
       "    </tr>\n",
       "    <tr>\n",
       "      <th>bouncerates</th>\n",
       "      <td>0.2</td>\n",
       "      <td>0.2</td>\n",
       "      <td>0.2</td>\n",
       "    </tr>\n",
       "    <tr>\n",
       "      <th>exitrates</th>\n",
       "      <td>0.2</td>\n",
       "      <td>0.2</td>\n",
       "      <td>0.2</td>\n",
       "    </tr>\n",
       "    <tr>\n",
       "      <th>pagevalues</th>\n",
       "      <td>0.0</td>\n",
       "      <td>0.0</td>\n",
       "      <td>0.0</td>\n",
       "    </tr>\n",
       "    <tr>\n",
       "      <th>specialday</th>\n",
       "      <td>0.0</td>\n",
       "      <td>0.0</td>\n",
       "      <td>0.0</td>\n",
       "    </tr>\n",
       "    <tr>\n",
       "      <th>month</th>\n",
       "      <td>Mar</td>\n",
       "      <td>Mar</td>\n",
       "      <td>Mar</td>\n",
       "    </tr>\n",
       "    <tr>\n",
       "      <th>operatingsystems</th>\n",
       "      <td>1</td>\n",
       "      <td>1</td>\n",
       "      <td>1</td>\n",
       "    </tr>\n",
       "    <tr>\n",
       "      <th>browser</th>\n",
       "      <td>1</td>\n",
       "      <td>1</td>\n",
       "      <td>1</td>\n",
       "    </tr>\n",
       "    <tr>\n",
       "      <th>region</th>\n",
       "      <td>1</td>\n",
       "      <td>1</td>\n",
       "      <td>1</td>\n",
       "    </tr>\n",
       "    <tr>\n",
       "      <th>traffictype</th>\n",
       "      <td>1</td>\n",
       "      <td>1</td>\n",
       "      <td>1</td>\n",
       "    </tr>\n",
       "    <tr>\n",
       "      <th>visitortype</th>\n",
       "      <td>Returning_Visitor</td>\n",
       "      <td>Returning_Visitor</td>\n",
       "      <td>Returning_Visitor</td>\n",
       "    </tr>\n",
       "    <tr>\n",
       "      <th>weekend</th>\n",
       "      <td>0</td>\n",
       "      <td>0</td>\n",
       "      <td>0</td>\n",
       "    </tr>\n",
       "    <tr>\n",
       "      <th>revenue</th>\n",
       "      <td>0</td>\n",
       "      <td>0</td>\n",
       "      <td>0</td>\n",
       "    </tr>\n",
       "  </tbody>\n",
       "</table>\n",
       "</div>"
      ],
      "text/plain": [
       "                                      252                1023  \\\n",
       "administrative                           0                  0   \n",
       "administrative_duration                0.0                0.0   \n",
       "informational                            0                  0   \n",
       "informational_duration                 0.0                0.0   \n",
       "productrelated                           2                  2   \n",
       "productrelated_duration                0.0                0.0   \n",
       "bouncerates                            0.2                0.2   \n",
       "exitrates                              0.2                0.2   \n",
       "pagevalues                             0.0                0.0   \n",
       "specialday                             0.0                0.0   \n",
       "month                                  Mar                Mar   \n",
       "operatingsystems                         1                  1   \n",
       "browser                                  1                  1   \n",
       "region                                   1                  1   \n",
       "traffictype                              1                  1   \n",
       "visitortype              Returning_Visitor  Returning_Visitor   \n",
       "weekend                                  0                  0   \n",
       "revenue                                  0                  0   \n",
       "\n",
       "                                      1356  \n",
       "administrative                           0  \n",
       "administrative_duration                0.0  \n",
       "informational                            0  \n",
       "informational_duration                 0.0  \n",
       "productrelated                           2  \n",
       "productrelated_duration                0.0  \n",
       "bouncerates                            0.2  \n",
       "exitrates                              0.2  \n",
       "pagevalues                             0.0  \n",
       "specialday                             0.0  \n",
       "month                                  Mar  \n",
       "operatingsystems                         1  \n",
       "browser                                  1  \n",
       "region                                   1  \n",
       "traffictype                              1  \n",
       "visitortype              Returning_Visitor  \n",
       "weekend                                  0  \n",
       "revenue                                  0  "
      ]
     },
     "execution_count": 394,
     "metadata": {},
     "output_type": "execute_result"
    }
   ],
   "source": [
    "df[df.eq(df.iloc[1356]).all(axis=1)].head(20).T"
   ]
  },
  {
   "cell_type": "code",
   "execution_count": 395,
   "id": "3ec4b05c-1814-4776-ac78-7e311a33c72d",
   "metadata": {},
   "outputs": [],
   "source": [
    "def label_enc(df, column):\n",
    "    unq = df[column].unique()\n",
    "    new_value = {v: i for i, v in enumerate(unq)}\n",
    "    print(column, new_value)\n",
    "    df[column] = df[column].replace(new_value)"
   ]
  },
  {
   "cell_type": "code",
   "execution_count": 396,
   "id": "e55393b6-ac6c-4097-b225-279f6052cc1f",
   "metadata": {},
   "outputs": [],
   "source": [
    "month = {\n",
    "    'jan': 1, 'feb': 2, 'mar': 3, 'apr': 4,\n",
    "    'may': 5, 'june': 6, 'jul': 7, 'aug': 8,\n",
    "    'sep': 9, 'oct': 10, 'nov': 11, 'dec': 12\n",
    "}\n",
    "\n",
    "df['month'] = df['month'].str.lower().replace(month)"
   ]
  },
  {
   "cell_type": "code",
   "execution_count": 397,
   "id": "cdda91d7-2beb-4ca9-9e0f-6c18511cd8d3",
   "metadata": {},
   "outputs": [],
   "source": [
    "# label_enc(df, 'month')\n",
    "# label_enc(df, 'visitortype')"
   ]
  },
  {
   "cell_type": "code",
   "execution_count": null,
   "id": "a6c37185-aa56-4f35-9a9a-3d18c7055aad",
   "metadata": {},
   "outputs": [],
   "source": []
  },
  {
   "cell_type": "markdown",
   "id": "367dc42b-583e-411e-918c-775d4eb1c1ea",
   "metadata": {},
   "source": [
    "У даних виявлено 201 дублікат, при цьому максимальна кількість повторень становить 14. Аналіз дублікатів показав, що в більшості випадків користувачі відвідували лише одну сторінку, використовуючи той самий браузер, операційну систему, регіон та джерело переходу. Я вважаю такі збіги незначними й не видаляю їх."
   ]
  },
  {
   "cell_type": "code",
   "execution_count": null,
   "id": "4e18c675-a4c0-47cd-a652-73714a5cc397",
   "metadata": {},
   "outputs": [],
   "source": []
  },
  {
   "cell_type": "markdown",
   "id": "b2fb14cd-ee62-46a9-ad0d-fc5acf33d0ce",
   "metadata": {},
   "source": [
    "# 3. Аналіз даних"
   ]
  },
  {
   "cell_type": "code",
   "execution_count": 398,
   "id": "2be152e8-c7e5-422e-b613-565830bea827",
   "metadata": {},
   "outputs": [
    {
     "data": {
      "text/html": [
       "<div>\n",
       "<style scoped>\n",
       "    .dataframe tbody tr th:only-of-type {\n",
       "        vertical-align: middle;\n",
       "    }\n",
       "\n",
       "    .dataframe tbody tr th {\n",
       "        vertical-align: top;\n",
       "    }\n",
       "\n",
       "    .dataframe thead th {\n",
       "        text-align: right;\n",
       "    }\n",
       "</style>\n",
       "<table border=\"1\" class=\"dataframe\">\n",
       "  <thead>\n",
       "    <tr style=\"text-align: right;\">\n",
       "      <th></th>\n",
       "      <th>0</th>\n",
       "      <th>1</th>\n",
       "      <th>2</th>\n",
       "      <th>3</th>\n",
       "      <th>4</th>\n",
       "    </tr>\n",
       "  </thead>\n",
       "  <tbody>\n",
       "    <tr>\n",
       "      <th>administrative</th>\n",
       "      <td>0</td>\n",
       "      <td>0</td>\n",
       "      <td>0</td>\n",
       "      <td>0</td>\n",
       "      <td>0</td>\n",
       "    </tr>\n",
       "    <tr>\n",
       "      <th>administrative_duration</th>\n",
       "      <td>0.0</td>\n",
       "      <td>0.0</td>\n",
       "      <td>0.0</td>\n",
       "      <td>0.0</td>\n",
       "      <td>0.0</td>\n",
       "    </tr>\n",
       "    <tr>\n",
       "      <th>informational</th>\n",
       "      <td>0</td>\n",
       "      <td>0</td>\n",
       "      <td>0</td>\n",
       "      <td>0</td>\n",
       "      <td>0</td>\n",
       "    </tr>\n",
       "    <tr>\n",
       "      <th>informational_duration</th>\n",
       "      <td>0.0</td>\n",
       "      <td>0.0</td>\n",
       "      <td>0.0</td>\n",
       "      <td>0.0</td>\n",
       "      <td>0.0</td>\n",
       "    </tr>\n",
       "    <tr>\n",
       "      <th>productrelated</th>\n",
       "      <td>1</td>\n",
       "      <td>2</td>\n",
       "      <td>1</td>\n",
       "      <td>2</td>\n",
       "      <td>10</td>\n",
       "    </tr>\n",
       "    <tr>\n",
       "      <th>productrelated_duration</th>\n",
       "      <td>0.0</td>\n",
       "      <td>64.0</td>\n",
       "      <td>0.0</td>\n",
       "      <td>2.666667</td>\n",
       "      <td>627.5</td>\n",
       "    </tr>\n",
       "    <tr>\n",
       "      <th>bouncerates</th>\n",
       "      <td>0.2</td>\n",
       "      <td>0.0</td>\n",
       "      <td>0.2</td>\n",
       "      <td>0.05</td>\n",
       "      <td>0.02</td>\n",
       "    </tr>\n",
       "    <tr>\n",
       "      <th>exitrates</th>\n",
       "      <td>0.2</td>\n",
       "      <td>0.1</td>\n",
       "      <td>0.2</td>\n",
       "      <td>0.14</td>\n",
       "      <td>0.05</td>\n",
       "    </tr>\n",
       "    <tr>\n",
       "      <th>pagevalues</th>\n",
       "      <td>0.0</td>\n",
       "      <td>0.0</td>\n",
       "      <td>0.0</td>\n",
       "      <td>0.0</td>\n",
       "      <td>0.0</td>\n",
       "    </tr>\n",
       "    <tr>\n",
       "      <th>specialday</th>\n",
       "      <td>0.0</td>\n",
       "      <td>0.0</td>\n",
       "      <td>0.0</td>\n",
       "      <td>0.0</td>\n",
       "      <td>0.0</td>\n",
       "    </tr>\n",
       "    <tr>\n",
       "      <th>month</th>\n",
       "      <td>2</td>\n",
       "      <td>2</td>\n",
       "      <td>2</td>\n",
       "      <td>2</td>\n",
       "      <td>2</td>\n",
       "    </tr>\n",
       "    <tr>\n",
       "      <th>operatingsystems</th>\n",
       "      <td>1</td>\n",
       "      <td>2</td>\n",
       "      <td>4</td>\n",
       "      <td>3</td>\n",
       "      <td>3</td>\n",
       "    </tr>\n",
       "    <tr>\n",
       "      <th>browser</th>\n",
       "      <td>1</td>\n",
       "      <td>2</td>\n",
       "      <td>1</td>\n",
       "      <td>2</td>\n",
       "      <td>3</td>\n",
       "    </tr>\n",
       "    <tr>\n",
       "      <th>region</th>\n",
       "      <td>1</td>\n",
       "      <td>1</td>\n",
       "      <td>9</td>\n",
       "      <td>2</td>\n",
       "      <td>1</td>\n",
       "    </tr>\n",
       "    <tr>\n",
       "      <th>traffictype</th>\n",
       "      <td>1</td>\n",
       "      <td>2</td>\n",
       "      <td>3</td>\n",
       "      <td>4</td>\n",
       "      <td>4</td>\n",
       "    </tr>\n",
       "    <tr>\n",
       "      <th>visitortype</th>\n",
       "      <td>Returning_Visitor</td>\n",
       "      <td>Returning_Visitor</td>\n",
       "      <td>Returning_Visitor</td>\n",
       "      <td>Returning_Visitor</td>\n",
       "      <td>Returning_Visitor</td>\n",
       "    </tr>\n",
       "    <tr>\n",
       "      <th>weekend</th>\n",
       "      <td>0</td>\n",
       "      <td>0</td>\n",
       "      <td>0</td>\n",
       "      <td>0</td>\n",
       "      <td>1</td>\n",
       "    </tr>\n",
       "    <tr>\n",
       "      <th>revenue</th>\n",
       "      <td>0</td>\n",
       "      <td>0</td>\n",
       "      <td>0</td>\n",
       "      <td>0</td>\n",
       "      <td>0</td>\n",
       "    </tr>\n",
       "  </tbody>\n",
       "</table>\n",
       "</div>"
      ],
      "text/plain": [
       "                                         0                  1  \\\n",
       "administrative                           0                  0   \n",
       "administrative_duration                0.0                0.0   \n",
       "informational                            0                  0   \n",
       "informational_duration                 0.0                0.0   \n",
       "productrelated                           1                  2   \n",
       "productrelated_duration                0.0               64.0   \n",
       "bouncerates                            0.2                0.0   \n",
       "exitrates                              0.2                0.1   \n",
       "pagevalues                             0.0                0.0   \n",
       "specialday                             0.0                0.0   \n",
       "month                                    2                  2   \n",
       "operatingsystems                         1                  2   \n",
       "browser                                  1                  2   \n",
       "region                                   1                  1   \n",
       "traffictype                              1                  2   \n",
       "visitortype              Returning_Visitor  Returning_Visitor   \n",
       "weekend                                  0                  0   \n",
       "revenue                                  0                  0   \n",
       "\n",
       "                                         2                  3  \\\n",
       "administrative                           0                  0   \n",
       "administrative_duration                0.0                0.0   \n",
       "informational                            0                  0   \n",
       "informational_duration                 0.0                0.0   \n",
       "productrelated                           1                  2   \n",
       "productrelated_duration                0.0           2.666667   \n",
       "bouncerates                            0.2               0.05   \n",
       "exitrates                              0.2               0.14   \n",
       "pagevalues                             0.0                0.0   \n",
       "specialday                             0.0                0.0   \n",
       "month                                    2                  2   \n",
       "operatingsystems                         4                  3   \n",
       "browser                                  1                  2   \n",
       "region                                   9                  2   \n",
       "traffictype                              3                  4   \n",
       "visitortype              Returning_Visitor  Returning_Visitor   \n",
       "weekend                                  0                  0   \n",
       "revenue                                  0                  0   \n",
       "\n",
       "                                         4  \n",
       "administrative                           0  \n",
       "administrative_duration                0.0  \n",
       "informational                            0  \n",
       "informational_duration                 0.0  \n",
       "productrelated                          10  \n",
       "productrelated_duration              627.5  \n",
       "bouncerates                           0.02  \n",
       "exitrates                             0.05  \n",
       "pagevalues                             0.0  \n",
       "specialday                             0.0  \n",
       "month                                    2  \n",
       "operatingsystems                         3  \n",
       "browser                                  3  \n",
       "region                                   1  \n",
       "traffictype                              4  \n",
       "visitortype              Returning_Visitor  \n",
       "weekend                                  1  \n",
       "revenue                                  0  "
      ]
     },
     "execution_count": 398,
     "metadata": {},
     "output_type": "execute_result"
    }
   ],
   "source": [
    "df.head().T"
   ]
  },
  {
   "cell_type": "code",
   "execution_count": null,
   "id": "aef897ca-fc9a-469f-bfa6-38355f2f8cb7",
   "metadata": {},
   "outputs": [],
   "source": []
  },
  {
   "cell_type": "code",
   "execution_count": null,
   "id": "369124e9-7e5d-4284-b497-a6e16830a323",
   "metadata": {},
   "outputs": [],
   "source": []
  },
  {
   "cell_type": "code",
   "execution_count": 482,
   "id": "5b70d140-dda7-4606-9c80-a958279112ff",
   "metadata": {},
   "outputs": [
    {
     "name": "stdout",
     "output_type": "stream",
     "text": [
      "\n",
      "    Середній користувач проводить на сайті 1310 секунд.\n",
      "    За цей період він переглядає 35 сторінок,\n",
      "    що в середньому становить 38 секунд на кожній сторінці.\n",
      "    \n"
     ]
    }
   ],
   "source": [
    "# середній час взаємодії з сайтом\n",
    "\n",
    "df['duration'] = df['administrative_duration'] + df['informational_duration'] + df['productrelated_duration']\n",
    "df['page'] = df['administrative'] + df['informational'] + df['productrelated']\n",
    "df['duration_on_page'] = df['duration'] / df['page']\n",
    "\n",
    "print(f\"\"\"\n",
    "    Середній користувач проводить на сайті {round(df['duration'].mean())} секунд.\n",
    "    За цей період він переглядає {round(df['page'].mean())} сторінок,\n",
    "    що в середньому становить {round(df['duration_on_page'].mean())} секунд на кожній сторінці.\n",
    "    \"\"\")"
   ]
  },
  {
   "cell_type": "code",
   "execution_count": 483,
   "id": "1c36b3f5-3318-4f5a-9e15-cebc025a021c",
   "metadata": {},
   "outputs": [
    {
     "name": "stdout",
     "output_type": "stream",
     "text": [
      "Частка користувачів, які покинули сайт після перегляду лише однієї сторінки 55%\n"
     ]
    }
   ],
   "source": [
    "bouncerate = df[df['bouncerates'] > 0].shape[0] / df.shape[0]\n",
    "\n",
    "print(f'Частка користувачів, які покинули сайт після перегляду лише однієї сторінки {round(bouncerate * 100)}%')"
   ]
  },
  {
   "cell_type": "code",
   "execution_count": null,
   "id": "1d9200c6-903c-478d-ba28-bd9de1962b8b",
   "metadata": {},
   "outputs": [],
   "source": []
  },
  {
   "cell_type": "code",
   "execution_count": 488,
   "id": "6d7d80b1-ec8d-47a0-be2c-c9367c26c4d8",
   "metadata": {},
   "outputs": [
    {
     "name": "stdout",
     "output_type": "stream",
     "text": [
      "Конверсія в покупку становить 15%.\n"
     ]
    }
   ],
   "source": [
    "revenue = df['revenue'].sum() / df.shape[0]\n",
    "\n",
    "print(f'Конверсія в покупку становить {round(revenue * 100)}%.')"
   ]
  },
  {
   "cell_type": "code",
   "execution_count": null,
   "id": "94561494-d285-4277-8966-1e93cc755010",
   "metadata": {},
   "outputs": [],
   "source": []
  },
  {
   "cell_type": "code",
   "execution_count": null,
   "id": "03808241-4880-44f6-8a20-cb4f467ef101",
   "metadata": {},
   "outputs": [],
   "source": []
  },
  {
   "cell_type": "code",
   "execution_count": 407,
   "id": "54eae48b-28eb-49a6-9f11-c620d30f8147",
   "metadata": {
    "scrolled": true
   },
   "outputs": [
    {
     "data": {
      "image/png": "[encoded data removed]",
      "text/plain": [
       "<Figure size 640x480 with 1 Axes>"
      ]
     },
     "metadata": {},
     "output_type": "display_data"
    },
    {
     "data": {
      "image/png": "[encoded data removed]",
      "text/plain": [
       "<Figure size 640x480 with 1 Axes>"
      ]
     },
     "metadata": {},
     "output_type": "display_data"
    },
    {
     "data": {
      "image/png": "[encoded data removed]",
      "text/plain": [
       "<Figure size 640x480 with 1 Axes>"
      ]
     },
     "metadata": {},
     "output_type": "display_data"
    },
    {
     "data": {
      "image/png": "[encoded data removed]",
      "text/plain": [
       "<Figure size 640x480 with 1 Axes>"
      ]
     },
     "metadata": {},
     "output_type": "display_data"
    },
    {
     "data": {
      "image/png": "[encoded data removed]",
      "text/plain": [
       "<Figure size 640x480 with 1 Axes>"
      ]
     },
     "metadata": {},
     "output_type": "display_data"
    },
    {
     "data": {
      "image/png": "[encoded data removed]",
      "text/plain": [
       "<Figure size 640x480 with 1 Axes>"
      ]
     },
     "metadata": {},
     "output_type": "display_data"
    }
   ],
   "source": [
    "for i in ['traffictype', 'visitortype']:\n",
    "    for c in ['duration', 'page', 'duration_on_page']:\n",
    "        df.groupby(i)[c].mean().plot(kind='bar', label=c)\n",
    "        plt.legend()\n",
    "        plt.show();"
   ]
  },
  {
   "cell_type": "code",
   "execution_count": 451,
   "id": "a0c1dd8b-0c9e-4117-99a4-a3e637bb42ae",
   "metadata": {},
   "outputs": [
    {
     "data": {
      "text/plain": [
       "traffictype\n",
       "2     3913\n",
       "1     2451\n",
       "3     2052\n",
       "4     1069\n",
       "13     738\n",
       "10     450\n",
       "6      444\n",
       "8      343\n",
       "5      260\n",
       "11     247\n",
       "20     198\n",
       "9       42\n",
       "7       40\n",
       "15      38\n",
       "19      17\n",
       "14      13\n",
       "18      10\n",
       "16       3\n",
       "12       1\n",
       "17       1\n",
       "Name: count, dtype: int64"
      ]
     },
     "execution_count": 451,
     "metadata": {},
     "output_type": "execute_result"
    }
   ],
   "source": [
    "df['traffictype'].value_counts()"
   ]
  },
  {
   "cell_type": "code",
   "execution_count": 452,
   "id": "d3deb3a3-c947-4c72-ac1a-82c8f35d7b1c",
   "metadata": {},
   "outputs": [
    {
     "data": {
      "text/plain": [
       "0.15384615384615385"
      ]
     },
     "execution_count": 452,
     "metadata": {},
     "output_type": "execute_result"
    }
   ],
   "source": [
    "df[df['traffictype'] == 14]['revenue'].mean()"
   ]
  },
  {
   "cell_type": "code",
   "execution_count": 463,
   "id": "023067a9-aa19-412d-b617-c82f68c6f1ec",
   "metadata": {},
   "outputs": [
    {
     "name": "stdout",
     "output_type": "stream",
     "text": [
      "Користувачі, які потрапили на сайт з джерела 14, в середньому переглядають 85 сторінок.\n"
     ]
    }
   ],
   "source": [
    "traf_14_pages = round(df[df['traffictype'] == 14]['page'].mean())\n",
    "\n",
    "print(f'Користувачі, які потрапили на сайт з джерела 14, в середньому переглядають {traf_14_pages} сторінок.')"
   ]
  },
  {
   "cell_type": "code",
   "execution_count": 465,
   "id": "b506dfaa-162d-4503-8ce3-aae00dd98801",
   "metadata": {},
   "outputs": [
    {
     "data": {
      "text/plain": [
       "visitortype\n",
       "New_Visitor          20.940378\n",
       "Other                14.117647\n",
       "Returning_Visitor    36.899915\n",
       "Name: page, dtype: float64"
      ]
     },
     "execution_count": 465,
     "metadata": {},
     "output_type": "execute_result"
    }
   ],
   "source": [
    "df.groupby('visitortype')['page'].mean()"
   ]
  },
  {
   "cell_type": "code",
   "execution_count": null,
   "id": "e7893ca0-210e-4aba-b506-1726aa4af6fb",
   "metadata": {},
   "outputs": [],
   "source": []
  },
  {
   "cell_type": "markdown",
   "id": "d98d3dea-7493-4fd7-befd-bac6dfc55444",
   "metadata": {},
   "source": [
    "Користувачі, які потрапили на сайт з джерела \"14\", демонструють аномальне середнє значення кількості переглянутих сторінок (85 проти 35). При цьому їх середній час на сторінці не відрізняється від загальних показників. Загалом таких користувачів 13 осіб. Можна було б припустити, що це боти, які збирають інформацію у конкурентів, але конверсія в покупку у цих користувачів відповідає середньому значенню. Можливо, це діти, які мають багато вільного часу і проводять його за переглядом товарів.\n",
    "\n",
    "Користувачі, які раніше використовували сайт, в середньому переглядають більше сторінок, ніж нові користувачі або користувачі з категорії \"other\" (36, 21, 14)."
   ]
  },
  {
   "cell_type": "code",
   "execution_count": null,
   "id": "747e7eef-2180-440c-9908-65711b8d2779",
   "metadata": {},
   "outputs": [],
   "source": []
  },
  {
   "cell_type": "code",
   "execution_count": null,
   "id": "3465048d-7351-4869-abe3-9f8c7740520b",
   "metadata": {},
   "outputs": [],
   "source": []
  },
  {
   "cell_type": "code",
   "execution_count": 485,
   "id": "831dd0ba-8ea9-4f8c-be4d-04c9911835d7",
   "metadata": {
    "scrolled": true
   },
   "outputs": [
    {
     "data": {
      "image/png": "[encoded data removed]",
      "text/plain": [
       "<Figure size 640x480 with 1 Axes>"
      ]
     },
     "metadata": {},
     "output_type": "display_data"
    },
    {
     "data": {
      "image/png": "[encoded data removed]",
      "text/plain": [
       "<Figure size 640x480 with 1 Axes>"
      ]
     },
     "metadata": {},
     "output_type": "display_data"
    }
   ],
   "source": [
    "for i in ['traffictype', 'visitortype']:\n",
    "    data = df[df['productrelated'] > 0].groupby(i)['productrelated'].sum() / df['page'].sum()\n",
    "    data.plot(kind='bar')\n",
    "    plt.show();"
   ]
  },
  {
   "cell_type": "code",
   "execution_count": null,
   "id": "84a70cb1-ee08-4c0b-8b4c-7271572b72ea",
   "metadata": {},
   "outputs": [],
   "source": []
  },
  {
   "cell_type": "code",
   "execution_count": null,
   "id": "87be2ee7-a458-4a99-a72b-314094e433b0",
   "metadata": {},
   "outputs": [],
   "source": []
  },
  {
   "cell_type": "code",
   "execution_count": null,
   "id": "fa518d3f-08c0-4f02-b8bf-a955a4abe10e",
   "metadata": {},
   "outputs": [],
   "source": []
  },
  {
   "cell_type": "code",
   "execution_count": null,
   "id": "74daec0b-499a-49aa-ada5-09d0ee8e432e",
   "metadata": {},
   "outputs": [],
   "source": []
  },
  {
   "cell_type": "code",
   "execution_count": 469,
   "id": "cd53eef8-652a-45d1-af93-9c0d7b0622c9",
   "metadata": {},
   "outputs": [
    {
     "data": {
      "image/png": "[encoded data removed]",
      "text/plain": [
       "<Figure size 640x480 with 1 Axes>"
      ]
     },
     "metadata": {},
     "output_type": "display_data"
    },
    {
     "data": {
      "image/png": "[encoded data removed]",
      "text/plain": [
       "<Figure size 640x480 with 1 Axes>"
      ]
     },
     "metadata": {},
     "output_type": "display_data"
    },
    {
     "data": {
      "image/png": "[encoded data removed]",
      "text/plain": [
       "<Figure size 640x480 with 1 Axes>"
      ]
     },
     "metadata": {},
     "output_type": "display_data"
    }
   ],
   "source": [
    "for i in ['traffictype', 'visitortype', 'weekend']:\n",
    "    df.groupby(i)['revenue'].mean().plot(kind='bar', label='revenue')\n",
    "    plt.legend()\n",
    "    plt.show();"
   ]
  },
  {
   "cell_type": "code",
   "execution_count": 470,
   "id": "3bb8051b-6979-413e-b3bd-39d65e83e9c2",
   "metadata": {},
   "outputs": [
    {
     "data": {
      "text/plain": [
       "traffictype\n",
       "1     0.106895\n",
       "2     0.216458\n",
       "3     0.087719\n",
       "4     0.154350\n",
       "5     0.215385\n",
       "6     0.119369\n",
       "7     0.300000\n",
       "8     0.276968\n",
       "9     0.095238\n",
       "10    0.200000\n",
       "11    0.190283\n",
       "12    0.000000\n",
       "13    0.058266\n",
       "14    0.153846\n",
       "15    0.000000\n",
       "16    0.333333\n",
       "17    0.000000\n",
       "18    0.000000\n",
       "19    0.058824\n",
       "20    0.252525\n",
       "Name: revenue, dtype: float64"
      ]
     },
     "execution_count": 470,
     "metadata": {},
     "output_type": "execute_result"
    }
   ],
   "source": [
    "df.groupby('traffictype')['revenue'].mean()"
   ]
  },
  {
   "cell_type": "code",
   "execution_count": 472,
   "id": "49f99150-c150-4b34-b881-7ab4372d33e9",
   "metadata": {},
   "outputs": [
    {
     "data": {
      "text/plain": [
       "visitortype\n",
       "New_Visitor          0.249115\n",
       "Other                0.188235\n",
       "Returning_Visitor    0.139323\n",
       "Name: revenue, dtype: float64"
      ]
     },
     "execution_count": 472,
     "metadata": {},
     "output_type": "execute_result"
    }
   ],
   "source": [
    "df.groupby('visitortype')['revenue'].mean()"
   ]
  },
  {
   "cell_type": "code",
   "execution_count": 473,
   "id": "8ccbc44d-81ff-48d8-9001-2f91cc050f0d",
   "metadata": {},
   "outputs": [
    {
     "data": {
      "text/plain": [
       "weekend\n",
       "0    0.148911\n",
       "1    0.173989\n",
       "Name: revenue, dtype: float64"
      ]
     },
     "execution_count": 473,
     "metadata": {},
     "output_type": "execute_result"
    }
   ],
   "source": [
    "df.groupby('weekend')['revenue'].mean()"
   ]
  },
  {
   "cell_type": "code",
   "execution_count": null,
   "id": "2b53b230-30a2-41ff-9263-932beeceb279",
   "metadata": {},
   "outputs": [],
   "source": []
  },
  {
   "cell_type": "markdown",
   "id": "f0e76a0a-0510-488e-81ca-5212dcec53ae",
   "metadata": {},
   "source": [
    "Користувачі, які приходять з джерел 16, 7 і 8, демонструють найвищу конверсію в покупку(33%, 30% та 27% відповідно).\n",
    "\n",
    "Найвища конверсія спостерігається серед нових користувачів та тих, хто потрапляє на сайт через категорію \"other\". Вони мають вищі показники, ніж користувачі, які відвідують сайт повторно (25%, 18%, 14%).\n",
    "\n",
    "Також важливим є факт, що в вихідні дні конверсія зростає (17%, 15%)."
   ]
  },
  {
   "cell_type": "code",
   "execution_count": null,
   "id": "7614412c-6022-4a01-9433-82c314c1123b",
   "metadata": {},
   "outputs": [],
   "source": []
  },
  {
   "cell_type": "code",
   "execution_count": null,
   "id": "12ae1a22-7129-4c31-a2e1-95f13990faa2",
   "metadata": {},
   "outputs": [],
   "source": []
  },
  {
   "cell_type": "code",
   "execution_count": null,
   "id": "fefe0d40-3520-4746-a5ce-34b7651495fe",
   "metadata": {},
   "outputs": [],
   "source": []
  },
  {
   "cell_type": "code",
   "execution_count": 428,
   "id": "5853e647-617b-4010-ae51-9fc1b3d4a075",
   "metadata": {},
   "outputs": [
    {
     "data": {
      "application/vnd.plotly.v1+json": {
       "config": {
        "plotlyServerURL": "https://plot.ly"
       },
       "data": [
        {
         "hovertemplate": "number=%{x}<br>stage=%{y}<extra></extra>",
         "legendgroup": "",
         "marker": {
          "color": "#636efa"
         },
         "name": "",
         "orientation": "h",
         "showlegend": false,
         "type": "funnel",
         "x": [
          0.9969180859691809,
          0.15473478685323788
         ],
         "xaxis": "x",
         "y": [
          "Productrelated visit",
          "Revenue True"
         ],
         "yaxis": "y"
        }
       ],
       "layout": {
        "autosize": true,
        "legend": {
         "tracegroupgap": 0
        },
        "margin": {
         "t": 60
        },
        "template": {
         "data": {
          "bar": [
           {
            "error_x": {
             "color": "#2a3f5f"
            },
            "error_y": {
             "color": "#2a3f5f"
            },
            "marker": {
             "line": {
              "color": "#E5ECF6",
              "width": 0.5
             },
             "pattern": {
              "fillmode": "overlay",
              "size": 10,
              "solidity": 0.2
             }
            },
            "type": "bar"
           }
          ],
          "barpolar": [
           {
            "marker": {
             "line": {
              "color": "#E5ECF6",
              "width": 0.5
             },
             "pattern": {
              "fillmode": "overlay",
              "size": 10,
              "solidity": 0.2
             }
            },
            "type": "barpolar"
           }
          ],
          "carpet": [
           {
            "aaxis": {
             "endlinecolor": "#2a3f5f",
             "gridcolor": "white",
             "linecolor": "white",
             "minorgridcolor": "white",
             "startlinecolor": "#2a3f5f"
            },
            "baxis": {
             "endlinecolor": "#2a3f5f",
             "gridcolor": "white",
             "linecolor": "white",
             "minorgridcolor": "white",
             "startlinecolor": "#2a3f5f"
            },
            "type": "carpet"
           }
          ],
          "choropleth": [
           {
            "colorbar": {
             "outlinewidth": 0,
             "ticks": ""
            },
            "type": "choropleth"
           }
          ],
          "contour": [
           {
            "colorbar": {
             "outlinewidth": 0,
             "ticks": ""
            },
            "colorscale": [
             [
              0,
              "#0d0887"
             ],
             [
              0.1111111111111111,
              "#46039f"
             ],
             [
              0.2222222222222222,
              "#7201a8"
             ],
             [
              0.3333333333333333,
              "#9c179e"
             ],
             [
              0.4444444444444444,
              "#bd3786"
             ],
             [
              0.5555555555555556,
              "#d8576b"
             ],
             [
              0.6666666666666666,
              "#ed7953"
             ],
             [
              0.7777777777777778,
              "#fb9f3a"
             ],
             [
              0.8888888888888888,
              "#fdca26"
             ],
             [
              1,
              "#f0f921"
             ]
            ],
            "type": "contour"
           }
          ],
          "contourcarpet": [
           {
            "colorbar": {
             "outlinewidth": 0,
             "ticks": ""
            },
            "type": "contourcarpet"
           }
          ],
          "heatmap": [
           {
            "colorbar": {
             "outlinewidth": 0,
             "ticks": ""
            },
            "colorscale": [
             [
              0,
              "#0d0887"
             ],
             [
              0.1111111111111111,
              "#46039f"
             ],
             [
              0.2222222222222222,
              "#7201a8"
             ],
             [
              0.3333333333333333,
              "#9c179e"
             ],
             [
              0.4444444444444444,
              "#bd3786"
             ],
             [
              0.5555555555555556,
              "#d8576b"
             ],
             [
              0.6666666666666666,
              "#ed7953"
             ],
             [
              0.7777777777777778,
              "#fb9f3a"
             ],
             [
              0.8888888888888888,
              "#fdca26"
             ],
             [
              1,
              "#f0f921"
             ]
            ],
            "type": "heatmap"
           }
          ],
          "heatmapgl": [
           {
            "colorbar": {
             "outlinewidth": 0,
             "ticks": ""
            },
            "colorscale": [
             [
              0,
              "#0d0887"
             ],
             [
              0.1111111111111111,
              "#46039f"
             ],
             [
              0.2222222222222222,
              "#7201a8"
             ],
             [
              0.3333333333333333,
              "#9c179e"
             ],
             [
              0.4444444444444444,
              "#bd3786"
             ],
             [
              0.5555555555555556,
              "#d8576b"
             ],
             [
              0.6666666666666666,
              "#ed7953"
             ],
             [
              0.7777777777777778,
              "#fb9f3a"
             ],
             [
              0.8888888888888888,
              "#fdca26"
             ],
             [
              1,
              "#f0f921"
             ]
            ],
            "type": "heatmapgl"
           }
          ],
          "histogram": [
           {
            "marker": {
             "pattern": {
              "fillmode": "overlay",
              "size": 10,
              "solidity": 0.2
             }
            },
            "type": "histogram"
           }
          ],
          "histogram2d": [
           {
            "colorbar": {
             "outlinewidth": 0,
             "ticks": ""
            },
            "colorscale": [
             [
              0,
              "#0d0887"
             ],
             [
              0.1111111111111111,
              "#46039f"
             ],
             [
              0.2222222222222222,
              "#7201a8"
             ],
             [
              0.3333333333333333,
              "#9c179e"
             ],
             [
              0.4444444444444444,
              "#bd3786"
             ],
             [
              0.5555555555555556,
              "#d8576b"
             ],
             [
              0.6666666666666666,
              "#ed7953"
             ],
             [
              0.7777777777777778,
              "#fb9f3a"
             ],
             [
              0.8888888888888888,
              "#fdca26"
             ],
             [
              1,
              "#f0f921"
             ]
            ],
            "type": "histogram2d"
           }
          ],
          "histogram2dcontour": [
           {
            "colorbar": {
             "outlinewidth": 0,
             "ticks": ""
            },
            "colorscale": [
             [
              0,
              "#0d0887"
             ],
             [
              0.1111111111111111,
              "#46039f"
             ],
             [
              0.2222222222222222,
              "#7201a8"
             ],
             [
              0.3333333333333333,
              "#9c179e"
             ],
             [
              0.4444444444444444,
              "#bd3786"
             ],
             [
              0.5555555555555556,
              "#d8576b"
             ],
             [
              0.6666666666666666,
              "#ed7953"
             ],
             [
              0.7777777777777778,
              "#fb9f3a"
             ],
             [
              0.8888888888888888,
              "#fdca26"
             ],
             [
              1,
              "#f0f921"
             ]
            ],
            "type": "histogram2dcontour"
           }
          ],
          "mesh3d": [
           {
            "colorbar": {
             "outlinewidth": 0,
             "ticks": ""
            },
            "type": "mesh3d"
           }
          ],
          "parcoords": [
           {
            "line": {
             "colorbar": {
              "outlinewidth": 0,
              "ticks": ""
             }
            },
            "type": "parcoords"
           }
          ],
          "pie": [
           {
            "automargin": true,
            "type": "pie"
           }
          ],
          "scatter": [
           {
            "fillpattern": {
             "fillmode": "overlay",
             "size": 10,
             "solidity": 0.2
            },
            "type": "scatter"
           }
          ],
          "scatter3d": [
           {
            "line": {
             "colorbar": {
              "outlinewidth": 0,
              "ticks": ""
             }
            },
            "marker": {
             "colorbar": {
              "outlinewidth": 0,
              "ticks": ""
             }
            },
            "type": "scatter3d"
           }
          ],
          "scattercarpet": [
           {
            "marker": {
             "colorbar": {
              "outlinewidth": 0,
              "ticks": ""
             }
            },
            "type": "scattercarpet"
           }
          ],
          "scattergeo": [
           {
            "marker": {
             "colorbar": {
              "outlinewidth": 0,
              "ticks": ""
             }
            },
            "type": "scattergeo"
           }
          ],
          "scattergl": [
           {
            "marker": {
             "colorbar": {
              "outlinewidth": 0,
              "ticks": ""
             }
            },
            "type": "scattergl"
           }
          ],
          "scattermapbox": [
           {
            "marker": {
             "colorbar": {
              "outlinewidth": 0,
              "ticks": ""
             }
            },
            "type": "scattermapbox"
           }
          ],
          "scatterpolar": [
           {
            "marker": {
             "colorbar": {
              "outlinewidth": 0,
              "ticks": ""
             }
            },
            "type": "scatterpolar"
           }
          ],
          "scatterpolargl": [
           {
            "marker": {
             "colorbar": {
              "outlinewidth": 0,
              "ticks": ""
             }
            },
            "type": "scatterpolargl"
           }
          ],
          "scatterternary": [
           {
            "marker": {
             "colorbar": {
              "outlinewidth": 0,
              "ticks": ""
             }
            },
            "type": "scatterternary"
           }
          ],
          "surface": [
           {
            "colorbar": {
             "outlinewidth": 0,
             "ticks": ""
            },
            "colorscale": [
             [
              0,
              "#0d0887"
             ],
             [
              0.1111111111111111,
              "#46039f"
             ],
             [
              0.2222222222222222,
              "#7201a8"
             ],
             [
              0.3333333333333333,
              "#9c179e"
             ],
             [
              0.4444444444444444,
              "#bd3786"
             ],
             [
              0.5555555555555556,
              "#d8576b"
             ],
             [
              0.6666666666666666,
              "#ed7953"
             ],
             [
              0.7777777777777778,
              "#fb9f3a"
             ],
             [
              0.8888888888888888,
              "#fdca26"
             ],
             [
              1,
              "#f0f921"
             ]
            ],
            "type": "surface"
           }
          ],
          "table": [
           {
            "cells": {
             "fill": {
              "color": "#EBF0F8"
             },
             "line": {
              "color": "white"
             }
            },
            "header": {
             "fill": {
              "color": "#C8D4E3"
             },
             "line": {
              "color": "white"
             }
            },
            "type": "table"
           }
          ]
         },
         "layout": {
          "annotationdefaults": {
           "arrowcolor": "#2a3f5f",
           "arrowhead": 0,
           "arrowwidth": 1
          },
          "autotypenumbers": "strict",
          "coloraxis": {
           "colorbar": {
            "outlinewidth": 0,
            "ticks": ""
           }
          },
          "colorscale": {
           "diverging": [
            [
             0,
             "#8e0152"
            ],
            [
             0.1,
             "#c51b7d"
            ],
            [
             0.2,
             "#de77ae"
            ],
            [
             0.3,
             "#f1b6da"
            ],
            [
             0.4,
             "#fde0ef"
            ],
            [
             0.5,
             "#f7f7f7"
            ],
            [
             0.6,
             "#e6f5d0"
            ],
            [
             0.7,
             "#b8e186"
            ],
            [
             0.8,
             "#7fbc41"
            ],
            [
             0.9,
             "#4d9221"
            ],
            [
             1,
             "#276419"
            ]
           ],
           "sequential": [
            [
             0,
             "#0d0887"
            ],
            [
             0.1111111111111111,
             "#46039f"
            ],
            [
             0.2222222222222222,
             "#7201a8"
            ],
            [
             0.3333333333333333,
             "#9c179e"
            ],
            [
             0.4444444444444444,
             "#bd3786"
            ],
            [
             0.5555555555555556,
             "#d8576b"
            ],
            [
             0.6666666666666666,
             "#ed7953"
            ],
            [
             0.7777777777777778,
             "#fb9f3a"
            ],
            [
             0.8888888888888888,
             "#fdca26"
            ],
            [
             1,
             "#f0f921"
            ]
           ],
           "sequentialminus": [
            [
             0,
             "#0d0887"
            ],
            [
             0.1111111111111111,
             "#46039f"
            ],
            [
             0.2222222222222222,
             "#7201a8"
            ],
            [
             0.3333333333333333,
             "#9c179e"
            ],
            [
             0.4444444444444444,
             "#bd3786"
            ],
            [
             0.5555555555555556,
             "#d8576b"
            ],
            [
             0.6666666666666666,
             "#ed7953"
            ],
            [
             0.7777777777777778,
             "#fb9f3a"
            ],
            [
             0.8888888888888888,
             "#fdca26"
            ],
            [
             1,
             "#f0f921"
            ]
           ]
          },
          "colorway": [
           "#636efa",
           "#EF553B",
           "#00cc96",
           "#ab63fa",
           "#FFA15A",
           "#19d3f3",
           "#FF6692",
           "#B6E880",
           "#FF97FF",
           "#FECB52"
          ],
          "font": {
           "color": "#2a3f5f"
          },
          "geo": {
           "bgcolor": "white",
           "lakecolor": "white",
           "landcolor": "#E5ECF6",
           "showlakes": true,
           "showland": true,
           "subunitcolor": "white"
          },
          "hoverlabel": {
           "align": "left"
          },
          "hovermode": "closest",
          "mapbox": {
           "style": "light"
          },
          "paper_bgcolor": "white",
          "plot_bgcolor": "#E5ECF6",
          "polar": {
           "angularaxis": {
            "gridcolor": "white",
            "linecolor": "white",
            "ticks": ""
           },
           "bgcolor": "#E5ECF6",
           "radialaxis": {
            "gridcolor": "white",
            "linecolor": "white",
            "ticks": ""
           }
          },
          "scene": {
           "xaxis": {
            "backgroundcolor": "#E5ECF6",
            "gridcolor": "white",
            "gridwidth": 2,
            "linecolor": "white",
            "showbackground": true,
            "ticks": "",
            "zerolinecolor": "white"
           },
           "yaxis": {
            "backgroundcolor": "#E5ECF6",
            "gridcolor": "white",
            "gridwidth": 2,
            "linecolor": "white",
            "showbackground": true,
            "ticks": "",
            "zerolinecolor": "white"
           },
           "zaxis": {
            "backgroundcolor": "#E5ECF6",
            "gridcolor": "white",
            "gridwidth": 2,
            "linecolor": "white",
            "showbackground": true,
            "ticks": "",
            "zerolinecolor": "white"
           }
          },
          "shapedefaults": {
           "line": {
            "color": "#2a3f5f"
           }
          },
          "ternary": {
           "aaxis": {
            "gridcolor": "white",
            "linecolor": "white",
            "ticks": ""
           },
           "baxis": {
            "gridcolor": "white",
            "linecolor": "white",
            "ticks": ""
           },
           "bgcolor": "#E5ECF6",
           "caxis": {
            "gridcolor": "white",
            "linecolor": "white",
            "ticks": ""
           }
          },
          "title": {
           "x": 0.05
          },
          "xaxis": {
           "automargin": true,
           "gridcolor": "white",
           "linecolor": "white",
           "ticks": "",
           "title": {
            "standoff": 15
           },
           "zerolinecolor": "white",
           "zerolinewidth": 2
          },
          "yaxis": {
           "automargin": true,
           "gridcolor": "white",
           "linecolor": "white",
           "ticks": "",
           "title": {
            "standoff": 15
           },
           "zerolinecolor": "white",
           "zerolinewidth": 2
          }
         }
        },
        "xaxis": {
         "anchor": "y",
         "autorange": true,
         "domain": [
          0,
          1
         ],
         "range": [
          -0.5538433810939893,
          0.5538433810939893
         ],
         "title": {
          "text": "number"
         },
         "type": "linear"
        },
        "yaxis": {
         "anchor": "x",
         "autorange": true,
         "domain": [
          0,
          1
         ],
         "range": [
          1.5,
          -0.5
         ],
         "title": {
          "text": "stage"
         },
         "type": "category"
        }
       }
      },
      "image/png": "[encoded data removed]",
      "text/html": [
       "<div>                            <div id=\"35d61464-96d2-413d-b128-b7bbdafeab01\" class=\"plotly-graph-div\" style=\"height:525px; width:100%;\"></div>            <script type=\"text/javascript\">                require([\"plotly\"], function(Plotly) {                    window.PLOTLYENV=window.PLOTLYENV || {};                                    if (document.getElementById(\"35d61464-96d2-413d-b128-b7bbdafeab01\")) {                    Plotly.newPlot(                        \"35d61464-96d2-413d-b128-b7bbdafeab01\",                        [{\"hovertemplate\":\"number=%{x}\\u003cbr\\u003estage=%{y}\\u003cextra\\u003e\\u003c\\u002fextra\\u003e\",\"legendgroup\":\"\",\"marker\":{\"color\":\"#636efa\"},\"name\":\"\",\"orientation\":\"h\",\"showlegend\":false,\"x\":[0.9969180859691809,0.15473478685323788],\"xaxis\":\"x\",\"y\":[\"Productrelated visit\",\"Revenue True\"],\"yaxis\":\"y\",\"type\":\"funnel\"}],                        {\"template\":{\"data\":{\"histogram2dcontour\":[{\"type\":\"histogram2dcontour\",\"colorbar\":{\"outlinewidth\":0,\"ticks\":\"\"},\"colorscale\":[[0.0,\"#0d0887\"],[0.1111111111111111,\"#46039f\"],[0.2222222222222222,\"#7201a8\"],[0.3333333333333333,\"#9c179e\"],[0.4444444444444444,\"#bd3786\"],[0.5555555555555556,\"#d8576b\"],[0.6666666666666666,\"#ed7953\"],[0.7777777777777778,\"#fb9f3a\"],[0.8888888888888888,\"#fdca26\"],[1.0,\"#f0f921\"]]}],\"choropleth\":[{\"type\":\"choropleth\",\"colorbar\":{\"outlinewidth\":0,\"ticks\":\"\"}}],\"histogram2d\":[{\"type\":\"histogram2d\",\"colorbar\":{\"outlinewidth\":0,\"ticks\":\"\"},\"colorscale\":[[0.0,\"#0d0887\"],[0.1111111111111111,\"#46039f\"],[0.2222222222222222,\"#7201a8\"],[0.3333333333333333,\"#9c179e\"],[0.4444444444444444,\"#bd3786\"],[0.5555555555555556,\"#d8576b\"],[0.6666666666666666,\"#ed7953\"],[0.7777777777777778,\"#fb9f3a\"],[0.8888888888888888,\"#fdca26\"],[1.0,\"#f0f921\"]]}],\"heatmap\":[{\"type\":\"heatmap\",\"colorbar\":{\"outlinewidth\":0,\"ticks\":\"\"},\"colorscale\":[[0.0,\"#0d0887\"],[0.1111111111111111,\"#46039f\"],[0.2222222222222222,\"#7201a8\"],[0.3333333333333333,\"#9c179e\"],[0.4444444444444444,\"#bd3786\"],[0.5555555555555556,\"#d8576b\"],[0.6666666666666666,\"#ed7953\"],[0.7777777777777778,\"#fb9f3a\"],[0.8888888888888888,\"#fdca26\"],[1.0,\"#f0f921\"]]}],\"heatmapgl\":[{\"type\":\"heatmapgl\",\"colorbar\":{\"outlinewidth\":0,\"ticks\":\"\"},\"colorscale\":[[0.0,\"#0d0887\"],[0.1111111111111111,\"#46039f\"],[0.2222222222222222,\"#7201a8\"],[0.3333333333333333,\"#9c179e\"],[0.4444444444444444,\"#bd3786\"],[0.5555555555555556,\"#d8576b\"],[0.6666666666666666,\"#ed7953\"],[0.7777777777777778,\"#fb9f3a\"],[0.8888888888888888,\"#fdca26\"],[1.0,\"#f0f921\"]]}],\"contourcarpet\":[{\"type\":\"contourcarpet\",\"colorbar\":{\"outlinewidth\":0,\"ticks\":\"\"}}],\"contour\":[{\"type\":\"contour\",\"colorbar\":{\"outlinewidth\":0,\"ticks\":\"\"},\"colorscale\":[[0.0,\"#0d0887\"],[0.1111111111111111,\"#46039f\"],[0.2222222222222222,\"#7201a8\"],[0.3333333333333333,\"#9c179e\"],[0.4444444444444444,\"#bd3786\"],[0.5555555555555556,\"#d8576b\"],[0.6666666666666666,\"#ed7953\"],[0.7777777777777778,\"#fb9f3a\"],[0.8888888888888888,\"#fdca26\"],[1.0,\"#f0f921\"]]}],\"surface\":[{\"type\":\"surface\",\"colorbar\":{\"outlinewidth\":0,\"ticks\":\"\"},\"colorscale\":[[0.0,\"#0d0887\"],[0.1111111111111111,\"#46039f\"],[0.2222222222222222,\"#7201a8\"],[0.3333333333333333,\"#9c179e\"],[0.4444444444444444,\"#bd3786\"],[0.5555555555555556,\"#d8576b\"],[0.6666666666666666,\"#ed7953\"],[0.7777777777777778,\"#fb9f3a\"],[0.8888888888888888,\"#fdca26\"],[1.0,\"#f0f921\"]]}],\"mesh3d\":[{\"type\":\"mesh3d\",\"colorbar\":{\"outlinewidth\":0,\"ticks\":\"\"}}],\"scatter\":[{\"fillpattern\":{\"fillmode\":\"overlay\",\"size\":10,\"solidity\":0.2},\"type\":\"scatter\"}],\"parcoords\":[{\"type\":\"parcoords\",\"line\":{\"colorbar\":{\"outlinewidth\":0,\"ticks\":\"\"}}}],\"scatterpolargl\":[{\"type\":\"scatterpolargl\",\"marker\":{\"colorbar\":{\"outlinewidth\":0,\"ticks\":\"\"}}}],\"bar\":[{\"error_x\":{\"color\":\"#2a3f5f\"},\"error_y\":{\"color\":\"#2a3f5f\"},\"marker\":{\"line\":{\"color\":\"#E5ECF6\",\"width\":0.5},\"pattern\":{\"fillmode\":\"overlay\",\"size\":10,\"solidity\":0.2}},\"type\":\"bar\"}],\"scattergeo\":[{\"type\":\"scattergeo\",\"marker\":{\"colorbar\":{\"outlinewidth\":0,\"ticks\":\"\"}}}],\"scatterpolar\":[{\"type\":\"scatterpolar\",\"marker\":{\"colorbar\":{\"outlinewidth\":0,\"ticks\":\"\"}}}],\"histogram\":[{\"marker\":{\"pattern\":{\"fillmode\":\"overlay\",\"size\":10,\"solidity\":0.2}},\"type\":\"histogram\"}],\"scattergl\":[{\"type\":\"scattergl\",\"marker\":{\"colorbar\":{\"outlinewidth\":0,\"ticks\":\"\"}}}],\"scatter3d\":[{\"type\":\"scatter3d\",\"line\":{\"colorbar\":{\"outlinewidth\":0,\"ticks\":\"\"}},\"marker\":{\"colorbar\":{\"outlinewidth\":0,\"ticks\":\"\"}}}],\"scattermapbox\":[{\"type\":\"scattermapbox\",\"marker\":{\"colorbar\":{\"outlinewidth\":0,\"ticks\":\"\"}}}],\"scatterternary\":[{\"type\":\"scatterternary\",\"marker\":{\"colorbar\":{\"outlinewidth\":0,\"ticks\":\"\"}}}],\"scattercarpet\":[{\"type\":\"scattercarpet\",\"marker\":{\"colorbar\":{\"outlinewidth\":0,\"ticks\":\"\"}}}],\"carpet\":[{\"aaxis\":{\"endlinecolor\":\"#2a3f5f\",\"gridcolor\":\"white\",\"linecolor\":\"white\",\"minorgridcolor\":\"white\",\"startlinecolor\":\"#2a3f5f\"},\"baxis\":{\"endlinecolor\":\"#2a3f5f\",\"gridcolor\":\"white\",\"linecolor\":\"white\",\"minorgridcolor\":\"white\",\"startlinecolor\":\"#2a3f5f\"},\"type\":\"carpet\"}],\"table\":[{\"cells\":{\"fill\":{\"color\":\"#EBF0F8\"},\"line\":{\"color\":\"white\"}},\"header\":{\"fill\":{\"color\":\"#C8D4E3\"},\"line\":{\"color\":\"white\"}},\"type\":\"table\"}],\"barpolar\":[{\"marker\":{\"line\":{\"color\":\"#E5ECF6\",\"width\":0.5},\"pattern\":{\"fillmode\":\"overlay\",\"size\":10,\"solidity\":0.2}},\"type\":\"barpolar\"}],\"pie\":[{\"automargin\":true,\"type\":\"pie\"}]},\"layout\":{\"autotypenumbers\":\"strict\",\"colorway\":[\"#636efa\",\"#EF553B\",\"#00cc96\",\"#ab63fa\",\"#FFA15A\",\"#19d3f3\",\"#FF6692\",\"#B6E880\",\"#FF97FF\",\"#FECB52\"],\"font\":{\"color\":\"#2a3f5f\"},\"hovermode\":\"closest\",\"hoverlabel\":{\"align\":\"left\"},\"paper_bgcolor\":\"white\",\"plot_bgcolor\":\"#E5ECF6\",\"polar\":{\"bgcolor\":\"#E5ECF6\",\"angularaxis\":{\"gridcolor\":\"white\",\"linecolor\":\"white\",\"ticks\":\"\"},\"radialaxis\":{\"gridcolor\":\"white\",\"linecolor\":\"white\",\"ticks\":\"\"}},\"ternary\":{\"bgcolor\":\"#E5ECF6\",\"aaxis\":{\"gridcolor\":\"white\",\"linecolor\":\"white\",\"ticks\":\"\"},\"baxis\":{\"gridcolor\":\"white\",\"linecolor\":\"white\",\"ticks\":\"\"},\"caxis\":{\"gridcolor\":\"white\",\"linecolor\":\"white\",\"ticks\":\"\"}},\"coloraxis\":{\"colorbar\":{\"outlinewidth\":0,\"ticks\":\"\"}},\"colorscale\":{\"sequential\":[[0.0,\"#0d0887\"],[0.1111111111111111,\"#46039f\"],[0.2222222222222222,\"#7201a8\"],[0.3333333333333333,\"#9c179e\"],[0.4444444444444444,\"#bd3786\"],[0.5555555555555556,\"#d8576b\"],[0.6666666666666666,\"#ed7953\"],[0.7777777777777778,\"#fb9f3a\"],[0.8888888888888888,\"#fdca26\"],[1.0,\"#f0f921\"]],\"sequentialminus\":[[0.0,\"#0d0887\"],[0.1111111111111111,\"#46039f\"],[0.2222222222222222,\"#7201a8\"],[0.3333333333333333,\"#9c179e\"],[0.4444444444444444,\"#bd3786\"],[0.5555555555555556,\"#d8576b\"],[0.6666666666666666,\"#ed7953\"],[0.7777777777777778,\"#fb9f3a\"],[0.8888888888888888,\"#fdca26\"],[1.0,\"#f0f921\"]],\"diverging\":[[0,\"#8e0152\"],[0.1,\"#c51b7d\"],[0.2,\"#de77ae\"],[0.3,\"#f1b6da\"],[0.4,\"#fde0ef\"],[0.5,\"#f7f7f7\"],[0.6,\"#e6f5d0\"],[0.7,\"#b8e186\"],[0.8,\"#7fbc41\"],[0.9,\"#4d9221\"],[1,\"#276419\"]]},\"xaxis\":{\"gridcolor\":\"white\",\"linecolor\":\"white\",\"ticks\":\"\",\"title\":{\"standoff\":15},\"zerolinecolor\":\"white\",\"automargin\":true,\"zerolinewidth\":2},\"yaxis\":{\"gridcolor\":\"white\",\"linecolor\":\"white\",\"ticks\":\"\",\"title\":{\"standoff\":15},\"zerolinecolor\":\"white\",\"automargin\":true,\"zerolinewidth\":2},\"scene\":{\"xaxis\":{\"backgroundcolor\":\"#E5ECF6\",\"gridcolor\":\"white\",\"linecolor\":\"white\",\"showbackground\":true,\"ticks\":\"\",\"zerolinecolor\":\"white\",\"gridwidth\":2},\"yaxis\":{\"backgroundcolor\":\"#E5ECF6\",\"gridcolor\":\"white\",\"linecolor\":\"white\",\"showbackground\":true,\"ticks\":\"\",\"zerolinecolor\":\"white\",\"gridwidth\":2},\"zaxis\":{\"backgroundcolor\":\"#E5ECF6\",\"gridcolor\":\"white\",\"linecolor\":\"white\",\"showbackground\":true,\"ticks\":\"\",\"zerolinecolor\":\"white\",\"gridwidth\":2}},\"shapedefaults\":{\"line\":{\"color\":\"#2a3f5f\"}},\"annotationdefaults\":{\"arrowcolor\":\"#2a3f5f\",\"arrowhead\":0,\"arrowwidth\":1},\"geo\":{\"bgcolor\":\"white\",\"landcolor\":\"#E5ECF6\",\"subunitcolor\":\"white\",\"showland\":true,\"showlakes\":true,\"lakecolor\":\"white\"},\"title\":{\"x\":0.05},\"mapbox\":{\"style\":\"light\"}}},\"xaxis\":{\"anchor\":\"y\",\"domain\":[0.0,1.0],\"title\":{\"text\":\"number\"}},\"yaxis\":{\"anchor\":\"x\",\"domain\":[0.0,1.0],\"title\":{\"text\":\"stage\"}},\"legend\":{\"tracegroupgap\":0},\"margin\":{\"t\":60}},                        {\"responsive\": true}                    ).then(function(){\n",
       "                            \n",
       "var gd = document.getElementById('35d61464-96d2-413d-b128-b7bbdafeab01');\n",
       "var x = new MutationObserver(function (mutations, observer) {{\n",
       "        var display = window.getComputedStyle(gd).display;\n",
       "        if (!display || display === 'none') {{\n",
       "            console.log([gd, 'removed!']);\n",
       "            Plotly.purge(gd);\n",
       "            observer.disconnect();\n",
       "        }}\n",
       "}});\n",
       "\n",
       "// Listen for the removal of the full notebook cells\n",
       "var notebookContainer = gd.closest('#notebook-container');\n",
       "if (notebookContainer) {{\n",
       "    x.observe(notebookContainer, {childList: true});\n",
       "}}\n",
       "\n",
       "// Listen for the clearing of the current output cell\n",
       "var outputEl = gd.closest('.output');\n",
       "if (outputEl) {{\n",
       "    x.observe(outputEl, {childList: true});\n",
       "}}\n",
       "\n",
       "                        })                };                });            </script>        </div>"
      ]
     },
     "metadata": {},
     "output_type": "display_data"
    }
   ],
   "source": [
    "data = df[df['productrelated'] > 0]\n",
    "\n",
    "prod_visit = data.shape[0] / df.shape[0]\n",
    "revenue_true = data['revenue'].sum() / data.shape[0]\n",
    "\n",
    "data = dict(\n",
    "    number=[prod_visit, revenue_true],\n",
    "    stage=['Productrelated visit', 'Revenue True'])\n",
    "fig = px.funnel(data, x='number', y='stage')\n",
    "fig.show();"
   ]
  },
  {
   "cell_type": "markdown",
   "id": "d56f7d79-3c93-43d5-a4b6-25586cfa8bc0",
   "metadata": {},
   "source": [
    "Усі користувачі, які заходять на сайт, переглядають сторінки з товарами. 15% таких візитів завершується покупкою."
   ]
  },
  {
   "cell_type": "code",
   "execution_count": null,
   "id": "d4c2d4a5-3970-4224-99bc-f625f0b25970",
   "metadata": {},
   "outputs": [],
   "source": []
  },
  {
   "cell_type": "code",
   "execution_count": null,
   "id": "1790e99f-fb63-4ccb-ba44-65f77591d289",
   "metadata": {},
   "outputs": [],
   "source": []
  },
  {
   "cell_type": "code",
   "execution_count": null,
   "id": "0eeb9bfc-43e0-4205-8206-8e1d362765b9",
   "metadata": {},
   "outputs": [],
   "source": [
    "Анализ конверсии по month\n",
    "Сравнение трафика и конверсии в разные месяцы"
   ]
  },
  {
   "cell_type": "code",
   "execution_count": 474,
   "id": "28d234e4-3bb6-4624-b1b9-695b2455c18c",
   "metadata": {},
   "outputs": [
    {
     "data": {
      "image/png": "[encoded data removed]",
      "text/plain": [
       "<Figure size 640x480 with 1 Axes>"
      ]
     },
     "metadata": {},
     "output_type": "display_data"
    }
   ],
   "source": [
    "for i in ['month']:\n",
    "    for c in ['revenue']:\n",
    "        df.groupby(i)[c].mean().plot(kind='bar')\n",
    "        plt.xlabel('місяць')\n",
    "        plt.ylabel('конверсія')\n",
    "        plt.show();"
   ]
  },
  {
   "cell_type": "code",
   "execution_count": 481,
   "id": "2a59b489-ea3a-4611-9356-6241448b6c98",
   "metadata": {},
   "outputs": [
    {
     "data": {
      "image/png": "[encoded data removed]",
      "text/plain": [
       "<Figure size 640x480 with 1 Axes>"
      ]
     },
     "metadata": {},
     "output_type": "display_data"
    }
   ],
   "source": [
    "for i in ['month']:\n",
    "    for c in ['revenue']:\n",
    "        df.groupby(i)[c].sum().plot(kind='bar')\n",
    "        plt.xlabel('місяць')\n",
    "        plt.ylabel('покупки')\n",
    "        plt.show();"
   ]
  },
  {
   "cell_type": "code",
   "execution_count": 476,
   "id": "433a3ac8-efb0-48f1-8184-9dd842a404d8",
   "metadata": {},
   "outputs": [
    {
     "data": {
      "image/png": "[encoded data removed]",
      "text/plain": [
       "<Figure size 640x480 with 1 Axes>"
      ]
     },
     "metadata": {},
     "output_type": "display_data"
    }
   ],
   "source": [
    "df.groupby('month').size().plot(kind='bar')\n",
    "plt.title(\"Об'єм трафіку за місяцями\")\n",
    "plt.xlabel('місяць')\n",
    "plt.ylabel('кількість сесій')\n",
    "plt.show();"
   ]
  },
  {
   "cell_type": "code",
   "execution_count": 479,
   "id": "d2eaf7a4-e2d3-47b0-b289-8236e57ed789",
   "metadata": {},
   "outputs": [
    {
     "data": {
      "text/plain": [
       "month\n",
       "2     0.016304\n",
       "3     0.100682\n",
       "5     0.108502\n",
       "6     0.100694\n",
       "7     0.152778\n",
       "8     0.175520\n",
       "9     0.191964\n",
       "10    0.209472\n",
       "11    0.253502\n",
       "12    0.125072\n",
       "Name: revenue, dtype: float64"
      ]
     },
     "execution_count": 479,
     "metadata": {},
     "output_type": "execute_result"
    }
   ],
   "source": [
    "df.groupby('month')['revenue'].mean()"
   ]
  },
  {
   "cell_type": "code",
   "execution_count": null,
   "id": "b35d94ef-c608-4bd4-a4d0-273c3ef4c75d",
   "metadata": {},
   "outputs": [],
   "source": []
  },
  {
   "cell_type": "markdown",
   "id": "87924cea-9caa-4ca1-a06c-a3499334ce78",
   "metadata": {},
   "source": [
    "На початку та в кінці року спостерігалося велике число сесій від користувачів, але низька кількість покупок, що призвело до низької конверсії. У березні конверсія склала 10%, у травні — 10%, а в грудні — 12%.\n",
    "\n",
    "У період з червня по жовтень спостерігалося зниження трафіку, але рівень продажів залишався на середньому рівні. Конверсія в цей період трималася на рівні 17%.\n",
    "\n",
    "Особливо виділяється листопад, у якому було високе число сесій і велика кількість покупок. Конверсія в цьому місяці досягла 25%."
   ]
  },
  {
   "cell_type": "code",
   "execution_count": null,
   "id": "84e8939e-2f94-485c-95bf-b9560c96ede1",
   "metadata": {},
   "outputs": [],
   "source": []
  },
  {
   "cell_type": "markdown",
   "id": "dc43b902-0b11-4274-a251-712b082355f3",
   "metadata": {},
   "source": [
    "# 4. Висновки\n",
    "\n",
    "Середній користувач проводить на сайті 1310 секунд.\n",
    "За цей період він переглядає 35 сторінок, що в середньому становить 38 секунд на кожній сторінці.\n",
    "\n",
    "Частка користувачів, які покинули сайт після перегляду лише однієї сторінки 55%\n",
    "\n",
    "Конверсія в покупку становить 15%.\n",
    "\n",
    "\n",
    "Користувачі, які потрапили на сайт з джерела \"14\", демонструють аномальне середнє значення кількості переглянутих сторінок (85 проти 35). При цьому їх середній час на сторінці не відрізняється від загальних показників. Загалом таких користувачів 13 осіб. Можна було б припустити, що це боти, які збирають інформацію у конкурентів, але конверсія в покупку у цих користувачів відповідає середньому значенню. Можливо, це діти, які мають багато вільного часу і проводять його за переглядом товарів.\n",
    "\n",
    "Користувачі, які раніше використовували сайт, в середньому переглядають більше сторінок, ніж нові користувачі або користувачі з категорії \"other\" (36, 21, 14).\n",
    "\n",
    "\n",
    "Користувачі, які приходять з джерел 16, 7 і 8, демонструють найвищу конверсію в покупку(33%, 30% та 27% відповідно).\n",
    "\n",
    "Найвища конверсія спостерігається серед нових користувачів та тих, хто потрапляє на сайт через категорію \"other\". Вони мають вищі показники, ніж користувачі, які відвідують сайт повторно (25%, 18%, 14%).\n",
    "\n",
    "Також важливим є факт, що в вихідні дні конверсія зростає (17%, 15%).\n",
    "\n",
    "\n",
    "Усі користувачі, які заходять на сайт, переглядають сторінки з товарами. 15% таких візитів завершується покупкою.\n",
    "\n",
    "\n",
    "\n",
    "На початку та в кінці року спостерігалося велике число сесій від користувачів, але низька кількість покупок, що призвело до низької конверсії. У березні конверсія склала 10%, у травні — 10%, а в грудні — 12%.\n",
    "\n",
    "У період з червня по жовтень спостерігалося зниження трафіку, але рівень продажів залишався на середньому рівні. Конверсія в цей період трималася на рівні 17%.\n",
    "\n",
    "Особливо виділяється листопад, у якому було високе число сесій і велика кількість покупок. Конверсія в цьому місяці досягла 25%.\n",
    "\n",
    "\n",
    "#### **Рекомендації**\n",
    "\n",
    "1. Попрацювати над головною сторінкою для зменшення відсотка сесій з покиданням після однієї сторінки (55%).\n",
    "2. Фокусуватися на джерелах 16, 7 і 8, оскільки вони мають високу конверсію. Посилити маркетинг в цих каналах для збільшення продажів.\n",
    "3. Розширити пропозиції для нових користувачів та категорії \"other\", оскільки вони мають вищу конверсію. Створити персоналізовані акції та пропозиції для залучення нових клієнтів.\n",
    "4. Активно використовувати вихідні дні для маркетингових кампаній, оскільки в цей період конверсія зростає.\n",
    "5. Проаналізувати сезонні коливання і збільшувати активність у місяцях з низькою конверсією (березень, травень, грудень) через спеціальні акції або пропозиції."
   ]
  },
  {
   "cell_type": "code",
   "execution_count": null,
   "id": "3c6cc83b-853a-424c-a370-9e5cf6bc9608",
   "metadata": {},
   "outputs": [],
   "source": []
  },
  {
   "cell_type": "code",
   "execution_count": null,
   "id": "df7d9774-17bc-49a6-8c69-14a6cbe86a2d",
   "metadata": {},
   "outputs": [],
   "source": []
  }
 ],
 "metadata": {
  "kernelspec": {
   "display_name": "Python 3 (ipykernel)",
   "language": "python",
   "name": "python3"
  },
  "language_info": {
   "codemirror_mode": {
    "name": "ipython",
    "version": 3
   },
   "file_extension": ".py",
   "mimetype": "text/x-python",
   "name": "python",
   "nbconvert_exporter": "python",
   "pygments_lexer": "ipython3",
   "version": "3.12.7"
  }
 },
 "nbformat": 4,
 "nbformat_minor": 5
}
